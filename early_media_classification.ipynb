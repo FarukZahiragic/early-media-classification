{
  "nbformat": 4,
  "nbformat_minor": 0,
  "metadata": {
    "colab": {
      "provenance": [],
      "gpuType": "T4"
    },
    "kernelspec": {
      "name": "python3",
      "display_name": "Python 3"
    },
    "language_info": {
      "name": "python"
    },
    "accelerator": "GPU"
  },
  "cells": [
    {
      "cell_type": "code",
      "source": [
        "!git clone https://github.com/qiuqiangkong/audioset_tagging_cnn\n",
        "!pip install librosa soundfile wget torchlibrosa\n",
        "\n",
        "%cd audioset_tagging_cnn/pytorch"
      ],
      "metadata": {
        "colab": {
          "base_uri": "https://localhost:8080/"
        },
        "id": "V0r60zXEpSXS",
        "outputId": "0bc4f336-cd90-4c43-c54f-3b621e1ac24a"
      },
      "execution_count": null,
      "outputs": [
        {
          "output_type": "stream",
          "name": "stdout",
          "text": [
            "Cloning into 'audioset_tagging_cnn'...\n",
            "remote: Enumerating objects: 714, done.\u001b[K\n",
            "remote: Counting objects: 100% (154/154), done.\u001b[K\n",
            "remote: Compressing objects: 100% (34/34), done.\u001b[K\n",
            "remote: Total 714 (delta 131), reused 120 (delta 120), pack-reused 560 (from 2)\u001b[K\n",
            "Receiving objects: 100% (714/714), 3.99 MiB | 24.78 MiB/s, done.\n",
            "Resolving deltas: 100% (412/412), done.\n",
            "Requirement already satisfied: librosa in /usr/local/lib/python3.11/dist-packages (0.11.0)\n",
            "Requirement already satisfied: soundfile in /usr/local/lib/python3.11/dist-packages (0.13.1)\n",
            "Collecting wget\n",
            "  Downloading wget-3.2.zip (10 kB)\n",
            "  Preparing metadata (setup.py) ... \u001b[?25l\u001b[?25hdone\n",
            "Collecting torchlibrosa\n",
            "  Downloading torchlibrosa-0.1.0-py3-none-any.whl.metadata (3.5 kB)\n",
            "Requirement already satisfied: audioread>=2.1.9 in /usr/local/lib/python3.11/dist-packages (from librosa) (3.0.1)\n",
            "Requirement already satisfied: numba>=0.51.0 in /usr/local/lib/python3.11/dist-packages (from librosa) (0.60.0)\n",
            "Requirement already satisfied: numpy>=1.22.3 in /usr/local/lib/python3.11/dist-packages (from librosa) (2.0.2)\n",
            "Requirement already satisfied: scipy>=1.6.0 in /usr/local/lib/python3.11/dist-packages (from librosa) (1.15.3)\n",
            "Requirement already satisfied: scikit-learn>=1.1.0 in /usr/local/lib/python3.11/dist-packages (from librosa) (1.6.1)\n",
            "Requirement already satisfied: joblib>=1.0 in /usr/local/lib/python3.11/dist-packages (from librosa) (1.5.1)\n",
            "Requirement already satisfied: decorator>=4.3.0 in /usr/local/lib/python3.11/dist-packages (from librosa) (4.4.2)\n",
            "Requirement already satisfied: pooch>=1.1 in /usr/local/lib/python3.11/dist-packages (from librosa) (1.8.2)\n",
            "Requirement already satisfied: soxr>=0.3.2 in /usr/local/lib/python3.11/dist-packages (from librosa) (0.5.0.post1)\n",
            "Requirement already satisfied: typing_extensions>=4.1.1 in /usr/local/lib/python3.11/dist-packages (from librosa) (4.14.0)\n",
            "Requirement already satisfied: lazy_loader>=0.1 in /usr/local/lib/python3.11/dist-packages (from librosa) (0.4)\n",
            "Requirement already satisfied: msgpack>=1.0 in /usr/local/lib/python3.11/dist-packages (from librosa) (1.1.1)\n",
            "Requirement already satisfied: cffi>=1.0 in /usr/local/lib/python3.11/dist-packages (from soundfile) (1.17.1)\n",
            "Requirement already satisfied: pycparser in /usr/local/lib/python3.11/dist-packages (from cffi>=1.0->soundfile) (2.22)\n",
            "Requirement already satisfied: packaging in /usr/local/lib/python3.11/dist-packages (from lazy_loader>=0.1->librosa) (24.2)\n",
            "Requirement already satisfied: llvmlite<0.44,>=0.43.0dev0 in /usr/local/lib/python3.11/dist-packages (from numba>=0.51.0->librosa) (0.43.0)\n",
            "Requirement already satisfied: platformdirs>=2.5.0 in /usr/local/lib/python3.11/dist-packages (from pooch>=1.1->librosa) (4.3.8)\n",
            "Requirement already satisfied: requests>=2.19.0 in /usr/local/lib/python3.11/dist-packages (from pooch>=1.1->librosa) (2.32.3)\n",
            "Requirement already satisfied: threadpoolctl>=3.1.0 in /usr/local/lib/python3.11/dist-packages (from scikit-learn>=1.1.0->librosa) (3.6.0)\n",
            "Requirement already satisfied: charset-normalizer<4,>=2 in /usr/local/lib/python3.11/dist-packages (from requests>=2.19.0->pooch>=1.1->librosa) (3.4.2)\n",
            "Requirement already satisfied: idna<4,>=2.5 in /usr/local/lib/python3.11/dist-packages (from requests>=2.19.0->pooch>=1.1->librosa) (3.10)\n",
            "Requirement already satisfied: urllib3<3,>=1.21.1 in /usr/local/lib/python3.11/dist-packages (from requests>=2.19.0->pooch>=1.1->librosa) (2.4.0)\n",
            "Requirement already satisfied: certifi>=2017.4.17 in /usr/local/lib/python3.11/dist-packages (from requests>=2.19.0->pooch>=1.1->librosa) (2025.6.15)\n",
            "Downloading torchlibrosa-0.1.0-py3-none-any.whl (11 kB)\n",
            "Building wheels for collected packages: wget\n",
            "  Building wheel for wget (setup.py) ... \u001b[?25l\u001b[?25hdone\n",
            "  Created wheel for wget: filename=wget-3.2-py3-none-any.whl size=9655 sha256=eb908c9b517d03839144c3e2893caf41b21c490bde83cd613da69ea15fd53956\n",
            "  Stored in directory: /root/.cache/pip/wheels/40/b3/0f/a40dbd1c6861731779f62cc4babcb234387e11d697df70ee97\n",
            "Successfully built wget\n",
            "Installing collected packages: wget, torchlibrosa\n",
            "Successfully installed torchlibrosa-0.1.0 wget-3.2\n",
            "/content/audioset_tagging_cnn/pytorch\n"
          ]
        }
      ]
    },
    {
      "cell_type": "code",
      "source": [
        "import glob\n",
        "import librosa\n",
        "import numpy as np\n",
        "import os\n",
        "import soundfile as sf\n",
        "import pandas as pd\n",
        "import torch\n",
        "import torchaudio\n",
        "\n",
        "from collections import defaultdict\n",
        "from pathlib import Path\n",
        "from pytorch_utils import move_data_to_device\n",
        "from models import Cnn14\n",
        "from models import Cnn14_DecisionLevelMax\n",
        "from tqdm import tqdm"
      ],
      "metadata": {
        "id": "EPbq70OJs_Wt"
      },
      "execution_count": null,
      "outputs": []
    },
    {
      "cell_type": "code",
      "source": [
        "from google.colab import drive\n",
        "drive.mount('/content/drive')"
      ],
      "metadata": {
        "id": "mxc9gTNAwEPA",
        "colab": {
          "base_uri": "https://localhost:8080/"
        },
        "outputId": "b44891e4-c16c-4790-8279-d312fab0081d"
      },
      "execution_count": null,
      "outputs": [
        {
          "output_type": "stream",
          "name": "stdout",
          "text": [
            "Mounted at /content/drive\n"
          ]
        }
      ]
    },
    {
      "cell_type": "code",
      "source": [
        "device = torch.device(\"cuda\" if torch.cuda.is_available() else \"cpu\")\n",
        "\n",
        "model = Cnn14_DecisionLevelMax(sample_rate=32000, window_size=1024, hop_size=320, mel_bins=64, fmin=50, fmax=14000, classes_num=527)\n",
        "\n",
        "#model = Cnn1.\n",
        "#4(sample_rate=32000, window_size=1024, hop_size=320, mel_bins=64, fmin=50, fmax=14000,\n",
        "              #classes_num=527)"
      ],
      "metadata": {
        "id": "3LMOHnmBtKN-"
      },
      "execution_count": null,
      "outputs": []
    },
    {
      "cell_type": "code",
      "source": [
        "checkpoint = torch.load('/content/drive/MyDrive/bsc_thesis/Cnn14_mAP=0.431.pth', map_location=device)\n",
        "model.load_state_dict(checkpoint['model'])\n",
        "model.to(device)\n",
        "model.eval()"
      ],
      "metadata": {
        "id": "B-evGK_UuqGs",
        "colab": {
          "base_uri": "https://localhost:8080/"
        },
        "outputId": "fd5a8883-c357-43ea-af0b-9698356720db"
      },
      "execution_count": null,
      "outputs": [
        {
          "output_type": "execute_result",
          "data": {
            "text/plain": [
              "Cnn14_DecisionLevelMax(\n",
              "  (spectrogram_extractor): Spectrogram(\n",
              "    (stft): STFT(\n",
              "      (conv_real): Conv1d(1, 513, kernel_size=(1024,), stride=(320,), bias=False)\n",
              "      (conv_imag): Conv1d(1, 513, kernel_size=(1024,), stride=(320,), bias=False)\n",
              "    )\n",
              "  )\n",
              "  (logmel_extractor): LogmelFilterBank()\n",
              "  (spec_augmenter): SpecAugmentation(\n",
              "    (time_dropper): DropStripes()\n",
              "    (freq_dropper): DropStripes()\n",
              "  )\n",
              "  (bn0): BatchNorm2d(64, eps=1e-05, momentum=0.1, affine=True, track_running_stats=True)\n",
              "  (conv_block1): ConvBlock(\n",
              "    (conv1): Conv2d(1, 64, kernel_size=(3, 3), stride=(1, 1), padding=(1, 1), bias=False)\n",
              "    (conv2): Conv2d(64, 64, kernel_size=(3, 3), stride=(1, 1), padding=(1, 1), bias=False)\n",
              "    (bn1): BatchNorm2d(64, eps=1e-05, momentum=0.1, affine=True, track_running_stats=True)\n",
              "    (bn2): BatchNorm2d(64, eps=1e-05, momentum=0.1, affine=True, track_running_stats=True)\n",
              "  )\n",
              "  (conv_block2): ConvBlock(\n",
              "    (conv1): Conv2d(64, 128, kernel_size=(3, 3), stride=(1, 1), padding=(1, 1), bias=False)\n",
              "    (conv2): Conv2d(128, 128, kernel_size=(3, 3), stride=(1, 1), padding=(1, 1), bias=False)\n",
              "    (bn1): BatchNorm2d(128, eps=1e-05, momentum=0.1, affine=True, track_running_stats=True)\n",
              "    (bn2): BatchNorm2d(128, eps=1e-05, momentum=0.1, affine=True, track_running_stats=True)\n",
              "  )\n",
              "  (conv_block3): ConvBlock(\n",
              "    (conv1): Conv2d(128, 256, kernel_size=(3, 3), stride=(1, 1), padding=(1, 1), bias=False)\n",
              "    (conv2): Conv2d(256, 256, kernel_size=(3, 3), stride=(1, 1), padding=(1, 1), bias=False)\n",
              "    (bn1): BatchNorm2d(256, eps=1e-05, momentum=0.1, affine=True, track_running_stats=True)\n",
              "    (bn2): BatchNorm2d(256, eps=1e-05, momentum=0.1, affine=True, track_running_stats=True)\n",
              "  )\n",
              "  (conv_block4): ConvBlock(\n",
              "    (conv1): Conv2d(256, 512, kernel_size=(3, 3), stride=(1, 1), padding=(1, 1), bias=False)\n",
              "    (conv2): Conv2d(512, 512, kernel_size=(3, 3), stride=(1, 1), padding=(1, 1), bias=False)\n",
              "    (bn1): BatchNorm2d(512, eps=1e-05, momentum=0.1, affine=True, track_running_stats=True)\n",
              "    (bn2): BatchNorm2d(512, eps=1e-05, momentum=0.1, affine=True, track_running_stats=True)\n",
              "  )\n",
              "  (conv_block5): ConvBlock(\n",
              "    (conv1): Conv2d(512, 1024, kernel_size=(3, 3), stride=(1, 1), padding=(1, 1), bias=False)\n",
              "    (conv2): Conv2d(1024, 1024, kernel_size=(3, 3), stride=(1, 1), padding=(1, 1), bias=False)\n",
              "    (bn1): BatchNorm2d(1024, eps=1e-05, momentum=0.1, affine=True, track_running_stats=True)\n",
              "    (bn2): BatchNorm2d(1024, eps=1e-05, momentum=0.1, affine=True, track_running_stats=True)\n",
              "  )\n",
              "  (conv_block6): ConvBlock(\n",
              "    (conv1): Conv2d(1024, 2048, kernel_size=(3, 3), stride=(1, 1), padding=(1, 1), bias=False)\n",
              "    (conv2): Conv2d(2048, 2048, kernel_size=(3, 3), stride=(1, 1), padding=(1, 1), bias=False)\n",
              "    (bn1): BatchNorm2d(2048, eps=1e-05, momentum=0.1, affine=True, track_running_stats=True)\n",
              "    (bn2): BatchNorm2d(2048, eps=1e-05, momentum=0.1, affine=True, track_running_stats=True)\n",
              "  )\n",
              "  (fc1): Linear(in_features=2048, out_features=2048, bias=True)\n",
              "  (fc_audioset): Linear(in_features=2048, out_features=527, bias=True)\n",
              ")"
            ]
          },
          "metadata": {},
          "execution_count": 5
        }
      ]
    },
    {
      "cell_type": "code",
      "source": [
        "# Load label classes\n",
        "with open('../metadata/class_labels_indices.csv') as f:\n",
        "    lines = f.readlines()[1:]\n",
        "    idx_to_label = [line.strip().split(',')[2].strip('\"') for line in lines]"
      ],
      "metadata": {
        "id": "YyVTGUtAu85F"
      },
      "execution_count": null,
      "outputs": []
    },
    {
      "cell_type": "code",
      "source": [
        "# Labelling of one file\n",
        "audio_path = '/content/drive/MyDrive/bsc_thesis/early_media_sample/1.wav'\n",
        "(audio, sr) = librosa.load(audio_path, sr=32000, mono=True)\n",
        "\n",
        "audio_tensor = torch.tensor(audio).float().unsqueeze(0)  # (1, time_steps)\n",
        "audio_tensor = move_data_to_device(audio_tensor, device)\n",
        "\n",
        "with torch.no_grad():\n",
        "    output = model(audio_tensor, None)\n",
        "    clipwise_output = output['clipwise_output'].data.cpu().numpy()[0]"
      ],
      "metadata": {
        "id": "T9p8STYzvH70"
      },
      "execution_count": null,
      "outputs": []
    },
    {
      "cell_type": "code",
      "source": [
        "category_mapping = {\n",
        "    \"Speech\": [\n",
        "        \"speech\", \"talking\", \"conversation\", \"narration\", \"monologue\", \"dialogue\", \"discussion\",\n",
        "        \"babbling\", \"shout\", \"whispering\", \"chanting\", \"yell\", \"laugh\", \"cry\", \"bellow\",\n",
        "        \"whoop\", \"scream\", \"giggle\", \"snicker\", \"chuckle\", \"whimper\", \"moan\", \"sigh\",\n",
        "        \"mantra\", \"groan\", \"grunt\", \"breathing\", \"wheeze\", \"snooring\", \"gasp\", \"pant\",\n",
        "        \"snort\", \"cough\", \"throat clearing\", \"sneeze\", \"sniff\", \"chewing\", \"biting\", \"gargling\",\n",
        "        \"hiccup\", \"cheering\", \"speech\", \"cough\"\n",
        "    ],\n",
        "    \"Silence\": [\n",
        "        \"silence\", \"quiet\", \"ambient\", \"run\", \"static\", \"vibration\"\n",
        "    ],\n",
        "    \"Music\": [\n",
        "        \"music\", \"singing\", \"instrument\", \"orchestra\", \"piano\", \"guitar\", \"choir\", \"song\",\n",
        "        \"humming\", \"melody\", \"drum\", \"beat\", \"rhythm\", \"synthesizer\", \"electronic\",\n",
        "        \"yodeling\", \"chant\", \"rapping\", \"whistling\", \"applause\", \"banjo\",\n",
        "        \"sitar\", \"mandolin\", \"zither\", \"ukulele\", \"piano\", \"organ\", \"sampler\", \"harpsichord\",\n",
        "        \"percussion\", \"timpani\", \"tabla\", \"cymbal\", \"hi-hat\", \"wood block\", \"tambourine\",\n",
        "        \"maraca\", \"gong\", \"mallet\", \"marimba\", \"glockenspiel\", \"vibraphone\", \"steelpan\",\n",
        "        \"orchestra\", \"horn\", \"trumpet\", \"trombone\", \"string\", \"violin\", \"pizzicato\", \"cello\", \"bass\",\n",
        "        \"flute\", \"saxophone\", \"clarinet\", \"harp\", \"tuning fork\", \"chime\", \"harmonica\",\n",
        "        \"accordion\", \"bagpipes\", \"didgeridoo\", \"shofar\", \"theremin\", \"scratching\",\n",
        "        \"heavy metal\", \"rock\", \"grunge\", \"rhythm\", \"reggae\", \"country\", \"bluegrass\", \"funk\",\n",
        "        \"jazz\", \"disco\", \"opera\", \"techno\", \"dubstep\", \"electronica\", \"flamenco\", \"blues\",\n",
        "        \"capella\", \"ska\", \"lullaby\"\n",
        "    ],\n",
        "    \"Ringing\": [\n",
        "        \"ring\", \"bell\", \"phone\", \"alarm\", \"chime\", \"beep\", \"notification\", \"timer\", \"noise\",\n",
        "        \"pulse\", \"sine wave\", \"heartbeat\", \"telephone\", \"dial\", \"siren\", \"buzzer\", \"tick\", \"ding\"\n",
        "    ]\n",
        "}\n",
        "\n",
        "def categorize_label(display_name):\n",
        "    display_name_lower = display_name.lower()\n",
        "\n",
        "    for category, keywords in category_mapping.items():\n",
        "        if any(keyword in display_name_lower for keyword in keywords):\n",
        "            return category\n",
        "\n",
        "    return \"Unknown\" # Values with unknown category should later be removed"
      ],
      "metadata": {
        "id": "83dNkKFkvOwj"
      },
      "execution_count": null,
      "outputs": []
    },
    {
      "cell_type": "code",
      "source": [
        "top_k = 20\n",
        "top_indices = np.argsort(clipwise_output)[::-1][:top_k]\n",
        "for idx in top_indices:\n",
        "  category = categorize_label(idx_to_label[idx])\n",
        "  print(f\"{category:<30}: {clipwise_output[idx]:.3f}\")\n",
        "  #print(f\"{idx_to_label[idx]:<30}: {clipwise_output[idx]:.3f}\")"
      ],
      "metadata": {
        "colab": {
          "base_uri": "https://localhost:8080/"
        },
        "id": "1OQPOnlYvUSa",
        "outputId": "a5ee1b00-d65e-4caa-c84d-4d81c4813568"
      },
      "execution_count": null,
      "outputs": [
        {
          "output_type": "stream",
          "name": "stdout",
          "text": [
            "Music                         : 0.898\n",
            "Speech                        : 0.810\n",
            "Music                         : 0.382\n",
            "Music                         : 0.342\n",
            "Music                         : 0.333\n",
            "Music                         : 0.319\n",
            "Music                         : 0.225\n",
            "Speech                        : 0.213\n",
            "Music                         : 0.210\n",
            "Music                         : 0.189\n",
            "Music                         : 0.151\n",
            "Music                         : 0.137\n",
            "Music                         : 0.136\n",
            "Speech                        : 0.131\n",
            "Unknown                       : 0.130\n",
            "Music                         : 0.119\n",
            "Unknown                       : 0.104\n",
            "Music                         : 0.101\n",
            "Speech                        : 0.101\n",
            "Music                         : 0.089\n"
          ]
        }
      ]
    },
    {
      "cell_type": "code",
      "source": [
        "AUDIO_DIR = \"/content/drive/MyDrive/bsc_thesis/early_media_sample\"\n",
        "SAMPLE_RATE = 32000\n",
        "HOP_SIZE = 320           # ~10ms at 32kHz\n",
        "FRAMES_PER_SECOND = SAMPLE_RATE // HOP_SIZE  # = 100 frames/sec\n",
        "\n",
        "# Get list of .wav files in the folder\n",
        "wav_files = glob.glob(os.path.join(AUDIO_DIR, '*.wav'))\n",
        "\n",
        "print(wav_files)"
      ],
      "metadata": {
        "colab": {
          "base_uri": "https://localhost:8080/"
        },
        "id": "my_kN9YJrL8P",
        "outputId": "c281a64e-6fc9-48e9-cf7c-7bb40e2662ac"
      },
      "execution_count": null,
      "outputs": [
        {
          "output_type": "stream",
          "name": "stdout",
          "text": [
            "['/content/drive/MyDrive/bsc_thesis/early_media_sample/893.wav', '/content/drive/MyDrive/bsc_thesis/early_media_sample/499.wav', '/content/drive/MyDrive/bsc_thesis/early_media_sample/2919.wav', '/content/drive/MyDrive/bsc_thesis/early_media_sample/4345.wav', '/content/drive/MyDrive/bsc_thesis/early_media_sample/443.wav', '/content/drive/MyDrive/bsc_thesis/early_media_sample/85.wav', '/content/drive/MyDrive/bsc_thesis/early_media_sample/1047.wav', '/content/drive/MyDrive/bsc_thesis/early_media_sample/394.wav', '/content/drive/MyDrive/bsc_thesis/early_media_sample/2591.wav', '/content/drive/MyDrive/bsc_thesis/early_media_sample/4060.wav', '/content/drive/MyDrive/bsc_thesis/early_media_sample/2083.wav', '/content/drive/MyDrive/bsc_thesis/early_media_sample/1722.wav', '/content/drive/MyDrive/bsc_thesis/early_media_sample/965.wav', '/content/drive/MyDrive/bsc_thesis/early_media_sample/1614.wav', '/content/drive/MyDrive/bsc_thesis/early_media_sample/772.wav', '/content/drive/MyDrive/bsc_thesis/early_media_sample/597.wav', '/content/drive/MyDrive/bsc_thesis/early_media_sample/691.wav', '/content/drive/MyDrive/bsc_thesis/early_media_sample/1997.wav', '/content/drive/MyDrive/bsc_thesis/early_media_sample/4320.wav', '/content/drive/MyDrive/bsc_thesis/early_media_sample/4052.wav', '/content/drive/MyDrive/bsc_thesis/early_media_sample/3437.wav', '/content/drive/MyDrive/bsc_thesis/early_media_sample/1581.wav', '/content/drive/MyDrive/bsc_thesis/early_media_sample/2963.wav', '/content/drive/MyDrive/bsc_thesis/early_media_sample/1709.wav', '/content/drive/MyDrive/bsc_thesis/early_media_sample/3985.wav', '/content/drive/MyDrive/bsc_thesis/early_media_sample/1325.wav', '/content/drive/MyDrive/bsc_thesis/early_media_sample/3196.wav', '/content/drive/MyDrive/bsc_thesis/early_media_sample/2140.wav', '/content/drive/MyDrive/bsc_thesis/early_media_sample/786.wav', '/content/drive/MyDrive/bsc_thesis/early_media_sample/3756.wav', '/content/drive/MyDrive/bsc_thesis/early_media_sample/51.wav', '/content/drive/MyDrive/bsc_thesis/early_media_sample/644.wav', '/content/drive/MyDrive/bsc_thesis/early_media_sample/3797.wav', '/content/drive/MyDrive/bsc_thesis/early_media_sample/1691.wav', '/content/drive/MyDrive/bsc_thesis/early_media_sample/465.wav', '/content/drive/MyDrive/bsc_thesis/early_media_sample/4214.wav', '/content/drive/MyDrive/bsc_thesis/early_media_sample/3669.wav', '/content/drive/MyDrive/bsc_thesis/early_media_sample/2881.wav', '/content/drive/MyDrive/bsc_thesis/early_media_sample/1333.wav', '/content/drive/MyDrive/bsc_thesis/early_media_sample/123.wav', '/content/drive/MyDrive/bsc_thesis/early_media_sample/2041.wav', '/content/drive/MyDrive/bsc_thesis/early_media_sample/833.wav', '/content/drive/MyDrive/bsc_thesis/early_media_sample/2912.wav', '/content/drive/MyDrive/bsc_thesis/early_media_sample/1390.wav', '/content/drive/MyDrive/bsc_thesis/early_media_sample/615.wav', '/content/drive/MyDrive/bsc_thesis/early_media_sample/1471.wav', '/content/drive/MyDrive/bsc_thesis/early_media_sample/655.wav', '/content/drive/MyDrive/bsc_thesis/early_media_sample/2431.wav', '/content/drive/MyDrive/bsc_thesis/early_media_sample/2608.wav', '/content/drive/MyDrive/bsc_thesis/early_media_sample/3991.wav', '/content/drive/MyDrive/bsc_thesis/early_media_sample/2201.wav', '/content/drive/MyDrive/bsc_thesis/early_media_sample/915.wav', '/content/drive/MyDrive/bsc_thesis/early_media_sample/4061.wav', '/content/drive/MyDrive/bsc_thesis/early_media_sample/2095.wav', '/content/drive/MyDrive/bsc_thesis/early_media_sample/910.wav', '/content/drive/MyDrive/bsc_thesis/early_media_sample/4181.wav', '/content/drive/MyDrive/bsc_thesis/early_media_sample/182.wav', '/content/drive/MyDrive/bsc_thesis/early_media_sample/4130.wav', '/content/drive/MyDrive/bsc_thesis/early_media_sample/3978.wav', '/content/drive/MyDrive/bsc_thesis/early_media_sample/911.wav', '/content/drive/MyDrive/bsc_thesis/early_media_sample/1851.wav', '/content/drive/MyDrive/bsc_thesis/early_media_sample/1894.wav', '/content/drive/MyDrive/bsc_thesis/early_media_sample/386.wav', '/content/drive/MyDrive/bsc_thesis/early_media_sample/2156.wav', '/content/drive/MyDrive/bsc_thesis/early_media_sample/774.wav', '/content/drive/MyDrive/bsc_thesis/early_media_sample/690.wav', '/content/drive/MyDrive/bsc_thesis/early_media_sample/3117.wav', '/content/drive/MyDrive/bsc_thesis/early_media_sample/2799.wav', '/content/drive/MyDrive/bsc_thesis/early_media_sample/1449.wav', '/content/drive/MyDrive/bsc_thesis/early_media_sample/3762.wav', '/content/drive/MyDrive/bsc_thesis/early_media_sample/1158.wav', '/content/drive/MyDrive/bsc_thesis/early_media_sample/127.wav', '/content/drive/MyDrive/bsc_thesis/early_media_sample/2525.wav', '/content/drive/MyDrive/bsc_thesis/early_media_sample/4434.wav', '/content/drive/MyDrive/bsc_thesis/early_media_sample/1468.wav', '/content/drive/MyDrive/bsc_thesis/early_media_sample/3975.wav', '/content/drive/MyDrive/bsc_thesis/early_media_sample/1360.wav', '/content/drive/MyDrive/bsc_thesis/early_media_sample/3041.wav', '/content/drive/MyDrive/bsc_thesis/early_media_sample/1011.wav', '/content/drive/MyDrive/bsc_thesis/early_media_sample/4424.wav', '/content/drive/MyDrive/bsc_thesis/early_media_sample/2410.wav', '/content/drive/MyDrive/bsc_thesis/early_media_sample/635.wav', '/content/drive/MyDrive/bsc_thesis/early_media_sample/4348.wav', '/content/drive/MyDrive/bsc_thesis/early_media_sample/2223.wav', '/content/drive/MyDrive/bsc_thesis/early_media_sample/1707.wav', '/content/drive/MyDrive/bsc_thesis/early_media_sample/4359.wav', '/content/drive/MyDrive/bsc_thesis/early_media_sample/349.wav', '/content/drive/MyDrive/bsc_thesis/early_media_sample/3152.wav', '/content/drive/MyDrive/bsc_thesis/early_media_sample/1001.wav', '/content/drive/MyDrive/bsc_thesis/early_media_sample/1780.wav', '/content/drive/MyDrive/bsc_thesis/early_media_sample/99.wav', '/content/drive/MyDrive/bsc_thesis/early_media_sample/304.wav', '/content/drive/MyDrive/bsc_thesis/early_media_sample/1103.wav', '/content/drive/MyDrive/bsc_thesis/early_media_sample/3632.wav', '/content/drive/MyDrive/bsc_thesis/early_media_sample/2376.wav', '/content/drive/MyDrive/bsc_thesis/early_media_sample/205.wav', '/content/drive/MyDrive/bsc_thesis/early_media_sample/3718.wav', '/content/drive/MyDrive/bsc_thesis/early_media_sample/4132.wav', '/content/drive/MyDrive/bsc_thesis/early_media_sample/2669.wav', '/content/drive/MyDrive/bsc_thesis/early_media_sample/3823.wav', '/content/drive/MyDrive/bsc_thesis/early_media_sample/2121.wav', '/content/drive/MyDrive/bsc_thesis/early_media_sample/799.wav', '/content/drive/MyDrive/bsc_thesis/early_media_sample/206.wav', '/content/drive/MyDrive/bsc_thesis/early_media_sample/4455.wav', '/content/drive/MyDrive/bsc_thesis/early_media_sample/2585.wav', '/content/drive/MyDrive/bsc_thesis/early_media_sample/4250.wav', '/content/drive/MyDrive/bsc_thesis/early_media_sample/963.wav', '/content/drive/MyDrive/bsc_thesis/early_media_sample/3533.wav', '/content/drive/MyDrive/bsc_thesis/early_media_sample/366.wav', '/content/drive/MyDrive/bsc_thesis/early_media_sample/1204.wav', '/content/drive/MyDrive/bsc_thesis/early_media_sample/2282.wav', '/content/drive/MyDrive/bsc_thesis/early_media_sample/2242.wav', '/content/drive/MyDrive/bsc_thesis/early_media_sample/4379.wav', '/content/drive/MyDrive/bsc_thesis/early_media_sample/287.wav', '/content/drive/MyDrive/bsc_thesis/early_media_sample/2703.wav', '/content/drive/MyDrive/bsc_thesis/early_media_sample/4300.wav', '/content/drive/MyDrive/bsc_thesis/early_media_sample/579.wav', '/content/drive/MyDrive/bsc_thesis/early_media_sample/3741.wav', '/content/drive/MyDrive/bsc_thesis/early_media_sample/1078.wav', '/content/drive/MyDrive/bsc_thesis/early_media_sample/1584.wav', '/content/drive/MyDrive/bsc_thesis/early_media_sample/181.wav', '/content/drive/MyDrive/bsc_thesis/early_media_sample/2606.wav', '/content/drive/MyDrive/bsc_thesis/early_media_sample/1525.wav', '/content/drive/MyDrive/bsc_thesis/early_media_sample/1907.wav', '/content/drive/MyDrive/bsc_thesis/early_media_sample/2584.wav', '/content/drive/MyDrive/bsc_thesis/early_media_sample/681.wav', '/content/drive/MyDrive/bsc_thesis/early_media_sample/2872.wav', '/content/drive/MyDrive/bsc_thesis/early_media_sample/4212.wav', '/content/drive/MyDrive/bsc_thesis/early_media_sample/1968.wav', '/content/drive/MyDrive/bsc_thesis/early_media_sample/430.wav', '/content/drive/MyDrive/bsc_thesis/early_media_sample/2175.wav', '/content/drive/MyDrive/bsc_thesis/early_media_sample/4394.wav', '/content/drive/MyDrive/bsc_thesis/early_media_sample/3273.wav', '/content/drive/MyDrive/bsc_thesis/early_media_sample/3368.wav', '/content/drive/MyDrive/bsc_thesis/early_media_sample/3044.wav', '/content/drive/MyDrive/bsc_thesis/early_media_sample/32.wav', '/content/drive/MyDrive/bsc_thesis/early_media_sample/2269.wav', '/content/drive/MyDrive/bsc_thesis/early_media_sample/172.wav', '/content/drive/MyDrive/bsc_thesis/early_media_sample/1267.wav', '/content/drive/MyDrive/bsc_thesis/early_media_sample/634.wav', '/content/drive/MyDrive/bsc_thesis/early_media_sample/1122.wav', '/content/drive/MyDrive/bsc_thesis/early_media_sample/3520.wav', '/content/drive/MyDrive/bsc_thesis/early_media_sample/1445.wav', '/content/drive/MyDrive/bsc_thesis/early_media_sample/743.wav', '/content/drive/MyDrive/bsc_thesis/early_media_sample/219.wav', '/content/drive/MyDrive/bsc_thesis/early_media_sample/4439.wav', '/content/drive/MyDrive/bsc_thesis/early_media_sample/128.wav', '/content/drive/MyDrive/bsc_thesis/early_media_sample/4226.wav', '/content/drive/MyDrive/bsc_thesis/early_media_sample/418.wav', '/content/drive/MyDrive/bsc_thesis/early_media_sample/339.wav', '/content/drive/MyDrive/bsc_thesis/early_media_sample/1139.wav', '/content/drive/MyDrive/bsc_thesis/early_media_sample/2588.wav', '/content/drive/MyDrive/bsc_thesis/early_media_sample/3036.wav', '/content/drive/MyDrive/bsc_thesis/early_media_sample/247.wav', '/content/drive/MyDrive/bsc_thesis/early_media_sample/2686.wav', '/content/drive/MyDrive/bsc_thesis/early_media_sample/1630.wav', '/content/drive/MyDrive/bsc_thesis/early_media_sample/3347.wav', '/content/drive/MyDrive/bsc_thesis/early_media_sample/1444.wav', '/content/drive/MyDrive/bsc_thesis/early_media_sample/1615.wav', '/content/drive/MyDrive/bsc_thesis/early_media_sample/1331.wav', '/content/drive/MyDrive/bsc_thesis/early_media_sample/944.wav', '/content/drive/MyDrive/bsc_thesis/early_media_sample/4040.wav', '/content/drive/MyDrive/bsc_thesis/early_media_sample/1397.wav', '/content/drive/MyDrive/bsc_thesis/early_media_sample/4018.wav', '/content/drive/MyDrive/bsc_thesis/early_media_sample/4470.wav', '/content/drive/MyDrive/bsc_thesis/early_media_sample/2142.wav', '/content/drive/MyDrive/bsc_thesis/early_media_sample/1881.wav', '/content/drive/MyDrive/bsc_thesis/early_media_sample/2339.wav', '/content/drive/MyDrive/bsc_thesis/early_media_sample/2949.wav', '/content/drive/MyDrive/bsc_thesis/early_media_sample/2178.wav', '/content/drive/MyDrive/bsc_thesis/early_media_sample/4272.wav', '/content/drive/MyDrive/bsc_thesis/early_media_sample/587.wav', '/content/drive/MyDrive/bsc_thesis/early_media_sample/2653.wav', '/content/drive/MyDrive/bsc_thesis/early_media_sample/3060.wav', '/content/drive/MyDrive/bsc_thesis/early_media_sample/1665.wav', '/content/drive/MyDrive/bsc_thesis/early_media_sample/4035.wav', '/content/drive/MyDrive/bsc_thesis/early_media_sample/1293.wav', '/content/drive/MyDrive/bsc_thesis/early_media_sample/1794.wav', '/content/drive/MyDrive/bsc_thesis/early_media_sample/3751.wav', '/content/drive/MyDrive/bsc_thesis/early_media_sample/25.wav', '/content/drive/MyDrive/bsc_thesis/early_media_sample/437.wav', '/content/drive/MyDrive/bsc_thesis/early_media_sample/4141.wav', '/content/drive/MyDrive/bsc_thesis/early_media_sample/3881.wav', '/content/drive/MyDrive/bsc_thesis/early_media_sample/2875.wav', '/content/drive/MyDrive/bsc_thesis/early_media_sample/3008.wav', '/content/drive/MyDrive/bsc_thesis/early_media_sample/3591.wav', '/content/drive/MyDrive/bsc_thesis/early_media_sample/2390.wav', '/content/drive/MyDrive/bsc_thesis/early_media_sample/3683.wav', '/content/drive/MyDrive/bsc_thesis/early_media_sample/3238.wav', '/content/drive/MyDrive/bsc_thesis/early_media_sample/2512.wav', '/content/drive/MyDrive/bsc_thesis/early_media_sample/1927.wav', '/content/drive/MyDrive/bsc_thesis/early_media_sample/1649.wav', '/content/drive/MyDrive/bsc_thesis/early_media_sample/875.wav', '/content/drive/MyDrive/bsc_thesis/early_media_sample/3345.wav', '/content/drive/MyDrive/bsc_thesis/early_media_sample/268.wav', '/content/drive/MyDrive/bsc_thesis/early_media_sample/4275.wav', '/content/drive/MyDrive/bsc_thesis/early_media_sample/1552.wav', '/content/drive/MyDrive/bsc_thesis/early_media_sample/3800.wav', '/content/drive/MyDrive/bsc_thesis/early_media_sample/4222.wav', '/content/drive/MyDrive/bsc_thesis/early_media_sample/1777.wav', '/content/drive/MyDrive/bsc_thesis/early_media_sample/2375.wav', '/content/drive/MyDrive/bsc_thesis/early_media_sample/4122.wav', '/content/drive/MyDrive/bsc_thesis/early_media_sample/4142.wav', '/content/drive/MyDrive/bsc_thesis/early_media_sample/3145.wav', '/content/drive/MyDrive/bsc_thesis/early_media_sample/925.wav', '/content/drive/MyDrive/bsc_thesis/early_media_sample/3827.wav', '/content/drive/MyDrive/bsc_thesis/early_media_sample/1249.wav', '/content/drive/MyDrive/bsc_thesis/early_media_sample/4196.wav', '/content/drive/MyDrive/bsc_thesis/early_media_sample/1535.wav', '/content/drive/MyDrive/bsc_thesis/early_media_sample/1102.wav', '/content/drive/MyDrive/bsc_thesis/early_media_sample/662.wav', '/content/drive/MyDrive/bsc_thesis/early_media_sample/721.wav', '/content/drive/MyDrive/bsc_thesis/early_media_sample/2984.wav', '/content/drive/MyDrive/bsc_thesis/early_media_sample/1739.wav', '/content/drive/MyDrive/bsc_thesis/early_media_sample/3269.wav', '/content/drive/MyDrive/bsc_thesis/early_media_sample/4266.wav', '/content/drive/MyDrive/bsc_thesis/early_media_sample/384.wav', '/content/drive/MyDrive/bsc_thesis/early_media_sample/3154.wav', '/content/drive/MyDrive/bsc_thesis/early_media_sample/2046.wav', '/content/drive/MyDrive/bsc_thesis/early_media_sample/835.wav', '/content/drive/MyDrive/bsc_thesis/early_media_sample/3802.wav', '/content/drive/MyDrive/bsc_thesis/early_media_sample/613.wav', '/content/drive/MyDrive/bsc_thesis/early_media_sample/4407.wav', '/content/drive/MyDrive/bsc_thesis/early_media_sample/3761.wav', '/content/drive/MyDrive/bsc_thesis/early_media_sample/974.wav', '/content/drive/MyDrive/bsc_thesis/early_media_sample/1744.wav', '/content/drive/MyDrive/bsc_thesis/early_media_sample/2241.wav', '/content/drive/MyDrive/bsc_thesis/early_media_sample/4238.wav', '/content/drive/MyDrive/bsc_thesis/early_media_sample/1266.wav', '/content/drive/MyDrive/bsc_thesis/early_media_sample/1034.wav', '/content/drive/MyDrive/bsc_thesis/early_media_sample/3498.wav', '/content/drive/MyDrive/bsc_thesis/early_media_sample/150.wav', '/content/drive/MyDrive/bsc_thesis/early_media_sample/2720.wav', '/content/drive/MyDrive/bsc_thesis/early_media_sample/80.wav', '/content/drive/MyDrive/bsc_thesis/early_media_sample/1594.wav', '/content/drive/MyDrive/bsc_thesis/early_media_sample/3163.wav', '/content/drive/MyDrive/bsc_thesis/early_media_sample/3429.wav', '/content/drive/MyDrive/bsc_thesis/early_media_sample/1858.wav', '/content/drive/MyDrive/bsc_thesis/early_media_sample/1662.wav', '/content/drive/MyDrive/bsc_thesis/early_media_sample/1116.wav', '/content/drive/MyDrive/bsc_thesis/early_media_sample/43.wav', '/content/drive/MyDrive/bsc_thesis/early_media_sample/411.wav', '/content/drive/MyDrive/bsc_thesis/early_media_sample/424.wav', '/content/drive/MyDrive/bsc_thesis/early_media_sample/1203.wav', '/content/drive/MyDrive/bsc_thesis/early_media_sample/3399.wav', '/content/drive/MyDrive/bsc_thesis/early_media_sample/3349.wav', '/content/drive/MyDrive/bsc_thesis/early_media_sample/2145.wav', '/content/drive/MyDrive/bsc_thesis/early_media_sample/3233.wav', '/content/drive/MyDrive/bsc_thesis/early_media_sample/2889.wav', '/content/drive/MyDrive/bsc_thesis/early_media_sample/3806.wav', '/content/drive/MyDrive/bsc_thesis/early_media_sample/4094.wav', '/content/drive/MyDrive/bsc_thesis/early_media_sample/4194.wav', '/content/drive/MyDrive/bsc_thesis/early_media_sample/3939.wav', '/content/drive/MyDrive/bsc_thesis/early_media_sample/2195.wav', '/content/drive/MyDrive/bsc_thesis/early_media_sample/3551.wav', '/content/drive/MyDrive/bsc_thesis/early_media_sample/478.wav', '/content/drive/MyDrive/bsc_thesis/early_media_sample/2344.wav', '/content/drive/MyDrive/bsc_thesis/early_media_sample/3343.wav', '/content/drive/MyDrive/bsc_thesis/early_media_sample/2643.wav', '/content/drive/MyDrive/bsc_thesis/early_media_sample/2668.wav', '/content/drive/MyDrive/bsc_thesis/early_media_sample/2673.wav', '/content/drive/MyDrive/bsc_thesis/early_media_sample/3608.wav', '/content/drive/MyDrive/bsc_thesis/early_media_sample/4298.wav', '/content/drive/MyDrive/bsc_thesis/early_media_sample/347.wav', '/content/drive/MyDrive/bsc_thesis/early_media_sample/3727.wav', '/content/drive/MyDrive/bsc_thesis/early_media_sample/610.wav', '/content/drive/MyDrive/bsc_thesis/early_media_sample/2571.wav', '/content/drive/MyDrive/bsc_thesis/early_media_sample/3407.wav', '/content/drive/MyDrive/bsc_thesis/early_media_sample/1479.wav', '/content/drive/MyDrive/bsc_thesis/early_media_sample/3427.wav', '/content/drive/MyDrive/bsc_thesis/early_media_sample/3816.wav', '/content/drive/MyDrive/bsc_thesis/early_media_sample/1377.wav', '/content/drive/MyDrive/bsc_thesis/early_media_sample/1719.wav', '/content/drive/MyDrive/bsc_thesis/early_media_sample/1972.wav', '/content/drive/MyDrive/bsc_thesis/early_media_sample/1248.wav', '/content/drive/MyDrive/bsc_thesis/early_media_sample/4385.wav', '/content/drive/MyDrive/bsc_thesis/early_media_sample/1230.wav', '/content/drive/MyDrive/bsc_thesis/early_media_sample/2861.wav', '/content/drive/MyDrive/bsc_thesis/early_media_sample/4450.wav', '/content/drive/MyDrive/bsc_thesis/early_media_sample/297.wav', '/content/drive/MyDrive/bsc_thesis/early_media_sample/3143.wav', '/content/drive/MyDrive/bsc_thesis/early_media_sample/803.wav', '/content/drive/MyDrive/bsc_thesis/early_media_sample/1440.wav', '/content/drive/MyDrive/bsc_thesis/early_media_sample/1582.wav', '/content/drive/MyDrive/bsc_thesis/early_media_sample/1729.wav', '/content/drive/MyDrive/bsc_thesis/early_media_sample/3076.wav', '/content/drive/MyDrive/bsc_thesis/early_media_sample/480.wav', '/content/drive/MyDrive/bsc_thesis/early_media_sample/3616.wav', '/content/drive/MyDrive/bsc_thesis/early_media_sample/3161.wav', '/content/drive/MyDrive/bsc_thesis/early_media_sample/3019.wav', '/content/drive/MyDrive/bsc_thesis/early_media_sample/3267.wav', '/content/drive/MyDrive/bsc_thesis/early_media_sample/3633.wav', '/content/drive/MyDrive/bsc_thesis/early_media_sample/2071.wav', '/content/drive/MyDrive/bsc_thesis/early_media_sample/3496.wav', '/content/drive/MyDrive/bsc_thesis/early_media_sample/2952.wav', '/content/drive/MyDrive/bsc_thesis/early_media_sample/1683.wav', '/content/drive/MyDrive/bsc_thesis/early_media_sample/251.wav', '/content/drive/MyDrive/bsc_thesis/early_media_sample/4433.wav', '/content/drive/MyDrive/bsc_thesis/early_media_sample/4364.wav', '/content/drive/MyDrive/bsc_thesis/early_media_sample/1906.wav', '/content/drive/MyDrive/bsc_thesis/early_media_sample/844.wav', '/content/drive/MyDrive/bsc_thesis/early_media_sample/4104.wav', '/content/drive/MyDrive/bsc_thesis/early_media_sample/642.wav', '/content/drive/MyDrive/bsc_thesis/early_media_sample/4066.wav', '/content/drive/MyDrive/bsc_thesis/early_media_sample/4231.wav', '/content/drive/MyDrive/bsc_thesis/early_media_sample/2188.wav', '/content/drive/MyDrive/bsc_thesis/early_media_sample/1303.wav', '/content/drive/MyDrive/bsc_thesis/early_media_sample/2531.wav', '/content/drive/MyDrive/bsc_thesis/early_media_sample/3304.wav', '/content/drive/MyDrive/bsc_thesis/early_media_sample/3525.wav', '/content/drive/MyDrive/bsc_thesis/early_media_sample/528.wav', '/content/drive/MyDrive/bsc_thesis/early_media_sample/1183.wav', '/content/drive/MyDrive/bsc_thesis/early_media_sample/2737.wav', '/content/drive/MyDrive/bsc_thesis/early_media_sample/699.wav', '/content/drive/MyDrive/bsc_thesis/early_media_sample/95.wav', '/content/drive/MyDrive/bsc_thesis/early_media_sample/1338.wav', '/content/drive/MyDrive/bsc_thesis/early_media_sample/4063.wav', '/content/drive/MyDrive/bsc_thesis/early_media_sample/687.wav', '/content/drive/MyDrive/bsc_thesis/early_media_sample/1426.wav', '/content/drive/MyDrive/bsc_thesis/early_media_sample/4172.wav', '/content/drive/MyDrive/bsc_thesis/early_media_sample/2857.wav', '/content/drive/MyDrive/bsc_thesis/early_media_sample/3834.wav', '/content/drive/MyDrive/bsc_thesis/early_media_sample/4230.wav', '/content/drive/MyDrive/bsc_thesis/early_media_sample/960.wav', '/content/drive/MyDrive/bsc_thesis/early_media_sample/1169.wav', '/content/drive/MyDrive/bsc_thesis/early_media_sample/1601.wav', '/content/drive/MyDrive/bsc_thesis/early_media_sample/3908.wav', '/content/drive/MyDrive/bsc_thesis/early_media_sample/1774.wav', '/content/drive/MyDrive/bsc_thesis/early_media_sample/2762.wav', '/content/drive/MyDrive/bsc_thesis/early_media_sample/3420.wav', '/content/drive/MyDrive/bsc_thesis/early_media_sample/2044.wav', '/content/drive/MyDrive/bsc_thesis/early_media_sample/2013.wav', '/content/drive/MyDrive/bsc_thesis/early_media_sample/515.wav', '/content/drive/MyDrive/bsc_thesis/early_media_sample/3207.wav', '/content/drive/MyDrive/bsc_thesis/early_media_sample/2472.wav', '/content/drive/MyDrive/bsc_thesis/early_media_sample/2918.wav', '/content/drive/MyDrive/bsc_thesis/early_media_sample/4437.wav', '/content/drive/MyDrive/bsc_thesis/early_media_sample/2750.wav', '/content/drive/MyDrive/bsc_thesis/early_media_sample/4307.wav', '/content/drive/MyDrive/bsc_thesis/early_media_sample/1328.wav', '/content/drive/MyDrive/bsc_thesis/early_media_sample/1629.wav', '/content/drive/MyDrive/bsc_thesis/early_media_sample/524.wav', '/content/drive/MyDrive/bsc_thesis/early_media_sample/1895.wav', '/content/drive/MyDrive/bsc_thesis/early_media_sample/414.wav', '/content/drive/MyDrive/bsc_thesis/early_media_sample/2010.wav', '/content/drive/MyDrive/bsc_thesis/early_media_sample/4283.wav', '/content/drive/MyDrive/bsc_thesis/early_media_sample/1944.wav', '/content/drive/MyDrive/bsc_thesis/early_media_sample/3222.wav', '/content/drive/MyDrive/bsc_thesis/early_media_sample/904.wav', '/content/drive/MyDrive/bsc_thesis/early_media_sample/3656.wav', '/content/drive/MyDrive/bsc_thesis/early_media_sample/22.wav', '/content/drive/MyDrive/bsc_thesis/early_media_sample/3083.wav', '/content/drive/MyDrive/bsc_thesis/early_media_sample/3722.wav', '/content/drive/MyDrive/bsc_thesis/early_media_sample/718.wav', '/content/drive/MyDrive/bsc_thesis/early_media_sample/1993.wav', '/content/drive/MyDrive/bsc_thesis/early_media_sample/253.wav', '/content/drive/MyDrive/bsc_thesis/early_media_sample/880.wav', '/content/drive/MyDrive/bsc_thesis/early_media_sample/2938.wav', '/content/drive/MyDrive/bsc_thesis/early_media_sample/2254.wav', '/content/drive/MyDrive/bsc_thesis/early_media_sample/500.wav', '/content/drive/MyDrive/bsc_thesis/early_media_sample/3626.wav', '/content/drive/MyDrive/bsc_thesis/early_media_sample/797.wav', '/content/drive/MyDrive/bsc_thesis/early_media_sample/4313.wav', '/content/drive/MyDrive/bsc_thesis/early_media_sample/1309.wav', '/content/drive/MyDrive/bsc_thesis/early_media_sample/675.wav', '/content/drive/MyDrive/bsc_thesis/early_media_sample/4374.wav', '/content/drive/MyDrive/bsc_thesis/early_media_sample/2595.wav', '/content/drive/MyDrive/bsc_thesis/early_media_sample/2940.wav', '/content/drive/MyDrive/bsc_thesis/early_media_sample/2277.wav', '/content/drive/MyDrive/bsc_thesis/early_media_sample/2026.wav', '/content/drive/MyDrive/bsc_thesis/early_media_sample/3284.wav', '/content/drive/MyDrive/bsc_thesis/early_media_sample/2048.wav', '/content/drive/MyDrive/bsc_thesis/early_media_sample/2891.wav', '/content/drive/MyDrive/bsc_thesis/early_media_sample/1500.wav', '/content/drive/MyDrive/bsc_thesis/early_media_sample/3606.wav', '/content/drive/MyDrive/bsc_thesis/early_media_sample/1109.wav', '/content/drive/MyDrive/bsc_thesis/early_media_sample/1600.wav', '/content/drive/MyDrive/bsc_thesis/early_media_sample/2581.wav', '/content/drive/MyDrive/bsc_thesis/early_media_sample/1891.wav', '/content/drive/MyDrive/bsc_thesis/early_media_sample/2247.wav', '/content/drive/MyDrive/bsc_thesis/early_media_sample/1558.wav', '/content/drive/MyDrive/bsc_thesis/early_media_sample/2358.wav', '/content/drive/MyDrive/bsc_thesis/early_media_sample/4163.wav', '/content/drive/MyDrive/bsc_thesis/early_media_sample/1075.wav', '/content/drive/MyDrive/bsc_thesis/early_media_sample/3561.wav', '/content/drive/MyDrive/bsc_thesis/early_media_sample/2038.wav', '/content/drive/MyDrive/bsc_thesis/early_media_sample/2599.wav', '/content/drive/MyDrive/bsc_thesis/early_media_sample/2434.wav', '/content/drive/MyDrive/bsc_thesis/early_media_sample/131.wav', '/content/drive/MyDrive/bsc_thesis/early_media_sample/2260.wav', '/content/drive/MyDrive/bsc_thesis/early_media_sample/3935.wav', '/content/drive/MyDrive/bsc_thesis/early_media_sample/2487.wav', '/content/drive/MyDrive/bsc_thesis/early_media_sample/3272.wav', '/content/drive/MyDrive/bsc_thesis/early_media_sample/850.wav', '/content/drive/MyDrive/bsc_thesis/early_media_sample/3455.wav', '/content/drive/MyDrive/bsc_thesis/early_media_sample/967.wav', '/content/drive/MyDrive/bsc_thesis/early_media_sample/2267.wav', '/content/drive/MyDrive/bsc_thesis/early_media_sample/2415.wav', '/content/drive/MyDrive/bsc_thesis/early_media_sample/943.wav', '/content/drive/MyDrive/bsc_thesis/early_media_sample/2253.wav', '/content/drive/MyDrive/bsc_thesis/early_media_sample/446.wav', '/content/drive/MyDrive/bsc_thesis/early_media_sample/1859.wav', '/content/drive/MyDrive/bsc_thesis/early_media_sample/2501.wav', '/content/drive/MyDrive/bsc_thesis/early_media_sample/3867.wav', '/content/drive/MyDrive/bsc_thesis/early_media_sample/170.wav', '/content/drive/MyDrive/bsc_thesis/early_media_sample/3337.wav', '/content/drive/MyDrive/bsc_thesis/early_media_sample/3398.wav', '/content/drive/MyDrive/bsc_thesis/early_media_sample/773.wav', '/content/drive/MyDrive/bsc_thesis/early_media_sample/1896.wav', '/content/drive/MyDrive/bsc_thesis/early_media_sample/2929.wav', '/content/drive/MyDrive/bsc_thesis/early_media_sample/1274.wav', '/content/drive/MyDrive/bsc_thesis/early_media_sample/2913.wav', '/content/drive/MyDrive/bsc_thesis/early_media_sample/1974.wav', '/content/drive/MyDrive/bsc_thesis/early_media_sample/254.wav', '/content/drive/MyDrive/bsc_thesis/early_media_sample/1653.wav', '/content/drive/MyDrive/bsc_thesis/early_media_sample/1084.wav', '/content/drive/MyDrive/bsc_thesis/early_media_sample/2579.wav', '/content/drive/MyDrive/bsc_thesis/early_media_sample/1131.wav', '/content/drive/MyDrive/bsc_thesis/early_media_sample/2366.wav', '/content/drive/MyDrive/bsc_thesis/early_media_sample/529.wav', '/content/drive/MyDrive/bsc_thesis/early_media_sample/795.wav', '/content/drive/MyDrive/bsc_thesis/early_media_sample/106.wav', '/content/drive/MyDrive/bsc_thesis/early_media_sample/979.wav', '/content/drive/MyDrive/bsc_thesis/early_media_sample/1083.wav', '/content/drive/MyDrive/bsc_thesis/early_media_sample/71.wav', '/content/drive/MyDrive/bsc_thesis/early_media_sample/859.wav', '/content/drive/MyDrive/bsc_thesis/early_media_sample/2528.wav', '/content/drive/MyDrive/bsc_thesis/early_media_sample/3184.wav', '/content/drive/MyDrive/bsc_thesis/early_media_sample/3100.wav', '/content/drive/MyDrive/bsc_thesis/early_media_sample/1779.wav', '/content/drive/MyDrive/bsc_thesis/early_media_sample/1021.wav', '/content/drive/MyDrive/bsc_thesis/early_media_sample/3481.wav', '/content/drive/MyDrive/bsc_thesis/early_media_sample/2734.wav', '/content/drive/MyDrive/bsc_thesis/early_media_sample/409.wav', '/content/drive/MyDrive/bsc_thesis/early_media_sample/1940.wav', '/content/drive/MyDrive/bsc_thesis/early_media_sample/359.wav', '/content/drive/MyDrive/bsc_thesis/early_media_sample/3770.wav', '/content/drive/MyDrive/bsc_thesis/early_media_sample/2129.wav', '/content/drive/MyDrive/bsc_thesis/early_media_sample/2205.wav', '/content/drive/MyDrive/bsc_thesis/early_media_sample/1759.wav', '/content/drive/MyDrive/bsc_thesis/early_media_sample/148.wav', '/content/drive/MyDrive/bsc_thesis/early_media_sample/2866.wav', '/content/drive/MyDrive/bsc_thesis/early_media_sample/2160.wav', '/content/drive/MyDrive/bsc_thesis/early_media_sample/4327.wav', '/content/drive/MyDrive/bsc_thesis/early_media_sample/3298.wav', '/content/drive/MyDrive/bsc_thesis/early_media_sample/3452.wav', '/content/drive/MyDrive/bsc_thesis/early_media_sample/1913.wav', '/content/drive/MyDrive/bsc_thesis/early_media_sample/1236.wav', '/content/drive/MyDrive/bsc_thesis/early_media_sample/553.wav', '/content/drive/MyDrive/bsc_thesis/early_media_sample/3883.wav', '/content/drive/MyDrive/bsc_thesis/early_media_sample/1153.wav', '/content/drive/MyDrive/bsc_thesis/early_media_sample/769.wav', '/content/drive/MyDrive/bsc_thesis/early_media_sample/1740.wav', '/content/drive/MyDrive/bsc_thesis/early_media_sample/3326.wav', '/content/drive/MyDrive/bsc_thesis/early_media_sample/2455.wav', '/content/drive/MyDrive/bsc_thesis/early_media_sample/3907.wav', '/content/drive/MyDrive/bsc_thesis/early_media_sample/545.wav', '/content/drive/MyDrive/bsc_thesis/early_media_sample/1879.wav', '/content/drive/MyDrive/bsc_thesis/early_media_sample/1009.wav', '/content/drive/MyDrive/bsc_thesis/early_media_sample/4152.wav', '/content/drive/MyDrive/bsc_thesis/early_media_sample/1304.wav', '/content/drive/MyDrive/bsc_thesis/early_media_sample/2218.wav', '/content/drive/MyDrive/bsc_thesis/early_media_sample/628.wav', '/content/drive/MyDrive/bsc_thesis/early_media_sample/2180.wav', '/content/drive/MyDrive/bsc_thesis/early_media_sample/36.wav', '/content/drive/MyDrive/bsc_thesis/early_media_sample/183.wav', '/content/drive/MyDrive/bsc_thesis/early_media_sample/2151.wav', '/content/drive/MyDrive/bsc_thesis/early_media_sample/593.wav', '/content/drive/MyDrive/bsc_thesis/early_media_sample/3887.wav', '/content/drive/MyDrive/bsc_thesis/early_media_sample/1797.wav', '/content/drive/MyDrive/bsc_thesis/early_media_sample/2914.wav', '/content/drive/MyDrive/bsc_thesis/early_media_sample/1564.wav', '/content/drive/MyDrive/bsc_thesis/early_media_sample/3417.wav', '/content/drive/MyDrive/bsc_thesis/early_media_sample/2980.wav', '/content/drive/MyDrive/bsc_thesis/early_media_sample/4595.wav', '/content/drive/MyDrive/bsc_thesis/early_media_sample/4727.wav', '/content/drive/MyDrive/bsc_thesis/early_media_sample/4931.wav', '/content/drive/MyDrive/bsc_thesis/early_media_sample/4933.wav', '/content/drive/MyDrive/bsc_thesis/early_media_sample/4988.wav', '/content/drive/MyDrive/bsc_thesis/early_media_sample/4695.wav', '/content/drive/MyDrive/bsc_thesis/early_media_sample/4597.wav', '/content/drive/MyDrive/bsc_thesis/early_media_sample/4578.wav', '/content/drive/MyDrive/bsc_thesis/early_media_sample/4577.wav', '/content/drive/MyDrive/bsc_thesis/early_media_sample/4977.wav', '/content/drive/MyDrive/bsc_thesis/early_media_sample/4542.wav', '/content/drive/MyDrive/bsc_thesis/early_media_sample/4750.wav', '/content/drive/MyDrive/bsc_thesis/early_media_sample/4757.wav', '/content/drive/MyDrive/bsc_thesis/early_media_sample/4827.wav', '/content/drive/MyDrive/bsc_thesis/early_media_sample/4548.wav', '/content/drive/MyDrive/bsc_thesis/early_media_sample/4546.wav', '/content/drive/MyDrive/bsc_thesis/early_media_sample/4860.wav', '/content/drive/MyDrive/bsc_thesis/early_media_sample/4861.wav', '/content/drive/MyDrive/bsc_thesis/early_media_sample/4862.wav', '/content/drive/MyDrive/bsc_thesis/early_media_sample/4545.wav', '/content/drive/MyDrive/bsc_thesis/early_media_sample/4547.wav', '/content/drive/MyDrive/bsc_thesis/early_media_sample/4622.wav', '/content/drive/MyDrive/bsc_thesis/early_media_sample/4621.wav', '/content/drive/MyDrive/bsc_thesis/early_media_sample/4620.wav', '/content/drive/MyDrive/bsc_thesis/early_media_sample/4619.wav', '/content/drive/MyDrive/bsc_thesis/early_media_sample/4630.wav', '/content/drive/MyDrive/bsc_thesis/early_media_sample/4996.wav', '/content/drive/MyDrive/bsc_thesis/early_media_sample/4573.wav', '/content/drive/MyDrive/bsc_thesis/early_media_sample/4603.wav', '/content/drive/MyDrive/bsc_thesis/early_media_sample/4549.wav', '/content/drive/MyDrive/bsc_thesis/early_media_sample/4588.wav', '/content/drive/MyDrive/bsc_thesis/early_media_sample/4907.wav', '/content/drive/MyDrive/bsc_thesis/early_media_sample/4746.wav', '/content/drive/MyDrive/bsc_thesis/early_media_sample/4535.wav', '/content/drive/MyDrive/bsc_thesis/early_media_sample/4782.wav', '/content/drive/MyDrive/bsc_thesis/early_media_sample/4818.wav', '/content/drive/MyDrive/bsc_thesis/early_media_sample/4810.wav', '/content/drive/MyDrive/bsc_thesis/early_media_sample/4561.wav', '/content/drive/MyDrive/bsc_thesis/early_media_sample/4562.wav', '/content/drive/MyDrive/bsc_thesis/early_media_sample/4702.wav', '/content/drive/MyDrive/bsc_thesis/early_media_sample/4789.wav', '/content/drive/MyDrive/bsc_thesis/early_media_sample/4607.wav', '/content/drive/MyDrive/bsc_thesis/early_media_sample/4506.wav', '/content/drive/MyDrive/bsc_thesis/early_media_sample/4805.wav', '/content/drive/MyDrive/bsc_thesis/early_media_sample/4574.wav', '/content/drive/MyDrive/bsc_thesis/early_media_sample/4919.wav', '/content/drive/MyDrive/bsc_thesis/early_media_sample/4475.wav', '/content/drive/MyDrive/bsc_thesis/early_media_sample/4706.wav', '/content/drive/MyDrive/bsc_thesis/early_media_sample/4806.wav', '/content/drive/MyDrive/bsc_thesis/early_media_sample/4784.wav', '/content/drive/MyDrive/bsc_thesis/early_media_sample/4974.wav', '/content/drive/MyDrive/bsc_thesis/early_media_sample/4615.wav', '/content/drive/MyDrive/bsc_thesis/early_media_sample/4863.wav', '/content/drive/MyDrive/bsc_thesis/early_media_sample/4946.wav', '/content/drive/MyDrive/bsc_thesis/early_media_sample/4965.wav', '/content/drive/MyDrive/bsc_thesis/early_media_sample/4593.wav', '/content/drive/MyDrive/bsc_thesis/early_media_sample/4853.wav', '/content/drive/MyDrive/bsc_thesis/early_media_sample/4526.wav', '/content/drive/MyDrive/bsc_thesis/early_media_sample/4703.wav', '/content/drive/MyDrive/bsc_thesis/early_media_sample/4854.wav', '/content/drive/MyDrive/bsc_thesis/early_media_sample/4520.wav', '/content/drive/MyDrive/bsc_thesis/early_media_sample/4517.wav', '/content/drive/MyDrive/bsc_thesis/early_media_sample/4617.wav', '/content/drive/MyDrive/bsc_thesis/early_media_sample/4644.wav', '/content/drive/MyDrive/bsc_thesis/early_media_sample/4567.wav', '/content/drive/MyDrive/bsc_thesis/early_media_sample/4849.wav', '/content/drive/MyDrive/bsc_thesis/early_media_sample/4848.wav', '/content/drive/MyDrive/bsc_thesis/early_media_sample/4481.wav', '/content/drive/MyDrive/bsc_thesis/early_media_sample/4952.wav', '/content/drive/MyDrive/bsc_thesis/early_media_sample/4551.wav', '/content/drive/MyDrive/bsc_thesis/early_media_sample/4717.wav', '/content/drive/MyDrive/bsc_thesis/early_media_sample/4879.wav', '/content/drive/MyDrive/bsc_thesis/early_media_sample/4783.wav', '/content/drive/MyDrive/bsc_thesis/early_media_sample/4874.wav', '/content/drive/MyDrive/bsc_thesis/early_media_sample/4739.wav', '/content/drive/MyDrive/bsc_thesis/early_media_sample/4584.wav', '/content/drive/MyDrive/bsc_thesis/early_media_sample/4932.wav', '/content/drive/MyDrive/bsc_thesis/early_media_sample/4633.wav', '/content/drive/MyDrive/bsc_thesis/early_media_sample/4732.wav', '/content/drive/MyDrive/bsc_thesis/early_media_sample/4543.wav', '/content/drive/MyDrive/bsc_thesis/early_media_sample/4912.wav', '/content/drive/MyDrive/bsc_thesis/early_media_sample/4804.wav', '/content/drive/MyDrive/bsc_thesis/early_media_sample/4858.wav', '/content/drive/MyDrive/bsc_thesis/early_media_sample/4581.wav', '/content/drive/MyDrive/bsc_thesis/early_media_sample/4822.wav', '/content/drive/MyDrive/bsc_thesis/early_media_sample/4979.wav', '/content/drive/MyDrive/bsc_thesis/early_media_sample/4983.wav', '/content/drive/MyDrive/bsc_thesis/early_media_sample/4962.wav', '/content/drive/MyDrive/bsc_thesis/early_media_sample/4659.wav', '/content/drive/MyDrive/bsc_thesis/early_media_sample/4716.wav', '/content/drive/MyDrive/bsc_thesis/early_media_sample/4945.wav', '/content/drive/MyDrive/bsc_thesis/early_media_sample/4660.wav', '/content/drive/MyDrive/bsc_thesis/early_media_sample/4587.wav', '/content/drive/MyDrive/bsc_thesis/early_media_sample/4586.wav', '/content/drive/MyDrive/bsc_thesis/early_media_sample/4999.wav', '/content/drive/MyDrive/bsc_thesis/early_media_sample/4865.wav', '/content/drive/MyDrive/bsc_thesis/early_media_sample/4745.wav', '/content/drive/MyDrive/bsc_thesis/early_media_sample/4980.wav', '/content/drive/MyDrive/bsc_thesis/early_media_sample/4704.wav', '/content/drive/MyDrive/bsc_thesis/early_media_sample/4479.wav', '/content/drive/MyDrive/bsc_thesis/early_media_sample/4646.wav', '/content/drive/MyDrive/bsc_thesis/early_media_sample/4507.wav', '/content/drive/MyDrive/bsc_thesis/early_media_sample/4636.wav', '/content/drive/MyDrive/bsc_thesis/early_media_sample/4829.wav', '/content/drive/MyDrive/bsc_thesis/early_media_sample/4991.wav', '/content/drive/MyDrive/bsc_thesis/early_media_sample/4725.wav', '/content/drive/MyDrive/bsc_thesis/early_media_sample/4676.wav', '/content/drive/MyDrive/bsc_thesis/early_media_sample/4672.wav', '/content/drive/MyDrive/bsc_thesis/early_media_sample/4726.wav', '/content/drive/MyDrive/bsc_thesis/early_media_sample/4609.wav', '/content/drive/MyDrive/bsc_thesis/early_media_sample/4951.wav', '/content/drive/MyDrive/bsc_thesis/early_media_sample/4495.wav', '/content/drive/MyDrive/bsc_thesis/early_media_sample/4940.wav', '/content/drive/MyDrive/bsc_thesis/early_media_sample/4648.wav', '/content/drive/MyDrive/bsc_thesis/early_media_sample/4926.wav', '/content/drive/MyDrive/bsc_thesis/early_media_sample/4685.wav', '/content/drive/MyDrive/bsc_thesis/early_media_sample/4997.wav', '/content/drive/MyDrive/bsc_thesis/early_media_sample/4697.wav', '/content/drive/MyDrive/bsc_thesis/early_media_sample/4599.wav', '/content/drive/MyDrive/bsc_thesis/early_media_sample/4513.wav', '/content/drive/MyDrive/bsc_thesis/early_media_sample/4887.wav', '/content/drive/MyDrive/bsc_thesis/early_media_sample/4530.wav', '/content/drive/MyDrive/bsc_thesis/early_media_sample/4895.wav', '/content/drive/MyDrive/bsc_thesis/early_media_sample/4888.wav', '/content/drive/MyDrive/bsc_thesis/early_media_sample/4632.wav', '/content/drive/MyDrive/bsc_thesis/early_media_sample/4550.wav', '/content/drive/MyDrive/bsc_thesis/early_media_sample/4902.wav', '/content/drive/MyDrive/bsc_thesis/early_media_sample/4809.wav', '/content/drive/MyDrive/bsc_thesis/early_media_sample/4918.wav', '/content/drive/MyDrive/bsc_thesis/early_media_sample/4555.wav', '/content/drive/MyDrive/bsc_thesis/early_media_sample/4889.wav', '/content/drive/MyDrive/bsc_thesis/early_media_sample/4759.wav', '/content/drive/MyDrive/bsc_thesis/early_media_sample/4677.wav', '/content/drive/MyDrive/bsc_thesis/early_media_sample/4678.wav', '/content/drive/MyDrive/bsc_thesis/early_media_sample/4645.wav', '/content/drive/MyDrive/bsc_thesis/early_media_sample/4628.wav', '/content/drive/MyDrive/bsc_thesis/early_media_sample/4627.wav', '/content/drive/MyDrive/bsc_thesis/early_media_sample/4730.wav', '/content/drive/MyDrive/bsc_thesis/early_media_sample/4594.wav', '/content/drive/MyDrive/bsc_thesis/early_media_sample/4897.wav', '/content/drive/MyDrive/bsc_thesis/early_media_sample/4743.wav', '/content/drive/MyDrive/bsc_thesis/early_media_sample/4920.wav', '/content/drive/MyDrive/bsc_thesis/early_media_sample/4811.wav', '/content/drive/MyDrive/bsc_thesis/early_media_sample/4769.wav', '/content/drive/MyDrive/bsc_thesis/early_media_sample/4483.wav', '/content/drive/MyDrive/bsc_thesis/early_media_sample/4484.wav', '/content/drive/MyDrive/bsc_thesis/early_media_sample/4966.wav', '/content/drive/MyDrive/bsc_thesis/early_media_sample/4935.wav', '/content/drive/MyDrive/bsc_thesis/early_media_sample/4568.wav', '/content/drive/MyDrive/bsc_thesis/early_media_sample/4524.wav', '/content/drive/MyDrive/bsc_thesis/early_media_sample/4590.wav', '/content/drive/MyDrive/bsc_thesis/early_media_sample/4521.wav', '/content/drive/MyDrive/bsc_thesis/early_media_sample/4967.wav', '/content/drive/MyDrive/bsc_thesis/early_media_sample/4523.wav', '/content/drive/MyDrive/bsc_thesis/early_media_sample/4522.wav', '/content/drive/MyDrive/bsc_thesis/early_media_sample/4969.wav', '/content/drive/MyDrive/bsc_thesis/early_media_sample/4898.wav', '/content/drive/MyDrive/bsc_thesis/early_media_sample/4604.wav', '/content/drive/MyDrive/bsc_thesis/early_media_sample/4978.wav', '/content/drive/MyDrive/bsc_thesis/early_media_sample/4791.wav', '/content/drive/MyDrive/bsc_thesis/early_media_sample/4776.wav', '/content/drive/MyDrive/bsc_thesis/early_media_sample/4576.wav', '/content/drive/MyDrive/bsc_thesis/early_media_sample/4480.wav', '/content/drive/MyDrive/bsc_thesis/early_media_sample/4653.wav', '/content/drive/MyDrive/bsc_thesis/early_media_sample/4768.wav', '/content/drive/MyDrive/bsc_thesis/early_media_sample/4553.wav', '/content/drive/MyDrive/bsc_thesis/early_media_sample/4903.wav', '/content/drive/MyDrive/bsc_thesis/early_media_sample/4605.wav', '/content/drive/MyDrive/bsc_thesis/early_media_sample/4927.wav', '/content/drive/MyDrive/bsc_thesis/early_media_sample/4626.wav', '/content/drive/MyDrive/bsc_thesis/early_media_sample/4866.wav', '/content/drive/MyDrive/bsc_thesis/early_media_sample/4729.wav', '/content/drive/MyDrive/bsc_thesis/early_media_sample/4837.wav', '/content/drive/MyDrive/bsc_thesis/early_media_sample/4981.wav', '/content/drive/MyDrive/bsc_thesis/early_media_sample/4708.wav', '/content/drive/MyDrive/bsc_thesis/early_media_sample/4611.wav', '/content/drive/MyDrive/bsc_thesis/early_media_sample/4675.wav', '/content/drive/MyDrive/bsc_thesis/early_media_sample/4540.wav', '/content/drive/MyDrive/bsc_thesis/early_media_sample/4494.wav', '/content/drive/MyDrive/bsc_thesis/early_media_sample/4487.wav', '/content/drive/MyDrive/bsc_thesis/early_media_sample/4985.wav', '/content/drive/MyDrive/bsc_thesis/early_media_sample/4509.wav', '/content/drive/MyDrive/bsc_thesis/early_media_sample/4488.wav', '/content/drive/MyDrive/bsc_thesis/early_media_sample/4995.wav', '/content/drive/MyDrive/bsc_thesis/early_media_sample/4749.wav', '/content/drive/MyDrive/bsc_thesis/early_media_sample/4839.wav', '/content/drive/MyDrive/bsc_thesis/early_media_sample/4855.wav', '/content/drive/MyDrive/bsc_thesis/early_media_sample/4557.wav', '/content/drive/MyDrive/bsc_thesis/early_media_sample/4840.wav', '/content/drive/MyDrive/bsc_thesis/early_media_sample/4841.wav', '/content/drive/MyDrive/bsc_thesis/early_media_sample/4856.wav', '/content/drive/MyDrive/bsc_thesis/early_media_sample/4857.wav', '/content/drive/MyDrive/bsc_thesis/early_media_sample/4683.wav', '/content/drive/MyDrive/bsc_thesis/early_media_sample/4802.wav', '/content/drive/MyDrive/bsc_thesis/early_media_sample/4682.wav', '/content/drive/MyDrive/bsc_thesis/early_media_sample/4681.wav', '/content/drive/MyDrive/bsc_thesis/early_media_sample/4815.wav', '/content/drive/MyDrive/bsc_thesis/early_media_sample/4813.wav', '/content/drive/MyDrive/bsc_thesis/early_media_sample/4936.wav', '/content/drive/MyDrive/bsc_thesis/early_media_sample/4816.wav', '/content/drive/MyDrive/bsc_thesis/early_media_sample/4814.wav', '/content/drive/MyDrive/bsc_thesis/early_media_sample/4565.wav', '/content/drive/MyDrive/bsc_thesis/early_media_sample/4772.wav', '/content/drive/MyDrive/bsc_thesis/early_media_sample/4688.wav', '/content/drive/MyDrive/bsc_thesis/early_media_sample/4608.wav', '/content/drive/MyDrive/bsc_thesis/early_media_sample/4737.wav', '/content/drive/MyDrive/bsc_thesis/early_media_sample/4911.wav', '/content/drive/MyDrive/bsc_thesis/early_media_sample/4955.wav', '/content/drive/MyDrive/bsc_thesis/early_media_sample/4738.wav', '/content/drive/MyDrive/bsc_thesis/early_media_sample/4735.wav', '/content/drive/MyDrive/bsc_thesis/early_media_sample/4598.wav', '/content/drive/MyDrive/bsc_thesis/early_media_sample/4634.wav', '/content/drive/MyDrive/bsc_thesis/early_media_sample/4925.wav', '/content/drive/MyDrive/bsc_thesis/early_media_sample/4635.wav', '/content/drive/MyDrive/bsc_thesis/early_media_sample/4515.wav', '/content/drive/MyDrive/bsc_thesis/early_media_sample/4579.wav', '/content/drive/MyDrive/bsc_thesis/early_media_sample/4760.wav', '/content/drive/MyDrive/bsc_thesis/early_media_sample/4748.wav', '/content/drive/MyDrive/bsc_thesis/early_media_sample/4909.wav', '/content/drive/MyDrive/bsc_thesis/early_media_sample/4679.wav', '/content/drive/MyDrive/bsc_thesis/early_media_sample/4908.wav', '/content/drive/MyDrive/bsc_thesis/early_media_sample/4910.wav', '/content/drive/MyDrive/bsc_thesis/early_media_sample/4875.wav', '/content/drive/MyDrive/bsc_thesis/early_media_sample/4623.wav', '/content/drive/MyDrive/bsc_thesis/early_media_sample/4844.wav', '/content/drive/MyDrive/bsc_thesis/early_media_sample/4629.wav', '/content/drive/MyDrive/bsc_thesis/early_media_sample/4492.wav', '/content/drive/MyDrive/bsc_thesis/early_media_sample/4876.wav', '/content/drive/MyDrive/bsc_thesis/early_media_sample/4778.wav', '/content/drive/MyDrive/bsc_thesis/early_media_sample/4680.wav', '/content/drive/MyDrive/bsc_thesis/early_media_sample/4489.wav', '/content/drive/MyDrive/bsc_thesis/early_media_sample/4831.wav', '/content/drive/MyDrive/bsc_thesis/early_media_sample/4949.wav', '/content/drive/MyDrive/bsc_thesis/early_media_sample/4596.wav', '/content/drive/MyDrive/bsc_thesis/early_media_sample/4698.wav', '/content/drive/MyDrive/bsc_thesis/early_media_sample/4823.wav', '/content/drive/MyDrive/bsc_thesis/early_media_sample/4941.wav', '/content/drive/MyDrive/bsc_thesis/early_media_sample/4843.wav', '/content/drive/MyDrive/bsc_thesis/early_media_sample/4511.wav', '/content/drive/MyDrive/bsc_thesis/early_media_sample/4539.wav', '/content/drive/MyDrive/bsc_thesis/early_media_sample/4510.wav', '/content/drive/MyDrive/bsc_thesis/early_media_sample/4525.wav', '/content/drive/MyDrive/bsc_thesis/early_media_sample/4751.wav', '/content/drive/MyDrive/bsc_thesis/early_media_sample/4881.wav', '/content/drive/MyDrive/bsc_thesis/early_media_sample/4884.wav', '/content/drive/MyDrive/bsc_thesis/early_media_sample/4493.wav', '/content/drive/MyDrive/bsc_thesis/early_media_sample/4474.wav', '/content/drive/MyDrive/bsc_thesis/early_media_sample/4883.wav', '/content/drive/MyDrive/bsc_thesis/early_media_sample/4777.wav', '/content/drive/MyDrive/bsc_thesis/early_media_sample/4740.wav', '/content/drive/MyDrive/bsc_thesis/early_media_sample/4527.wav', '/content/drive/MyDrive/bsc_thesis/early_media_sample/4882.wav', '/content/drive/MyDrive/bsc_thesis/early_media_sample/4894.wav', '/content/drive/MyDrive/bsc_thesis/early_media_sample/4947.wav', '/content/drive/MyDrive/bsc_thesis/early_media_sample/4707.wav', '/content/drive/MyDrive/bsc_thesis/early_media_sample/4692.wav', '/content/drive/MyDrive/bsc_thesis/early_media_sample/4821.wav', '/content/drive/MyDrive/bsc_thesis/early_media_sample/4731.wav', '/content/drive/MyDrive/bsc_thesis/early_media_sample/4964.wav', '/content/drive/MyDrive/bsc_thesis/early_media_sample/4674.wav', '/content/drive/MyDrive/bsc_thesis/early_media_sample/4819.wav', '/content/drive/MyDrive/bsc_thesis/early_media_sample/4556.wav', '/content/drive/MyDrive/bsc_thesis/early_media_sample/4694.wav', '/content/drive/MyDrive/bsc_thesis/early_media_sample/4859.wav', '/content/drive/MyDrive/bsc_thesis/early_media_sample/4592.wav', '/content/drive/MyDrive/bsc_thesis/early_media_sample/4970.wav', '/content/drive/MyDrive/bsc_thesis/early_media_sample/4662.wav', '/content/drive/MyDrive/bsc_thesis/early_media_sample/4700.wav', '/content/drive/MyDrive/bsc_thesis/early_media_sample/4541.wav', '/content/drive/MyDrive/bsc_thesis/early_media_sample/4667.wav', '/content/drive/MyDrive/bsc_thesis/early_media_sample/4868.wav', '/content/drive/MyDrive/bsc_thesis/early_media_sample/4569.wav', '/content/drive/MyDrive/bsc_thesis/early_media_sample/4928.wav', '/content/drive/MyDrive/bsc_thesis/early_media_sample/4956.wav', '/content/drive/MyDrive/bsc_thesis/early_media_sample/4792.wav', '/content/drive/MyDrive/bsc_thesis/early_media_sample/4793.wav', '/content/drive/MyDrive/bsc_thesis/early_media_sample/4580.wav', '/content/drive/MyDrive/bsc_thesis/early_media_sample/4533.wav', '/content/drive/MyDrive/bsc_thesis/early_media_sample/4606.wav', '/content/drive/MyDrive/bsc_thesis/early_media_sample/4686.wav', '/content/drive/MyDrive/bsc_thesis/early_media_sample/4755.wav', '/content/drive/MyDrive/bsc_thesis/early_media_sample/4756.wav', '/content/drive/MyDrive/bsc_thesis/early_media_sample/4830.wav', '/content/drive/MyDrive/bsc_thesis/early_media_sample/4800.wav', '/content/drive/MyDrive/bsc_thesis/early_media_sample/4754.wav', '/content/drive/MyDrive/bsc_thesis/early_media_sample/4649.wav', '/content/drive/MyDrive/bsc_thesis/early_media_sample/4741.wav', '/content/drive/MyDrive/bsc_thesis/early_media_sample/4663.wav', '/content/drive/MyDrive/bsc_thesis/early_media_sample/4624.wav', '/content/drive/MyDrive/bsc_thesis/early_media_sample/4943.wav', '/content/drive/MyDrive/bsc_thesis/early_media_sample/4537.wav', '/content/drive/MyDrive/bsc_thesis/early_media_sample/4767.wav', '/content/drive/MyDrive/bsc_thesis/early_media_sample/4712.wav', '/content/drive/MyDrive/bsc_thesis/early_media_sample/4711.wav', '/content/drive/MyDrive/bsc_thesis/early_media_sample/4824.wav', '/content/drive/MyDrive/bsc_thesis/early_media_sample/4867.wav', '/content/drive/MyDrive/bsc_thesis/early_media_sample/4709.wav', '/content/drive/MyDrive/bsc_thesis/early_media_sample/4976.wav', '/content/drive/MyDrive/bsc_thesis/early_media_sample/4930.wav', '/content/drive/MyDrive/bsc_thesis/early_media_sample/4938.wav', '/content/drive/MyDrive/bsc_thesis/early_media_sample/4684.wav', '/content/drive/MyDrive/bsc_thesis/early_media_sample/4942.wav', '/content/drive/MyDrive/bsc_thesis/early_media_sample/4650.wav', '/content/drive/MyDrive/bsc_thesis/early_media_sample/4742.wav', '/content/drive/MyDrive/bsc_thesis/early_media_sample/4528.wav', '/content/drive/MyDrive/bsc_thesis/early_media_sample/4720.wav', '/content/drive/MyDrive/bsc_thesis/early_media_sample/4929.wav', '/content/drive/MyDrive/bsc_thesis/early_media_sample/4657.wav', '/content/drive/MyDrive/bsc_thesis/early_media_sample/4721.wav', '/content/drive/MyDrive/bsc_thesis/early_media_sample/4998.wav', '/content/drive/MyDrive/bsc_thesis/early_media_sample/4610.wav', '/content/drive/MyDrive/bsc_thesis/early_media_sample/4752.wav', '/content/drive/MyDrive/bsc_thesis/early_media_sample/4571.wav', '/content/drive/MyDrive/bsc_thesis/early_media_sample/4973.wav', '/content/drive/MyDrive/bsc_thesis/early_media_sample/4572.wav', '/content/drive/MyDrive/bsc_thesis/early_media_sample/4719.wav', '/content/drive/MyDrive/bsc_thesis/early_media_sample/4637.wav', '/content/drive/MyDrive/bsc_thesis/early_media_sample/4764.wav', '/content/drive/MyDrive/bsc_thesis/early_media_sample/4786.wav', '/content/drive/MyDrive/bsc_thesis/early_media_sample/4516.wav', '/content/drive/MyDrive/bsc_thesis/early_media_sample/4785.wav', '/content/drive/MyDrive/bsc_thesis/early_media_sample/4885.wav', '/content/drive/MyDrive/bsc_thesis/early_media_sample/4984.wav', '/content/drive/MyDrive/bsc_thesis/early_media_sample/4886.wav', '/content/drive/MyDrive/bsc_thesis/early_media_sample/4722.wav', '/content/drive/MyDrive/bsc_thesis/early_media_sample/4616.wav', '/content/drive/MyDrive/bsc_thesis/early_media_sample/4705.wav', '/content/drive/MyDrive/bsc_thesis/early_media_sample/4490.wav', '/content/drive/MyDrive/bsc_thesis/early_media_sample/4714.wav', '/content/drive/MyDrive/bsc_thesis/early_media_sample/4496.wav', '/content/drive/MyDrive/bsc_thesis/early_media_sample/4687.wav', '/content/drive/MyDrive/bsc_thesis/early_media_sample/4613.wav', '/content/drive/MyDrive/bsc_thesis/early_media_sample/4614.wav', '/content/drive/MyDrive/bsc_thesis/early_media_sample/4781.wav', '/content/drive/MyDrive/bsc_thesis/early_media_sample/4689.wav', '/content/drive/MyDrive/bsc_thesis/early_media_sample/4747.wav', '/content/drive/MyDrive/bsc_thesis/early_media_sample/4842.wav', '/content/drive/MyDrive/bsc_thesis/early_media_sample/4699.wav', '/content/drive/MyDrive/bsc_thesis/early_media_sample/4536.wav', '/content/drive/MyDrive/bsc_thesis/early_media_sample/4640.wav', '/content/drive/MyDrive/bsc_thesis/early_media_sample/4762.wav', '/content/drive/MyDrive/bsc_thesis/early_media_sample/4937.wav', '/content/drive/MyDrive/bsc_thesis/early_media_sample/4808.wav', '/content/drive/MyDrive/bsc_thesis/early_media_sample/4668.wav', '/content/drive/MyDrive/bsc_thesis/early_media_sample/4779.wav', '/content/drive/MyDrive/bsc_thesis/early_media_sample/4733.wav', '/content/drive/MyDrive/bsc_thesis/early_media_sample/4734.wav', '/content/drive/MyDrive/bsc_thesis/early_media_sample/4670.wav', '/content/drive/MyDrive/bsc_thesis/early_media_sample/4671.wav', '/content/drive/MyDrive/bsc_thesis/early_media_sample/4664.wav', '/content/drive/MyDrive/bsc_thesis/early_media_sample/4589.wav', '/content/drive/MyDrive/bsc_thesis/early_media_sample/4744.wav', '/content/drive/MyDrive/bsc_thesis/early_media_sample/4924.wav', '/content/drive/MyDrive/bsc_thesis/early_media_sample/4807.wav', '/content/drive/MyDrive/bsc_thesis/early_media_sample/4906.wav', '/content/drive/MyDrive/bsc_thesis/early_media_sample/4693.wav', '/content/drive/MyDrive/bsc_thesis/early_media_sample/4812.wav', '/content/drive/MyDrive/bsc_thesis/early_media_sample/4514.wav', '/content/drive/MyDrive/bsc_thesis/early_media_sample/4583.wav', '/content/drive/MyDrive/bsc_thesis/early_media_sample/4691.wav', '/content/drive/MyDrive/bsc_thesis/early_media_sample/4957.wav', '/content/drive/MyDrive/bsc_thesis/early_media_sample/4601.wav', '/content/drive/MyDrive/bsc_thesis/early_media_sample/4990.wav', '/content/drive/MyDrive/bsc_thesis/early_media_sample/4790.wav', '/content/drive/MyDrive/bsc_thesis/early_media_sample/4775.wav', '/content/drive/MyDrive/bsc_thesis/early_media_sample/4795.wav', '/content/drive/MyDrive/bsc_thesis/early_media_sample/4899.wav', '/content/drive/MyDrive/bsc_thesis/early_media_sample/4891.wav', '/content/drive/MyDrive/bsc_thesis/early_media_sample/4900.wav', '/content/drive/MyDrive/bsc_thesis/early_media_sample/4890.wav', '/content/drive/MyDrive/bsc_thesis/early_media_sample/4724.wav', '/content/drive/MyDrive/bsc_thesis/early_media_sample/4794.wav', '/content/drive/MyDrive/bsc_thesis/early_media_sample/4892.wav', '/content/drive/MyDrive/bsc_thesis/early_media_sample/4901.wav', '/content/drive/MyDrive/bsc_thesis/early_media_sample/4639.wav', '/content/drive/MyDrive/bsc_thesis/early_media_sample/4847.wav', '/content/drive/MyDrive/bsc_thesis/early_media_sample/4845.wav', '/content/drive/MyDrive/bsc_thesis/early_media_sample/4846.wav', '/content/drive/MyDrive/bsc_thesis/early_media_sample/4963.wav', '/content/drive/MyDrive/bsc_thesis/early_media_sample/4500.wav', '/content/drive/MyDrive/bsc_thesis/early_media_sample/4498.wav', '/content/drive/MyDrive/bsc_thesis/early_media_sample/4835.wav', '/content/drive/MyDrive/bsc_thesis/early_media_sample/4503.wav', '/content/drive/MyDrive/bsc_thesis/early_media_sample/4971.wav', '/content/drive/MyDrive/bsc_thesis/early_media_sample/4497.wav', '/content/drive/MyDrive/bsc_thesis/early_media_sample/4499.wav', '/content/drive/MyDrive/bsc_thesis/early_media_sample/4504.wav', '/content/drive/MyDrive/bsc_thesis/early_media_sample/4502.wav', '/content/drive/MyDrive/bsc_thesis/early_media_sample/4501.wav', '/content/drive/MyDrive/bsc_thesis/early_media_sample/4834.wav', '/content/drive/MyDrive/bsc_thesis/early_media_sample/4728.wav', '/content/drive/MyDrive/bsc_thesis/early_media_sample/4753.wav', '/content/drive/MyDrive/bsc_thesis/early_media_sample/4832.wav', '/content/drive/MyDrive/bsc_thesis/early_media_sample/4519.wav', '/content/drive/MyDrive/bsc_thesis/early_media_sample/4958.wav', '/content/drive/MyDrive/bsc_thesis/early_media_sample/4961.wav', '/content/drive/MyDrive/bsc_thesis/early_media_sample/4960.wav', '/content/drive/MyDrive/bsc_thesis/early_media_sample/4512.wav', '/content/drive/MyDrive/bsc_thesis/early_media_sample/4959.wav', '/content/drive/MyDrive/bsc_thesis/early_media_sample/4486.wav', '/content/drive/MyDrive/bsc_thesis/early_media_sample/4880.wav', '/content/drive/MyDrive/bsc_thesis/early_media_sample/4923.wav', '/content/drive/MyDrive/bsc_thesis/early_media_sample/4564.wav', '/content/drive/MyDrive/bsc_thesis/early_media_sample/4641.wav', '/content/drive/MyDrive/bsc_thesis/early_media_sample/4476.wav', '/content/drive/MyDrive/bsc_thesis/early_media_sample/4643.wav', '/content/drive/MyDrive/bsc_thesis/early_media_sample/4477.wav', '/content/drive/MyDrive/bsc_thesis/early_media_sample/4478.wav', '/content/drive/MyDrive/bsc_thesis/early_media_sample/4532.wav', '/content/drive/MyDrive/bsc_thesis/early_media_sample/4766.wav', '/content/drive/MyDrive/bsc_thesis/early_media_sample/4642.wav', '/content/drive/MyDrive/bsc_thesis/early_media_sample/4905.wav', '/content/drive/MyDrive/bsc_thesis/early_media_sample/4563.wav', '/content/drive/MyDrive/bsc_thesis/early_media_sample/4850.wav', '/content/drive/MyDrive/bsc_thesis/early_media_sample/4582.wav', '/content/drive/MyDrive/bsc_thesis/early_media_sample/4916.wav', '/content/drive/MyDrive/bsc_thesis/early_media_sample/4914.wav', '/content/drive/MyDrive/bsc_thesis/early_media_sample/4913.wav', '/content/drive/MyDrive/bsc_thesis/early_media_sample/4948.wav', '/content/drive/MyDrive/bsc_thesis/early_media_sample/4915.wav', '/content/drive/MyDrive/bsc_thesis/early_media_sample/4638.wav', '/content/drive/MyDrive/bsc_thesis/early_media_sample/4833.wav', '/content/drive/MyDrive/bsc_thesis/early_media_sample/4817.wav', '/content/drive/MyDrive/bsc_thesis/early_media_sample/4968.wav', '/content/drive/MyDrive/bsc_thesis/early_media_sample/4661.wav', '/content/drive/MyDrive/bsc_thesis/early_media_sample/4491.wav', '/content/drive/MyDrive/bsc_thesis/early_media_sample/4655.wav', '/content/drive/MyDrive/bsc_thesis/early_media_sample/4763.wav', '/content/drive/MyDrive/bsc_thesis/early_media_sample/4505.wav', '/content/drive/MyDrive/bsc_thesis/early_media_sample/4558.wav', '/content/drive/MyDrive/bsc_thesis/early_media_sample/4647.wav', '/content/drive/MyDrive/bsc_thesis/early_media_sample/4723.wav', '/content/drive/MyDrive/bsc_thesis/early_media_sample/4666.wav', '/content/drive/MyDrive/bsc_thesis/early_media_sample/4939.wav', '/content/drive/MyDrive/bsc_thesis/early_media_sample/4554.wav', '/content/drive/MyDrive/bsc_thesis/early_media_sample/4713.wav', '/content/drive/MyDrive/bsc_thesis/early_media_sample/4851.wav', '/content/drive/MyDrive/bsc_thesis/early_media_sample/4600.wav', '/content/drive/MyDrive/bsc_thesis/early_media_sample/4852.wav', '/content/drive/MyDrive/bsc_thesis/early_media_sample/4669.wav', '/content/drive/MyDrive/bsc_thesis/early_media_sample/4715.wav', '/content/drive/MyDrive/bsc_thesis/early_media_sample/4774.wav', '/content/drive/MyDrive/bsc_thesis/early_media_sample/4893.wav', '/content/drive/MyDrive/bsc_thesis/early_media_sample/4631.wav', '/content/drive/MyDrive/bsc_thesis/early_media_sample/4485.wav', '/content/drive/MyDrive/bsc_thesis/early_media_sample/4652.wav', '/content/drive/MyDrive/bsc_thesis/early_media_sample/4972.wav', '/content/drive/MyDrive/bsc_thesis/early_media_sample/4761.wav', '/content/drive/MyDrive/bsc_thesis/early_media_sample/4736.wav', '/content/drive/MyDrive/bsc_thesis/early_media_sample/4771.wav', '/content/drive/MyDrive/bsc_thesis/early_media_sample/4654.wav', '/content/drive/MyDrive/bsc_thesis/early_media_sample/4944.wav', '/content/drive/MyDrive/bsc_thesis/early_media_sample/4934.wav', '/content/drive/MyDrive/bsc_thesis/early_media_sample/4798.wav', '/content/drive/MyDrive/bsc_thesis/early_media_sample/4570.wav', '/content/drive/MyDrive/bsc_thesis/early_media_sample/4799.wav', '/content/drive/MyDrive/bsc_thesis/early_media_sample/4651.wav', '/content/drive/MyDrive/bsc_thesis/early_media_sample/4534.wav', '/content/drive/MyDrive/bsc_thesis/early_media_sample/4765.wav', '/content/drive/MyDrive/bsc_thesis/early_media_sample/4917.wav', '/content/drive/MyDrive/bsc_thesis/early_media_sample/4656.wav', '/content/drive/MyDrive/bsc_thesis/early_media_sample/4591.wav', '/content/drive/MyDrive/bsc_thesis/early_media_sample/4780.wav', '/content/drive/MyDrive/bsc_thesis/early_media_sample/4612.wav', '/content/drive/MyDrive/bsc_thesis/early_media_sample/4690.wav', '/content/drive/MyDrive/bsc_thesis/early_media_sample/4758.wav', '/content/drive/MyDrive/bsc_thesis/early_media_sample/4538.wav', '/content/drive/MyDrive/bsc_thesis/early_media_sample/4825.wav', '/content/drive/MyDrive/bsc_thesis/early_media_sample/4602.wav', '/content/drive/MyDrive/bsc_thesis/early_media_sample/4869.wav', '/content/drive/MyDrive/bsc_thesis/early_media_sample/4701.wav', '/content/drive/MyDrive/bsc_thesis/early_media_sample/4872.wav', '/content/drive/MyDrive/bsc_thesis/early_media_sample/4871.wav', '/content/drive/MyDrive/bsc_thesis/early_media_sample/4826.wav', '/content/drive/MyDrive/bsc_thesis/early_media_sample/4870.wav', '/content/drive/MyDrive/bsc_thesis/early_media_sample/4710.wav', '/content/drive/MyDrive/bsc_thesis/early_media_sample/4770.wav', '/content/drive/MyDrive/bsc_thesis/early_media_sample/4665.wav', '/content/drive/MyDrive/bsc_thesis/early_media_sample/4873.wav', '/content/drive/MyDrive/bsc_thesis/early_media_sample/4618.wav', '/content/drive/MyDrive/bsc_thesis/early_media_sample/4696.wav', '/content/drive/MyDrive/bsc_thesis/early_media_sample/4560.wav', '/content/drive/MyDrive/bsc_thesis/early_media_sample/4896.wav', '/content/drive/MyDrive/bsc_thesis/early_media_sample/4992.wav', '/content/drive/MyDrive/bsc_thesis/early_media_sample/4993.wav', '/content/drive/MyDrive/bsc_thesis/early_media_sample/4801.wav', '/content/drive/MyDrive/bsc_thesis/early_media_sample/4994.wav', '/content/drive/MyDrive/bsc_thesis/early_media_sample/4987.wav', '/content/drive/MyDrive/bsc_thesis/early_media_sample/4658.wav', '/content/drive/MyDrive/bsc_thesis/early_media_sample/4518.wav', '/content/drive/MyDrive/bsc_thesis/early_media_sample/4673.wav', '/content/drive/MyDrive/bsc_thesis/early_media_sample/4989.wav', '/content/drive/MyDrive/bsc_thesis/early_media_sample/4529.wav', '/content/drive/MyDrive/bsc_thesis/early_media_sample/4838.wav', '/content/drive/MyDrive/bsc_thesis/early_media_sample/4864.wav', '/content/drive/MyDrive/bsc_thesis/early_media_sample/4531.wav', '/content/drive/MyDrive/bsc_thesis/early_media_sample/4803.wav', '/content/drive/MyDrive/bsc_thesis/early_media_sample/4585.wav', '/content/drive/MyDrive/bsc_thesis/early_media_sample/4575.wav', '/content/drive/MyDrive/bsc_thesis/early_media_sample/4773.wav', '/content/drive/MyDrive/bsc_thesis/early_media_sample/4718.wav', '/content/drive/MyDrive/bsc_thesis/early_media_sample/4922.wav', '/content/drive/MyDrive/bsc_thesis/early_media_sample/4921.wav', '/content/drive/MyDrive/bsc_thesis/early_media_sample/4559.wav', '/content/drive/MyDrive/bsc_thesis/early_media_sample/4950.wav', '/content/drive/MyDrive/bsc_thesis/early_media_sample/4508.wav', '/content/drive/MyDrive/bsc_thesis/early_media_sample/4625.wav', '/content/drive/MyDrive/bsc_thesis/early_media_sample/4544.wav', '/content/drive/MyDrive/bsc_thesis/early_media_sample/4482.wav', '/content/drive/MyDrive/bsc_thesis/early_media_sample/4877.wav', '/content/drive/MyDrive/bsc_thesis/early_media_sample/4878.wav', '/content/drive/MyDrive/bsc_thesis/early_media_sample/4953.wav', '/content/drive/MyDrive/bsc_thesis/early_media_sample/4552.wav', '/content/drive/MyDrive/bsc_thesis/early_media_sample/4828.wav', '/content/drive/MyDrive/bsc_thesis/early_media_sample/4836.wav', '/content/drive/MyDrive/bsc_thesis/early_media_sample/4566.wav', '/content/drive/MyDrive/bsc_thesis/early_media_sample/4788.wav', '/content/drive/MyDrive/bsc_thesis/early_media_sample/4787.wav', '/content/drive/MyDrive/bsc_thesis/early_media_sample/4986.wav', '/content/drive/MyDrive/bsc_thesis/early_media_sample/4820.wav', '/content/drive/MyDrive/bsc_thesis/early_media_sample/4904.wav', '/content/drive/MyDrive/bsc_thesis/early_media_sample/4796.wav', '/content/drive/MyDrive/bsc_thesis/early_media_sample/4982.wav', '/content/drive/MyDrive/bsc_thesis/early_media_sample/4954.wav', '/content/drive/MyDrive/bsc_thesis/early_media_sample/4797.wav', '/content/drive/MyDrive/bsc_thesis/early_media_sample/4975.wav', '/content/drive/MyDrive/bsc_thesis/early_media_sample/1155.wav', '/content/drive/MyDrive/bsc_thesis/early_media_sample/3710.wav', '/content/drive/MyDrive/bsc_thesis/early_media_sample/4045.wav', '/content/drive/MyDrive/bsc_thesis/early_media_sample/198.wav', '/content/drive/MyDrive/bsc_thesis/early_media_sample/117.wav', '/content/drive/MyDrive/bsc_thesis/early_media_sample/3776.wav', '/content/drive/MyDrive/bsc_thesis/early_media_sample/1592.wav', '/content/drive/MyDrive/bsc_thesis/early_media_sample/1983.wav', '/content/drive/MyDrive/bsc_thesis/early_media_sample/1984.wav', '/content/drive/MyDrive/bsc_thesis/early_media_sample/1999.wav', '/content/drive/MyDrive/bsc_thesis/early_media_sample/767.wav', '/content/drive/MyDrive/bsc_thesis/early_media_sample/809.wav', '/content/drive/MyDrive/bsc_thesis/early_media_sample/3005.wav', '/content/drive/MyDrive/bsc_thesis/early_media_sample/1057.wav', '/content/drive/MyDrive/bsc_thesis/early_media_sample/3630.wav', '/content/drive/MyDrive/bsc_thesis/early_media_sample/1905.wav', '/content/drive/MyDrive/bsc_thesis/early_media_sample/3593.wav', '/content/drive/MyDrive/bsc_thesis/early_media_sample/368.wav', '/content/drive/MyDrive/bsc_thesis/early_media_sample/916.wav', '/content/drive/MyDrive/bsc_thesis/early_media_sample/3463.wav', '/content/drive/MyDrive/bsc_thesis/early_media_sample/513.wav', '/content/drive/MyDrive/bsc_thesis/early_media_sample/3818.wav', '/content/drive/MyDrive/bsc_thesis/early_media_sample/2637.wav', '/content/drive/MyDrive/bsc_thesis/early_media_sample/3053.wav', '/content/drive/MyDrive/bsc_thesis/early_media_sample/4406.wav', '/content/drive/MyDrive/bsc_thesis/early_media_sample/3474.wav', '/content/drive/MyDrive/bsc_thesis/early_media_sample/1276.wav', '/content/drive/MyDrive/bsc_thesis/early_media_sample/102.wav', '/content/drive/MyDrive/bsc_thesis/early_media_sample/751.wav', '/content/drive/MyDrive/bsc_thesis/early_media_sample/588.wav', '/content/drive/MyDrive/bsc_thesis/early_media_sample/4410.wav', '/content/drive/MyDrive/bsc_thesis/early_media_sample/2211.wav', '/content/drive/MyDrive/bsc_thesis/early_media_sample/2280.wav', '/content/drive/MyDrive/bsc_thesis/early_media_sample/4408.wav', '/content/drive/MyDrive/bsc_thesis/early_media_sample/654.wav', '/content/drive/MyDrive/bsc_thesis/early_media_sample/1396.wav', '/content/drive/MyDrive/bsc_thesis/early_media_sample/4180.wav', '/content/drive/MyDrive/bsc_thesis/early_media_sample/2081.wav', '/content/drive/MyDrive/bsc_thesis/early_media_sample/3359.wav', '/content/drive/MyDrive/bsc_thesis/early_media_sample/435.wav', '/content/drive/MyDrive/bsc_thesis/early_media_sample/2484.wav', '/content/drive/MyDrive/bsc_thesis/early_media_sample/320.wav', '/content/drive/MyDrive/bsc_thesis/early_media_sample/1312.wav', '/content/drive/MyDrive/bsc_thesis/early_media_sample/1058.wav', '/content/drive/MyDrive/bsc_thesis/early_media_sample/2600.wav', '/content/drive/MyDrive/bsc_thesis/early_media_sample/70.wav', '/content/drive/MyDrive/bsc_thesis/early_media_sample/1531.wav', '/content/drive/MyDrive/bsc_thesis/early_media_sample/294.wav', '/content/drive/MyDrive/bsc_thesis/early_media_sample/2985.wav', '/content/drive/MyDrive/bsc_thesis/early_media_sample/3918.wav', '/content/drive/MyDrive/bsc_thesis/early_media_sample/3491.wav', '/content/drive/MyDrive/bsc_thesis/early_media_sample/1151.wav', '/content/drive/MyDrive/bsc_thesis/early_media_sample/715.wav', '/content/drive/MyDrive/bsc_thesis/early_media_sample/2058.wav', '/content/drive/MyDrive/bsc_thesis/early_media_sample/2101.wav', '/content/drive/MyDrive/bsc_thesis/early_media_sample/1022.wav', '/content/drive/MyDrive/bsc_thesis/early_media_sample/2568.wav', '/content/drive/MyDrive/bsc_thesis/early_media_sample/4159.wav', '/content/drive/MyDrive/bsc_thesis/early_media_sample/1514.wav', '/content/drive/MyDrive/bsc_thesis/early_media_sample/708.wav', '/content/drive/MyDrive/bsc_thesis/early_media_sample/3297.wav', '/content/drive/MyDrive/bsc_thesis/early_media_sample/3670.wav', '/content/drive/MyDrive/bsc_thesis/early_media_sample/358.wav', '/content/drive/MyDrive/bsc_thesis/early_media_sample/1773.wav', '/content/drive/MyDrive/bsc_thesis/early_media_sample/926.wav', '/content/drive/MyDrive/bsc_thesis/early_media_sample/250.wav', '/content/drive/MyDrive/bsc_thesis/early_media_sample/1666.wav', '/content/drive/MyDrive/bsc_thesis/early_media_sample/1520.wav', '/content/drive/MyDrive/bsc_thesis/early_media_sample/2089.wav', '/content/drive/MyDrive/bsc_thesis/early_media_sample/1658.wav', '/content/drive/MyDrive/bsc_thesis/early_media_sample/34.wav', '/content/drive/MyDrive/bsc_thesis/early_media_sample/680.wav', '/content/drive/MyDrive/bsc_thesis/early_media_sample/1702.wav', '/content/drive/MyDrive/bsc_thesis/early_media_sample/177.wav', '/content/drive/MyDrive/bsc_thesis/early_media_sample/4056.wav', '/content/drive/MyDrive/bsc_thesis/early_media_sample/2090.wav', '/content/drive/MyDrive/bsc_thesis/early_media_sample/3835.wav', '/content/drive/MyDrive/bsc_thesis/early_media_sample/1753.wav', '/content/drive/MyDrive/bsc_thesis/early_media_sample/13.wav', '/content/drive/MyDrive/bsc_thesis/early_media_sample/4131.wav', '/content/drive/MyDrive/bsc_thesis/early_media_sample/1216.wav', '/content/drive/MyDrive/bsc_thesis/early_media_sample/4442.wav', '/content/drive/MyDrive/bsc_thesis/early_media_sample/3220.wav', '/content/drive/MyDrive/bsc_thesis/early_media_sample/3142.wav', '/content/drive/MyDrive/bsc_thesis/early_media_sample/3124.wav', '/content/drive/MyDrive/bsc_thesis/early_media_sample/4290.wav', '/content/drive/MyDrive/bsc_thesis/early_media_sample/2988.wav', '/content/drive/MyDrive/bsc_thesis/early_media_sample/3197.wav', '/content/drive/MyDrive/bsc_thesis/early_media_sample/264.wav', '/content/drive/MyDrive/bsc_thesis/early_media_sample/1457.wav', '/content/drive/MyDrive/bsc_thesis/early_media_sample/1650.wav', '/content/drive/MyDrive/bsc_thesis/early_media_sample/3070.wav', '/content/drive/MyDrive/bsc_thesis/early_media_sample/1031.wav', '/content/drive/MyDrive/bsc_thesis/early_media_sample/2207.wav', '/content/drive/MyDrive/bsc_thesis/early_media_sample/1574.wav', '/content/drive/MyDrive/bsc_thesis/early_media_sample/3218.wav', '/content/drive/MyDrive/bsc_thesis/early_media_sample/2723.wav', '/content/drive/MyDrive/bsc_thesis/early_media_sample/3391.wav', '/content/drive/MyDrive/bsc_thesis/early_media_sample/419.wav', '/content/drive/MyDrive/bsc_thesis/early_media_sample/1484.wav', '/content/drive/MyDrive/bsc_thesis/early_media_sample/3566.wav', '/content/drive/MyDrive/bsc_thesis/early_media_sample/2811.wav', '/content/drive/MyDrive/bsc_thesis/early_media_sample/1643.wav', '/content/drive/MyDrive/bsc_thesis/early_media_sample/1095.wav', '/content/drive/MyDrive/bsc_thesis/early_media_sample/1376.wav', '/content/drive/MyDrive/bsc_thesis/early_media_sample/3362.wav', '/content/drive/MyDrive/bsc_thesis/early_media_sample/2612.wav', '/content/drive/MyDrive/bsc_thesis/early_media_sample/1291.wav', '/content/drive/MyDrive/bsc_thesis/early_media_sample/761.wav', '/content/drive/MyDrive/bsc_thesis/early_media_sample/3339.wav', '/content/drive/MyDrive/bsc_thesis/early_media_sample/1460.wav', '/content/drive/MyDrive/bsc_thesis/early_media_sample/2294.wav', '/content/drive/MyDrive/bsc_thesis/early_media_sample/1127.wav', '/content/drive/MyDrive/bsc_thesis/early_media_sample/2303.wav', '/content/drive/MyDrive/bsc_thesis/early_media_sample/964.wav', '/content/drive/MyDrive/bsc_thesis/early_media_sample/1998.wav', '/content/drive/MyDrive/bsc_thesis/early_media_sample/1451.wav', '/content/drive/MyDrive/bsc_thesis/early_media_sample/2324.wav', '/content/drive/MyDrive/bsc_thesis/early_media_sample/3840.wav', '/content/drive/MyDrive/bsc_thesis/early_media_sample/3171.wav', '/content/drive/MyDrive/bsc_thesis/early_media_sample/1929.wav', '/content/drive/MyDrive/bsc_thesis/early_media_sample/2631.wav', '/content/drive/MyDrive/bsc_thesis/early_media_sample/97.wav', '/content/drive/MyDrive/bsc_thesis/early_media_sample/3285.wav', '/content/drive/MyDrive/bsc_thesis/early_media_sample/118.wav', '/content/drive/MyDrive/bsc_thesis/early_media_sample/857.wav', '/content/drive/MyDrive/bsc_thesis/early_media_sample/4135.wav', '/content/drive/MyDrive/bsc_thesis/early_media_sample/1199.wav', '/content/drive/MyDrive/bsc_thesis/early_media_sample/1978.wav', '/content/drive/MyDrive/bsc_thesis/early_media_sample/1085.wav', '/content/drive/MyDrive/bsc_thesis/early_media_sample/77.wav', '/content/drive/MyDrive/bsc_thesis/early_media_sample/586.wav', '/content/drive/MyDrive/bsc_thesis/early_media_sample/249.wav', '/content/drive/MyDrive/bsc_thesis/early_media_sample/819.wav', '/content/drive/MyDrive/bsc_thesis/early_media_sample/2893.wav', '/content/drive/MyDrive/bsc_thesis/early_media_sample/2300.wav', '/content/drive/MyDrive/bsc_thesis/early_media_sample/811.wav', '/content/drive/MyDrive/bsc_thesis/early_media_sample/4187.wav', '/content/drive/MyDrive/bsc_thesis/early_media_sample/2640.wav', '/content/drive/MyDrive/bsc_thesis/early_media_sample/2045.wav', '/content/drive/MyDrive/bsc_thesis/early_media_sample/1841.wav', '/content/drive/MyDrive/bsc_thesis/early_media_sample/3465.wav', '/content/drive/MyDrive/bsc_thesis/early_media_sample/1887.wav', '/content/drive/MyDrive/bsc_thesis/early_media_sample/1951.wav', '/content/drive/MyDrive/bsc_thesis/early_media_sample/1760.wav', '/content/drive/MyDrive/bsc_thesis/early_media_sample/1241.wav', '/content/drive/MyDrive/bsc_thesis/early_media_sample/11.wav', '/content/drive/MyDrive/bsc_thesis/early_media_sample/3219.wav', '/content/drive/MyDrive/bsc_thesis/early_media_sample/60.wav', '/content/drive/MyDrive/bsc_thesis/early_media_sample/3160.wav', '/content/drive/MyDrive/bsc_thesis/early_media_sample/762.wav', '/content/drive/MyDrive/bsc_thesis/early_media_sample/3389.wav', '/content/drive/MyDrive/bsc_thesis/early_media_sample/1499.wav', '/content/drive/MyDrive/bsc_thesis/early_media_sample/663.wav', '/content/drive/MyDrive/bsc_thesis/early_media_sample/1583.wav', '/content/drive/MyDrive/bsc_thesis/early_media_sample/1837.wav', '/content/drive/MyDrive/bsc_thesis/early_media_sample/3461.wav', '/content/drive/MyDrive/bsc_thesis/early_media_sample/1171.wav', '/content/drive/MyDrive/bsc_thesis/early_media_sample/1429.wav', '/content/drive/MyDrive/bsc_thesis/early_media_sample/4053.wav', '/content/drive/MyDrive/bsc_thesis/early_media_sample/3574.wav', '/content/drive/MyDrive/bsc_thesis/early_media_sample/771.wav', '/content/drive/MyDrive/bsc_thesis/early_media_sample/2212.wav', '/content/drive/MyDrive/bsc_thesis/early_media_sample/1883.wav', '/content/drive/MyDrive/bsc_thesis/early_media_sample/168.wav', '/content/drive/MyDrive/bsc_thesis/early_media_sample/15.wav', '/content/drive/MyDrive/bsc_thesis/early_media_sample/1673.wav', '/content/drive/MyDrive/bsc_thesis/early_media_sample/3144.wav', '/content/drive/MyDrive/bsc_thesis/early_media_sample/473.wav', '/content/drive/MyDrive/bsc_thesis/early_media_sample/2711.wav', '/content/drive/MyDrive/bsc_thesis/early_media_sample/195.wav', '/content/drive/MyDrive/bsc_thesis/early_media_sample/1901.wav', '/content/drive/MyDrive/bsc_thesis/early_media_sample/3416.wav', '/content/drive/MyDrive/bsc_thesis/early_media_sample/2283.wav', '/content/drive/MyDrive/bsc_thesis/early_media_sample/889.wav', '/content/drive/MyDrive/bsc_thesis/early_media_sample/1870.wav', '/content/drive/MyDrive/bsc_thesis/early_media_sample/61.wav', '/content/drive/MyDrive/bsc_thesis/early_media_sample/88.wav', '/content/drive/MyDrive/bsc_thesis/early_media_sample/2804.wav', '/content/drive/MyDrive/bsc_thesis/early_media_sample/813.wav', '/content/drive/MyDrive/bsc_thesis/early_media_sample/1836.wav', '/content/drive/MyDrive/bsc_thesis/early_media_sample/2108.wav', '/content/drive/MyDrive/bsc_thesis/early_media_sample/3758.wav', '/content/drive/MyDrive/bsc_thesis/early_media_sample/4293.wav', '/content/drive/MyDrive/bsc_thesis/early_media_sample/2983.wav', '/content/drive/MyDrive/bsc_thesis/early_media_sample/2208.wav', '/content/drive/MyDrive/bsc_thesis/early_media_sample/62.wav', '/content/drive/MyDrive/bsc_thesis/early_media_sample/992.wav', '/content/drive/MyDrive/bsc_thesis/early_media_sample/1546.wav', '/content/drive/MyDrive/bsc_thesis/early_media_sample/3376.wav', '/content/drive/MyDrive/bsc_thesis/early_media_sample/3676.wav', '/content/drive/MyDrive/bsc_thesis/early_media_sample/720.wav', '/content/drive/MyDrive/bsc_thesis/early_media_sample/2852.wav', '/content/drive/MyDrive/bsc_thesis/early_media_sample/2020.wav', '/content/drive/MyDrive/bsc_thesis/early_media_sample/4377.wav', '/content/drive/MyDrive/bsc_thesis/early_media_sample/4057.wav', '/content/drive/MyDrive/bsc_thesis/early_media_sample/3853.wav', '/content/drive/MyDrive/bsc_thesis/early_media_sample/2563.wav', '/content/drive/MyDrive/bsc_thesis/early_media_sample/2939.wav', '/content/drive/MyDrive/bsc_thesis/early_media_sample/3387.wav', '/content/drive/MyDrive/bsc_thesis/early_media_sample/4036.wav', '/content/drive/MyDrive/bsc_thesis/early_media_sample/1051.wav', '/content/drive/MyDrive/bsc_thesis/early_media_sample/1010.wav', '/content/drive/MyDrive/bsc_thesis/early_media_sample/1346.wav', '/content/drive/MyDrive/bsc_thesis/early_media_sample/4317.wav', '/content/drive/MyDrive/bsc_thesis/early_media_sample/3571.wav', '/content/drive/MyDrive/bsc_thesis/early_media_sample/1347.wav', '/content/drive/MyDrive/bsc_thesis/early_media_sample/1275.wav', '/content/drive/MyDrive/bsc_thesis/early_media_sample/1534.wav', '/content/drive/MyDrive/bsc_thesis/early_media_sample/3191.wav', '/content/drive/MyDrive/bsc_thesis/early_media_sample/815.wav', '/content/drive/MyDrive/bsc_thesis/early_media_sample/502.wav', '/content/drive/MyDrive/bsc_thesis/early_media_sample/729.wav', '/content/drive/MyDrive/bsc_thesis/early_media_sample/46.wav', '/content/drive/MyDrive/bsc_thesis/early_media_sample/3099.wav', '/content/drive/MyDrive/bsc_thesis/early_media_sample/4354.wav', '/content/drive/MyDrive/bsc_thesis/early_media_sample/890.wav', '/content/drive/MyDrive/bsc_thesis/early_media_sample/4395.wav', '/content/drive/MyDrive/bsc_thesis/early_media_sample/3960.wav', '/content/drive/MyDrive/bsc_thesis/early_media_sample/2450.wav', '/content/drive/MyDrive/bsc_thesis/early_media_sample/4371.wav', '/content/drive/MyDrive/bsc_thesis/early_media_sample/1355.wav', '/content/drive/MyDrive/bsc_thesis/early_media_sample/2672.wav', '/content/drive/MyDrive/bsc_thesis/early_media_sample/2539.wav', '/content/drive/MyDrive/bsc_thesis/early_media_sample/3736.wav', '/content/drive/MyDrive/bsc_thesis/early_media_sample/1330.wav', '/content/drive/MyDrive/bsc_thesis/early_media_sample/1692.wav', '/content/drive/MyDrive/bsc_thesis/early_media_sample/3155.wav', '/content/drive/MyDrive/bsc_thesis/early_media_sample/4399.wav', '/content/drive/MyDrive/bsc_thesis/early_media_sample/3200.wav', '/content/drive/MyDrive/bsc_thesis/early_media_sample/2315.wav', '/content/drive/MyDrive/bsc_thesis/early_media_sample/489.wav', '/content/drive/MyDrive/bsc_thesis/early_media_sample/2683.wav', '/content/drive/MyDrive/bsc_thesis/early_media_sample/337.wav', '/content/drive/MyDrive/bsc_thesis/early_media_sample/3034.wav', '/content/drive/MyDrive/bsc_thesis/early_media_sample/4363.wav', '/content/drive/MyDrive/bsc_thesis/early_media_sample/2447.wav', '/content/drive/MyDrive/bsc_thesis/early_media_sample/2164.wav', '/content/drive/MyDrive/bsc_thesis/early_media_sample/4246.wav', '/content/drive/MyDrive/bsc_thesis/early_media_sample/328.wav', '/content/drive/MyDrive/bsc_thesis/early_media_sample/2476.wav', '/content/drive/MyDrive/bsc_thesis/early_media_sample/1577.wav', '/content/drive/MyDrive/bsc_thesis/early_media_sample/2725.wav', '/content/drive/MyDrive/bsc_thesis/early_media_sample/1803.wav', '/content/drive/MyDrive/bsc_thesis/early_media_sample/4072.wav', '/content/drive/MyDrive/bsc_thesis/early_media_sample/3812.wav', '/content/drive/MyDrive/bsc_thesis/early_media_sample/896.wav', '/content/drive/MyDrive/bsc_thesis/early_media_sample/1712.wav', '/content/drive/MyDrive/bsc_thesis/early_media_sample/20.wav', '/content/drive/MyDrive/bsc_thesis/early_media_sample/271.wav', '/content/drive/MyDrive/bsc_thesis/early_media_sample/2456.wav', '/content/drive/MyDrive/bsc_thesis/early_media_sample/3167.wav', '/content/drive/MyDrive/bsc_thesis/early_media_sample/897.wav', '/content/drive/MyDrive/bsc_thesis/early_media_sample/2214.wav', '/content/drive/MyDrive/bsc_thesis/early_media_sample/4003.wav', '/content/drive/MyDrive/bsc_thesis/early_media_sample/360.wav', '/content/drive/MyDrive/bsc_thesis/early_media_sample/2113.wav', '/content/drive/MyDrive/bsc_thesis/early_media_sample/4347.wav', '/content/drive/MyDrive/bsc_thesis/early_media_sample/3235.wav', '/content/drive/MyDrive/bsc_thesis/early_media_sample/3315.wav', '/content/drive/MyDrive/bsc_thesis/early_media_sample/2922.wav', '/content/drive/MyDrive/bsc_thesis/early_media_sample/234.wav', '/content/drive/MyDrive/bsc_thesis/early_media_sample/174.wav', '/content/drive/MyDrive/bsc_thesis/early_media_sample/1634.wav', '/content/drive/MyDrive/bsc_thesis/early_media_sample/1958.wav', '/content/drive/MyDrive/bsc_thesis/early_media_sample/1963.wav', '/content/drive/MyDrive/bsc_thesis/early_media_sample/2440.wav', '/content/drive/MyDrive/bsc_thesis/early_media_sample/396.wav', '/content/drive/MyDrive/bsc_thesis/early_media_sample/766.wav', '/content/drive/MyDrive/bsc_thesis/early_media_sample/3841.wav', '/content/drive/MyDrive/bsc_thesis/early_media_sample/2907.wav', '/content/drive/MyDrive/bsc_thesis/early_media_sample/2299.wav', '/content/drive/MyDrive/bsc_thesis/early_media_sample/3325.wav', '/content/drive/MyDrive/bsc_thesis/early_media_sample/455.wav', '/content/drive/MyDrive/bsc_thesis/early_media_sample/3024.wav', '/content/drive/MyDrive/bsc_thesis/early_media_sample/1811.wav', '/content/drive/MyDrive/bsc_thesis/early_media_sample/4211.wav', '/content/drive/MyDrive/bsc_thesis/early_media_sample/153.wav', '/content/drive/MyDrive/bsc_thesis/early_media_sample/532.wav', '/content/drive/MyDrive/bsc_thesis/early_media_sample/3467.wav', '/content/drive/MyDrive/bsc_thesis/early_media_sample/3532.wav', '/content/drive/MyDrive/bsc_thesis/early_media_sample/1456.wav', '/content/drive/MyDrive/bsc_thesis/early_media_sample/2407.wav', '/content/drive/MyDrive/bsc_thesis/early_media_sample/151.wav', '/content/drive/MyDrive/bsc_thesis/early_media_sample/1960.wav', '/content/drive/MyDrive/bsc_thesis/early_media_sample/3721.wav', '/content/drive/MyDrive/bsc_thesis/early_media_sample/1696.wav', '/content/drive/MyDrive/bsc_thesis/early_media_sample/4468.wav', '/content/drive/MyDrive/bsc_thesis/early_media_sample/2502.wav', '/content/drive/MyDrive/bsc_thesis/early_media_sample/1490.wav', '/content/drive/MyDrive/bsc_thesis/early_media_sample/3348.wav', '/content/drive/MyDrive/bsc_thesis/early_media_sample/3183.wav', '/content/drive/MyDrive/bsc_thesis/early_media_sample/4454.wav', '/content/drive/MyDrive/bsc_thesis/early_media_sample/3697.wav', '/content/drive/MyDrive/bsc_thesis/early_media_sample/3202.wav', '/content/drive/MyDrive/bsc_thesis/early_media_sample/1646.wav', '/content/drive/MyDrive/bsc_thesis/early_media_sample/3208.wav', '/content/drive/MyDrive/bsc_thesis/early_media_sample/3663.wav', '/content/drive/MyDrive/bsc_thesis/early_media_sample/4466.wav', '/content/drive/MyDrive/bsc_thesis/early_media_sample/758.wav', '/content/drive/MyDrive/bsc_thesis/early_media_sample/3187.wav', '/content/drive/MyDrive/bsc_thesis/early_media_sample/4342.wav', '/content/drive/MyDrive/bsc_thesis/early_media_sample/3963.wav', '/content/drive/MyDrive/bsc_thesis/early_media_sample/2613.wav', '/content/drive/MyDrive/bsc_thesis/early_media_sample/4023.wav', '/content/drive/MyDrive/bsc_thesis/early_media_sample/311.wav', '/content/drive/MyDrive/bsc_thesis/early_media_sample/3475.wav', '/content/drive/MyDrive/bsc_thesis/early_media_sample/3804.wav', '/content/drive/MyDrive/bsc_thesis/early_media_sample/2001.wav', '/content/drive/MyDrive/bsc_thesis/early_media_sample/1235.wav', '/content/drive/MyDrive/bsc_thesis/early_media_sample/260.wav', '/content/drive/MyDrive/bsc_thesis/early_media_sample/1914.wav', '/content/drive/MyDrive/bsc_thesis/early_media_sample/2413.wav', '/content/drive/MyDrive/bsc_thesis/early_media_sample/3330.wav', '/content/drive/MyDrive/bsc_thesis/early_media_sample/2230.wav', '/content/drive/MyDrive/bsc_thesis/early_media_sample/4338.wav', '/content/drive/MyDrive/bsc_thesis/early_media_sample/3680.wav', '/content/drive/MyDrive/bsc_thesis/early_media_sample/1180.wav', '/content/drive/MyDrive/bsc_thesis/early_media_sample/1687.wav', '/content/drive/MyDrive/bsc_thesis/early_media_sample/630.wav', '/content/drive/MyDrive/bsc_thesis/early_media_sample/1017.wav', '/content/drive/MyDrive/bsc_thesis/early_media_sample/3709.wav', '/content/drive/MyDrive/bsc_thesis/early_media_sample/2797.wav', '/content/drive/MyDrive/bsc_thesis/early_media_sample/3973.wav', '/content/drive/MyDrive/bsc_thesis/early_media_sample/4321.wav', '/content/drive/MyDrive/bsc_thesis/early_media_sample/3478.wav', '/content/drive/MyDrive/bsc_thesis/early_media_sample/4009.wav', '/content/drive/MyDrive/bsc_thesis/early_media_sample/2266.wav', '/content/drive/MyDrive/bsc_thesis/early_media_sample/1678.wav', '/content/drive/MyDrive/bsc_thesis/early_media_sample/4201.wav', '/content/drive/MyDrive/bsc_thesis/early_media_sample/365.wav', '/content/drive/MyDrive/bsc_thesis/early_media_sample/1834.wav', '/content/drive/MyDrive/bsc_thesis/early_media_sample/3128.wav', '/content/drive/MyDrive/bsc_thesis/early_media_sample/2997.wav', '/content/drive/MyDrive/bsc_thesis/early_media_sample/1846.wav', '/content/drive/MyDrive/bsc_thesis/early_media_sample/3719.wav', '/content/drive/MyDrive/bsc_thesis/early_media_sample/4369.wav', '/content/drive/MyDrive/bsc_thesis/early_media_sample/1394.wav', '/content/drive/MyDrive/bsc_thesis/early_media_sample/2817.wav', '/content/drive/MyDrive/bsc_thesis/early_media_sample/4100.wav', '/content/drive/MyDrive/bsc_thesis/early_media_sample/1772.wav', '/content/drive/MyDrive/bsc_thesis/early_media_sample/1192.wav', '/content/drive/MyDrive/bsc_thesis/early_media_sample/2615.wav', '/content/drive/MyDrive/bsc_thesis/early_media_sample/2302.wav', '/content/drive/MyDrive/bsc_thesis/early_media_sample/2768.wav', '/content/drive/MyDrive/bsc_thesis/early_media_sample/3125.wav', '/content/drive/MyDrive/bsc_thesis/early_media_sample/2008.wav', '/content/drive/MyDrive/bsc_thesis/early_media_sample/671.wav', '/content/drive/MyDrive/bsc_thesis/early_media_sample/1283.wav', '/content/drive/MyDrive/bsc_thesis/early_media_sample/1128.wav', '/content/drive/MyDrive/bsc_thesis/early_media_sample/3577.wav', '/content/drive/MyDrive/bsc_thesis/early_media_sample/870.wav', '/content/drive/MyDrive/bsc_thesis/early_media_sample/3365.wav', '/content/drive/MyDrive/bsc_thesis/early_media_sample/166.wav', '/content/drive/MyDrive/bsc_thesis/early_media_sample/1926.wav', '/content/drive/MyDrive/bsc_thesis/early_media_sample/1807.wav', '/content/drive/MyDrive/bsc_thesis/early_media_sample/3093.wav', '/content/drive/MyDrive/bsc_thesis/early_media_sample/3822.wav', '/content/drive/MyDrive/bsc_thesis/early_media_sample/1219.wav', '/content/drive/MyDrive/bsc_thesis/early_media_sample/2236.wav', '/content/drive/MyDrive/bsc_thesis/early_media_sample/3048.wav', '/content/drive/MyDrive/bsc_thesis/early_media_sample/1004.wav', '/content/drive/MyDrive/bsc_thesis/early_media_sample/4370.wav', '/content/drive/MyDrive/bsc_thesis/early_media_sample/4324.wav', '/content/drive/MyDrive/bsc_thesis/early_media_sample/605.wav', '/content/drive/MyDrive/bsc_thesis/early_media_sample/1720.wav', '/content/drive/MyDrive/bsc_thesis/early_media_sample/3340.wav', '/content/drive/MyDrive/bsc_thesis/early_media_sample/726.wav', '/content/drive/MyDrive/bsc_thesis/early_media_sample/3743.wav', '/content/drive/MyDrive/bsc_thesis/early_media_sample/3334.wav', '/content/drive/MyDrive/bsc_thesis/early_media_sample/2724.wav', '/content/drive/MyDrive/bsc_thesis/early_media_sample/1975.wav', '/content/drive/MyDrive/bsc_thesis/early_media_sample/823.wav', '/content/drive/MyDrive/bsc_thesis/early_media_sample/3888.wav', '/content/drive/MyDrive/bsc_thesis/early_media_sample/1465.wav', '/content/drive/MyDrive/bsc_thesis/early_media_sample/2601.wav', '/content/drive/MyDrive/bsc_thesis/early_media_sample/3355.wav', '/content/drive/MyDrive/bsc_thesis/early_media_sample/3404.wav', '/content/drive/MyDrive/bsc_thesis/early_media_sample/1072.wav', '/content/drive/MyDrive/bsc_thesis/early_media_sample/3059.wav', '/content/drive/MyDrive/bsc_thesis/early_media_sample/1196.wav', '/content/drive/MyDrive/bsc_thesis/early_media_sample/72.wav', '/content/drive/MyDrive/bsc_thesis/early_media_sample/3509.wav', '/content/drive/MyDrive/bsc_thesis/early_media_sample/3862.wav', '/content/drive/MyDrive/bsc_thesis/early_media_sample/3394.wav', '/content/drive/MyDrive/bsc_thesis/early_media_sample/1495.wav', '/content/drive/MyDrive/bsc_thesis/early_media_sample/2424.wav', '/content/drive/MyDrive/bsc_thesis/early_media_sample/863.wav', '/content/drive/MyDrive/bsc_thesis/early_media_sample/2855.wav', '/content/drive/MyDrive/bsc_thesis/early_media_sample/2100.wav', '/content/drive/MyDrive/bsc_thesis/early_media_sample/38.wav', '/content/drive/MyDrive/bsc_thesis/early_media_sample/1706.wav', '/content/drive/MyDrive/bsc_thesis/early_media_sample/987.wav', '/content/drive/MyDrive/bsc_thesis/early_media_sample/2635.wav', '/content/drive/MyDrive/bsc_thesis/early_media_sample/1350.wav', '/content/drive/MyDrive/bsc_thesis/early_media_sample/2386.wav', '/content/drive/MyDrive/bsc_thesis/early_media_sample/3313.wav', '/content/drive/MyDrive/bsc_thesis/early_media_sample/1313.wav', '/content/drive/MyDrive/bsc_thesis/early_media_sample/3215.wav', '/content/drive/MyDrive/bsc_thesis/early_media_sample/2789.wav', '/content/drive/MyDrive/bsc_thesis/early_media_sample/3717.wav', '/content/drive/MyDrive/bsc_thesis/early_media_sample/431.wav', '/content/drive/MyDrive/bsc_thesis/early_media_sample/839.wav', '/content/drive/MyDrive/bsc_thesis/early_media_sample/4284.wav', '/content/drive/MyDrive/bsc_thesis/early_media_sample/2022.wav', '/content/drive/MyDrive/bsc_thesis/early_media_sample/1573.wav', '/content/drive/MyDrive/bsc_thesis/early_media_sample/4105.wav', '/content/drive/MyDrive/bsc_thesis/early_media_sample/2479.wav', '/content/drive/MyDrive/bsc_thesis/early_media_sample/3430.wav', '/content/drive/MyDrive/bsc_thesis/early_media_sample/162.wav', '/content/drive/MyDrive/bsc_thesis/early_media_sample/990.wav', '/content/drive/MyDrive/bsc_thesis/early_media_sample/3260.wav', '/content/drive/MyDrive/bsc_thesis/early_media_sample/352.wav', '/content/drive/MyDrive/bsc_thesis/early_media_sample/3692.wav', '/content/drive/MyDrive/bsc_thesis/early_media_sample/3258.wav', '/content/drive/MyDrive/bsc_thesis/early_media_sample/203.wav', '/content/drive/MyDrive/bsc_thesis/early_media_sample/4381.wav', '/content/drive/MyDrive/bsc_thesis/early_media_sample/1676.wav', '/content/drive/MyDrive/bsc_thesis/early_media_sample/1455.wav', '/content/drive/MyDrive/bsc_thesis/early_media_sample/533.wav', '/content/drive/MyDrive/bsc_thesis/early_media_sample/2313.wav', '/content/drive/MyDrive/bsc_thesis/early_media_sample/3043.wav', '/content/drive/MyDrive/bsc_thesis/early_media_sample/620.wav', '/content/drive/MyDrive/bsc_thesis/early_media_sample/3129.wav', '/content/drive/MyDrive/bsc_thesis/early_media_sample/1141.wav', '/content/drive/MyDrive/bsc_thesis/early_media_sample/1106.wav', '/content/drive/MyDrive/bsc_thesis/early_media_sample/2244.wav', '/content/drive/MyDrive/bsc_thesis/early_media_sample/154.wav', '/content/drive/MyDrive/bsc_thesis/early_media_sample/2832.wav', '/content/drive/MyDrive/bsc_thesis/early_media_sample/3979.wav', '/content/drive/MyDrive/bsc_thesis/early_media_sample/3106.wav', '/content/drive/MyDrive/bsc_thesis/early_media_sample/2688.wav', '/content/drive/MyDrive/bsc_thesis/early_media_sample/817.wav', '/content/drive/MyDrive/bsc_thesis/early_media_sample/1868.wav', '/content/drive/MyDrive/bsc_thesis/early_media_sample/3390.wav', '/content/drive/MyDrive/bsc_thesis/early_media_sample/1953.wav', '/content/drive/MyDrive/bsc_thesis/early_media_sample/2846.wav', '/content/drive/MyDrive/bsc_thesis/early_media_sample/2745.wav', '/content/drive/MyDrive/bsc_thesis/early_media_sample/1443.wav', '/content/drive/MyDrive/bsc_thesis/early_media_sample/2977.wav', '/content/drive/MyDrive/bsc_thesis/early_media_sample/3961.wav', '/content/drive/MyDrive/bsc_thesis/early_media_sample/2316.wav', '/content/drive/MyDrive/bsc_thesis/early_media_sample/1623.wav', '/content/drive/MyDrive/bsc_thesis/early_media_sample/330.wav', '/content/drive/MyDrive/bsc_thesis/early_media_sample/684.wav', '/content/drive/MyDrive/bsc_thesis/early_media_sample/1425.wav', '/content/drive/MyDrive/bsc_thesis/early_media_sample/2810.wav', '/content/drive/MyDrive/bsc_thesis/early_media_sample/4316.wav', '/content/drive/MyDrive/bsc_thesis/early_media_sample/3941.wav', '/content/drive/MyDrive/bsc_thesis/early_media_sample/1768.wav', '/content/drive/MyDrive/bsc_thesis/early_media_sample/1336.wav', '/content/drive/MyDrive/bsc_thesis/early_media_sample/434.wav', '/content/drive/MyDrive/bsc_thesis/early_media_sample/4358.wav', '/content/drive/MyDrive/bsc_thesis/early_media_sample/1947.wav', '/content/drive/MyDrive/bsc_thesis/early_media_sample/2693.wav', '/content/drive/MyDrive/bsc_thesis/early_media_sample/3553.wav', '/content/drive/MyDrive/bsc_thesis/early_media_sample/1096.wav', '/content/drive/MyDrive/bsc_thesis/early_media_sample/1380.wav', '/content/drive/MyDrive/bsc_thesis/early_media_sample/92.wav', '/content/drive/MyDrive/bsc_thesis/early_media_sample/1209.wav', '/content/drive/MyDrive/bsc_thesis/early_media_sample/3639.wav', '/content/drive/MyDrive/bsc_thesis/early_media_sample/1389.wav', '/content/drive/MyDrive/bsc_thesis/early_media_sample/2292.wav', '/content/drive/MyDrive/bsc_thesis/early_media_sample/3529.wav', '/content/drive/MyDrive/bsc_thesis/early_media_sample/3970.wav', '/content/drive/MyDrive/bsc_thesis/early_media_sample/3473.wav', '/content/drive/MyDrive/bsc_thesis/early_media_sample/1433.wav', '/content/drive/MyDrive/bsc_thesis/early_media_sample/2556.wav', '/content/drive/MyDrive/bsc_thesis/early_media_sample/2262.wav', '/content/drive/MyDrive/bsc_thesis/early_media_sample/351.wav', '/content/drive/MyDrive/bsc_thesis/early_media_sample/3082.wav', '/content/drive/MyDrive/bsc_thesis/early_media_sample/3831.wav', '/content/drive/MyDrive/bsc_thesis/early_media_sample/559.wav', '/content/drive/MyDrive/bsc_thesis/early_media_sample/1711.wav', '/content/drive/MyDrive/bsc_thesis/early_media_sample/2381.wav', '/content/drive/MyDrive/bsc_thesis/early_media_sample/3927.wav', '/content/drive/MyDrive/bsc_thesis/early_media_sample/3564.wav', '/content/drive/MyDrive/bsc_thesis/early_media_sample/1130.wav', '/content/drive/MyDrive/bsc_thesis/early_media_sample/2245.wav', '/content/drive/MyDrive/bsc_thesis/early_media_sample/567.wav', '/content/drive/MyDrive/bsc_thesis/early_media_sample/2067.wav', '/content/drive/MyDrive/bsc_thesis/early_media_sample/736.wav', '/content/drive/MyDrive/bsc_thesis/early_media_sample/3826.wav', '/content/drive/MyDrive/bsc_thesis/early_media_sample/2471.wav', '/content/drive/MyDrive/bsc_thesis/early_media_sample/2712.wav', '/content/drive/MyDrive/bsc_thesis/early_media_sample/1809.wav', '/content/drive/MyDrive/bsc_thesis/early_media_sample/398.wav', '/content/drive/MyDrive/bsc_thesis/early_media_sample/2604.wav', '/content/drive/MyDrive/bsc_thesis/early_media_sample/3875.wav', '/content/drive/MyDrive/bsc_thesis/early_media_sample/1885.wav', '/content/drive/MyDrive/bsc_thesis/early_media_sample/3660.wav', '/content/drive/MyDrive/bsc_thesis/early_media_sample/869.wav', '/content/drive/MyDrive/bsc_thesis/early_media_sample/2517.wav', '/content/drive/MyDrive/bsc_thesis/early_media_sample/1721.wav', '/content/drive/MyDrive/bsc_thesis/early_media_sample/530.wav', '/content/drive/MyDrive/bsc_thesis/early_media_sample/2495.wav', '/content/drive/MyDrive/bsc_thesis/early_media_sample/3253.wav', '/content/drive/MyDrive/bsc_thesis/early_media_sample/3003.wav', '/content/drive/MyDrive/bsc_thesis/early_media_sample/661.wav', '/content/drive/MyDrive/bsc_thesis/early_media_sample/4033.wav', '/content/drive/MyDrive/bsc_thesis/early_media_sample/4174.wav', '/content/drive/MyDrive/bsc_thesis/early_media_sample/2516.wav', '/content/drive/MyDrive/bsc_thesis/early_media_sample/450.wav', '/content/drive/MyDrive/bsc_thesis/early_media_sample/764.wav', '/content/drive/MyDrive/bsc_thesis/early_media_sample/2298.wav', '/content/drive/MyDrive/bsc_thesis/early_media_sample/2200.wav', '/content/drive/MyDrive/bsc_thesis/early_media_sample/1539.wav', '/content/drive/MyDrive/bsc_thesis/early_media_sample/4078.wav', '/content/drive/MyDrive/bsc_thesis/early_media_sample/1308.wav', '/content/drive/MyDrive/bsc_thesis/early_media_sample/3085.wav', '/content/drive/MyDrive/bsc_thesis/early_media_sample/2897.wav', '/content/drive/MyDrive/bsc_thesis/early_media_sample/4205.wav', '/content/drive/MyDrive/bsc_thesis/early_media_sample/2216.wav', '/content/drive/MyDrive/bsc_thesis/early_media_sample/3002.wav', '/content/drive/MyDrive/bsc_thesis/early_media_sample/1631.wav', '/content/drive/MyDrive/bsc_thesis/early_media_sample/1195.wav', '/content/drive/MyDrive/bsc_thesis/early_media_sample/1156.wav', '/content/drive/MyDrive/bsc_thesis/early_media_sample/1609.wav', '/content/drive/MyDrive/bsc_thesis/early_media_sample/1731.wav', '/content/drive/MyDrive/bsc_thesis/early_media_sample/378.wav', '/content/drive/MyDrive/bsc_thesis/early_media_sample/2505.wav', '/content/drive/MyDrive/bsc_thesis/early_media_sample/4443.wav', '/content/drive/MyDrive/bsc_thesis/early_media_sample/4308.wav', '/content/drive/MyDrive/bsc_thesis/early_media_sample/2405.wav', '/content/drive/MyDrive/bsc_thesis/early_media_sample/2198.wav', '/content/drive/MyDrive/bsc_thesis/early_media_sample/2791.wav', '/content/drive/MyDrive/bsc_thesis/early_media_sample/763.wav', '/content/drive/MyDrive/bsc_thesis/early_media_sample/1900.wav', '/content/drive/MyDrive/bsc_thesis/early_media_sample/2191.wav', '/content/drive/MyDrive/bsc_thesis/early_media_sample/291.wav', '/content/drive/MyDrive/bsc_thesis/early_media_sample/3378.wav', '/content/drive/MyDrive/bsc_thesis/early_media_sample/689.wav', '/content/drive/MyDrive/bsc_thesis/early_media_sample/3828.wav', '/content/drive/MyDrive/bsc_thesis/early_media_sample/735.wav', '/content/drive/MyDrive/bsc_thesis/early_media_sample/1804.wav', '/content/drive/MyDrive/bsc_thesis/early_media_sample/2473.wav', '/content/drive/MyDrive/bsc_thesis/early_media_sample/1537.wav', '/content/drive/MyDrive/bsc_thesis/early_media_sample/3878.wav', '/content/drive/MyDrive/bsc_thesis/early_media_sample/2514.wav', '/content/drive/MyDrive/bsc_thesis/early_media_sample/3449.wav', '/content/drive/MyDrive/bsc_thesis/early_media_sample/3646.wav', '/content/drive/MyDrive/bsc_thesis/early_media_sample/3518.wav', '/content/drive/MyDrive/bsc_thesis/early_media_sample/895.wav', '/content/drive/MyDrive/bsc_thesis/early_media_sample/3179.wav', '/content/drive/MyDrive/bsc_thesis/early_media_sample/3446.wav', '/content/drive/MyDrive/bsc_thesis/early_media_sample/2109.wav', '/content/drive/MyDrive/bsc_thesis/early_media_sample/1754.wav', '/content/drive/MyDrive/bsc_thesis/early_media_sample/1566.wav', '/content/drive/MyDrive/bsc_thesis/early_media_sample/4193.wav', '/content/drive/MyDrive/bsc_thesis/early_media_sample/1762.wav', '/content/drive/MyDrive/bsc_thesis/early_media_sample/3033.wav', '/content/drive/MyDrive/bsc_thesis/early_media_sample/4083.wav', '/content/drive/MyDrive/bsc_thesis/early_media_sample/1086.wav', '/content/drive/MyDrive/bsc_thesis/early_media_sample/619.wav', '/content/drive/MyDrive/bsc_thesis/early_media_sample/208.wav', '/content/drive/MyDrive/bsc_thesis/early_media_sample/481.wav', '/content/drive/MyDrive/bsc_thesis/early_media_sample/2272.wav', '/content/drive/MyDrive/bsc_thesis/early_media_sample/2127.wav', '/content/drive/MyDrive/bsc_thesis/early_media_sample/2177.wav', '/content/drive/MyDrive/bsc_thesis/early_media_sample/820.wav', '/content/drive/MyDrive/bsc_thesis/early_media_sample/3580.wav', '/content/drive/MyDrive/bsc_thesis/early_media_sample/2904.wav', '/content/drive/MyDrive/bsc_thesis/early_media_sample/1621.wav', '/content/drive/MyDrive/bsc_thesis/early_media_sample/3462.wav', '/content/drive/MyDrive/bsc_thesis/early_media_sample/1587.wav', '/content/drive/MyDrive/bsc_thesis/early_media_sample/1543.wav', '/content/drive/MyDrive/bsc_thesis/early_media_sample/4020.wav', '/content/drive/MyDrive/bsc_thesis/early_media_sample/647.wav', '/content/drive/MyDrive/bsc_thesis/early_media_sample/872.wav', '/content/drive/MyDrive/bsc_thesis/early_media_sample/3373.wav', '/content/drive/MyDrive/bsc_thesis/early_media_sample/3512.wav', '/content/drive/MyDrive/bsc_thesis/early_media_sample/2171.wav', '/content/drive/MyDrive/bsc_thesis/early_media_sample/807.wav', '/content/drive/MyDrive/bsc_thesis/early_media_sample/3438.wav', '/content/drive/MyDrive/bsc_thesis/early_media_sample/3261.wav', '/content/drive/MyDrive/bsc_thesis/early_media_sample/1337.wav', '/content/drive/MyDrive/bsc_thesis/early_media_sample/847.wav', '/content/drive/MyDrive/bsc_thesis/early_media_sample/622.wav', '/content/drive/MyDrive/bsc_thesis/early_media_sample/536.wav', '/content/drive/MyDrive/bsc_thesis/early_media_sample/2092.wav', '/content/drive/MyDrive/bsc_thesis/early_media_sample/3095.wav', '/content/drive/MyDrive/bsc_thesis/early_media_sample/3857.wav', '/content/drive/MyDrive/bsc_thesis/early_media_sample/2764.wav', '/content/drive/MyDrive/bsc_thesis/early_media_sample/3811.wav', '/content/drive/MyDrive/bsc_thesis/early_media_sample/169.wav', '/content/drive/MyDrive/bsc_thesis/early_media_sample/4352.wav', '/content/drive/MyDrive/bsc_thesis/early_media_sample/4265.wav', '/content/drive/MyDrive/bsc_thesis/early_media_sample/2226.wav', '/content/drive/MyDrive/bsc_thesis/early_media_sample/2927.wav', '/content/drive/MyDrive/bsc_thesis/early_media_sample/2911.wav', '/content/drive/MyDrive/bsc_thesis/early_media_sample/4156.wav', '/content/drive/MyDrive/bsc_thesis/early_media_sample/1862.wav', '/content/drive/MyDrive/bsc_thesis/early_media_sample/3050.wav', '/content/drive/MyDrive/bsc_thesis/early_media_sample/2276.wav', '/content/drive/MyDrive/bsc_thesis/early_media_sample/2618.wav', '/content/drive/MyDrive/bsc_thesis/early_media_sample/10.wav', '/content/drive/MyDrive/bsc_thesis/early_media_sample/4087.wav', '/content/drive/MyDrive/bsc_thesis/early_media_sample/3922.wav', '/content/drive/MyDrive/bsc_thesis/early_media_sample/4438.wav', '/content/drive/MyDrive/bsc_thesis/early_media_sample/2970.wav', '/content/drive/MyDrive/bsc_thesis/early_media_sample/3859.wav', '/content/drive/MyDrive/bsc_thesis/early_media_sample/1703.wav', '/content/drive/MyDrive/bsc_thesis/early_media_sample/2877.wav', '/content/drive/MyDrive/bsc_thesis/early_media_sample/1563.wav', '/content/drive/MyDrive/bsc_thesis/early_media_sample/1177.wav', '/content/drive/MyDrive/bsc_thesis/early_media_sample/3536.wav', '/content/drive/MyDrive/bsc_thesis/early_media_sample/754.wav', '/content/drive/MyDrive/bsc_thesis/early_media_sample/3091.wav', '/content/drive/MyDrive/bsc_thesis/early_media_sample/1810.wav', '/content/drive/MyDrive/bsc_thesis/early_media_sample/3723.wav', '/content/drive/MyDrive/bsc_thesis/early_media_sample/1829.wav', '/content/drive/MyDrive/bsc_thesis/early_media_sample/4068.wav', '/content/drive/MyDrive/bsc_thesis/early_media_sample/3788.wav', '/content/drive/MyDrive/bsc_thesis/early_media_sample/3618.wav', '/content/drive/MyDrive/bsc_thesis/early_media_sample/631.wav', '/content/drive/MyDrive/bsc_thesis/early_media_sample/2792.wav', '/content/drive/MyDrive/bsc_thesis/early_media_sample/919.wav', '/content/drive/MyDrive/bsc_thesis/early_media_sample/3654.wav', '/content/drive/MyDrive/bsc_thesis/early_media_sample/1792.wav', '/content/drive/MyDrive/bsc_thesis/early_media_sample/293.wav', '/content/drive/MyDrive/bsc_thesis/early_media_sample/658.wav', '/content/drive/MyDrive/bsc_thesis/early_media_sample/2908.wav', '/content/drive/MyDrive/bsc_thesis/early_media_sample/2404.wav', '/content/drive/MyDrive/bsc_thesis/early_media_sample/1416.wav', '/content/drive/MyDrive/bsc_thesis/early_media_sample/1970.wav', '/content/drive/MyDrive/bsc_thesis/early_media_sample/2153.wav', '/content/drive/MyDrive/bsc_thesis/early_media_sample/3299.wav', '/content/drive/MyDrive/bsc_thesis/early_media_sample/1279.wav', '/content/drive/MyDrive/bsc_thesis/early_media_sample/750.wav', '/content/drive/MyDrive/bsc_thesis/early_media_sample/4471.wav', '/content/drive/MyDrive/bsc_thesis/early_media_sample/1408.wav', '/content/drive/MyDrive/bsc_thesis/early_media_sample/2418.wav', '/content/drive/MyDrive/bsc_thesis/early_media_sample/3833.wav', '/content/drive/MyDrive/bsc_thesis/early_media_sample/2981.wav', '/content/drive/MyDrive/bsc_thesis/early_media_sample/1935.wav', '/content/drive/MyDrive/bsc_thesis/early_media_sample/1040.wav', '/content/drive/MyDrive/bsc_thesis/early_media_sample/717.wav', '/content/drive/MyDrive/bsc_thesis/early_media_sample/4422.wav', '/content/drive/MyDrive/bsc_thesis/early_media_sample/1852.wav', '/content/drive/MyDrive/bsc_thesis/early_media_sample/730.wav', '/content/drive/MyDrive/bsc_thesis/early_media_sample/1371.wav', '/content/drive/MyDrive/bsc_thesis/early_media_sample/1332.wav', '/content/drive/MyDrive/bsc_thesis/early_media_sample/4435.wav', '/content/drive/MyDrive/bsc_thesis/early_media_sample/1030.wav', '/content/drive/MyDrive/bsc_thesis/early_media_sample/2777.wav', '/content/drive/MyDrive/bsc_thesis/early_media_sample/2172.wav', '/content/drive/MyDrive/bsc_thesis/early_media_sample/4050.wav', '/content/drive/MyDrive/bsc_thesis/early_media_sample/514.wav', '/content/drive/MyDrive/bsc_thesis/early_media_sample/1971.wav', '/content/drive/MyDrive/bsc_thesis/early_media_sample/1481.wav', '/content/drive/MyDrive/bsc_thesis/early_media_sample/2134.wav', '/content/drive/MyDrive/bsc_thesis/early_media_sample/4382.wav', '/content/drive/MyDrive/bsc_thesis/early_media_sample/1890.wav', '/content/drive/MyDrive/bsc_thesis/early_media_sample/598.wav', '/content/drive/MyDrive/bsc_thesis/early_media_sample/3714.wav', '/content/drive/MyDrive/bsc_thesis/early_media_sample/2566.wav', '/content/drive/MyDrive/bsc_thesis/early_media_sample/2719.wav', '/content/drive/MyDrive/bsc_thesis/early_media_sample/4375.wav', '/content/drive/MyDrive/bsc_thesis/early_media_sample/3995.wav', '/content/drive/MyDrive/bsc_thesis/early_media_sample/3456.wav', '/content/drive/MyDrive/bsc_thesis/early_media_sample/2003.wav', '/content/drive/MyDrive/bsc_thesis/early_media_sample/538.wav', '/content/drive/MyDrive/bsc_thesis/early_media_sample/1284.wav', '/content/drive/MyDrive/bsc_thesis/early_media_sample/4401.wav', '/content/drive/MyDrive/bsc_thesis/early_media_sample/2503.wav', '/content/drive/MyDrive/bsc_thesis/early_media_sample/3360.wav', '/content/drive/MyDrive/bsc_thesis/early_media_sample/805.wav', '/content/drive/MyDrive/bsc_thesis/early_media_sample/3027.wav', '/content/drive/MyDrive/bsc_thesis/early_media_sample/4423.wav', '/content/drive/MyDrive/bsc_thesis/early_media_sample/2087.wav', '/content/drive/MyDrive/bsc_thesis/early_media_sample/777.wav', '/content/drive/MyDrive/bsc_thesis/early_media_sample/3832.wav', '/content/drive/MyDrive/bsc_thesis/early_media_sample/4165.wav', '/content/drive/MyDrive/bsc_thesis/early_media_sample/697.wav', '/content/drive/MyDrive/bsc_thesis/early_media_sample/1140.wav', '/content/drive/MyDrive/bsc_thesis/early_media_sample/1690.wav', '/content/drive/MyDrive/bsc_thesis/early_media_sample/2015.wav', '/content/drive/MyDrive/bsc_thesis/early_media_sample/1448.wav', '/content/drive/MyDrive/bsc_thesis/early_media_sample/1467.wav', '/content/drive/MyDrive/bsc_thesis/early_media_sample/4010.wav', '/content/drive/MyDrive/bsc_thesis/early_media_sample/759.wav', '/content/drive/MyDrive/bsc_thesis/early_media_sample/1503.wav', '/content/drive/MyDrive/bsc_thesis/early_media_sample/1509.wav', '/content/drive/MyDrive/bsc_thesis/early_media_sample/626.wav', '/content/drive/MyDrive/bsc_thesis/early_media_sample/3810.wav', '/content/drive/MyDrive/bsc_thesis/early_media_sample/4177.wav', '/content/drive/MyDrive/bsc_thesis/early_media_sample/4103.wav', '/content/drive/MyDrive/bsc_thesis/early_media_sample/3901.wav', '/content/drive/MyDrive/bsc_thesis/early_media_sample/3971.wav', '/content/drive/MyDrive/bsc_thesis/early_media_sample/189.wav', '/content/drive/MyDrive/bsc_thesis/early_media_sample/2256.wav', '/content/drive/MyDrive/bsc_thesis/early_media_sample/4459.wav', '/content/drive/MyDrive/bsc_thesis/early_media_sample/834.wav', '/content/drive/MyDrive/bsc_thesis/early_media_sample/4170.wav', '/content/drive/MyDrive/bsc_thesis/early_media_sample/2935.wav', '/content/drive/MyDrive/bsc_thesis/early_media_sample/3959.wav', '/content/drive/MyDrive/bsc_thesis/early_media_sample/1035.wav', '/content/drive/MyDrive/bsc_thesis/early_media_sample/160.wav', '/content/drive/MyDrive/bsc_thesis/early_media_sample/2632.wav', '/content/drive/MyDrive/bsc_thesis/early_media_sample/2461.wav', '/content/drive/MyDrive/bsc_thesis/early_media_sample/3369.wav', '/content/drive/MyDrive/bsc_thesis/early_media_sample/2858.wav', '/content/drive/MyDrive/bsc_thesis/early_media_sample/4111.wav', '/content/drive/MyDrive/bsc_thesis/early_media_sample/2360.wav', '/content/drive/MyDrive/bsc_thesis/early_media_sample/222.wav', '/content/drive/MyDrive/bsc_thesis/early_media_sample/1281.wav', '/content/drive/MyDrive/bsc_thesis/early_media_sample/804.wav', '/content/drive/MyDrive/bsc_thesis/early_media_sample/4404.wav', '/content/drive/MyDrive/bsc_thesis/early_media_sample/2698.wav', '/content/drive/MyDrive/bsc_thesis/early_media_sample/989.wav', '/content/drive/MyDrive/bsc_thesis/early_media_sample/3588.wav', '/content/drive/MyDrive/bsc_thesis/early_media_sample/2323.wav', '/content/drive/MyDrive/bsc_thesis/early_media_sample/4144.wav', '/content/drive/MyDrive/bsc_thesis/early_media_sample/58.wav', '/content/drive/MyDrive/bsc_thesis/early_media_sample/4340.wav', '/content/drive/MyDrive/bsc_thesis/early_media_sample/945.wav', '/content/drive/MyDrive/bsc_thesis/early_media_sample/1976.wav', '/content/drive/MyDrive/bsc_thesis/early_media_sample/2594.wav', '/content/drive/MyDrive/bsc_thesis/early_media_sample/3998.wav', '/content/drive/MyDrive/bsc_thesis/early_media_sample/2173.wav', '/content/drive/MyDrive/bsc_thesis/early_media_sample/2274.wav', '/content/drive/MyDrive/bsc_thesis/early_media_sample/367.wav', '/content/drive/MyDrive/bsc_thesis/early_media_sample/213.wav', '/content/drive/MyDrive/bsc_thesis/early_media_sample/2310.wav', '/content/drive/MyDrive/bsc_thesis/early_media_sample/1955.wav', '/content/drive/MyDrive/bsc_thesis/early_media_sample/727.wav', '/content/drive/MyDrive/bsc_thesis/early_media_sample/1300.wav', '/content/drive/MyDrive/bsc_thesis/early_media_sample/2355.wav', '/content/drive/MyDrive/bsc_thesis/early_media_sample/140.wav', '/content/drive/MyDrive/bsc_thesis/early_media_sample/4037.wav', '/content/drive/MyDrive/bsc_thesis/early_media_sample/3726.wav', '/content/drive/MyDrive/bsc_thesis/early_media_sample/2899.wav', '/content/drive/MyDrive/bsc_thesis/early_media_sample/3042.wav', '/content/drive/MyDrive/bsc_thesis/early_media_sample/921.wav', '/content/drive/MyDrive/bsc_thesis/early_media_sample/1746.wav', '/content/drive/MyDrive/bsc_thesis/early_media_sample/2644.wav', '/content/drive/MyDrive/bsc_thesis/early_media_sample/1973.wav', '/content/drive/MyDrive/bsc_thesis/early_media_sample/248.wav', '/content/drive/MyDrive/bsc_thesis/early_media_sample/3319.wav', '/content/drive/MyDrive/bsc_thesis/early_media_sample/2838.wav', '/content/drive/MyDrive/bsc_thesis/early_media_sample/2551.wav', '/content/drive/MyDrive/bsc_thesis/early_media_sample/1548.wav', '/content/drive/MyDrive/bsc_thesis/early_media_sample/972.wav', '/content/drive/MyDrive/bsc_thesis/early_media_sample/1936.wav', '/content/drive/MyDrive/bsc_thesis/early_media_sample/2445.wav', '/content/drive/MyDrive/bsc_thesis/early_media_sample/917.wav', '/content/drive/MyDrive/bsc_thesis/early_media_sample/832.wav', '/content/drive/MyDrive/bsc_thesis/early_media_sample/2675.wav', '/content/drive/MyDrive/bsc_thesis/early_media_sample/1447.wav', '/content/drive/MyDrive/bsc_thesis/early_media_sample/3057.wav', '/content/drive/MyDrive/bsc_thesis/early_media_sample/3545.wav', '/content/drive/MyDrive/bsc_thesis/early_media_sample/1233.wav', '/content/drive/MyDrive/bsc_thesis/early_media_sample/2896.wav', '/content/drive/MyDrive/bsc_thesis/early_media_sample/3695.wav', '/content/drive/MyDrive/bsc_thesis/early_media_sample/999.wav', '/content/drive/MyDrive/bsc_thesis/early_media_sample/2002.wav', '/content/drive/MyDrive/bsc_thesis/early_media_sample/1327.wav', '/content/drive/MyDrive/bsc_thesis/early_media_sample/289.wav', '/content/drive/MyDrive/bsc_thesis/early_media_sample/1334.wav', '/content/drive/MyDrive/bsc_thesis/early_media_sample/4460.wav', '/content/drive/MyDrive/bsc_thesis/early_media_sample/1771.wav', '/content/drive/MyDrive/bsc_thesis/early_media_sample/1541.wav', '/content/drive/MyDrive/bsc_thesis/early_media_sample/2991.wav', '/content/drive/MyDrive/bsc_thesis/early_media_sample/862.wav', '/content/drive/MyDrive/bsc_thesis/early_media_sample/1340.wav', '/content/drive/MyDrive/bsc_thesis/early_media_sample/344.wav', '/content/drive/MyDrive/bsc_thesis/early_media_sample/4164.wav', '/content/drive/MyDrive/bsc_thesis/early_media_sample/65.wav', '/content/drive/MyDrive/bsc_thesis/early_media_sample/2374.wav', '/content/drive/MyDrive/bsc_thesis/early_media_sample/1417.wav', '/content/drive/MyDrive/bsc_thesis/early_media_sample/3193.wav', '/content/drive/MyDrive/bsc_thesis/early_media_sample/4117.wav', '/content/drive/MyDrive/bsc_thesis/early_media_sample/2975.wav', '/content/drive/MyDrive/bsc_thesis/early_media_sample/931.wav', '/content/drive/MyDrive/bsc_thesis/early_media_sample/3572.wav', '/content/drive/MyDrive/bsc_thesis/early_media_sample/1032.wav', '/content/drive/MyDrive/bsc_thesis/early_media_sample/2822.wav', '/content/drive/MyDrive/bsc_thesis/early_media_sample/1117.wav', '/content/drive/MyDrive/bsc_thesis/early_media_sample/1008.wav', '/content/drive/MyDrive/bsc_thesis/early_media_sample/385.wav', '/content/drive/MyDrive/bsc_thesis/early_media_sample/285.wav', '/content/drive/MyDrive/bsc_thesis/early_media_sample/4153.wav', '/content/drive/MyDrive/bsc_thesis/early_media_sample/4047.wav', '/content/drive/MyDrive/bsc_thesis/early_media_sample/4173.wav', '/content/drive/MyDrive/bsc_thesis/early_media_sample/276.wav', '/content/drive/MyDrive/bsc_thesis/early_media_sample/4051.wav', '/content/drive/MyDrive/bsc_thesis/early_media_sample/3068.wav', '/content/drive/MyDrive/bsc_thesis/early_media_sample/1438.wav', '/content/drive/MyDrive/bsc_thesis/early_media_sample/476.wav', '/content/drive/MyDrive/bsc_thesis/early_media_sample/4332.wav', '/content/drive/MyDrive/bsc_thesis/early_media_sample/232.wav', '/content/drive/MyDrive/bsc_thesis/early_media_sample/2305.wav', '/content/drive/MyDrive/bsc_thesis/early_media_sample/4204.wav', '/content/drive/MyDrive/bsc_thesis/early_media_sample/1398.wav', '/content/drive/MyDrive/bsc_thesis/early_media_sample/1916.wav', '/content/drive/MyDrive/bsc_thesis/early_media_sample/3540.wav', '/content/drive/MyDrive/bsc_thesis/early_media_sample/2165.wav', '/content/drive/MyDrive/bsc_thesis/early_media_sample/1788.wav', '/content/drive/MyDrive/bsc_thesis/early_media_sample/2717.wav', '/content/drive/MyDrive/bsc_thesis/early_media_sample/1672.wav', '/content/drive/MyDrive/bsc_thesis/early_media_sample/313.wav', '/content/drive/MyDrive/bsc_thesis/early_media_sample/2414.wav', '/content/drive/MyDrive/bsc_thesis/early_media_sample/2070.wav', '/content/drive/MyDrive/bsc_thesis/early_media_sample/2147.wav', '/content/drive/MyDrive/bsc_thesis/early_media_sample/2910.wav', '/content/drive/MyDrive/bsc_thesis/early_media_sample/3769.wav', '/content/drive/MyDrive/bsc_thesis/early_media_sample/1222.wav', '/content/drive/MyDrive/bsc_thesis/early_media_sample/2448.wav', '/content/drive/MyDrive/bsc_thesis/early_media_sample/3897.wav', '/content/drive/MyDrive/bsc_thesis/early_media_sample/491.wav', '/content/drive/MyDrive/bsc_thesis/early_media_sample/4.wav', '/content/drive/MyDrive/bsc_thesis/early_media_sample/2746.wav', '/content/drive/MyDrive/bsc_thesis/early_media_sample/1884.wav', '/content/drive/MyDrive/bsc_thesis/early_media_sample/3021.wav', '/content/drive/MyDrive/bsc_thesis/early_media_sample/1091.wav', '/content/drive/MyDrive/bsc_thesis/early_media_sample/3796.wav', '/content/drive/MyDrive/bsc_thesis/early_media_sample/2574.wav', '/content/drive/MyDrive/bsc_thesis/early_media_sample/3987.wav', '/content/drive/MyDrive/bsc_thesis/early_media_sample/3700.wav', '/content/drive/MyDrive/bsc_thesis/early_media_sample/2958.wav', '/content/drive/MyDrive/bsc_thesis/early_media_sample/3565.wav', '/content/drive/MyDrive/bsc_thesis/early_media_sample/2365.wav', '/content/drive/MyDrive/bsc_thesis/early_media_sample/1934.wav', '/content/drive/MyDrive/bsc_thesis/early_media_sample/3507.wav', '/content/drive/MyDrive/bsc_thesis/early_media_sample/2131.wav', '/content/drive/MyDrive/bsc_thesis/early_media_sample/1765.wav', '/content/drive/MyDrive/bsc_thesis/early_media_sample/3489.wav', '/content/drive/MyDrive/bsc_thesis/early_media_sample/2335.wav', '/content/drive/MyDrive/bsc_thesis/early_media_sample/1610.wav', '/content/drive/MyDrive/bsc_thesis/early_media_sample/3659.wav', '/content/drive/MyDrive/bsc_thesis/early_media_sample/2206.wav', '/content/drive/MyDrive/bsc_thesis/early_media_sample/6.wav', '/content/drive/MyDrive/bsc_thesis/early_media_sample/3931.wav', '/content/drive/MyDrive/bsc_thesis/early_media_sample/266.wav', '/content/drive/MyDrive/bsc_thesis/early_media_sample/54.wav', '/content/drive/MyDrive/bsc_thesis/early_media_sample/2497.wav', '/content/drive/MyDrive/bsc_thesis/early_media_sample/3435.wav', '/content/drive/MyDrive/bsc_thesis/early_media_sample/4136.wav', '/content/drive/MyDrive/bsc_thesis/early_media_sample/229.wav', '/content/drive/MyDrive/bsc_thesis/early_media_sample/1638.wav', '/content/drive/MyDrive/bsc_thesis/early_media_sample/2921.wav', '/content/drive/MyDrive/bsc_thesis/early_media_sample/4249.wav', '/content/drive/MyDrive/bsc_thesis/early_media_sample/1524.wav', '/content/drive/MyDrive/bsc_thesis/early_media_sample/3132.wav', '/content/drive/MyDrive/bsc_thesis/early_media_sample/1506.wav', '/content/drive/MyDrive/bsc_thesis/early_media_sample/866.wav', '/content/drive/MyDrive/bsc_thesis/early_media_sample/1897.wav', '/content/drive/MyDrive/bsc_thesis/early_media_sample/2237.wav', '/content/drive/MyDrive/bsc_thesis/early_media_sample/1006.wav', '/content/drive/MyDrive/bsc_thesis/early_media_sample/2721.wav', '/content/drive/MyDrive/bsc_thesis/early_media_sample/3061.wav', '/content/drive/MyDrive/bsc_thesis/early_media_sample/1318.wav', '/content/drive/MyDrive/bsc_thesis/early_media_sample/3203.wav', '/content/drive/MyDrive/bsc_thesis/early_media_sample/3524.wav', '/content/drive/MyDrive/bsc_thesis/early_media_sample/956.wav', '/content/drive/MyDrive/bsc_thesis/early_media_sample/3506.wav', '/content/drive/MyDrive/bsc_thesis/early_media_sample/2657.wav', '/content/drive/MyDrive/bsc_thesis/early_media_sample/462.wav', '/content/drive/MyDrive/bsc_thesis/early_media_sample/2251.wav', '/content/drive/MyDrive/bsc_thesis/early_media_sample/4310.wav', '/content/drive/MyDrive/bsc_thesis/early_media_sample/257.wav', '/content/drive/MyDrive/bsc_thesis/early_media_sample/2841.wav', '/content/drive/MyDrive/bsc_thesis/early_media_sample/1942.wav', '/content/drive/MyDrive/bsc_thesis/early_media_sample/1392.wav', '/content/drive/MyDrive/bsc_thesis/early_media_sample/2955.wav', '/content/drive/MyDrive/bsc_thesis/early_media_sample/3476.wav', '/content/drive/MyDrive/bsc_thesis/early_media_sample/2347.wav', '/content/drive/MyDrive/bsc_thesis/early_media_sample/790.wav', '/content/drive/MyDrive/bsc_thesis/early_media_sample/4288.wav', '/content/drive/MyDrive/bsc_thesis/early_media_sample/3928.wav', '/content/drive/MyDrive/bsc_thesis/early_media_sample/676.wav', '/content/drive/MyDrive/bsc_thesis/early_media_sample/873.wav', '/content/drive/MyDrive/bsc_thesis/early_media_sample/2678.wav', '/content/drive/MyDrive/bsc_thesis/early_media_sample/3.wav', '/content/drive/MyDrive/bsc_thesis/early_media_sample/752.wav', '/content/drive/MyDrive/bsc_thesis/early_media_sample/3031.wav', '/content/drive/MyDrive/bsc_thesis/early_media_sample/1273.wav', '/content/drive/MyDrive/bsc_thesis/early_media_sample/1307.wav', '/content/drive/MyDrive/bsc_thesis/early_media_sample/2945.wav', '/content/drive/MyDrive/bsc_thesis/early_media_sample/3225.wav', '/content/drive/MyDrive/bsc_thesis/early_media_sample/2325.wav', '/content/drive/MyDrive/bsc_thesis/early_media_sample/4393.wav', '/content/drive/MyDrive/bsc_thesis/early_media_sample/2146.wav', '/content/drive/MyDrive/bsc_thesis/early_media_sample/1317.wav', '/content/drive/MyDrive/bsc_thesis/early_media_sample/1423.wav', '/content/drive/MyDrive/bsc_thesis/early_media_sample/3329.wav', '/content/drive/MyDrive/bsc_thesis/early_media_sample/4264.wav', '/content/drive/MyDrive/bsc_thesis/early_media_sample/3613.wav', '/content/drive/MyDrive/bsc_thesis/early_media_sample/2379.wav', '/content/drive/MyDrive/bsc_thesis/early_media_sample/1198.wav', '/content/drive/MyDrive/bsc_thesis/early_media_sample/2363.wav', '/content/drive/MyDrive/bsc_thesis/early_media_sample/3301.wav', '/content/drive/MyDrive/bsc_thesis/early_media_sample/4081.wav', '/content/drive/MyDrive/bsc_thesis/early_media_sample/314.wav', '/content/drive/MyDrive/bsc_thesis/early_media_sample/741.wav', '/content/drive/MyDrive/bsc_thesis/early_media_sample/3237.wav', '/content/drive/MyDrive/bsc_thesis/early_media_sample/4429.wav', '/content/drive/MyDrive/bsc_thesis/early_media_sample/625.wav', '/content/drive/MyDrive/bsc_thesis/early_media_sample/3175.wav', '/content/drive/MyDrive/bsc_thesis/early_media_sample/881.wav', '/content/drive/MyDrive/bsc_thesis/early_media_sample/1725.wav', '/content/drive/MyDrive/bsc_thesis/early_media_sample/1689.wav', '/content/drive/MyDrive/bsc_thesis/early_media_sample/3127.wav', '/content/drive/MyDrive/bsc_thesis/early_media_sample/4306.wav', '/content/drive/MyDrive/bsc_thesis/early_media_sample/2930.wav', '/content/drive/MyDrive/bsc_thesis/early_media_sample/1052.wav', '/content/drive/MyDrive/bsc_thesis/early_media_sample/1493.wav', '/content/drive/MyDrive/bsc_thesis/early_media_sample/860.wav', '/content/drive/MyDrive/bsc_thesis/early_media_sample/363.wav', '/content/drive/MyDrive/bsc_thesis/early_media_sample/2076.wav', '/content/drive/MyDrive/bsc_thesis/early_media_sample/1472.wav', '/content/drive/MyDrive/bsc_thesis/early_media_sample/3162.wav', '/content/drive/MyDrive/bsc_thesis/early_media_sample/2871.wav', '/content/drive/MyDrive/bsc_thesis/early_media_sample/2060.wav', '/content/drive/MyDrive/bsc_thesis/early_media_sample/1187.wav', '/content/drive/MyDrive/bsc_thesis/early_media_sample/3880.wav', '/content/drive/MyDrive/bsc_thesis/early_media_sample/583.wav', '/content/drive/MyDrive/bsc_thesis/early_media_sample/1864.wav', '/content/drive/MyDrive/bsc_thesis/early_media_sample/4362.wav', '/content/drive/MyDrive/bsc_thesis/early_media_sample/1873.wav', '/content/drive/MyDrive/bsc_thesis/early_media_sample/2348.wav', '/content/drive/MyDrive/bsc_thesis/early_media_sample/4461.wav', '/content/drive/MyDrive/bsc_thesis/early_media_sample/4113.wav', '/content/drive/MyDrive/bsc_thesis/early_media_sample/3733.wav', '/content/drive/MyDrive/bsc_thesis/early_media_sample/449.wav', '/content/drive/MyDrive/bsc_thesis/early_media_sample/1454.wav', '/content/drive/MyDrive/bsc_thesis/early_media_sample/3744.wav', '/content/drive/MyDrive/bsc_thesis/early_media_sample/3073.wav', '/content/drive/MyDrive/bsc_thesis/early_media_sample/575.wav', '/content/drive/MyDrive/bsc_thesis/early_media_sample/1819.wav', '/content/drive/MyDrive/bsc_thesis/early_media_sample/3820.wav', '/content/drive/MyDrive/bsc_thesis/early_media_sample/2034.wav', '/content/drive/MyDrive/bsc_thesis/early_media_sample/2311.wav', '/content/drive/MyDrive/bsc_thesis/early_media_sample/798.wav', '/content/drive/MyDrive/bsc_thesis/early_media_sample/2614.wav', '/content/drive/MyDrive/bsc_thesis/early_media_sample/1511.wav', '/content/drive/MyDrive/bsc_thesis/early_media_sample/3732.wav', '/content/drive/MyDrive/bsc_thesis/early_media_sample/1412.wav', '/content/drive/MyDrive/bsc_thesis/early_media_sample/1892.wav', '/content/drive/MyDrive/bsc_thesis/early_media_sample/295.wav', '/content/drive/MyDrive/bsc_thesis/early_media_sample/812.wav', '/content/drive/MyDrive/bsc_thesis/early_media_sample/42.wav', '/content/drive/MyDrive/bsc_thesis/early_media_sample/1874.wav', '/content/drive/MyDrive/bsc_thesis/early_media_sample/2636.wav', '/content/drive/MyDrive/bsc_thesis/early_media_sample/796.wav', '/content/drive/MyDrive/bsc_thesis/early_media_sample/2192.wav', '/content/drive/MyDrive/bsc_thesis/early_media_sample/2928.wav', '/content/drive/MyDrive/bsc_thesis/early_media_sample/3104.wav', '/content/drive/MyDrive/bsc_thesis/early_media_sample/1342.wav', '/content/drive/MyDrive/bsc_thesis/early_media_sample/1237.wav', '/content/drive/MyDrive/bsc_thesis/early_media_sample/2047.wav', '/content/drive/MyDrive/bsc_thesis/early_media_sample/3899.wav', '/content/drive/MyDrive/bsc_thesis/early_media_sample/3192.wav', '/content/drive/MyDrive/bsc_thesis/early_media_sample/3078.wav', '/content/drive/MyDrive/bsc_thesis/early_media_sample/3231.wav', '/content/drive/MyDrive/bsc_thesis/early_media_sample/1081.wav', '/content/drive/MyDrive/bsc_thesis/early_media_sample/4071.wav', '/content/drive/MyDrive/bsc_thesis/early_media_sample/2496.wav', '/content/drive/MyDrive/bsc_thesis/early_media_sample/1766.wav', '/content/drive/MyDrive/bsc_thesis/early_media_sample/3028.wav', '/content/drive/MyDrive/bsc_thesis/early_media_sample/2773.wav', '/content/drive/MyDrive/bsc_thesis/early_media_sample/323.wav', '/content/drive/MyDrive/bsc_thesis/early_media_sample/688.wav', '/content/drive/MyDrive/bsc_thesis/early_media_sample/3869.wav', '/content/drive/MyDrive/bsc_thesis/early_media_sample/1228.wav', '/content/drive/MyDrive/bsc_thesis/early_media_sample/742.wav', '/content/drive/MyDrive/bsc_thesis/early_media_sample/3780.wav', '/content/drive/MyDrive/bsc_thesis/early_media_sample/255.wav', '/content/drive/MyDrive/bsc_thesis/early_media_sample/3226.wav', '/content/drive/MyDrive/bsc_thesis/early_media_sample/1647.wav', '/content/drive/MyDrive/bsc_thesis/early_media_sample/4125.wav', '/content/drive/MyDrive/bsc_thesis/early_media_sample/2701.wav', '/content/drive/MyDrive/bsc_thesis/early_media_sample/1345.wav', '/content/drive/MyDrive/bsc_thesis/early_media_sample/4120.wav', '/content/drive/MyDrive/bsc_thesis/early_media_sample/569.wav', '/content/drive/MyDrive/bsc_thesis/early_media_sample/3548.wav', '/content/drive/MyDrive/bsc_thesis/early_media_sample/849.wav', '/content/drive/MyDrive/bsc_thesis/early_media_sample/69.wav', '/content/drive/MyDrive/bsc_thesis/early_media_sample/4260.wav', '/content/drive/MyDrive/bsc_thesis/early_media_sample/2021.wav', '/content/drive/MyDrive/bsc_thesis/early_media_sample/4084.wav', '/content/drive/MyDrive/bsc_thesis/early_media_sample/3294.wav', '/content/drive/MyDrive/bsc_thesis/early_media_sample/4373.wav', '/content/drive/MyDrive/bsc_thesis/early_media_sample/1767.wav', '/content/drive/MyDrive/bsc_thesis/early_media_sample/2356.wav', '/content/drive/MyDrive/bsc_thesis/early_media_sample/4202.wav', '/content/drive/MyDrive/bsc_thesis/early_media_sample/2905.wav', '/content/drive/MyDrive/bsc_thesis/early_media_sample/3773.wav', '/content/drive/MyDrive/bsc_thesis/early_media_sample/2149.wav', '/content/drive/MyDrive/bsc_thesis/early_media_sample/2215.wav', '/content/drive/MyDrive/bsc_thesis/early_media_sample/3311.wav', '/content/drive/MyDrive/bsc_thesis/early_media_sample/2114.wav', '/content/drive/MyDrive/bsc_thesis/early_media_sample/991.wav', '/content/drive/MyDrive/bsc_thesis/early_media_sample/522.wav', '/content/drive/MyDrive/bsc_thesis/early_media_sample/94.wav', '/content/drive/MyDrive/bsc_thesis/early_media_sample/1.wav', '/content/drive/MyDrive/bsc_thesis/early_media_sample/84.wav', '/content/drive/MyDrive/bsc_thesis/early_media_sample/3981.wav', '/content/drive/MyDrive/bsc_thesis/early_media_sample/101.wav', '/content/drive/MyDrive/bsc_thesis/early_media_sample/4305.wav', '/content/drive/MyDrive/bsc_thesis/early_media_sample/2700.wav', '/content/drive/MyDrive/bsc_thesis/early_media_sample/2523.wav', '/content/drive/MyDrive/bsc_thesis/early_media_sample/2816.wav', '/content/drive/MyDrive/bsc_thesis/early_media_sample/4236.wav', '/content/drive/MyDrive/bsc_thesis/early_media_sample/2466.wav', '/content/drive/MyDrive/bsc_thesis/early_media_sample/93.wav', '/content/drive/MyDrive/bsc_thesis/early_media_sample/4124.wav', '/content/drive/MyDrive/bsc_thesis/early_media_sample/3101.wav', '/content/drive/MyDrive/bsc_thesis/early_media_sample/3216.wav', '/content/drive/MyDrive/bsc_thesis/early_media_sample/4216.wav', '/content/drive/MyDrive/bsc_thesis/early_media_sample/521.wav', '/content/drive/MyDrive/bsc_thesis/early_media_sample/1818.wav', '/content/drive/MyDrive/bsc_thesis/early_media_sample/4233.wav', '/content/drive/MyDrive/bsc_thesis/early_media_sample/2747.wav', '/content/drive/MyDrive/bsc_thesis/early_media_sample/3201.wav', '/content/drive/MyDrive/bsc_thesis/early_media_sample/1391.wav', '/content/drive/MyDrive/bsc_thesis/early_media_sample/4469.wav', '/content/drive/MyDrive/bsc_thesis/early_media_sample/410.wav', '/content/drive/MyDrive/bsc_thesis/early_media_sample/2793.wav', '/content/drive/MyDrive/bsc_thesis/early_media_sample/1681.wav', '/content/drive/MyDrive/bsc_thesis/early_media_sample/2184.wav', '/content/drive/MyDrive/bsc_thesis/early_media_sample/2040.wav', '/content/drive/MyDrive/bsc_thesis/early_media_sample/452.wav', '/content/drive/MyDrive/bsc_thesis/early_media_sample/2024.wav', '/content/drive/MyDrive/bsc_thesis/early_media_sample/1598.wav', '/content/drive/MyDrive/bsc_thesis/early_media_sample/3864.wav', '/content/drive/MyDrive/bsc_thesis/early_media_sample/1801.wav', '/content/drive/MyDrive/bsc_thesis/early_media_sample/158.wav', '/content/drive/MyDrive/bsc_thesis/early_media_sample/4456.wav', '/content/drive/MyDrive/bsc_thesis/early_media_sample/1989.wav', '/content/drive/MyDrive/bsc_thesis/early_media_sample/2351.wav', '/content/drive/MyDrive/bsc_thesis/early_media_sample/2428.wav', '/content/drive/MyDrive/bsc_thesis/early_media_sample/3440.wav', '/content/drive/MyDrive/bsc_thesis/early_media_sample/1232.wav', '/content/drive/MyDrive/bsc_thesis/early_media_sample/4215.wav', '/content/drive/MyDrive/bsc_thesis/early_media_sample/371.wav', '/content/drive/MyDrive/bsc_thesis/early_media_sample/1962.wav', '/content/drive/MyDrive/bsc_thesis/early_media_sample/3598.wav', '/content/drive/MyDrive/bsc_thesis/early_media_sample/57.wav', '/content/drive/MyDrive/bsc_thesis/early_media_sample/4109.wav', '/content/drive/MyDrive/bsc_thesis/early_media_sample/1882.wav', '/content/drive/MyDrive/bsc_thesis/early_media_sample/1305.wav', '/content/drive/MyDrive/bsc_thesis/early_media_sample/3742.wav', '/content/drive/MyDrive/bsc_thesis/early_media_sample/891.wav', '/content/drive/MyDrive/bsc_thesis/early_media_sample/1918.wav', '/content/drive/MyDrive/bsc_thesis/early_media_sample/1136.wav', '/content/drive/MyDrive/bsc_thesis/early_media_sample/4002.wav', '/content/drive/MyDrive/bsc_thesis/early_media_sample/4176.wav', '/content/drive/MyDrive/bsc_thesis/early_media_sample/4077.wav', '/content/drive/MyDrive/bsc_thesis/early_media_sample/2225.wav', '/content/drive/MyDrive/bsc_thesis/early_media_sample/527.wav', '/content/drive/MyDrive/bsc_thesis/early_media_sample/403.wav', '/content/drive/MyDrive/bsc_thesis/early_media_sample/2837.wav', '/content/drive/MyDrive/bsc_thesis/early_media_sample/1677.wav', '/content/drive/MyDrive/bsc_thesis/early_media_sample/1239.wav', '/content/drive/MyDrive/bsc_thesis/early_media_sample/1223.wav', '/content/drive/MyDrive/bsc_thesis/early_media_sample/1616.wav', '/content/drive/MyDrive/bsc_thesis/early_media_sample/2924.wav', '/content/drive/MyDrive/bsc_thesis/early_media_sample/3950.wav', '/content/drive/MyDrive/bsc_thesis/early_media_sample/1626.wav', '/content/drive/MyDrive/bsc_thesis/early_media_sample/2033.wav', '/content/drive/MyDrive/bsc_thesis/early_media_sample/2441.wav', '/content/drive/MyDrive/bsc_thesis/early_media_sample/3493.wav', '/content/drive/MyDrive/bsc_thesis/early_media_sample/4292.wav', '/content/drive/MyDrive/bsc_thesis/early_media_sample/3768.wav', '/content/drive/MyDrive/bsc_thesis/early_media_sample/1769.wav', '/content/drive/MyDrive/bsc_thesis/early_media_sample/2107.wav', '/content/drive/MyDrive/bsc_thesis/early_media_sample/2626.wav', '/content/drive/MyDrive/bsc_thesis/early_media_sample/3458.wav', '/content/drive/MyDrive/bsc_thesis/early_media_sample/1462.wav', '/content/drive/MyDrive/bsc_thesis/early_media_sample/1735.wav', '/content/drive/MyDrive/bsc_thesis/early_media_sample/831.wav', '/content/drive/MyDrive/bsc_thesis/early_media_sample/2547.wav', '/content/drive/MyDrive/bsc_thesis/early_media_sample/2758.wav', '/content/drive/MyDrive/bsc_thesis/early_media_sample/3199.wav', '/content/drive/MyDrive/bsc_thesis/early_media_sample/568.wav', '/content/drive/MyDrive/bsc_thesis/early_media_sample/4251.wav', '/content/drive/MyDrive/bsc_thesis/early_media_sample/2801.wav', '/content/drive/MyDrive/bsc_thesis/early_media_sample/45.wav', '/content/drive/MyDrive/bsc_thesis/early_media_sample/3679.wav', '/content/drive/MyDrive/bsc_thesis/early_media_sample/4286.wav', '/content/drive/MyDrive/bsc_thesis/early_media_sample/3121.wav', '/content/drive/MyDrive/bsc_thesis/early_media_sample/2550.wav', '/content/drive/MyDrive/bsc_thesis/early_media_sample/4297.wav', '/content/drive/MyDrive/bsc_thesis/early_media_sample/1038.wav', '/content/drive/MyDrive/bsc_thesis/early_media_sample/2663.wav', '/content/drive/MyDrive/bsc_thesis/early_media_sample/1295.wav', '/content/drive/MyDrive/bsc_thesis/early_media_sample/3940.wav', '/content/drive/MyDrive/bsc_thesis/early_media_sample/3244.wav', '/content/drive/MyDrive/bsc_thesis/early_media_sample/2346.wav', '/content/drive/MyDrive/bsc_thesis/early_media_sample/2371.wav', '/content/drive/MyDrive/bsc_thesis/early_media_sample/600.wav', '/content/drive/MyDrive/bsc_thesis/early_media_sample/2572.wav', '/content/drive/MyDrive/bsc_thesis/early_media_sample/2890.wav', '/content/drive/MyDrive/bsc_thesis/early_media_sample/461.wav', '/content/drive/MyDrive/bsc_thesis/early_media_sample/1319.wav', '/content/drive/MyDrive/bsc_thesis/early_media_sample/2931.wav', '/content/drive/MyDrive/bsc_thesis/early_media_sample/2481.wav', '/content/drive/MyDrive/bsc_thesis/early_media_sample/2709.wav', '/content/drive/MyDrive/bsc_thesis/early_media_sample/1752.wav', '/content/drive/MyDrive/bsc_thesis/early_media_sample/1478.wav', '/content/drive/MyDrive/bsc_thesis/early_media_sample/108.wav', '/content/drive/MyDrive/bsc_thesis/early_media_sample/3836.wav', '/content/drive/MyDrive/bsc_thesis/early_media_sample/1684.wav', '/content/drive/MyDrive/bsc_thesis/early_media_sample/1667.wav', '/content/drive/MyDrive/bsc_thesis/early_media_sample/3636.wav', '/content/drive/MyDrive/bsc_thesis/early_media_sample/1924.wav', '/content/drive/MyDrive/bsc_thesis/early_media_sample/3904.wav', '/content/drive/MyDrive/bsc_thesis/early_media_sample/612.wav', '/content/drive/MyDrive/bsc_thesis/early_media_sample/3037.wav', '/content/drive/MyDrive/bsc_thesis/early_media_sample/2786.wav', '/content/drive/MyDrive/bsc_thesis/early_media_sample/2916.wav', '/content/drive/MyDrive/bsc_thesis/early_media_sample/3795.wav', '/content/drive/MyDrive/bsc_thesis/early_media_sample/3310.wav', '/content/drive/MyDrive/bsc_thesis/early_media_sample/3186.wav', '/content/drive/MyDrive/bsc_thesis/early_media_sample/388.wav', '/content/drive/MyDrive/bsc_thesis/early_media_sample/4160.wav', '/content/drive/MyDrive/bsc_thesis/early_media_sample/4472.wav', '/content/drive/MyDrive/bsc_thesis/early_media_sample/856.wav', '/content/drive/MyDrive/bsc_thesis/early_media_sample/1945.wav', '/content/drive/MyDrive/bsc_thesis/early_media_sample/4067.wav', '/content/drive/MyDrive/bsc_thesis/early_media_sample/3861.wav', '/content/drive/MyDrive/bsc_thesis/early_media_sample/1899.wav', '/content/drive/MyDrive/bsc_thesis/early_media_sample/853.wav', '/content/drive/MyDrive/bsc_thesis/early_media_sample/1221.wav', '/content/drive/MyDrive/bsc_thesis/early_media_sample/4445.wav', '/content/drive/MyDrive/bsc_thesis/early_media_sample/3504.wav', '/content/drive/MyDrive/bsc_thesis/early_media_sample/114.wav', '/content/drive/MyDrive/bsc_thesis/early_media_sample/1789.wav', '/content/drive/MyDrive/bsc_thesis/early_media_sample/1168.wav', '/content/drive/MyDrive/bsc_thesis/early_media_sample/4376.wav', '/content/drive/MyDrive/bsc_thesis/early_media_sample/3513.wav', '/content/drive/MyDrive/bsc_thesis/early_media_sample/176.wav', '/content/drive/MyDrive/bsc_thesis/early_media_sample/1540.wav', '/content/drive/MyDrive/bsc_thesis/early_media_sample/3599.wav', '/content/drive/MyDrive/bsc_thesis/early_media_sample/3411.wav', '/content/drive/MyDrive/bsc_thesis/early_media_sample/3018.wav', '/content/drive/MyDrive/bsc_thesis/early_media_sample/1966.wav', '/content/drive/MyDrive/bsc_thesis/early_media_sample/3793.wav', '/content/drive/MyDrive/bsc_thesis/early_media_sample/719.wav', '/content/drive/MyDrive/bsc_thesis/early_media_sample/599.wav', '/content/drive/MyDrive/bsc_thesis/early_media_sample/659.wav', '/content/drive/MyDrive/bsc_thesis/early_media_sample/2860.wav', '/content/drive/MyDrive/bsc_thesis/early_media_sample/724.wav', '/content/drive/MyDrive/bsc_thesis/early_media_sample/1800.wav', '/content/drive/MyDrive/bsc_thesis/early_media_sample/333.wav', '/content/drive/MyDrive/bsc_thesis/early_media_sample/3609.wav', '/content/drive/MyDrive/bsc_thesis/early_media_sample/4417.wav', '/content/drive/MyDrive/bsc_thesis/early_media_sample/3459.wav', '/content/drive/MyDrive/bsc_thesis/early_media_sample/393.wav', '/content/drive/MyDrive/bsc_thesis/early_media_sample/1037.wav', '/content/drive/MyDrive/bsc_thesis/early_media_sample/1644.wav', '/content/drive/MyDrive/bsc_thesis/early_media_sample/621.wav', '/content/drive/MyDrive/bsc_thesis/early_media_sample/2345.wav', '/content/drive/MyDrive/bsc_thesis/early_media_sample/1115.wav', '/content/drive/MyDrive/bsc_thesis/early_media_sample/1713.wav', '/content/drive/MyDrive/bsc_thesis/early_media_sample/3335.wav', '/content/drive/MyDrive/bsc_thesis/early_media_sample/1756.wav', '/content/drive/MyDrive/bsc_thesis/early_media_sample/139.wav', '/content/drive/MyDrive/bsc_thesis/early_media_sample/1129.wav', '/content/drive/MyDrive/bsc_thesis/early_media_sample/2833.wav', '/content/drive/MyDrive/bsc_thesis/early_media_sample/1357.wav', '/content/drive/MyDrive/bsc_thesis/early_media_sample/3165.wav', '/content/drive/MyDrive/bsc_thesis/early_media_sample/794.wav', '/content/drive/MyDrive/bsc_thesis/early_media_sample/1441.wav', '/content/drive/MyDrive/bsc_thesis/early_media_sample/1603.wav', '/content/drive/MyDrive/bsc_thesis/early_media_sample/2995.wav', '/content/drive/MyDrive/bsc_thesis/early_media_sample/3116.wav', '/content/drive/MyDrive/bsc_thesis/early_media_sample/3673.wav', '/content/drive/MyDrive/bsc_thesis/early_media_sample/2824.wav', '/content/drive/MyDrive/bsc_thesis/early_media_sample/4234.wav', '/content/drive/MyDrive/bsc_thesis/early_media_sample/4254.wav', '/content/drive/MyDrive/bsc_thesis/early_media_sample/3176.wav', '/content/drive/MyDrive/bsc_thesis/early_media_sample/3004.wav', '/content/drive/MyDrive/bsc_thesis/early_media_sample/1436.wav', '/content/drive/MyDrive/bsc_thesis/early_media_sample/4097.wav', '/content/drive/MyDrive/bsc_thesis/early_media_sample/2161.wav', '/content/drive/MyDrive/bsc_thesis/early_media_sample/1635.wav', '/content/drive/MyDrive/bsc_thesis/early_media_sample/2321.wav', '/content/drive/MyDrive/bsc_thesis/early_media_sample/1816.wav', '/content/drive/MyDrive/bsc_thesis/early_media_sample/3086.wav', '/content/drive/MyDrive/bsc_thesis/early_media_sample/1411.wav', '/content/drive/MyDrive/bsc_thesis/early_media_sample/728.wav', '/content/drive/MyDrive/bsc_thesis/early_media_sample/1179.wav', '/content/drive/MyDrive/bsc_thesis/early_media_sample/471.wav', '/content/drive/MyDrive/bsc_thesis/early_media_sample/4076.wav', '/content/drive/MyDrive/bsc_thesis/early_media_sample/3055.wav', '/content/drive/MyDrive/bsc_thesis/early_media_sample/3552.wav', '/content/drive/MyDrive/bsc_thesis/early_media_sample/2369.wav', '/content/drive/MyDrive/bsc_thesis/early_media_sample/912.wav', '/content/drive/MyDrive/bsc_thesis/early_media_sample/1099.wav', '/content/drive/MyDrive/bsc_thesis/early_media_sample/2460.wav', '/content/drive/MyDrive/bsc_thesis/early_media_sample/3151.wav', '/content/drive/MyDrive/bsc_thesis/early_media_sample/2293.wav', '/content/drive/MyDrive/bsc_thesis/early_media_sample/3953.wav', '/content/drive/MyDrive/bsc_thesis/early_media_sample/1513.wav', '/content/drive/MyDrive/bsc_thesis/early_media_sample/269.wav', '/content/drive/MyDrive/bsc_thesis/early_media_sample/3763.wav', '/content/drive/MyDrive/bsc_thesis/early_media_sample/3808.wav', '/content/drive/MyDrive/bsc_thesis/early_media_sample/2785.wav', '/content/drive/MyDrive/bsc_thesis/early_media_sample/2340.wav', '/content/drive/MyDrive/bsc_thesis/early_media_sample/3728.wav', '/content/drive/MyDrive/bsc_thesis/early_media_sample/256.wav', '/content/drive/MyDrive/bsc_thesis/early_media_sample/1698.wav', '/content/drive/MyDrive/bsc_thesis/early_media_sample/1362.wav', '/content/drive/MyDrive/bsc_thesis/early_media_sample/1231.wav', '/content/drive/MyDrive/bsc_thesis/early_media_sample/3538.wav', '/content/drive/MyDrive/bsc_thesis/early_media_sample/2522.wav', '/content/drive/MyDrive/bsc_thesis/early_media_sample/14.wav', '/content/drive/MyDrive/bsc_thesis/early_media_sample/1214.wav', '/content/drive/MyDrive/bsc_thesis/early_media_sample/2865.wav', '/content/drive/MyDrive/bsc_thesis/early_media_sample/2555.wav', '/content/drive/MyDrive/bsc_thesis/early_media_sample/3479.wav', '/content/drive/MyDrive/bsc_thesis/early_media_sample/2050.wav', '/content/drive/MyDrive/bsc_thesis/early_media_sample/1290.wav', '/content/drive/MyDrive/bsc_thesis/early_media_sample/1793.wav', '/content/drive/MyDrive/bsc_thesis/early_media_sample/1349.wav', '/content/drive/MyDrive/bsc_thesis/early_media_sample/2749.wav', '/content/drive/MyDrive/bsc_thesis/early_media_sample/1062.wav', '/content/drive/MyDrive/bsc_thesis/early_media_sample/1080.wav', '/content/drive/MyDrive/bsc_thesis/early_media_sample/2674.wav', '/content/drive/MyDrive/bsc_thesis/early_media_sample/3111.wav', '/content/drive/MyDrive/bsc_thesis/early_media_sample/518.wav', '/content/drive/MyDrive/bsc_thesis/early_media_sample/81.wav', '/content/drive/MyDrive/bsc_thesis/early_media_sample/3510.wav', '/content/drive/MyDrive/bsc_thesis/early_media_sample/4390.wav', '/content/drive/MyDrive/bsc_thesis/early_media_sample/830.wav', '/content/drive/MyDrive/bsc_thesis/early_media_sample/265.wav', '/content/drive/MyDrive/bsc_thesis/early_media_sample/2393.wav', '/content/drive/MyDrive/bsc_thesis/early_media_sample/2753.wav', '/content/drive/MyDrive/bsc_thesis/early_media_sample/838.wav', '/content/drive/MyDrive/bsc_thesis/early_media_sample/4367.wav', '/content/drive/MyDrive/bsc_thesis/early_media_sample/4430.wav', '/content/drive/MyDrive/bsc_thesis/early_media_sample/540.wav', '/content/drive/MyDrive/bsc_thesis/early_media_sample/995.wav', '/content/drive/MyDrive/bsc_thesis/early_media_sample/4162.wav', '/content/drive/MyDrive/bsc_thesis/early_media_sample/2733.wav', '/content/drive/MyDrive/bsc_thesis/early_media_sample/1695.wav', '/content/drive/MyDrive/bsc_thesis/early_media_sample/1705.wav', '/content/drive/MyDrive/bsc_thesis/early_media_sample/4229.wav', '/content/drive/MyDrive/bsc_thesis/early_media_sample/3926.wav', '/content/drive/MyDrive/bsc_thesis/early_media_sample/2676.wav', '/content/drive/MyDrive/bsc_thesis/early_media_sample/3384.wav', '/content/drive/MyDrive/bsc_thesis/early_media_sample/1292.wav', '/content/drive/MyDrive/bsc_thesis/early_media_sample/3938.wav', '/content/drive/MyDrive/bsc_thesis/early_media_sample/2830.wav', '/content/drive/MyDrive/bsc_thesis/early_media_sample/3401.wav', '/content/drive/MyDrive/bsc_thesis/early_media_sample/120.wav', '/content/drive/MyDrive/bsc_thesis/early_media_sample/3760.wav', '/content/drive/MyDrive/bsc_thesis/early_media_sample/632.wav', '/content/drive/MyDrive/bsc_thesis/early_media_sample/2664.wav', '/content/drive/MyDrive/bsc_thesis/early_media_sample/982.wav', '/content/drive/MyDrive/bsc_thesis/early_media_sample/322.wav', '/content/drive/MyDrive/bsc_thesis/early_media_sample/594.wav', '/content/drive/MyDrive/bsc_thesis/early_media_sample/1172.wav', '/content/drive/MyDrive/bsc_thesis/early_media_sample/2878.wav', '/content/drive/MyDrive/bsc_thesis/early_media_sample/1724.wav', '/content/drive/MyDrive/bsc_thesis/early_media_sample/3328.wav', '/content/drive/MyDrive/bsc_thesis/early_media_sample/3224.wav', '/content/drive/MyDrive/bsc_thesis/early_media_sample/3126.wav', '/content/drive/MyDrive/bsc_thesis/early_media_sample/3671.wav', '/content/drive/MyDrive/bsc_thesis/early_media_sample/2486.wav', '/content/drive/MyDrive/bsc_thesis/early_media_sample/282.wav', '/content/drive/MyDrive/bsc_thesis/early_media_sample/48.wav', '/content/drive/MyDrive/bsc_thesis/early_media_sample/841.wav', '/content/drive/MyDrive/bsc_thesis/early_media_sample/4027.wav', '/content/drive/MyDrive/bsc_thesis/early_media_sample/1097.wav', '/content/drive/MyDrive/bsc_thesis/early_media_sample/2504.wav', '/content/drive/MyDrive/bsc_thesis/early_media_sample/2235.wav', '/content/drive/MyDrive/bsc_thesis/early_media_sample/1496.wav', '/content/drive/MyDrive/bsc_thesis/early_media_sample/1815.wav', '/content/drive/MyDrive/bsc_thesis/early_media_sample/3845.wav', '/content/drive/MyDrive/bsc_thesis/early_media_sample/2713.wav', '/content/drive/MyDrive/bsc_thesis/early_media_sample/3482.wav', '/content/drive/MyDrive/bsc_thesis/early_media_sample/2996.wav', '/content/drive/MyDrive/bsc_thesis/early_media_sample/1301.wav', '/content/drive/MyDrive/bsc_thesis/early_media_sample/1255.wav', '/content/drive/MyDrive/bsc_thesis/early_media_sample/3138.wav', '/content/drive/MyDrive/bsc_thesis/early_media_sample/1893.wav', '/content/drive/MyDrive/bsc_thesis/early_media_sample/2671.wav', '/content/drive/MyDrive/bsc_thesis/early_media_sample/2382.wav', '/content/drive/MyDrive/bsc_thesis/early_media_sample/4449.wav', '/content/drive/MyDrive/bsc_thesis/early_media_sample/3794.wav', '/content/drive/MyDrive/bsc_thesis/early_media_sample/2419.wav', '/content/drive/MyDrive/bsc_thesis/early_media_sample/3687.wav', '/content/drive/MyDrive/bsc_thesis/early_media_sample/4427.wav', '/content/drive/MyDrive/bsc_thesis/early_media_sample/1409.wav', '/content/drive/MyDrive/bsc_thesis/early_media_sample/3592.wav', '/content/drive/MyDrive/bsc_thesis/early_media_sample/185.wav', '/content/drive/MyDrive/bsc_thesis/early_media_sample/2962.wav', '/content/drive/MyDrive/bsc_thesis/early_media_sample/3495.wav', '/content/drive/MyDrive/bsc_thesis/early_media_sample/3289.wav', '/content/drive/MyDrive/bsc_thesis/early_media_sample/3879.wav', '/content/drive/MyDrive/bsc_thesis/early_media_sample/1225.wav', '/content/drive/MyDrive/bsc_thesis/early_media_sample/1201.wav', '/content/drive/MyDrive/bsc_thesis/early_media_sample/2906.wav', '/content/drive/MyDrive/bsc_thesis/early_media_sample/1838.wav', '/content/drive/MyDrive/bsc_thesis/early_media_sample/2798.wav', '/content/drive/MyDrive/bsc_thesis/early_media_sample/1843.wav', '/content/drive/MyDrive/bsc_thesis/early_media_sample/3567.wav', '/content/drive/MyDrive/bsc_thesis/early_media_sample/1251.wav', '/content/drive/MyDrive/bsc_thesis/early_media_sample/703.wav', '/content/drive/MyDrive/bsc_thesis/early_media_sample/3522.wav', '/content/drive/MyDrive/bsc_thesis/early_media_sample/194.wav', '/content/drive/MyDrive/bsc_thesis/early_media_sample/542.wav', '/content/drive/MyDrive/bsc_thesis/early_media_sample/1107.wav', '/content/drive/MyDrive/bsc_thesis/early_media_sample/1144.wav', '/content/drive/MyDrive/bsc_thesis/early_media_sample/1764.wav', '/content/drive/MyDrive/bsc_thesis/early_media_sample/300.wav', '/content/drive/MyDrive/bsc_thesis/early_media_sample/4426.wav', '/content/drive/MyDrive/bsc_thesis/early_media_sample/3583.wav', '/content/drive/MyDrive/bsc_thesis/early_media_sample/1432.wav', '/content/drive/MyDrive/bsc_thesis/early_media_sample/2743.wav', '/content/drive/MyDrive/bsc_thesis/early_media_sample/4185.wav', '/content/drive/MyDrive/bsc_thesis/early_media_sample/1605.wav', '/content/drive/MyDrive/bsc_thesis/early_media_sample/1188.wav', '/content/drive/MyDrive/bsc_thesis/early_media_sample/2231.wav', '/content/drive/MyDrive/bsc_thesis/early_media_sample/780.wav', '/content/drive/MyDrive/bsc_thesis/early_media_sample/484.wav', '/content/drive/MyDrive/bsc_thesis/early_media_sample/1607.wav', '/content/drive/MyDrive/bsc_thesis/early_media_sample/487.wav', '/content/drive/MyDrive/bsc_thesis/early_media_sample/2203.wav', '/content/drive/MyDrive/bsc_thesis/early_media_sample/3902.wav', '/content/drive/MyDrive/bsc_thesis/early_media_sample/1636.wav', '/content/drive/MyDrive/bsc_thesis/early_media_sample/218.wav', '/content/drive/MyDrive/bsc_thesis/early_media_sample/4169.wav', '/content/drive/MyDrive/bsc_thesis/early_media_sample/1028.wav', '/content/drive/MyDrive/bsc_thesis/early_media_sample/2285.wav', '/content/drive/MyDrive/bsc_thesis/early_media_sample/1407.wav', '/content/drive/MyDrive/bsc_thesis/early_media_sample/2765.wav', '/content/drive/MyDrive/bsc_thesis/early_media_sample/2163.wav', '/content/drive/MyDrive/bsc_thesis/early_media_sample/2079.wav', '/content/drive/MyDrive/bsc_thesis/early_media_sample/1133.wav', '/content/drive/MyDrive/bsc_thesis/early_media_sample/4441.wav', '/content/drive/MyDrive/bsc_thesis/early_media_sample/2072.wav', '/content/drive/MyDrive/bsc_thesis/early_media_sample/2042.wav', '/content/drive/MyDrive/bsc_thesis/early_media_sample/3471.wav', '/content/drive/MyDrive/bsc_thesis/early_media_sample/3884.wav', '/content/drive/MyDrive/bsc_thesis/early_media_sample/2519.wav', '/content/drive/MyDrive/bsc_thesis/early_media_sample/1922.wav', '/content/drive/MyDrive/bsc_thesis/early_media_sample/2744.wav', '/content/drive/MyDrive/bsc_thesis/early_media_sample/24.wav', '/content/drive/MyDrive/bsc_thesis/early_media_sample/3136.wav', '/content/drive/MyDrive/bsc_thesis/early_media_sample/3651.wav', '/content/drive/MyDrive/bsc_thesis/early_media_sample/1632.wav', '/content/drive/MyDrive/bsc_thesis/early_media_sample/892.wav', '/content/drive/MyDrive/bsc_thesis/early_media_sample/1516.wav', '/content/drive/MyDrive/bsc_thesis/early_media_sample/551.wav', '/content/drive/MyDrive/bsc_thesis/early_media_sample/2706.wav', '/content/drive/MyDrive/bsc_thesis/early_media_sample/2493.wav', '/content/drive/MyDrive/bsc_thesis/early_media_sample/3568.wav', '/content/drive/MyDrive/bsc_thesis/early_media_sample/4139.wav', '/content/drive/MyDrive/bsc_thesis/early_media_sample/2651.wav', '/content/drive/MyDrive/bsc_thesis/early_media_sample/779.wav', '/content/drive/MyDrive/bsc_thesis/early_media_sample/3247.wav', '/content/drive/MyDrive/bsc_thesis/early_media_sample/1556.wav', '/content/drive/MyDrive/bsc_thesis/early_media_sample/1373.wav', '/content/drive/MyDrive/bsc_thesis/early_media_sample/353.wav', '/content/drive/MyDrive/bsc_thesis/early_media_sample/270.wav', '/content/drive/MyDrive/bsc_thesis/early_media_sample/3972.wav', '/content/drive/MyDrive/bsc_thesis/early_media_sample/3357.wav', '/content/drive/MyDrive/bsc_thesis/early_media_sample/1162.wav', '/content/drive/MyDrive/bsc_thesis/early_media_sample/3500.wav', '/content/drive/MyDrive/bsc_thesis/early_media_sample/2162.wav', '/content/drive/MyDrive/bsc_thesis/early_media_sample/2290.wav', '/content/drive/MyDrive/bsc_thesis/early_media_sample/2167.wav', '/content/drive/MyDrive/bsc_thesis/early_media_sample/3891.wav', '/content/drive/MyDrive/bsc_thesis/early_media_sample/1730.wav', '/content/drive/MyDrive/bsc_thesis/early_media_sample/2435.wav', '/content/drive/MyDrive/bsc_thesis/early_media_sample/611.wav', '/content/drive/MyDrive/bsc_thesis/early_media_sample/1210.wav', '/content/drive/MyDrive/bsc_thesis/early_media_sample/3063.wav', '/content/drive/MyDrive/bsc_thesis/early_media_sample/4092.wav', '/content/drive/MyDrive/bsc_thesis/early_media_sample/1758.wav', '/content/drive/MyDrive/bsc_thesis/early_media_sample/3772.wav', '/content/drive/MyDrive/bsc_thesis/early_media_sample/303.wav', '/content/drive/MyDrive/bsc_thesis/early_media_sample/519.wav', '/content/drive/MyDrive/bsc_thesis/early_media_sample/400.wav', '/content/drive/MyDrive/bsc_thesis/early_media_sample/377.wav', '/content/drive/MyDrive/bsc_thesis/early_media_sample/1656.wav', '/content/drive/MyDrive/bsc_thesis/early_media_sample/942.wav', '/content/drive/MyDrive/bsc_thesis/early_media_sample/1701.wav', '/content/drive/MyDrive/bsc_thesis/early_media_sample/2847.wav', '/content/drive/MyDrive/bsc_thesis/early_media_sample/2780.wav', '/content/drive/MyDrive/bsc_thesis/early_media_sample/4108.wav', '/content/drive/MyDrive/bsc_thesis/early_media_sample/1726.wav', '/content/drive/MyDrive/bsc_thesis/early_media_sample/2869.wav', '/content/drive/MyDrive/bsc_thesis/early_media_sample/2812.wav', '/content/drive/MyDrive/bsc_thesis/early_media_sample/3012.wav', '/content/drive/MyDrive/bsc_thesis/early_media_sample/3172.wav', '/content/drive/MyDrive/bsc_thesis/early_media_sample/2533.wav', '/content/drive/MyDrive/bsc_thesis/early_media_sample/3153.wav', '/content/drive/MyDrive/bsc_thesis/early_media_sample/420.wav', '/content/drive/MyDrive/bsc_thesis/early_media_sample/1046.wav', '/content/drive/MyDrive/bsc_thesis/early_media_sample/2029.wav', '/content/drive/MyDrive/bsc_thesis/early_media_sample/2395.wav', '/content/drive/MyDrive/bsc_thesis/early_media_sample/3585.wav', '/content/drive/MyDrive/bsc_thesis/early_media_sample/1903.wav', '/content/drive/MyDrive/bsc_thesis/early_media_sample/204.wav', '/content/drive/MyDrive/bsc_thesis/early_media_sample/2488.wav', '/content/drive/MyDrive/bsc_thesis/early_media_sample/2485.wav', '/content/drive/MyDrive/bsc_thesis/early_media_sample/1063.wav', '/content/drive/MyDrive/bsc_thesis/early_media_sample/157.wav', '/content/drive/MyDrive/bsc_thesis/early_media_sample/2457.wav', '/content/drive/MyDrive/bsc_thesis/early_media_sample/656.wav', '/content/drive/MyDrive/bsc_thesis/early_media_sample/2849.wav', '/content/drive/MyDrive/bsc_thesis/early_media_sample/2879.wav', '/content/drive/MyDrive/bsc_thesis/early_media_sample/3266.wav', '/content/drive/MyDrive/bsc_thesis/early_media_sample/1367.wav', '/content/drive/MyDrive/bsc_thesis/early_media_sample/1597.wav', '/content/drive/MyDrive/bsc_thesis/early_media_sample/439.wav', '/content/drive/MyDrive/bsc_thesis/early_media_sample/4041.wav', '/content/drive/MyDrive/bsc_thesis/early_media_sample/1580.wav', '/content/drive/MyDrive/bsc_thesis/early_media_sample/2736.wav', '/content/drive/MyDrive/bsc_thesis/early_media_sample/2888.wav', '/content/drive/MyDrive/bsc_thesis/early_media_sample/3009.wav', '/content/drive/MyDrive/bsc_thesis/early_media_sample/2452.wav', '/content/drive/MyDrive/bsc_thesis/early_media_sample/646.wav', '/content/drive/MyDrive/bsc_thesis/early_media_sample/4082.wav', '/content/drive/MyDrive/bsc_thesis/early_media_sample/2982.wav', '/content/drive/MyDrive/bsc_thesis/early_media_sample/2948.wav', '/content/drive/MyDrive/bsc_thesis/early_media_sample/1413.wav', '/content/drive/MyDrive/bsc_thesis/early_media_sample/215.wav', '/content/drive/MyDrive/bsc_thesis/early_media_sample/3640.wav', '/content/drive/MyDrive/bsc_thesis/early_media_sample/4184.wav', '/content/drive/MyDrive/bsc_thesis/early_media_sample/343.wav', '/content/drive/MyDrive/bsc_thesis/early_media_sample/745.wav', '/content/drive/MyDrive/bsc_thesis/early_media_sample/2364.wav', '/content/drive/MyDrive/bsc_thesis/early_media_sample/125.wav', '/content/drive/MyDrive/bsc_thesis/early_media_sample/243.wav', '/content/drive/MyDrive/bsc_thesis/early_media_sample/602.wav', '/content/drive/MyDrive/bsc_thesis/early_media_sample/2598.wav', '/content/drive/MyDrive/bsc_thesis/early_media_sample/1825.wav', '/content/drive/MyDrive/bsc_thesis/early_media_sample/3706.wav', '/content/drive/MyDrive/bsc_thesis/early_media_sample/3423.wav', '/content/drive/MyDrive/bsc_thesis/early_media_sample/948.wav', '/content/drive/MyDrive/bsc_thesis/early_media_sample/2805.wav', '/content/drive/MyDrive/bsc_thesis/early_media_sample/2411.wav', '/content/drive/MyDrive/bsc_thesis/early_media_sample/152.wav', '/content/drive/MyDrive/bsc_thesis/early_media_sample/1157.wav', '/content/drive/MyDrive/bsc_thesis/early_media_sample/1314.wav', '/content/drive/MyDrive/bsc_thesis/early_media_sample/184.wav', '/content/drive/MyDrive/bsc_thesis/early_media_sample/2947.wav', '/content/drive/MyDrive/bsc_thesis/early_media_sample/3855.wav', '/content/drive/MyDrive/bsc_thesis/early_media_sample/1545.wav', '/content/drive/MyDrive/bsc_thesis/early_media_sample/2248.wav', '/content/drive/MyDrive/bsc_thesis/early_media_sample/855.wav', '/content/drive/MyDrive/bsc_thesis/early_media_sample/2408.wav', '/content/drive/MyDrive/bsc_thesis/early_media_sample/882.wav', '/content/drive/MyDrive/bsc_thesis/early_media_sample/2284.wav', '/content/drive/MyDrive/bsc_thesis/early_media_sample/1134.wav', '/content/drive/MyDrive/bsc_thesis/early_media_sample/3295.wav', '/content/drive/MyDrive/bsc_thesis/early_media_sample/949.wav', '/content/drive/MyDrive/bsc_thesis/early_media_sample/1264.wav', '/content/drive/MyDrive/bsc_thesis/early_media_sample/1482.wav', '/content/drive/MyDrive/bsc_thesis/early_media_sample/1453.wav', '/content/drive/MyDrive/bsc_thesis/early_media_sample/16.wav', '/content/drive/MyDrive/bsc_thesis/early_media_sample/1965.wav', '/content/drive/MyDrive/bsc_thesis/early_media_sample/2941.wav', '/content/drive/MyDrive/bsc_thesis/early_media_sample/1618.wav', '/content/drive/MyDrive/bsc_thesis/early_media_sample/3628.wav', '/content/drive/MyDrive/bsc_thesis/early_media_sample/2829.wav', '/content/drive/MyDrive/bsc_thesis/early_media_sample/2416.wav', '/content/drive/MyDrive/bsc_thesis/early_media_sample/1343.wav', '/content/drive/MyDrive/bsc_thesis/early_media_sample/1470.wav', '/content/drive/MyDrive/bsc_thesis/early_media_sample/1814.wav', '/content/drive/MyDrive/bsc_thesis/early_media_sample/1565.wav', '/content/drive/MyDrive/bsc_thesis/early_media_sample/2238.wav', '/content/drive/MyDrive/bsc_thesis/early_media_sample/227.wav', '/content/drive/MyDrive/bsc_thesis/early_media_sample/3569.wav', '/content/drive/MyDrive/bsc_thesis/early_media_sample/1604.wav', '/content/drive/MyDrive/bsc_thesis/early_media_sample/1286.wav', '/content/drive/MyDrive/bsc_thesis/early_media_sample/1094.wav', '/content/drive/MyDrive/bsc_thesis/early_media_sample/374.wav', '/content/drive/MyDrive/bsc_thesis/early_media_sample/2084.wav', '/content/drive/MyDrive/bsc_thesis/early_media_sample/539.wav', '/content/drive/MyDrive/bsc_thesis/early_media_sample/12.wav', '/content/drive/MyDrive/bsc_thesis/early_media_sample/693.wav', '/content/drive/MyDrive/bsc_thesis/early_media_sample/1476.wav', '/content/drive/MyDrive/bsc_thesis/early_media_sample/107.wav', '/content/drive/MyDrive/bsc_thesis/early_media_sample/1039.wav', '/content/drive/MyDrive/bsc_thesis/early_media_sample/4054.wav', '/content/drive/MyDrive/bsc_thesis/early_media_sample/2138.wav', '/content/drive/MyDrive/bsc_thesis/early_media_sample/4268.wav', '/content/drive/MyDrive/bsc_thesis/early_media_sample/3234.wav', '/content/drive/MyDrive/bsc_thesis/early_media_sample/389.wav', '/content/drive/MyDrive/bsc_thesis/early_media_sample/3316.wav', '/content/drive/MyDrive/bsc_thesis/early_media_sample/87.wav', '/content/drive/MyDrive/bsc_thesis/early_media_sample/789.wav', '/content/drive/MyDrive/bsc_thesis/early_media_sample/827.wav', '/content/drive/MyDrive/bsc_thesis/early_media_sample/1234.wav', '/content/drive/MyDrive/bsc_thesis/early_media_sample/3956.wav', '/content/drive/MyDrive/bsc_thesis/early_media_sample/3898.wav', '/content/drive/MyDrive/bsc_thesis/early_media_sample/1925.wav', '/content/drive/MyDrive/bsc_thesis/early_media_sample/1517.wav', '/content/drive/MyDrive/bsc_thesis/early_media_sample/3885.wav', '/content/drive/MyDrive/bsc_thesis/early_media_sample/1262.wav', '/content/drive/MyDrive/bsc_thesis/early_media_sample/3064.wav', '/content/drive/MyDrive/bsc_thesis/early_media_sample/3653.wav', '/content/drive/MyDrive/bsc_thesis/early_media_sample/2098.wav', '/content/drive/MyDrive/bsc_thesis/early_media_sample/2053.wav', '/content/drive/MyDrive/bsc_thesis/early_media_sample/1384.wav', '/content/drive/MyDrive/bsc_thesis/early_media_sample/2681.wav', '/content/drive/MyDrive/bsc_thesis/early_media_sample/864.wav', '/content/drive/MyDrive/bsc_thesis/early_media_sample/4457.wav', '/content/drive/MyDrive/bsc_thesis/early_media_sample/4386.wav', '/content/drive/MyDrive/bsc_thesis/early_media_sample/4043.wav', '/content/drive/MyDrive/bsc_thesis/early_media_sample/739.wav', '/content/drive/MyDrive/bsc_thesis/early_media_sample/3783.wav', '/content/drive/MyDrive/bsc_thesis/early_media_sample/315.wav', '/content/drive/MyDrive/bsc_thesis/early_media_sample/561.wav', '/content/drive/MyDrive/bsc_thesis/early_media_sample/695.wav', '/content/drive/MyDrive/bsc_thesis/early_media_sample/2702.wav', '/content/drive/MyDrive/bsc_thesis/early_media_sample/511.wav', '/content/drive/MyDrive/bsc_thesis/early_media_sample/1693.wav', '/content/drive/MyDrive/bsc_thesis/early_media_sample/479.wav', '/content/drive/MyDrive/bsc_thesis/early_media_sample/3619.wav', '/content/drive/MyDrive/bsc_thesis/early_media_sample/1931.wav', '/content/drive/MyDrive/bsc_thesis/early_media_sample/336.wav', '/content/drive/MyDrive/bsc_thesis/early_media_sample/4357.wav', '/content/drive/MyDrive/bsc_thesis/early_media_sample/2028.wav', '/content/drive/MyDrive/bsc_thesis/early_media_sample/4309.wav', '/content/drive/MyDrive/bsc_thesis/early_media_sample/126.wav', '/content/drive/MyDrive/bsc_thesis/early_media_sample/1932.wav', '/content/drive/MyDrive/bsc_thesis/early_media_sample/2031.wav', '/content/drive/MyDrive/bsc_thesis/early_media_sample/3848.wav', '/content/drive/MyDrive/bsc_thesis/early_media_sample/3245.wav', '/content/drive/MyDrive/bsc_thesis/early_media_sample/2754.wav', '/content/drive/MyDrive/bsc_thesis/early_media_sample/1738.wav', '/content/drive/MyDrive/bsc_thesis/early_media_sample/4296.wav', '/content/drive/MyDrive/bsc_thesis/early_media_sample/1562.wav', '/content/drive/MyDrive/bsc_thesis/early_media_sample/3582.wav', '/content/drive/MyDrive/bsc_thesis/early_media_sample/44.wav', '/content/drive/MyDrive/bsc_thesis/early_media_sample/913.wav', '/content/drive/MyDrive/bsc_thesis/early_media_sample/1101.wav', '/content/drive/MyDrive/bsc_thesis/early_media_sample/4004.wav', '/content/drive/MyDrive/bsc_thesis/early_media_sample/1828.wav', '/content/drive/MyDrive/bsc_thesis/early_media_sample/74.wav', '/content/drive/MyDrive/bsc_thesis/early_media_sample/2957.wav', '/content/drive/MyDrive/bsc_thesis/early_media_sample/1710.wav', '/content/drive/MyDrive/bsc_thesis/early_media_sample/3159.wav', '/content/drive/MyDrive/bsc_thesis/early_media_sample/826.wav', '/content/drive/MyDrive/bsc_thesis/early_media_sample/3694.wav', '/content/drive/MyDrive/bsc_thesis/early_media_sample/4220.wav', '/content/drive/MyDrive/bsc_thesis/early_media_sample/3168.wav', '/content/drive/MyDrive/bsc_thesis/early_media_sample/1212.wav', '/content/drive/MyDrive/bsc_thesis/early_media_sample/4356.wav', '/content/drive/MyDrive/bsc_thesis/early_media_sample/55.wav', '/content/drive/MyDrive/bsc_thesis/early_media_sample/3962.wav', '/content/drive/MyDrive/bsc_thesis/early_media_sample/246.wav', '/content/drive/MyDrive/bsc_thesis/early_media_sample/2607.wav', '/content/drive/MyDrive/bsc_thesis/early_media_sample/2894.wav', '/content/drive/MyDrive/bsc_thesis/early_media_sample/3039.wav', '/content/drive/MyDrive/bsc_thesis/early_media_sample/4458.wav', '/content/drive/MyDrive/bsc_thesis/early_media_sample/3227.wav', '/content/drive/MyDrive/bsc_thesis/early_media_sample/2561.wav', '/content/drive/MyDrive/bsc_thesis/early_media_sample/1854.wav', '/content/drive/MyDrive/bsc_thesis/early_media_sample/2128.wav', '/content/drive/MyDrive/bsc_thesis/early_media_sample/2851.wav', '/content/drive/MyDrive/bsc_thesis/early_media_sample/3573.wav', '/content/drive/MyDrive/bsc_thesis/early_media_sample/2666.wav', '/content/drive/MyDrive/bsc_thesis/early_media_sample/2069.wav', '/content/drive/MyDrive/bsc_thesis/early_media_sample/447.wav', '/content/drive/MyDrive/bsc_thesis/early_media_sample/163.wav', '/content/drive/MyDrive/bsc_thesis/early_media_sample/1863.wav', '/content/drive/MyDrive/bsc_thesis/early_media_sample/1685.wav', '/content/drive/MyDrive/bsc_thesis/early_media_sample/3556.wav', '/content/drive/MyDrive/bsc_thesis/early_media_sample/211.wav', '/content/drive/MyDrive/bsc_thesis/early_media_sample/2209.wav', '/content/drive/MyDrive/bsc_thesis/early_media_sample/3579.wav', '/content/drive/MyDrive/bsc_thesis/early_media_sample/342.wav', '/content/drive/MyDrive/bsc_thesis/early_media_sample/541.wav', '/content/drive/MyDrive/bsc_thesis/early_media_sample/951.wav', '/content/drive/MyDrive/bsc_thesis/early_media_sample/2535.wav', '/content/drive/MyDrive/bsc_thesis/early_media_sample/4225.wav', '/content/drive/MyDrive/bsc_thesis/early_media_sample/2391.wav', '/content/drive/MyDrive/bsc_thesis/early_media_sample/962.wav', '/content/drive/MyDrive/bsc_thesis/early_media_sample/3704.wav', '/content/drive/MyDrive/bsc_thesis/early_media_sample/258.wav', '/content/drive/MyDrive/bsc_thesis/early_media_sample/2243.wav', '/content/drive/MyDrive/bsc_thesis/early_media_sample/1533.wav', '/content/drive/MyDrive/bsc_thesis/early_media_sample/1066.wav', '/content/drive/MyDrive/bsc_thesis/early_media_sample/3550.wav', '/content/drive/MyDrive/bsc_thesis/early_media_sample/3994.wav', '/content/drive/MyDrive/bsc_thesis/early_media_sample/3562.wav', '/content/drive/MyDrive/bsc_thesis/early_media_sample/2354.wav', '/content/drive/MyDrive/bsc_thesis/early_media_sample/492.wav', '/content/drive/MyDrive/bsc_thesis/early_media_sample/3450.wav', '/content/drive/MyDrive/bsc_thesis/early_media_sample/2430.wav', '/content/drive/MyDrive/bsc_thesis/early_media_sample/1987.wav', '/content/drive/MyDrive/bsc_thesis/early_media_sample/716.wav', '/content/drive/MyDrive/bsc_thesis/early_media_sample/1363.wav', '/content/drive/MyDrive/bsc_thesis/early_media_sample/2397.wav', '/content/drive/MyDrive/bsc_thesis/early_media_sample/456.wav', '/content/drive/MyDrive/bsc_thesis/early_media_sample/96.wav', '/content/drive/MyDrive/bsc_thesis/early_media_sample/3930.wav', '/content/drive/MyDrive/bsc_thesis/early_media_sample/2189.wav', '/content/drive/MyDrive/bsc_thesis/early_media_sample/2807.wav', '/content/drive/MyDrive/bsc_thesis/early_media_sample/2135.wav', '/content/drive/MyDrive/bsc_thesis/early_media_sample/3443.wav', '/content/drive/MyDrive/bsc_thesis/early_media_sample/482.wav', '/content/drive/MyDrive/bsc_thesis/early_media_sample/167.wav', '/content/drive/MyDrive/bsc_thesis/early_media_sample/1050.wav', '/content/drive/MyDrive/bsc_thesis/early_media_sample/3530.wav', '/content/drive/MyDrive/bsc_thesis/early_media_sample/4006.wav', '/content/drive/MyDrive/bsc_thesis/early_media_sample/3913.wav', '/content/drive/MyDrive/bsc_thesis/early_media_sample/1798.wav', '/content/drive/MyDrive/bsc_thesis/early_media_sample/1933.wav', '/content/drive/MyDrive/bsc_thesis/early_media_sample/3652.wav', '/content/drive/MyDrive/bsc_thesis/early_media_sample/3563.wav', '/content/drive/MyDrive/bsc_thesis/early_media_sample/2989.wav', '/content/drive/MyDrive/bsc_thesis/early_media_sample/2217.wav', '/content/drive/MyDrive/bsc_thesis/early_media_sample/1781.wav', '/content/drive/MyDrive/bsc_thesis/early_media_sample/1528.wav', '/content/drive/MyDrive/bsc_thesis/early_media_sample/2.wav', '/content/drive/MyDrive/bsc_thesis/early_media_sample/2629.wav', '/content/drive/MyDrive/bsc_thesis/early_media_sample/3824.wav', '/content/drive/MyDrive/bsc_thesis/early_media_sample/4253.wav', '/content/drive/MyDrive/bsc_thesis/early_media_sample/193.wav', '/content/drive/MyDrive/bsc_thesis/early_media_sample/3581.wav', '/content/drive/MyDrive/bsc_thesis/early_media_sample/379.wav', '/content/drive/MyDrive/bsc_thesis/early_media_sample/1704.wav', '/content/drive/MyDrive/bsc_thesis/early_media_sample/1606.wav', '/content/drive/MyDrive/bsc_thesis/early_media_sample/2273.wav', '/content/drive/MyDrive/bsc_thesis/early_media_sample/1671.wav', '/content/drive/MyDrive/bsc_thesis/early_media_sample/698.wav', '/content/drive/MyDrive/bsc_thesis/early_media_sample/3594.wav', '/content/drive/MyDrive/bsc_thesis/early_media_sample/239.wav', '/content/drive/MyDrive/bsc_thesis/early_media_sample/3735.wav', '/content/drive/MyDrive/bsc_thesis/early_media_sample/3081.wav', '/content/drive/MyDrive/bsc_thesis/early_media_sample/4326.wav', '/content/drive/MyDrive/bsc_thesis/early_media_sample/4262.wav', '/content/drive/MyDrive/bsc_thesis/early_media_sample/1410.wav', '/content/drive/MyDrive/bsc_thesis/early_media_sample/3377.wav', '/content/drive/MyDrive/bsc_thesis/early_media_sample/18.wav', '/content/drive/MyDrive/bsc_thesis/early_media_sample/2685.wav', '/content/drive/MyDrive/bsc_thesis/early_media_sample/733.wav', '/content/drive/MyDrive/bsc_thesis/early_media_sample/2699.wav', '/content/drive/MyDrive/bsc_thesis/early_media_sample/1369.wav', '/content/drive/MyDrive/bsc_thesis/early_media_sample/4331.wav', '/content/drive/MyDrive/bsc_thesis/early_media_sample/1060.wav', '/content/drive/MyDrive/bsc_thesis/early_media_sample/3779.wav', '/content/drive/MyDrive/bsc_thesis/early_media_sample/2367.wav', '/content/drive/MyDrive/bsc_thesis/early_media_sample/520.wav', '/content/drive/MyDrive/bsc_thesis/early_media_sample/3011.wav', '/content/drive/MyDrive/bsc_thesis/early_media_sample/3230.wav', '/content/drive/MyDrive/bsc_thesis/early_media_sample/387.wav', '/content/drive/MyDrive/bsc_thesis/early_media_sample/2064.wav', '/content/drive/MyDrive/bsc_thesis/early_media_sample/1326.wav', '/content/drive/MyDrive/bsc_thesis/early_media_sample/1559.wav', '/content/drive/MyDrive/bsc_thesis/early_media_sample/2052.wav', '/content/drive/MyDrive/bsc_thesis/early_media_sample/2646.wav', '/content/drive/MyDrive/bsc_thesis/early_media_sample/589.wav', '/content/drive/MyDrive/bsc_thesis/early_media_sample/1243.wav', '/content/drive/MyDrive/bsc_thesis/early_media_sample/4405.wav', '/content/drive/MyDrive/bsc_thesis/early_media_sample/2617.wav', '/content/drive/MyDrive/bsc_thesis/early_media_sample/356.wav', '/content/drive/MyDrive/bsc_thesis/early_media_sample/4190.wav', '/content/drive/MyDrive/bsc_thesis/early_media_sample/3638.wav', '/content/drive/MyDrive/bsc_thesis/early_media_sample/2960.wav', '/content/drive/MyDrive/bsc_thesis/early_media_sample/112.wav', '/content/drive/MyDrive/bsc_thesis/early_media_sample/214.wav', '/content/drive/MyDrive/bsc_thesis/early_media_sample/3775.wav', '/content/drive/MyDrive/bsc_thesis/early_media_sample/1184.wav', '/content/drive/MyDrive/bsc_thesis/early_media_sample/1282.wav', '/content/drive/MyDrive/bsc_thesis/early_media_sample/3693.wav', '/content/drive/MyDrive/bsc_thesis/early_media_sample/1515.wav', '/content/drive/MyDrive/bsc_thesis/early_media_sample/383.wav', '/content/drive/MyDrive/bsc_thesis/early_media_sample/3890.wav', '/content/drive/MyDrive/bsc_thesis/early_media_sample/4318.wav', '/content/drive/MyDrive/bsc_thesis/early_media_sample/3263.wav', '/content/drive/MyDrive/bsc_thesis/early_media_sample/755.wav', '/content/drive/MyDrive/bsc_thesis/early_media_sample/2507.wav', '/content/drive/MyDrive/bsc_thesis/early_media_sample/1742.wav', '/content/drive/MyDrive/bsc_thesis/early_media_sample/406.wav', '/content/drive/MyDrive/bsc_thesis/early_media_sample/871.wav', '/content/drive/MyDrive/bsc_thesis/early_media_sample/2187.wav', '/content/drive/MyDrive/bsc_thesis/early_media_sample/2974.wav', '/content/drive/MyDrive/bsc_thesis/early_media_sample/1560.wav', '/content/drive/MyDrive/bsc_thesis/early_media_sample/4411.wav', '/content/drive/MyDrive/bsc_thesis/early_media_sample/361.wav', '/content/drive/MyDrive/bsc_thesis/early_media_sample/1856.wav', '/content/drive/MyDrive/bsc_thesis/early_media_sample/3058.wav', '/content/drive/MyDrive/bsc_thesis/early_media_sample/3441.wav', '/content/drive/MyDrive/bsc_thesis/early_media_sample/636.wav', '/content/drive/MyDrive/bsc_thesis/early_media_sample/1016.wav', '/content/drive/MyDrive/bsc_thesis/early_media_sample/199.wav', '/content/drive/MyDrive/bsc_thesis/early_media_sample/1855.wav', '/content/drive/MyDrive/bsc_thesis/early_media_sample/2627.wav', '/content/drive/MyDrive/bsc_thesis/early_media_sample/2054.wav', '/content/drive/MyDrive/bsc_thesis/early_media_sample/340.wav', '/content/drive/MyDrive/bsc_thesis/early_media_sample/82.wav', '/content/drive/MyDrive/bsc_thesis/early_media_sample/629.wav', '/content/drive/MyDrive/bsc_thesis/early_media_sample/1498.wav', '/content/drive/MyDrive/bsc_thesis/early_media_sample/877.wav', '/content/drive/MyDrive/bsc_thesis/early_media_sample/495.wav', '/content/drive/MyDrive/bsc_thesis/early_media_sample/2803.wav', '/content/drive/MyDrive/bsc_thesis/early_media_sample/2796.wav', '/content/drive/MyDrive/bsc_thesis/early_media_sample/305.wav', '/content/drive/MyDrive/bsc_thesis/early_media_sample/3661.wav', '/content/drive/MyDrive/bsc_thesis/early_media_sample/1324.wav', '/content/drive/MyDrive/bsc_thesis/early_media_sample/325.wav', '/content/drive/MyDrive/bsc_thesis/early_media_sample/3113.wav', '/content/drive/MyDrive/bsc_thesis/early_media_sample/1633.wav', '/content/drive/MyDrive/bsc_thesis/early_media_sample/3505.wav', '/content/drive/MyDrive/bsc_thesis/early_media_sample/618.wav', '/content/drive/MyDrive/bsc_thesis/early_media_sample/2383.wav', '/content/drive/MyDrive/bsc_thesis/early_media_sample/3989.wav', '/content/drive/MyDrive/bsc_thesis/early_media_sample/4106.wav', '/content/drive/MyDrive/bsc_thesis/early_media_sample/498.wav', '/content/drive/MyDrive/bsc_thesis/early_media_sample/3158.wav', '/content/drive/MyDrive/bsc_thesis/early_media_sample/2402.wav', '/content/drive/MyDrive/bsc_thesis/early_media_sample/1492.wav', '/content/drive/MyDrive/bsc_thesis/early_media_sample/209.wav', '/content/drive/MyDrive/bsc_thesis/early_media_sample/1033.wav', '/content/drive/MyDrive/bsc_thesis/early_media_sample/1551.wav', '/content/drive/MyDrive/bsc_thesis/early_media_sample/171.wav', '/content/drive/MyDrive/bsc_thesis/early_media_sample/1996.wav', '/content/drive/MyDrive/bsc_thesis/early_media_sample/4008.wav', '/content/drive/MyDrive/bsc_thesis/early_media_sample/4114.wav', '/content/drive/MyDrive/bsc_thesis/early_media_sample/100.wav', '/content/drive/MyDrive/bsc_thesis/early_media_sample/3576.wav', '/content/drive/MyDrive/bsc_thesis/early_media_sample/3029.wav', '/content/drive/MyDrive/bsc_thesis/early_media_sample/3946.wav', '/content/drive/MyDrive/bsc_thesis/early_media_sample/837.wav', '/content/drive/MyDrive/bsc_thesis/early_media_sample/23.wav', '/content/drive/MyDrive/bsc_thesis/early_media_sample/3071.wav', '/content/drive/MyDrive/bsc_thesis/early_media_sample/4303.wav', '/content/drive/MyDrive/bsc_thesis/early_media_sample/840.wav', '/content/drive/MyDrive/bsc_thesis/early_media_sample/3092.wav', '/content/drive/MyDrive/bsc_thesis/early_media_sample/345.wav', '/content/drive/MyDrive/bsc_thesis/early_media_sample/2645.wav', '/content/drive/MyDrive/bsc_thesis/early_media_sample/3023.wav', '/content/drive/MyDrive/bsc_thesis/early_media_sample/3084.wav', '/content/drive/MyDrive/bsc_thesis/early_media_sample/1904.wav', '/content/drive/MyDrive/bsc_thesis/early_media_sample/1982.wav', '/content/drive/MyDrive/bsc_thesis/early_media_sample/2828.wav', '/content/drive/MyDrive/bsc_thesis/early_media_sample/1077.wav', '/content/drive/MyDrive/bsc_thesis/early_media_sample/1387.wav', '/content/drive/MyDrive/bsc_thesis/early_media_sample/3017.wav', '/content/drive/MyDrive/bsc_thesis/early_media_sample/3933.wav', '/content/drive/MyDrive/bsc_thesis/early_media_sample/3032.wav', '/content/drive/MyDrive/bsc_thesis/early_media_sample/2655.wav', '/content/drive/MyDrive/bsc_thesis/early_media_sample/2783.wav', '/content/drive/MyDrive/bsc_thesis/early_media_sample/3858.wav', '/content/drive/MyDrive/bsc_thesis/early_media_sample/2620.wav', '/content/drive/MyDrive/bsc_thesis/early_media_sample/3997.wav', '/content/drive/MyDrive/bsc_thesis/early_media_sample/3527.wav', '/content/drive/MyDrive/bsc_thesis/early_media_sample/4134.wav', '/content/drive/MyDrive/bsc_thesis/early_media_sample/2682.wav', '/content/drive/MyDrive/bsc_thesis/early_media_sample/4121.wav', '/content/drive/MyDrive/bsc_thesis/early_media_sample/2080.wav', '/content/drive/MyDrive/bsc_thesis/early_media_sample/2027.wav', '/content/drive/MyDrive/bsc_thesis/early_media_sample/2106.wav', '/content/drive/MyDrive/bsc_thesis/early_media_sample/2605.wav', '/content/drive/MyDrive/bsc_thesis/early_media_sample/3097.wav', '/content/drive/MyDrive/bsc_thesis/early_media_sample/1542.wav', '/content/drive/MyDrive/bsc_thesis/early_media_sample/3213.wav', '/content/drive/MyDrive/bsc_thesis/early_media_sample/2623.wav', '/content/drive/MyDrive/bsc_thesis/early_media_sample/4155.wav', '/content/drive/MyDrive/bsc_thesis/early_media_sample/1920.wav', '/content/drive/MyDrive/bsc_thesis/early_media_sample/273.wav', '/content/drive/MyDrive/bsc_thesis/early_media_sample/572.wav', '/content/drive/MyDrive/bsc_thesis/early_media_sample/3909.wav', '/content/drive/MyDrive/bsc_thesis/early_media_sample/2582.wav', '/content/drive/MyDrive/bsc_thesis/early_media_sample/1835.wav', '/content/drive/MyDrive/bsc_thesis/early_media_sample/643.wav', '/content/drive/MyDrive/bsc_thesis/early_media_sample/2873.wav', '/content/drive/MyDrive/bsc_thesis/early_media_sample/558.wav', '/content/drive/MyDrive/bsc_thesis/early_media_sample/1056.wav', '/content/drive/MyDrive/bsc_thesis/early_media_sample/2312.wav', '/content/drive/MyDrive/bsc_thesis/early_media_sample/2540.wav', '/content/drive/MyDrive/bsc_thesis/early_media_sample/2802.wav', '/content/drive/MyDrive/bsc_thesis/early_media_sample/1175.wav', '/content/drive/MyDrive/bsc_thesis/early_media_sample/4192.wav', '/content/drive/MyDrive/bsc_thesis/early_media_sample/4166.wav', '/content/drive/MyDrive/bsc_thesis/early_media_sample/490.wav', '/content/drive/MyDrive/bsc_thesis/early_media_sample/159.wav', '/content/drive/MyDrive/bsc_thesis/early_media_sample/3655.wav', '/content/drive/MyDrive/bsc_thesis/early_media_sample/3635.wav', '/content/drive/MyDrive/bsc_thesis/early_media_sample/3408.wav', '/content/drive/MyDrive/bsc_thesis/early_media_sample/3621.wav', '/content/drive/MyDrive/bsc_thesis/early_media_sample/3644.wav', '/content/drive/MyDrive/bsc_thesis/early_media_sample/2809.wav', '/content/drive/MyDrive/bsc_thesis/early_media_sample/2759.wav', '/content/drive/MyDrive/bsc_thesis/early_media_sample/2973.wav', '/content/drive/MyDrive/bsc_thesis/early_media_sample/3332.wav', '/content/drive/MyDrive/bsc_thesis/early_media_sample/4217.wav', '/content/drive/MyDrive/bsc_thesis/early_media_sample/973.wav', '/content/drive/MyDrive/bsc_thesis/early_media_sample/3188.wav', '/content/drive/MyDrive/bsc_thesis/early_media_sample/4344.wav', '/content/drive/MyDrive/bsc_thesis/early_media_sample/1586.wav', '/content/drive/MyDrive/bsc_thesis/early_media_sample/3746.wav', '/content/drive/MyDrive/bsc_thesis/early_media_sample/3759.wav', '/content/drive/MyDrive/bsc_thesis/early_media_sample/2275.wav', '/content/drive/MyDrive/bsc_thesis/early_media_sample/3375.wav', '/content/drive/MyDrive/bsc_thesis/early_media_sample/710.wav', '/content/drive/MyDrive/bsc_thesis/early_media_sample/306.wav', '/content/drive/MyDrive/bsc_thesis/early_media_sample/2565.wav', '/content/drive/MyDrive/bsc_thesis/early_media_sample/3271.wav', '/content/drive/MyDrive/bsc_thesis/early_media_sample/3351.wav', '/content/drive/MyDrive/bsc_thesis/early_media_sample/4015.wav', '/content/drive/MyDrive/bsc_thesis/early_media_sample/3586.wav', '/content/drive/MyDrive/bsc_thesis/early_media_sample/278.wav', '/content/drive/MyDrive/bsc_thesis/early_media_sample/3040.wav', '/content/drive/MyDrive/bsc_thesis/early_media_sample/3173.wav', '/content/drive/MyDrive/bsc_thesis/early_media_sample/1743.wav', '/content/drive/MyDrive/bsc_thesis/early_media_sample/2934.wav', '/content/drive/MyDrive/bsc_thesis/early_media_sample/824.wav', '/content/drive/MyDrive/bsc_thesis/early_media_sample/3877.wav', '/content/drive/MyDrive/bsc_thesis/early_media_sample/9.wav', '/content/drive/MyDrive/bsc_thesis/early_media_sample/4287.wav', '/content/drive/MyDrive/bsc_thesis/early_media_sample/284.wav', '/content/drive/MyDrive/bsc_thesis/early_media_sample/852.wav', '/content/drive/MyDrive/bsc_thesis/early_media_sample/2806.wav', '/content/drive/MyDrive/bsc_thesis/early_media_sample/1802.wav', '/content/drive/MyDrive/bsc_thesis/early_media_sample/1092.wav', '/content/drive/MyDrive/bsc_thesis/early_media_sample/4032.wav', '/content/drive/MyDrive/bsc_thesis/early_media_sample/822.wav', '/content/drive/MyDrive/bsc_thesis/early_media_sample/1869.wav', '/content/drive/MyDrive/bsc_thesis/early_media_sample/3702.wav', '/content/drive/MyDrive/bsc_thesis/early_media_sample/2696.wav', '/content/drive/MyDrive/bsc_thesis/early_media_sample/1024.wav', '/content/drive/MyDrive/bsc_thesis/early_media_sample/614.wav', '/content/drive/MyDrive/bsc_thesis/early_media_sample/1427.wav', '/content/drive/MyDrive/bsc_thesis/early_media_sample/2467.wav', '/content/drive/MyDrive/bsc_thesis/early_media_sample/3711.wav', '/content/drive/MyDrive/bsc_thesis/early_media_sample/2287.wav', '/content/drive/MyDrive/bsc_thesis/early_media_sample/886.wav', '/content/drive/MyDrive/bsc_thesis/early_media_sample/3612.wav', '/content/drive/MyDrive/bsc_thesis/early_media_sample/683.wav', '/content/drive/MyDrive/bsc_thesis/early_media_sample/4467.wav', '/content/drive/MyDrive/bsc_thesis/early_media_sample/3442.wav', '/content/drive/MyDrive/bsc_thesis/early_media_sample/564.wav', '/content/drive/MyDrive/bsc_thesis/early_media_sample/1675.wav', '/content/drive/MyDrive/bsc_thesis/early_media_sample/2420.wav', '/content/drive/MyDrive/bsc_thesis/early_media_sample/1013.wav', '/content/drive/MyDrive/bsc_thesis/early_media_sample/3965.wav', '/content/drive/MyDrive/bsc_thesis/early_media_sample/1205.wav', '/content/drive/MyDrive/bsc_thesis/early_media_sample/1661.wav', '/content/drive/MyDrive/bsc_thesis/early_media_sample/1830.wav', '/content/drive/MyDrive/bsc_thesis/early_media_sample/2396.wav', '/content/drive/MyDrive/bsc_thesis/early_media_sample/1372.wav', '/content/drive/MyDrive/bsc_thesis/early_media_sample/3016.wav', '/content/drive/MyDrive/bsc_thesis/early_media_sample/3346.wav', '/content/drive/MyDrive/bsc_thesis/early_media_sample/1532.wav', '/content/drive/MyDrive/bsc_thesis/early_media_sample/4333.wav', '/content/drive/MyDrive/bsc_thesis/early_media_sample/748.wav', '/content/drive/MyDrive/bsc_thesis/early_media_sample/2998.wav', '/content/drive/MyDrive/bsc_thesis/early_media_sample/725.wav', '/content/drive/MyDrive/bsc_thesis/early_media_sample/4000.wav', '/content/drive/MyDrive/bsc_thesis/early_media_sample/3942.wav', '/content/drive/MyDrive/bsc_thesis/early_media_sample/3605.wav', '/content/drive/MyDrive/bsc_thesis/early_media_sample/1404.wav', '/content/drive/MyDrive/bsc_thesis/early_media_sample/2333.wav', '/content/drive/MyDrive/bsc_thesis/early_media_sample/1002.wav', '/content/drive/MyDrive/bsc_thesis/early_media_sample/3229.wav', '/content/drive/MyDrive/bsc_thesis/early_media_sample/1620.wav', '/content/drive/MyDrive/bsc_thesis/early_media_sample/1486.wav', '/content/drive/MyDrive/bsc_thesis/early_media_sample/3415.wav', '/content/drive/MyDrive/bsc_thesis/early_media_sample/1568.wav', '/content/drive/MyDrive/bsc_thesis/early_media_sample/1065.wav', '/content/drive/MyDrive/bsc_thesis/early_media_sample/1174.wav', '/content/drive/MyDrive/bsc_thesis/early_media_sample/3131.wav', '/content/drive/MyDrive/bsc_thesis/early_media_sample/3105.wav', '/content/drive/MyDrive/bsc_thesis/early_media_sample/4178.wav', '/content/drive/MyDrive/bsc_thesis/early_media_sample/3336.wav', '/content/drive/MyDrive/bsc_thesis/early_media_sample/299.wav', '/content/drive/MyDrive/bsc_thesis/early_media_sample/1121.wav', '/content/drive/MyDrive/bsc_thesis/early_media_sample/1025.wav', '/content/drive/MyDrive/bsc_thesis/early_media_sample/1071.wav', '/content/drive/MyDrive/bsc_thesis/early_media_sample/909.wav', '/content/drive/MyDrive/bsc_thesis/early_media_sample/2979.wav', '/content/drive/MyDrive/bsc_thesis/early_media_sample/2573.wav', '/content/drive/MyDrive/bsc_thesis/early_media_sample/2166.wav', '/content/drive/MyDrive/bsc_thesis/early_media_sample/3020.wav', '/content/drive/MyDrive/bsc_thesis/early_media_sample/483.wav', '/content/drive/MyDrive/bsc_thesis/early_media_sample/1648.wav', '/content/drive/MyDrive/bsc_thesis/early_media_sample/883.wav', '/content/drive/MyDrive/bsc_thesis/early_media_sample/1948.wav', '/content/drive/MyDrive/bsc_thesis/early_media_sample/2863.wav', '/content/drive/MyDrive/bsc_thesis/early_media_sample/957.wav', '/content/drive/MyDrive/bsc_thesis/early_media_sample/2384.wav', '/content/drive/MyDrive/bsc_thesis/early_media_sample/776.wav', '/content/drive/MyDrive/bsc_thesis/early_media_sample/549.wav', '/content/drive/MyDrive/bsc_thesis/early_media_sample/3787.wav', '/content/drive/MyDrive/bsc_thesis/early_media_sample/488.wav', '/content/drive/MyDrive/bsc_thesis/early_media_sample/3254.wav', '/content/drive/MyDrive/bsc_thesis/early_media_sample/3597.wav', '/content/drive/MyDrive/bsc_thesis/early_media_sample/1186.wav', '/content/drive/MyDrive/bsc_thesis/early_media_sample/1351.wav', '/content/drive/MyDrive/bsc_thesis/early_media_sample/2895.wav', '/content/drive/MyDrive/bsc_thesis/early_media_sample/669.wav', '/content/drive/MyDrive/bsc_thesis/early_media_sample/2136.wav', '/content/drive/MyDrive/bsc_thesis/early_media_sample/2558.wav', '/content/drive/MyDrive/bsc_thesis/early_media_sample/3141.wav', '/content/drive/MyDrive/bsc_thesis/early_media_sample/4257.wav', '/content/drive/MyDrive/bsc_thesis/early_media_sample/1727.wav', '/content/drive/MyDrive/bsc_thesis/early_media_sample/3650.wav', '/content/drive/MyDrive/bsc_thesis/early_media_sample/3470.wav', '/content/drive/MyDrive/bsc_thesis/early_media_sample/3178.wav', '/content/drive/MyDrive/bsc_thesis/early_media_sample/236.wav', '/content/drive/MyDrive/bsc_thesis/early_media_sample/3102.wav', '/content/drive/MyDrive/bsc_thesis/early_media_sample/31.wav', '/content/drive/MyDrive/bsc_thesis/early_media_sample/436.wav', '/content/drive/MyDrive/bsc_thesis/early_media_sample/4158.wav', '/content/drive/MyDrive/bsc_thesis/early_media_sample/696.wav', '/content/drive/MyDrive/bsc_thesis/early_media_sample/4012.wav', '/content/drive/MyDrive/bsc_thesis/early_media_sample/3952.wav', '/content/drive/MyDrive/bsc_thesis/early_media_sample/1104.wav', '/content/drive/MyDrive/bsc_thesis/early_media_sample/1402.wav', '/content/drive/MyDrive/bsc_thesis/early_media_sample/3013.wav', '/content/drive/MyDrive/bsc_thesis/early_media_sample/894.wav', '/content/drive/MyDrive/bsc_thesis/early_media_sample/1639.wav', '/content/drive/MyDrive/bsc_thesis/early_media_sample/1322.wav', '/content/drive/MyDrive/bsc_thesis/early_media_sample/3856.wav', '/content/drive/MyDrive/bsc_thesis/early_media_sample/442.wav', '/content/drive/MyDrive/bsc_thesis/early_media_sample/660.wav', '/content/drive/MyDrive/bsc_thesis/early_media_sample/922.wav', '/content/drive/MyDrive/bsc_thesis/early_media_sample/4396.wav', '/content/drive/MyDrive/bsc_thesis/early_media_sample/4224.wav', '/content/drive/MyDrive/bsc_thesis/early_media_sample/341.wav', '/content/drive/MyDrive/bsc_thesis/early_media_sample/2143.wav', '/content/drive/MyDrive/bsc_thesis/early_media_sample/1567.wav', '/content/drive/MyDrive/bsc_thesis/early_media_sample/2509.wav', '/content/drive/MyDrive/bsc_thesis/early_media_sample/4031.wav', '/content/drive/MyDrive/bsc_thesis/early_media_sample/1640.wav', '/content/drive/MyDrive/bsc_thesis/early_media_sample/2385.wav', '/content/drive/MyDrive/bsc_thesis/early_media_sample/4085.wav', '/content/drive/MyDrive/bsc_thesis/early_media_sample/1403.wav', '/content/drive/MyDrive/bsc_thesis/early_media_sample/4314.wav', '/content/drive/MyDrive/bsc_thesis/early_media_sample/2329.wav', '/content/drive/MyDrive/bsc_thesis/early_media_sample/4046.wav', '/content/drive/MyDrive/bsc_thesis/early_media_sample/2570.wav', '/content/drive/MyDrive/bsc_thesis/early_media_sample/3469.wav', '/content/drive/MyDrive/bsc_thesis/early_media_sample/2330.wav', '/content/drive/MyDrive/bsc_thesis/early_media_sample/1003.wav', '/content/drive/MyDrive/bsc_thesis/early_media_sample/1119.wav', '/content/drive/MyDrive/bsc_thesis/early_media_sample/331.wav', '/content/drive/MyDrive/bsc_thesis/early_media_sample/1950.wav', '/content/drive/MyDrive/bsc_thesis/early_media_sample/664.wav', '/content/drive/MyDrive/bsc_thesis/early_media_sample/3386.wav', '/content/drive/MyDrive/bsc_thesis/early_media_sample/2887.wav', '/content/drive/MyDrive/bsc_thesis/early_media_sample/4143.wav', '/content/drive/MyDrive/bsc_thesis/early_media_sample/1112.wav', '/content/drive/MyDrive/bsc_thesis/early_media_sample/2903.wav', '/content/drive/MyDrive/bsc_thesis/early_media_sample/2774.wav', '/content/drive/MyDrive/bsc_thesis/early_media_sample/4384.wav', '/content/drive/MyDrive/bsc_thesis/early_media_sample/3265.wav', '/content/drive/MyDrive/bsc_thesis/early_media_sample/2194.wav', '/content/drive/MyDrive/bsc_thesis/early_media_sample/3645.wav', '/content/drive/MyDrive/bsc_thesis/early_media_sample/1254.wav', '/content/drive/MyDrive/bsc_thesis/early_media_sample/4001.wav', '/content/drive/MyDrive/bsc_thesis/early_media_sample/4203.wav', '/content/drive/MyDrive/bsc_thesis/early_media_sample/3460.wav', '/content/drive/MyDrive/bsc_thesis/early_media_sample/2451.wav', '/content/drive/MyDrive/bsc_thesis/early_media_sample/4322.wav', '/content/drive/MyDrive/bsc_thesis/early_media_sample/3546.wav', '/content/drive/MyDrive/bsc_thesis/early_media_sample/3090.wav', '/content/drive/MyDrive/bsc_thesis/early_media_sample/2647.wav', '/content/drive/MyDrive/bsc_thesis/early_media_sample/2732.wav', '/content/drive/MyDrive/bsc_thesis/early_media_sample/1795.wav', '/content/drive/MyDrive/bsc_thesis/early_media_sample/985.wav', '/content/drive/MyDrive/bsc_thesis/early_media_sample/4244.wav', '/content/drive/MyDrive/bsc_thesis/early_media_sample/808.wav', '/content/drive/MyDrive/bsc_thesis/early_media_sample/3115.wav', '/content/drive/MyDrive/bsc_thesis/early_media_sample/4069.wav', '/content/drive/MyDrive/bsc_thesis/early_media_sample/3264.wav', '/content/drive/MyDrive/bsc_thesis/early_media_sample/1068.wav', '/content/drive/MyDrive/bsc_thesis/early_media_sample/1027.wav', '/content/drive/MyDrive/bsc_thesis/early_media_sample/1670.wav', '/content/drive/MyDrive/bsc_thesis/early_media_sample/4137.wav', '/content/drive/MyDrive/bsc_thesis/early_media_sample/2049.wav', '/content/drive/MyDrive/bsc_thesis/early_media_sample/1226.wav', '/content/drive/MyDrive/bsc_thesis/early_media_sample/981.wav', '/content/drive/MyDrive/bsc_thesis/early_media_sample/1415.wav', '/content/drive/MyDrive/bsc_thesis/early_media_sample/217.wav', '/content/drive/MyDrive/bsc_thesis/early_media_sample/2518.wav', '/content/drive/MyDrive/bsc_thesis/early_media_sample/4281.wav', '/content/drive/MyDrive/bsc_thesis/early_media_sample/2735.wav', '/content/drive/MyDrive/bsc_thesis/early_media_sample/4263.wav', '/content/drive/MyDrive/bsc_thesis/early_media_sample/2004.wav', '/content/drive/MyDrive/bsc_thesis/early_media_sample/1572.wav', '/content/drive/MyDrive/bsc_thesis/early_media_sample/472.wav', '/content/drive/MyDrive/bsc_thesis/early_media_sample/3666.wav', '/content/drive/MyDrive/bsc_thesis/early_media_sample/2954.wav', '/content/drive/MyDrive/bsc_thesis/early_media_sample/2077.wav', '/content/drive/MyDrive/bsc_thesis/early_media_sample/576.wav', '/content/drive/MyDrive/bsc_thesis/early_media_sample/4400.wav', '/content/drive/MyDrive/bsc_thesis/early_media_sample/1018.wav', '/content/drive/MyDrive/bsc_thesis/early_media_sample/155.wav', '/content/drive/MyDrive/bsc_thesis/early_media_sample/2583.wav', '/content/drive/MyDrive/bsc_thesis/early_media_sample/2778.wav', '/content/drive/MyDrive/bsc_thesis/early_media_sample/2642.wav', '/content/drive/MyDrive/bsc_thesis/early_media_sample/3753.wav', '/content/drive/MyDrive/bsc_thesis/early_media_sample/1074.wav', '/content/drive/MyDrive/bsc_thesis/early_media_sample/1044.wav', '/content/drive/MyDrive/bsc_thesis/early_media_sample/1193.wav', '/content/drive/MyDrive/bsc_thesis/early_media_sample/3405.wav', '/content/drive/MyDrive/bsc_thesis/early_media_sample/914.wav', '/content/drive/MyDrive/bsc_thesis/early_media_sample/4436.wav', '/content/drive/MyDrive/bsc_thesis/early_media_sample/1715.wav', '/content/drive/MyDrive/bsc_thesis/early_media_sample/2417.wav', '/content/drive/MyDrive/bsc_thesis/early_media_sample/2971.wav', '/content/drive/MyDrive/bsc_thesis/early_media_sample/2752.wav', '/content/drive/MyDrive/bsc_thesis/early_media_sample/3819.wav', '/content/drive/MyDrive/bsc_thesis/early_media_sample/2690.wav', '/content/drive/MyDrive/bsc_thesis/early_media_sample/3372.wav', '/content/drive/MyDrive/bsc_thesis/early_media_sample/746.wav', '/content/drive/MyDrive/bsc_thesis/early_media_sample/1435.wav', '/content/drive/MyDrive/bsc_thesis/early_media_sample/348.wav', '/content/drive/MyDrive/bsc_thesis/early_media_sample/1294.wav', '/content/drive/MyDrive/bsc_thesis/early_media_sample/2808.wav', '/content/drive/MyDrive/bsc_thesis/early_media_sample/392.wav', '/content/drive/MyDrive/bsc_thesis/early_media_sample/3236.wav', '/content/drive/MyDrive/bsc_thesis/early_media_sample/3843.wav', '/content/drive/MyDrive/bsc_thesis/early_media_sample/3603.wav', '/content/drive/MyDrive/bsc_thesis/early_media_sample/124.wav', '/content/drive/MyDrive/bsc_thesis/early_media_sample/2213.wav', '/content/drive/MyDrive/bsc_thesis/early_media_sample/4007.wav', '/content/drive/MyDrive/bsc_thesis/early_media_sample/2661.wav', '/content/drive/MyDrive/bsc_thesis/early_media_sample/3001.wav', '/content/drive/MyDrive/bsc_thesis/early_media_sample/3022.wav', '/content/drive/MyDrive/bsc_thesis/early_media_sample/2197.wav', '/content/drive/MyDrive/bsc_thesis/early_media_sample/652.wav', '/content/drive/MyDrive/bsc_thesis/early_media_sample/4239.wav', '/content/drive/MyDrive/bsc_thesis/early_media_sample/3637.wav', '/content/drive/MyDrive/bsc_thesis/early_media_sample/3945.wav', '/content/drive/MyDrive/bsc_thesis/early_media_sample/1957.wav', '/content/drive/MyDrive/bsc_thesis/early_media_sample/1374.wav', '/content/drive/MyDrive/bsc_thesis/early_media_sample/1805.wav', '/content/drive/MyDrive/bsc_thesis/early_media_sample/1395.wav', '/content/drive/MyDrive/bsc_thesis/early_media_sample/2016.wav', '/content/drive/MyDrive/bsc_thesis/early_media_sample/3560.wav', '/content/drive/MyDrive/bsc_thesis/early_media_sample/4167.wav', '/content/drive/MyDrive/bsc_thesis/early_media_sample/546.wav', '/content/drive/MyDrive/bsc_thesis/early_media_sample/2883.wav', '/content/drive/MyDrive/bsc_thesis/early_media_sample/2019.wav', '/content/drive/MyDrive/bsc_thesis/early_media_sample/1995.wav', '/content/drive/MyDrive/bsc_thesis/early_media_sample/4415.wav', '/content/drive/MyDrive/bsc_thesis/early_media_sample/865.wav', '/content/drive/MyDrive/bsc_thesis/early_media_sample/1912.wav', '/content/drive/MyDrive/bsc_thesis/early_media_sample/2317.wav', '/content/drive/MyDrive/bsc_thesis/early_media_sample/1190.wav', '/content/drive/MyDrive/bsc_thesis/early_media_sample/1824.wav', '/content/drive/MyDrive/bsc_thesis/early_media_sample/1288.wav', '/content/drive/MyDrive/bsc_thesis/early_media_sample/591.wav', '/content/drive/MyDrive/bsc_thesis/early_media_sample/3725.wav', '/content/drive/MyDrive/bsc_thesis/early_media_sample/2181.wav', '/content/drive/MyDrive/bsc_thesis/early_media_sample/2278.wav', '/content/drive/MyDrive/bsc_thesis/early_media_sample/3549.wav', '/content/drive/MyDrive/bsc_thesis/early_media_sample/4148.wav', '/content/drive/MyDrive/bsc_thesis/early_media_sample/438.wav', '/content/drive/MyDrive/bsc_thesis/early_media_sample/2336.wav', '/content/drive/MyDrive/bsc_thesis/early_media_sample/2554.wav', '/content/drive/MyDrive/bsc_thesis/early_media_sample/3331.wav', '/content/drive/MyDrive/bsc_thesis/early_media_sample/2185.wav', '/content/drive/MyDrive/bsc_thesis/early_media_sample/906.wav', '/content/drive/MyDrive/bsc_thesis/early_media_sample/1287.wav', '/content/drive/MyDrive/bsc_thesis/early_media_sample/1985.wav', '/content/drive/MyDrive/bsc_thesis/early_media_sample/2835.wav', '/content/drive/MyDrive/bsc_thesis/early_media_sample/2102.wav', '/content/drive/MyDrive/bsc_thesis/early_media_sample/3418.wav', '/content/drive/MyDrive/bsc_thesis/early_media_sample/3600.wav', '/content/drive/MyDrive/bsc_thesis/early_media_sample/842.wav', '/content/drive/MyDrive/bsc_thesis/early_media_sample/2043.wav', '/content/drive/MyDrive/bsc_thesis/early_media_sample/2771.wav', '/content/drive/MyDrive/bsc_thesis/early_media_sample/3860.wav', '/content/drive/MyDrive/bsc_thesis/early_media_sample/220.wav', '/content/drive/MyDrive/bsc_thesis/early_media_sample/3838.wav', '/content/drive/MyDrive/bsc_thesis/early_media_sample/350.wav', '/content/drive/MyDrive/bsc_thesis/early_media_sample/1124.wav', '/content/drive/MyDrive/bsc_thesis/early_media_sample/3766.wav', '/content/drive/MyDrive/bsc_thesis/early_media_sample/1733.wav', '/content/drive/MyDrive/bsc_thesis/early_media_sample/3112.wav', '/content/drive/MyDrive/bsc_thesis/early_media_sample/4101.wav', '/content/drive/MyDrive/bsc_thesis/early_media_sample/3135.wav', '/content/drive/MyDrive/bsc_thesis/early_media_sample/1137.wav', '/content/drive/MyDrive/bsc_thesis/early_media_sample/423.wav', '/content/drive/MyDrive/bsc_thesis/early_media_sample/4464.wav', '/content/drive/MyDrive/bsc_thesis/early_media_sample/3720.wav', '/content/drive/MyDrive/bsc_thesis/early_media_sample/3542.wav', '/content/drive/MyDrive/bsc_thesis/early_media_sample/722.wav', '/content/drive/MyDrive/bsc_thesis/early_media_sample/3206.wav', '/content/drive/MyDrive/bsc_thesis/early_media_sample/1549.wav', '/content/drive/MyDrive/bsc_thesis/early_media_sample/4168.wav', '/content/drive/MyDrive/bsc_thesis/early_media_sample/2309.wav', '/content/drive/MyDrive/bsc_thesis/early_media_sample/1979.wav', '/content/drive/MyDrive/bsc_thesis/early_media_sample/1026.wav', '/content/drive/MyDrive/bsc_thesis/early_media_sample/119.wav', '/content/drive/MyDrive/bsc_thesis/early_media_sample/1986.wav', '/content/drive/MyDrive/bsc_thesis/early_media_sample/1663.wav', '/content/drive/MyDrive/bsc_thesis/early_media_sample/2625.wav', '/content/drive/MyDrive/bsc_thesis/early_media_sample/2464.wav', '/content/drive/MyDrive/bsc_thesis/early_media_sample/603.wav', '/content/drive/MyDrive/bsc_thesis/early_media_sample/738.wav', '/content/drive/MyDrive/bsc_thesis/early_media_sample/1260.wav', '/content/drive/MyDrive/bsc_thesis/early_media_sample/978.wav', '/content/drive/MyDrive/bsc_thesis/early_media_sample/3424.wav', '/content/drive/MyDrive/bsc_thesis/early_media_sample/1547.wav', '/content/drive/MyDrive/bsc_thesis/early_media_sample/4116.wav', '/content/drive/MyDrive/bsc_thesis/early_media_sample/3624.wav', '/content/drive/MyDrive/bsc_thesis/early_media_sample/3030.wav', '/content/drive/MyDrive/bsc_thesis/early_media_sample/814.wav', '/content/drive/MyDrive/bsc_thesis/early_media_sample/744.wav', '/content/drive/MyDrive/bsc_thesis/early_media_sample/4315.wav', '/content/drive/MyDrive/bsc_thesis/early_media_sample/2442.wav', '/content/drive/MyDrive/bsc_thesis/early_media_sample/105.wav', '/content/drive/MyDrive/bsc_thesis/early_media_sample/2246.wav', '/content/drive/MyDrive/bsc_thesis/early_media_sample/1189.wav', '/content/drive/MyDrive/bsc_thesis/early_media_sample/407.wav', '/content/drive/MyDrive/bsc_thesis/early_media_sample/1375.wav', '/content/drive/MyDrive/bsc_thesis/early_media_sample/3333.wav', '/content/drive/MyDrive/bsc_thesis/early_media_sample/1089.wav', '/content/drive/MyDrive/bsc_thesis/early_media_sample/2848.wav', '/content/drive/MyDrive/bsc_thesis/early_media_sample/196.wav', '/content/drive/MyDrive/bsc_thesis/early_media_sample/3903.wav', '/content/drive/MyDrive/bsc_thesis/early_media_sample/4360.wav', '/content/drive/MyDrive/bsc_thesis/early_media_sample/3558.wav', '/content/drive/MyDrive/bsc_thesis/early_media_sample/110.wav', '/content/drive/MyDrive/bsc_thesis/early_media_sample/3511.wav', '/content/drive/MyDrive/bsc_thesis/early_media_sample/3410.wav', '/content/drive/MyDrive/bsc_thesis/early_media_sample/238.wav', '/content/drive/MyDrive/bsc_thesis/early_media_sample/933.wav', '/content/drive/MyDrive/bsc_thesis/early_media_sample/4388.wav', '/content/drive/MyDrive/bsc_thesis/early_media_sample/2867.wav', '/content/drive/MyDrive/bsc_thesis/early_media_sample/2233.wav', '/content/drive/MyDrive/bsc_thesis/early_media_sample/740.wav', '/content/drive/MyDrive/bsc_thesis/early_media_sample/1366.wav', '/content/drive/MyDrive/bsc_thesis/early_media_sample/1561.wav', '/content/drive/MyDrive/bsc_thesis/early_media_sample/178.wav', '/content/drive/MyDrive/bsc_thesis/early_media_sample/714.wav', '/content/drive/MyDrive/bsc_thesis/early_media_sample/132.wav', '/content/drive/MyDrive/bsc_thesis/early_media_sample/3690.wav', '/content/drive/MyDrive/bsc_thesis/early_media_sample/4282.wav', '/content/drive/MyDrive/bsc_thesis/early_media_sample/1575.wav', '/content/drive/MyDrive/bsc_thesis/early_media_sample/1708.wav', '/content/drive/MyDrive/bsc_thesis/early_media_sample/2059.wav', '/content/drive/MyDrive/bsc_thesis/early_media_sample/3130.wav', '/content/drive/MyDrive/bsc_thesis/early_media_sample/1536.wav', '/content/drive/MyDrive/bsc_thesis/early_media_sample/3534.wav', '/content/drive/MyDrive/bsc_thesis/early_media_sample/2511.wav', '/content/drive/MyDrive/bsc_thesis/early_media_sample/578.wav', '/content/drive/MyDrive/bsc_thesis/early_media_sample/3872.wav', '/content/drive/MyDrive/bsc_thesis/early_media_sample/971.wav', '/content/drive/MyDrive/bsc_thesis/early_media_sample/4048.wav', '/content/drive/MyDrive/bsc_thesis/early_media_sample/2006.wav', '/content/drive/MyDrive/bsc_thesis/early_media_sample/448.wav', '/content/drive/MyDrive/bsc_thesis/early_media_sample/997.wav', '/content/drive/MyDrive/bsc_thesis/early_media_sample/56.wav', '/content/drive/MyDrive/bsc_thesis/early_media_sample/2602.wav', '/content/drive/MyDrive/bsc_thesis/early_media_sample/775.wav', '/content/drive/MyDrive/bsc_thesis/early_media_sample/959.wav', '/content/drive/MyDrive/bsc_thesis/early_media_sample/4221.wav', '/content/drive/MyDrive/bsc_thesis/early_media_sample/2199.wav', '/content/drive/MyDrive/bsc_thesis/early_media_sample/4452.wav', '/content/drive/MyDrive/bsc_thesis/early_media_sample/1240.wav', '/content/drive/MyDrive/bsc_thesis/early_media_sample/2868.wav', '/content/drive/MyDrive/bsc_thesis/early_media_sample/1269.wav', '/content/drive/MyDrive/bsc_thesis/early_media_sample/35.wav', '/content/drive/MyDrive/bsc_thesis/early_media_sample/2133.wav', '/content/drive/MyDrive/bsc_thesis/early_media_sample/3815.wav', '/content/drive/MyDrive/bsc_thesis/early_media_sample/1833.wav', '/content/drive/MyDrive/bsc_thesis/early_media_sample/4075.wav', '/content/drive/MyDrive/bsc_thesis/early_media_sample/3668.wav', '/content/drive/MyDrive/bsc_thesis/early_media_sample/3682.wav', '/content/drive/MyDrive/bsc_thesis/early_media_sample/4058.wav', '/content/drive/MyDrive/bsc_thesis/early_media_sample/4334.wav', '/content/drive/MyDrive/bsc_thesis/early_media_sample/2650.wav', '/content/drive/MyDrive/bsc_thesis/early_media_sample/1271.wav', '/content/drive/MyDrive/bsc_thesis/early_media_sample/3647.wav', '/content/drive/MyDrive/bsc_thesis/early_media_sample/2639.wav', '/content/drive/MyDrive/bsc_thesis/early_media_sample/953.wav', '/content/drive/MyDrive/bsc_thesis/early_media_sample/3817.wav', '/content/drive/MyDrive/bsc_thesis/early_media_sample/1919.wav', '/content/drive/MyDrive/bsc_thesis/early_media_sample/2658.wav', '/content/drive/MyDrive/bsc_thesis/early_media_sample/590.wav', '/content/drive/MyDrive/bsc_thesis/early_media_sample/2373.wav', '/content/drive/MyDrive/bsc_thesis/early_media_sample/3535.wav', '/content/drive/MyDrive/bsc_thesis/early_media_sample/2730.wav', '/content/drive/MyDrive/bsc_thesis/early_media_sample/1120.wav', '/content/drive/MyDrive/bsc_thesis/early_media_sample/2427.wav', '/content/drive/MyDrive/bsc_thesis/early_media_sample/104.wav', '/content/drive/MyDrive/bsc_thesis/early_media_sample/4065.wav', '/content/drive/MyDrive/bsc_thesis/early_media_sample/4311.wav', '/content/drive/MyDrive/bsc_thesis/early_media_sample/2739.wav', '/content/drive/MyDrive/bsc_thesis/early_media_sample/1378.wav', '/content/drive/MyDrive/bsc_thesis/early_media_sample/3696.wav', '/content/drive/MyDrive/bsc_thesis/early_media_sample/3414.wav', '/content/drive/MyDrive/bsc_thesis/early_media_sample/2886.wav', '/content/drive/MyDrive/bsc_thesis/early_media_sample/2704.wav', '/content/drive/MyDrive/bsc_thesis/early_media_sample/4030.wav', '/content/drive/MyDrive/bsc_thesis/early_media_sample/2969.wav', '/content/drive/MyDrive/bsc_thesis/early_media_sample/86.wav', '/content/drive/MyDrive/bsc_thesis/early_media_sample/580.wav', '/content/drive/MyDrive/bsc_thesis/early_media_sample/3620.wav', '/content/drive/MyDrive/bsc_thesis/early_media_sample/4093.wav', '/content/drive/MyDrive/bsc_thesis/early_media_sample/907.wav', '/content/drive/MyDrive/bsc_thesis/early_media_sample/3109.wav', '/content/drive/MyDrive/bsc_thesis/early_media_sample/3291.wav', '/content/drive/MyDrive/bsc_thesis/early_media_sample/765.wav', '/content/drive/MyDrive/bsc_thesis/early_media_sample/3814.wav', '/content/drive/MyDrive/bsc_thesis/early_media_sample/1585.wav', '/content/drive/MyDrive/bsc_thesis/early_media_sample/2961.wav', '/content/drive/MyDrive/bsc_thesis/early_media_sample/463.wav', '/content/drive/MyDrive/bsc_thesis/early_media_sample/3503.wav', '/content/drive/MyDrive/bsc_thesis/early_media_sample/252.wav', '/content/drive/MyDrive/bsc_thesis/early_media_sample/2776.wav', '/content/drive/MyDrive/bsc_thesis/early_media_sample/2279.wav', '/content/drive/MyDrive/bsc_thesis/early_media_sample/380.wav', '/content/drive/MyDrive/bsc_thesis/early_media_sample/3873.wav', '/content/drive/MyDrive/bsc_thesis/early_media_sample/134.wav', '/content/drive/MyDrive/bsc_thesis/early_media_sample/672.wav', '/content/drive/MyDrive/bsc_thesis/early_media_sample/2119.wav', '/content/drive/MyDrive/bsc_thesis/early_media_sample/3174.wav', '/content/drive/MyDrive/bsc_thesis/early_media_sample/3249.wav', '/content/drive/MyDrive/bsc_thesis/early_media_sample/1791.wav', '/content/drive/MyDrive/bsc_thesis/early_media_sample/1812.wav', '/content/drive/MyDrive/bsc_thesis/early_media_sample/3789.wav', '/content/drive/MyDrive/bsc_thesis/early_media_sample/2767.wav', '/content/drive/MyDrive/bsc_thesis/early_media_sample/623.wav', '/content/drive/MyDrive/bsc_thesis/early_media_sample/509.wav', '/content/drive/MyDrive/bsc_thesis/early_media_sample/364.wav', '/content/drive/MyDrive/bsc_thesis/early_media_sample/497.wav', '/content/drive/MyDrive/bsc_thesis/early_media_sample/2823.wav', '/content/drive/MyDrive/bsc_thesis/early_media_sample/2039.wav', '/content/drive/MyDrive/bsc_thesis/early_media_sample/4243.wav', '/content/drive/MyDrive/bsc_thesis/early_media_sample/4227.wav', '/content/drive/MyDrive/bsc_thesis/early_media_sample/1923.wav', '/content/drive/MyDrive/bsc_thesis/early_media_sample/2926.wav', '/content/drive/MyDrive/bsc_thesis/early_media_sample/3681.wav', '/content/drive/MyDrive/bsc_thesis/early_media_sample/2489.wav', '/content/drive/MyDrive/bsc_thesis/early_media_sample/3526.wav', '/content/drive/MyDrive/bsc_thesis/early_media_sample/1405.wav', '/content/drive/MyDrive/bsc_thesis/early_media_sample/1469.wav', '/content/drive/MyDrive/bsc_thesis/early_media_sample/2120.wav', '/content/drive/MyDrive/bsc_thesis/early_media_sample/543.wav', '/content/drive/MyDrive/bsc_thesis/early_media_sample/3150.wav', '/content/drive/MyDrive/bsc_thesis/early_media_sample/2999.wav', '/content/drive/MyDrive/bsc_thesis/early_media_sample/2692.wav', '/content/drive/MyDrive/bsc_thesis/early_media_sample/113.wav', '/content/drive/MyDrive/bsc_thesis/early_media_sample/3622.wav', '/content/drive/MyDrive/bsc_thesis/early_media_sample/485.wav', '/content/drive/MyDrive/bsc_thesis/early_media_sample/2258.wav', '/content/drive/MyDrive/bsc_thesis/early_media_sample/317.wav', '/content/drive/MyDrive/bsc_thesis/early_media_sample/3516.wav', '/content/drive/MyDrive/bsc_thesis/early_media_sample/286.wav', '/content/drive/MyDrive/bsc_thesis/early_media_sample/2708.wav', '/content/drive/MyDrive/bsc_thesis/early_media_sample/3958.wav', '/content/drive/MyDrive/bsc_thesis/early_media_sample/3177.wav', '/content/drive/MyDrive/bsc_thesis/early_media_sample/1591.wav', '/content/drive/MyDrive/bsc_thesis/early_media_sample/440.wav', '/content/drive/MyDrive/bsc_thesis/early_media_sample/887.wav', '/content/drive/MyDrive/bsc_thesis/early_media_sample/4011.wav', '/content/drive/MyDrive/bsc_thesis/early_media_sample/986.wav', '/content/drive/MyDrive/bsc_thesis/early_media_sample/4421.wav', '/content/drive/MyDrive/bsc_thesis/early_media_sample/3252.wav', '/content/drive/MyDrive/bsc_thesis/early_media_sample/3275.wav', '/content/drive/MyDrive/bsc_thesis/early_media_sample/2772.wav', '/content/drive/MyDrive/bsc_thesis/early_media_sample/2665.wav', '/content/drive/MyDrive/bsc_thesis/early_media_sample/2061.wav', '/content/drive/MyDrive/bsc_thesis/early_media_sample/274.wav', '/content/drive/MyDrive/bsc_thesis/early_media_sample/4232.wav', '/content/drive/MyDrive/bsc_thesis/early_media_sample/3686.wav', '/content/drive/MyDrive/bsc_thesis/early_media_sample/2553.wav', '/content/drive/MyDrive/bsc_thesis/early_media_sample/3932.wav', '/content/drive/MyDrive/bsc_thesis/early_media_sample/2845.wav', '/content/drive/MyDrive/bsc_thesis/early_media_sample/3396.wav', '/content/drive/MyDrive/bsc_thesis/early_media_sample/2538.wav', '/content/drive/MyDrive/bsc_thesis/early_media_sample/1508.wav', '/content/drive/MyDrive/bsc_thesis/early_media_sample/2794.wav', '/content/drive/MyDrive/bsc_thesis/early_media_sample/1064.wav', '/content/drive/MyDrive/bsc_thesis/early_media_sample/2498.wav', '/content/drive/MyDrive/bsc_thesis/early_media_sample/1697.wav', '/content/drive/MyDrive/bsc_thesis/early_media_sample/2578.wav', '/content/drive/MyDrive/bsc_thesis/early_media_sample/2917.wav', '/content/drive/MyDrive/bsc_thesis/early_media_sample/2901.wav', '/content/drive/MyDrive/bsc_thesis/early_media_sample/109.wav', '/content/drive/MyDrive/bsc_thesis/early_media_sample/668.wav', '/content/drive/MyDrive/bsc_thesis/early_media_sample/2590.wav', '/content/drive/MyDrive/bsc_thesis/early_media_sample/41.wav', '/content/drive/MyDrive/bsc_thesis/early_media_sample/3716.wav', '/content/drive/MyDrive/bsc_thesis/early_media_sample/4285.wav', '/content/drive/MyDrive/bsc_thesis/early_media_sample/1087.wav', '/content/drive/MyDrive/bsc_thesis/early_media_sample/4005.wav', '/content/drive/MyDrive/bsc_thesis/early_media_sample/141.wav', '/content/drive/MyDrive/bsc_thesis/early_media_sample/3305.wav', '/content/drive/MyDrive/bsc_thesis/early_media_sample/2923.wav', '/content/drive/MyDrive/bsc_thesis/early_media_sample/2204.wav', '/content/drive/MyDrive/bsc_thesis/early_media_sample/2478.wav', '/content/drive/MyDrive/bsc_thesis/early_media_sample/2882.wav', '/content/drive/MyDrive/bsc_thesis/early_media_sample/1461.wav', '/content/drive/MyDrive/bsc_thesis/early_media_sample/1446.wav', '/content/drive/MyDrive/bsc_thesis/early_media_sample/3198.wav', '/content/drive/MyDrive/bsc_thesis/early_media_sample/1335.wav', '/content/drive/MyDrive/bsc_thesis/early_media_sample/1748.wav', '/content/drive/MyDrive/bsc_thesis/early_media_sample/3103.wav', '/content/drive/MyDrive/bsc_thesis/early_media_sample/573.wav', '/content/drive/MyDrive/bsc_thesis/early_media_sample/267.wav', '/content/drive/MyDrive/bsc_thesis/early_media_sample/1617.wav', '/content/drive/MyDrive/bsc_thesis/early_media_sample/4383.wav', '/content/drive/MyDrive/bsc_thesis/early_media_sample/2423.wav', '/content/drive/MyDrive/bsc_thesis/early_media_sample/49.wav', '/content/drive/MyDrive/bsc_thesis/early_media_sample/1849.wav', '/content/drive/MyDrive/bsc_thesis/early_media_sample/2295.wav', '/content/drive/MyDrive/bsc_thesis/early_media_sample/3350.wav', '/content/drive/MyDrive/bsc_thesis/early_media_sample/4099.wav', '/content/drive/MyDrive/bsc_thesis/early_media_sample/3863.wav', '/content/drive/MyDrive/bsc_thesis/early_media_sample/3268.wav', '/content/drive/MyDrive/bsc_thesis/early_media_sample/903.wav', '/content/drive/MyDrive/bsc_thesis/early_media_sample/4138.wav', '/content/drive/MyDrive/bsc_thesis/early_media_sample/369.wav', '/content/drive/MyDrive/bsc_thesis/early_media_sample/1599.wav', '/content/drive/MyDrive/bsc_thesis/early_media_sample/2564.wav', '/content/drive/MyDrive/bsc_thesis/early_media_sample/1550.wav', '/content/drive/MyDrive/bsc_thesis/early_media_sample/3699.wav', '/content/drive/MyDrive/bsc_thesis/early_media_sample/1383.wav', '/content/drive/MyDrive/bsc_thesis/early_media_sample/1211.wav', '/content/drive/MyDrive/bsc_thesis/early_media_sample/3426.wav', '/content/drive/MyDrive/bsc_thesis/early_media_sample/3876.wav', '/content/drive/MyDrive/bsc_thesis/early_media_sample/4219.wav', '/content/drive/MyDrive/bsc_thesis/early_media_sample/2738.wav', '/content/drive/MyDrive/bsc_thesis/early_media_sample/2680.wav', '/content/drive/MyDrive/bsc_thesis/early_media_sample/3611.wav', '/content/drive/MyDrive/bsc_thesis/early_media_sample/3850.wav', '/content/drive/MyDrive/bsc_thesis/early_media_sample/2154.wav', '/content/drive/MyDrive/bsc_thesis/early_media_sample/1949.wav', '/content/drive/MyDrive/bsc_thesis/early_media_sample/2093.wav', '/content/drive/MyDrive/bsc_thesis/early_media_sample/1694.wav', '/content/drive/MyDrive/bsc_thesis/early_media_sample/1578.wav', '/content/drive/MyDrive/bsc_thesis/early_media_sample/3302.wav', '/content/drive/MyDrive/bsc_thesis/early_media_sample/3895.wav', '/content/drive/MyDrive/bsc_thesis/early_media_sample/3627.wav', '/content/drive/MyDrive/bsc_thesis/early_media_sample/2536.wav', '/content/drive/MyDrive/bsc_thesis/early_media_sample/1043.wav', '/content/drive/MyDrive/bsc_thesis/early_media_sample/3924.wav', '/content/drive/MyDrive/bsc_thesis/early_media_sample/1850.wav', '/content/drive/MyDrive/bsc_thesis/early_media_sample/53.wav', '/content/drive/MyDrive/bsc_thesis/early_media_sample/1173.wav', '/content/drive/MyDrive/bsc_thesis/early_media_sample/180.wav', '/content/drive/MyDrive/bsc_thesis/early_media_sample/1823.wav', '/content/drive/MyDrive/bsc_thesis/early_media_sample/3575.wav', '/content/drive/MyDrive/bsc_thesis/early_media_sample/768.wav', '/content/drive/MyDrive/bsc_thesis/early_media_sample/382.wav', '/content/drive/MyDrive/bsc_thesis/early_media_sample/179.wav', '/content/drive/MyDrive/bsc_thesis/early_media_sample/1263.wav', '/content/drive/MyDrive/bsc_thesis/early_media_sample/2616.wav', '/content/drive/MyDrive/bsc_thesis/early_media_sample/1625.wav', '/content/drive/MyDrive/bsc_thesis/early_media_sample/1020.wav', '/content/drive/MyDrive/bsc_thesis/early_media_sample/2222.wav', '/content/drive/MyDrive/bsc_thesis/early_media_sample/2575.wav', '/content/drive/MyDrive/bsc_thesis/early_media_sample/242.wav', '/content/drive/MyDrive/bsc_thesis/early_media_sample/1876.wav', '/content/drive/MyDrive/bsc_thesis/early_media_sample/506.wav', '/content/drive/MyDrive/bsc_thesis/early_media_sample/2361.wav', '/content/drive/MyDrive/bsc_thesis/early_media_sample/2349.wav', '/content/drive/MyDrive/bsc_thesis/early_media_sample/876.wav', '/content/drive/MyDrive/bsc_thesis/early_media_sample/732.wav', '/content/drive/MyDrive/bsc_thesis/early_media_sample/501.wav', '/content/drive/MyDrive/bsc_thesis/early_media_sample/3412.wav', '/content/drive/MyDrive/bsc_thesis/early_media_sample/1475.wav', '/content/drive/MyDrive/bsc_thesis/early_media_sample/2436.wav', '/content/drive/MyDrive/bsc_thesis/early_media_sample/1185.wav', '/content/drive/MyDrive/bsc_thesis/early_media_sample/858.wav', '/content/drive/MyDrive/bsc_thesis/early_media_sample/3910.wav', '/content/drive/MyDrive/bsc_thesis/early_media_sample/30.wav', '/content/drive/MyDrive/bsc_thesis/early_media_sample/2529.wav', '/content/drive/MyDrive/bsc_thesis/early_media_sample/1487.wav', '/content/drive/MyDrive/bsc_thesis/early_media_sample/2510.wav', '/content/drive/MyDrive/bsc_thesis/early_media_sample/1379.wav', '/content/drive/MyDrive/bsc_thesis/early_media_sample/233.wav', '/content/drive/MyDrive/bsc_thesis/early_media_sample/2350.wav', '/content/drive/MyDrive/bsc_thesis/early_media_sample/792.wav', '/content/drive/MyDrive/bsc_thesis/early_media_sample/3445.wav', '/content/drive/MyDrive/bsc_thesis/early_media_sample/1393.wav', '/content/drive/MyDrive/bsc_thesis/early_media_sample/39.wav', '/content/drive/MyDrive/bsc_thesis/early_media_sample/4365.wav', '/content/drive/MyDrive/bsc_thesis/early_media_sample/3990.wav', '/content/drive/MyDrive/bsc_thesis/early_media_sample/1213.wav', '/content/drive/MyDrive/bsc_thesis/early_media_sample/445.wav', '/content/drive/MyDrive/bsc_thesis/early_media_sample/3209.wav', '/content/drive/MyDrive/bsc_thesis/early_media_sample/2320.wav', '/content/drive/MyDrive/bsc_thesis/early_media_sample/1718.wav', '/content/drive/MyDrive/bsc_thesis/early_media_sample/1365.wav', '/content/drive/MyDrive/bsc_thesis/early_media_sample/326.wav', '/content/drive/MyDrive/bsc_thesis/early_media_sample/4129.wav', '/content/drive/MyDrive/bsc_thesis/early_media_sample/1595.wav', '/content/drive/MyDrive/bsc_thesis/early_media_sample/686.wav', '/content/drive/MyDrive/bsc_thesis/early_media_sample/3601.wav', '/content/drive/MyDrive/bsc_thesis/early_media_sample/1207.wav', '/content/drive/MyDrive/bsc_thesis/early_media_sample/3300.wav', '/content/drive/MyDrive/bsc_thesis/early_media_sample/1969.wav', '/content/drive/MyDrive/bsc_thesis/early_media_sample/961.wav', '/content/drive/MyDrive/bsc_thesis/early_media_sample/2341.wav', '/content/drive/MyDrive/bsc_thesis/early_media_sample/2057.wav', '/content/drive/MyDrive/bsc_thesis/early_media_sample/940.wav', '/content/drive/MyDrive/bsc_thesis/early_media_sample/3087.wav', '/content/drive/MyDrive/bsc_thesis/early_media_sample/2112.wav', '/content/drive/MyDrive/bsc_thesis/early_media_sample/3321.wav', '/content/drive/MyDrive/bsc_thesis/early_media_sample/2318.wav', '/content/drive/MyDrive/bsc_thesis/early_media_sample/212.wav', '/content/drive/MyDrive/bsc_thesis/early_media_sample/3517.wav', '/content/drive/MyDrive/bsc_thesis/early_media_sample/4432.wav', '/content/drive/MyDrive/bsc_thesis/early_media_sample/4207.wav', '/content/drive/MyDrive/bsc_thesis/early_media_sample/898.wav', '/content/drive/MyDrive/bsc_thesis/early_media_sample/3182.wav', '/content/drive/MyDrive/bsc_thesis/early_media_sample/3256.wav', '/content/drive/MyDrive/bsc_thesis/early_media_sample/1041.wav', '/content/drive/MyDrive/bsc_thesis/early_media_sample/4038.wav', '/content/drive/MyDrive/bsc_thesis/early_media_sample/2228.wav', '/content/drive/MyDrive/bsc_thesis/early_media_sample/2115.wav', '/content/drive/MyDrive/bsc_thesis/early_media_sample/2306.wav', '/content/drive/MyDrive/bsc_thesis/early_media_sample/1111.wav', '/content/drive/MyDrive/bsc_thesis/early_media_sample/958.wav', '/content/drive/MyDrive/bsc_thesis/early_media_sample/969.wav', '/content/drive/MyDrive/bsc_thesis/early_media_sample/417.wav', '/content/drive/MyDrive/bsc_thesis/early_media_sample/1419.wav', '/content/drive/MyDrive/bsc_thesis/early_media_sample/4098.wav', '/content/drive/MyDrive/bsc_thesis/early_media_sample/355.wav', '/content/drive/MyDrive/bsc_thesis/early_media_sample/3317.wav', '/content/drive/MyDrive/bsc_thesis/early_media_sample/1821.wav', '/content/drive/MyDrive/bsc_thesis/early_media_sample/846.wav', '/content/drive/MyDrive/bsc_thesis/early_media_sample/4387.wav', '/content/drive/MyDrive/bsc_thesis/early_media_sample/3790.wav', '/content/drive/MyDrive/bsc_thesis/early_media_sample/557.wav', '/content/drive/MyDrive/bsc_thesis/early_media_sample/2630.wav', '/content/drive/MyDrive/bsc_thesis/early_media_sample/2051.wav', '/content/drive/MyDrive/bsc_thesis/early_media_sample/3051.wav', '/content/drive/MyDrive/bsc_thesis/early_media_sample/1915.wav', '/content/drive/MyDrive/bsc_thesis/early_media_sample/3854.wav', '/content/drive/MyDrive/bsc_thesis/early_media_sample/3232.wav', '/content/drive/MyDrive/bsc_thesis/early_media_sample/4107.wav', '/content/drive/MyDrive/bsc_thesis/early_media_sample/1088.wav', '/content/drive/MyDrive/bsc_thesis/early_media_sample/2017.wav', '/content/drive/MyDrive/bsc_thesis/early_media_sample/2490.wav', '/content/drive/MyDrive/bsc_thesis/early_media_sample/3243.wav', '/content/drive/MyDrive/bsc_thesis/early_media_sample/4096.wav', '/content/drive/MyDrive/bsc_thesis/early_media_sample/2864.wav', '/content/drive/MyDrive/bsc_thesis/early_media_sample/404.wav', '/content/drive/MyDrive/bsc_thesis/early_media_sample/137.wav', '/content/drive/MyDrive/bsc_thesis/early_media_sample/2545.wav', '/content/drive/MyDrive/bsc_thesis/early_media_sample/4042.wav', '/content/drive/MyDrive/bsc_thesis/early_media_sample/2813.wav', '/content/drive/MyDrive/bsc_thesis/early_media_sample/3923.wav', '/content/drive/MyDrive/bsc_thesis/early_media_sample/1245.wav', '/content/drive/MyDrive/bsc_thesis/early_media_sample/666.wav', '/content/drive/MyDrive/bsc_thesis/early_media_sample/2421.wav', '/content/drive/MyDrive/bsc_thesis/early_media_sample/402.wav', '/content/drive/MyDrive/bsc_thesis/early_media_sample/2648.wav', '/content/drive/MyDrive/bsc_thesis/early_media_sample/2818.wav', '/content/drive/MyDrive/bsc_thesis/early_media_sample/3499.wav', '/content/drive/MyDrive/bsc_thesis/early_media_sample/3118.wav', '/content/drive/MyDrive/bsc_thesis/early_media_sample/1014.wav', '/content/drive/MyDrive/bsc_thesis/early_media_sample/517.wav', '/content/drive/MyDrive/bsc_thesis/early_media_sample/770.wav', '/content/drive/MyDrive/bsc_thesis/early_media_sample/2104.wav', '/content/drive/MyDrive/bsc_thesis/early_media_sample/1785.wav', '/content/drive/MyDrive/bsc_thesis/early_media_sample/3947.wav', '/content/drive/MyDrive/bsc_thesis/early_media_sample/2103.wav', '/content/drive/MyDrive/bsc_thesis/early_media_sample/1529.wav', '/content/drive/MyDrive/bsc_thesis/early_media_sample/537.wav', '/content/drive/MyDrive/bsc_thesis/early_media_sample/3074.wav', '/content/drive/MyDrive/bsc_thesis/early_media_sample/2337.wav', '/content/drive/MyDrive/bsc_thesis/early_media_sample/2884.wav', '/content/drive/MyDrive/bsc_thesis/early_media_sample/2569.wav', '/content/drive/MyDrive/bsc_thesis/early_media_sample/1170.wav', '/content/drive/MyDrive/bsc_thesis/early_media_sample/451.wav', '/content/drive/MyDrive/bsc_thesis/early_media_sample/3528.wav', '/content/drive/MyDrive/bsc_thesis/early_media_sample/469.wav', '/content/drive/MyDrive/bsc_thesis/early_media_sample/121.wav', '/content/drive/MyDrive/bsc_thesis/early_media_sample/1042.wav', '/content/drive/MyDrive/bsc_thesis/early_media_sample/1555.wav', '/content/drive/MyDrive/bsc_thesis/early_media_sample/477.wav', '/content/drive/MyDrive/bsc_thesis/early_media_sample/994.wav', '/content/drive/MyDrive/bsc_thesis/early_media_sample/4149.wav', '/content/drive/MyDrive/bsc_thesis/early_media_sample/2526.wav', '/content/drive/MyDrive/bsc_thesis/early_media_sample/3623.wav', '/content/drive/MyDrive/bsc_thesis/early_media_sample/885.wav', '/content/drive/MyDrive/bsc_thesis/early_media_sample/2628.wav', '/content/drive/MyDrive/bsc_thesis/early_media_sample/1320.wav', '/content/drive/MyDrive/bsc_thesis/early_media_sample/277.wav', '/content/drive/MyDrive/bsc_thesis/early_media_sample/346.wav', '/content/drive/MyDrive/bsc_thesis/early_media_sample/3308.wav', '/content/drive/MyDrive/bsc_thesis/early_media_sample/144.wav', '/content/drive/MyDrive/bsc_thesis/early_media_sample/2589.wav', '/content/drive/MyDrive/bsc_thesis/early_media_sample/2530.wav', '/content/drive/MyDrive/bsc_thesis/early_media_sample/1268.wav', '/content/drive/MyDrive/bsc_thesis/early_media_sample/3292.wav', '/content/drive/MyDrive/bsc_thesis/early_media_sample/1668.wav', '/content/drive/MyDrive/bsc_thesis/early_media_sample/3662.wav', '/content/drive/MyDrive/bsc_thesis/early_media_sample/2453.wav', '/content/drive/MyDrive/bsc_thesis/early_media_sample/595.wav', '/content/drive/MyDrive/bsc_thesis/early_media_sample/3951.wav', '/content/drive/MyDrive/bsc_thesis/early_media_sample/1253.wav', '/content/drive/MyDrive/bsc_thesis/early_media_sample/3110.wav', '/content/drive/MyDrive/bsc_thesis/early_media_sample/1215.wav', '/content/drive/MyDrive/bsc_thesis/early_media_sample/867.wav', '/content/drive/MyDrive/bsc_thesis/early_media_sample/1946.wav', '/content/drive/MyDrive/bsc_thesis/early_media_sample/2398.wav', '/content/drive/MyDrive/bsc_thesis/early_media_sample/2787.wav', '/content/drive/MyDrive/bsc_thesis/early_media_sample/851.wav', '/content/drive/MyDrive/bsc_thesis/early_media_sample/1148.wav', '/content/drive/MyDrive/bsc_thesis/early_media_sample/2944.wav', '/content/drive/MyDrive/bsc_thesis/early_media_sample/3277.wav', '/content/drive/MyDrive/bsc_thesis/early_media_sample/3324.wav', '/content/drive/MyDrive/bsc_thesis/early_media_sample/2987.wav', '/content/drive/MyDrive/bsc_thesis/early_media_sample/3703.wav', '/content/drive/MyDrive/bsc_thesis/early_media_sample/1526.wav', '/content/drive/MyDrive/bsc_thesis/early_media_sample/4302.wav', '/content/drive/MyDrive/bsc_thesis/early_media_sample/1988.wav', '/content/drive/MyDrive/bsc_thesis/early_media_sample/3486.wav', '/content/drive/MyDrive/bsc_thesis/early_media_sample/1125.wav', '/content/drive/MyDrive/bsc_thesis/early_media_sample/1306.wav', '/content/drive/MyDrive/bsc_thesis/early_media_sample/2788.wav', '/content/drive/MyDrive/bsc_thesis/early_media_sample/3242.wav', '/content/drive/MyDrive/bsc_thesis/early_media_sample/2740.wav', '/content/drive/MyDrive/bsc_thesis/early_media_sample/828.wav', '/content/drive/MyDrive/bsc_thesis/early_media_sample/2289.wav', '/content/drive/MyDrive/bsc_thesis/early_media_sample/2327.wav', '/content/drive/MyDrive/bsc_thesis/early_media_sample/3739.wav', '/content/drive/MyDrive/bsc_thesis/early_media_sample/425.wav', '/content/drive/MyDrive/bsc_thesis/early_media_sample/2281.wav', '/content/drive/MyDrive/bsc_thesis/early_media_sample/2210.wav', '/content/drive/MyDrive/bsc_thesis/early_media_sample/3868.wav', '/content/drive/MyDrive/bsc_thesis/early_media_sample/3139.wav', '/content/drive/MyDrive/bsc_thesis/early_media_sample/1820.wav', '/content/drive/MyDrive/bsc_thesis/early_media_sample/2667.wav', '/content/drive/MyDrive/bsc_thesis/early_media_sample/1145.wav', '/content/drive/MyDrive/bsc_thesis/early_media_sample/1480.wav', '/content/drive/MyDrive/bsc_thesis/early_media_sample/1182.wav', '/content/drive/MyDrive/bsc_thesis/early_media_sample/3964.wav', '/content/drive/MyDrive/bsc_thesis/early_media_sample/4353.wav', '/content/drive/MyDrive/bsc_thesis/early_media_sample/988.wav', '/content/drive/MyDrive/bsc_thesis/early_media_sample/2409.wav', '/content/drive/MyDrive/bsc_thesis/early_media_sample/1939.wav', '/content/drive/MyDrive/bsc_thesis/early_media_sample/705.wav', '/content/drive/MyDrive/bsc_thesis/early_media_sample/749.wav', '/content/drive/MyDrive/bsc_thesis/early_media_sample/980.wav', '/content/drive/MyDrive/bsc_thesis/early_media_sample/4463.wav', '/content/drive/MyDrive/bsc_thesis/early_media_sample/2091.wav', '/content/drive/MyDrive/bsc_thesis/early_media_sample/2548.wav', '/content/drive/MyDrive/bsc_thesis/early_media_sample/1686.wav', '/content/drive/MyDrive/bsc_thesis/early_media_sample/2422.wav', '/content/drive/MyDrive/bsc_thesis/early_media_sample/1385.wav', '/content/drive/MyDrive/bsc_thesis/early_media_sample/2249.wav', '/content/drive/MyDrive/bsc_thesis/early_media_sample/503.wav', '/content/drive/MyDrive/bsc_thesis/early_media_sample/2592.wav', '/content/drive/MyDrive/bsc_thesis/early_media_sample/845.wav', '/content/drive/MyDrive/bsc_thesis/early_media_sample/2577.wav', '/content/drive/MyDrive/bsc_thesis/early_media_sample/4022.wav', '/content/drive/MyDrive/bsc_thesis/early_media_sample/4197.wav', '/content/drive/MyDrive/bsc_thesis/early_media_sample/3123.wav', '/content/drive/MyDrive/bsc_thesis/early_media_sample/4465.wav', '/content/drive/MyDrive/bsc_thesis/early_media_sample/1612.wav', '/content/drive/MyDrive/bsc_thesis/early_media_sample/2742.wav', '/content/drive/MyDrive/bsc_thesis/early_media_sample/357.wav', '/content/drive/MyDrive/bsc_thesis/early_media_sample/3523.wav', '/content/drive/MyDrive/bsc_thesis/early_media_sample/2814.wav', '/content/drive/MyDrive/bsc_thesis/early_media_sample/2062.wav', '/content/drive/MyDrive/bsc_thesis/early_media_sample/210.wav', '/content/drive/MyDrive/bsc_thesis/early_media_sample/3729.wav', '/content/drive/MyDrive/bsc_thesis/early_media_sample/3320.wav', '/content/drive/MyDrive/bsc_thesis/early_media_sample/146.wav', '/content/drive/MyDrive/bsc_thesis/early_media_sample/3767.wav', '/content/drive/MyDrive/bsc_thesis/early_media_sample/3870.wav', '/content/drive/MyDrive/bsc_thesis/early_media_sample/1527.wav', '/content/drive/MyDrive/bsc_thesis/early_media_sample/3750.wav', '/content/drive/MyDrive/bsc_thesis/early_media_sample/4074.wav', '/content/drive/MyDrive/bsc_thesis/early_media_sample/2085.wav', '/content/drive/MyDrive/bsc_thesis/early_media_sample/1414.wav', '/content/drive/MyDrive/bsc_thesis/early_media_sample/98.wav', '/content/drive/MyDrive/bsc_thesis/early_media_sample/2075.wav', '/content/drive/MyDrive/bsc_thesis/early_media_sample/570.wav', '/content/drive/MyDrive/bsc_thesis/early_media_sample/3657.wav', '/content/drive/MyDrive/bsc_thesis/early_media_sample/2261.wav', '/content/drive/MyDrive/bsc_thesis/early_media_sample/2014.wav', '/content/drive/MyDrive/bsc_thesis/early_media_sample/3374.wav', '/content/drive/MyDrive/bsc_thesis/early_media_sample/207.wav', '/content/drive/MyDrive/bsc_thesis/early_media_sample/2377.wav', '/content/drive/MyDrive/bsc_thesis/early_media_sample/560.wav', '/content/drive/MyDrive/bsc_thesis/early_media_sample/584.wav', '/content/drive/MyDrive/bsc_thesis/early_media_sample/3433.wav', '/content/drive/MyDrive/bsc_thesis/early_media_sample/1787.wav', '/content/drive/MyDrive/bsc_thesis/early_media_sample/4183.wav', '/content/drive/MyDrive/bsc_thesis/early_media_sample/3356.wav', '/content/drive/MyDrive/bsc_thesis/early_media_sample/3745.wav', '/content/drive/MyDrive/bsc_thesis/early_media_sample/2513.wav', '/content/drive/MyDrive/bsc_thesis/early_media_sample/563.wav', '/content/drive/MyDrive/bsc_thesis/early_media_sample/372.wav', '/content/drive/MyDrive/bsc_thesis/early_media_sample/4191.wav', '/content/drive/MyDrive/bsc_thesis/early_media_sample/2301.wav', '/content/drive/MyDrive/bsc_thesis/early_media_sample/496.wav', '/content/drive/MyDrive/bsc_thesis/early_media_sample/4258.wav', '/content/drive/MyDrive/bsc_thesis/early_media_sample/324.wav', '/content/drive/MyDrive/bsc_thesis/early_media_sample/3015.wav', '/content/drive/MyDrive/bsc_thesis/early_media_sample/459.wav', '/content/drive/MyDrive/bsc_thesis/early_media_sample/3674.wav', '/content/drive/MyDrive/bsc_thesis/early_media_sample/2387.wav', '/content/drive/MyDrive/bsc_thesis/early_media_sample/1242.wav', '/content/drive/MyDrive/bsc_thesis/early_media_sample/1848.wav', '/content/drive/MyDrive/bsc_thesis/early_media_sample/4462.wav', '/content/drive/MyDrive/bsc_thesis/early_media_sample/2239.wav', '/content/drive/MyDrive/bsc_thesis/early_media_sample/3388.wav', '/content/drive/MyDrive/bsc_thesis/early_media_sample/28.wav', '/content/drive/MyDrive/bsc_thesis/early_media_sample/723.wav', '/content/drive/MyDrive/bsc_thesis/early_media_sample/301.wav', '/content/drive/MyDrive/bsc_thesis/early_media_sample/4123.wav', '/content/drive/MyDrive/bsc_thesis/early_media_sample/2520.wav', '/content/drive/MyDrive/bsc_thesis/early_media_sample/1736.wav', '/content/drive/MyDrive/bsc_thesis/early_media_sample/3395.wav', '/content/drive/MyDrive/bsc_thesis/early_media_sample/4361.wav', '/content/drive/MyDrive/bsc_thesis/early_media_sample/1741.wav', '/content/drive/MyDrive/bsc_thesis/early_media_sample/1341.wav', '/content/drive/MyDrive/bsc_thesis/early_media_sample/427.wav', '/content/drive/MyDrive/bsc_thesis/early_media_sample/993.wav', '/content/drive/MyDrive/bsc_thesis/early_media_sample/399.wav', '/content/drive/MyDrive/bsc_thesis/early_media_sample/937.wav', '/content/drive/MyDrive/bsc_thesis/early_media_sample/920.wav', '/content/drive/MyDrive/bsc_thesis/early_media_sample/4089.wav', '/content/drive/MyDrive/bsc_thesis/early_media_sample/2170.wav', '/content/drive/MyDrive/bsc_thesis/early_media_sample/3134.wav', '/content/drive/MyDrive/bsc_thesis/early_media_sample/192.wav', '/content/drive/MyDrive/bsc_thesis/early_media_sample/3327.wav', '/content/drive/MyDrive/bsc_thesis/early_media_sample/3487.wav', '/content/drive/MyDrive/bsc_thesis/early_media_sample/1277.wav', '/content/drive/MyDrive/bsc_thesis/early_media_sample/4080.wav', '/content/drive/MyDrive/bsc_thesis/early_media_sample/1871.wav', '/content/drive/MyDrive/bsc_thesis/early_media_sample/2695.wav', '/content/drive/MyDrive/bsc_thesis/early_media_sample/4447.wav', '/content/drive/MyDrive/bsc_thesis/early_media_sample/3293.wav', '/content/drive/MyDrive/bsc_thesis/early_media_sample/888.wav', '/content/drive/MyDrive/bsc_thesis/early_media_sample/475.wav', '/content/drive/MyDrive/bsc_thesis/early_media_sample/2641.wav', '/content/drive/MyDrive/bsc_thesis/early_media_sample/464.wav', '/content/drive/MyDrive/bsc_thesis/early_media_sample/1053.wav', '/content/drive/MyDrive/bsc_thesis/early_media_sample/2263.wav', '/content/drive/MyDrive/bsc_thesis/early_media_sample/2597.wav', '/content/drive/MyDrive/bsc_thesis/early_media_sample/2956.wav', '/content/drive/MyDrive/bsc_thesis/early_media_sample/2953.wav', '/content/drive/MyDrive/bsc_thesis/early_media_sample/3026.wav', '/content/drive/MyDrive/bsc_thesis/early_media_sample/2831.wav', '/content/drive/MyDrive/bsc_thesis/early_media_sample/1961.wav', '/content/drive/MyDrive/bsc_thesis/early_media_sample/1589.wav', '/content/drive/MyDrive/bsc_thesis/early_media_sample/1889.wav', '/content/drive/MyDrive/bsc_thesis/early_media_sample/2707.wav', '/content/drive/MyDrive/bsc_thesis/early_media_sample/1682.wav', '/content/drive/MyDrive/bsc_thesis/early_media_sample/3813.wav', '/content/drive/MyDrive/bsc_thesis/early_media_sample/245.wav', '/content/drive/MyDrive/bsc_thesis/early_media_sample/2403.wav', '/content/drive/MyDrive/bsc_thesis/early_media_sample/1737.wav', '/content/drive/MyDrive/bsc_thesis/early_media_sample/4147.wav', '/content/drive/MyDrive/bsc_thesis/early_media_sample/3382.wav', '/content/drive/MyDrive/bsc_thesis/early_media_sample/1100.wav', '/content/drive/MyDrive/bsc_thesis/early_media_sample/4189.wav', '/content/drive/MyDrive/bsc_thesis/early_media_sample/272.wav', '/content/drive/MyDrive/bsc_thesis/early_media_sample/453.wav', '/content/drive/MyDrive/bsc_thesis/early_media_sample/2174.wav', '/content/drive/MyDrive/bsc_thesis/early_media_sample/2074.wav', '/content/drive/MyDrive/bsc_thesis/early_media_sample/3392.wav', '/content/drive/MyDrive/bsc_thesis/early_media_sample/1570.wav', '/content/drive/MyDrive/bsc_thesis/early_media_sample/3999.wav', '/content/drive/MyDrive/bsc_thesis/early_media_sample/201.wav', '/content/drive/MyDrive/bsc_thesis/early_media_sample/900.wav', '/content/drive/MyDrive/bsc_thesis/early_media_sample/4210.wav', '/content/drive/MyDrive/bsc_thesis/early_media_sample/2370.wav', '/content/drive/MyDrive/bsc_thesis/early_media_sample/2265.wav', '/content/drive/MyDrive/bsc_thesis/early_media_sample/1105.wav', '/content/drive/MyDrive/bsc_thesis/early_media_sample/3785.wav', '/content/drive/MyDrive/bsc_thesis/early_media_sample/4440.wav', '/content/drive/MyDrive/bsc_thesis/early_media_sample/2036.wav', '/content/drive/MyDrive/bsc_thesis/early_media_sample/1023.wav', '/content/drive/MyDrive/bsc_thesis/early_media_sample/3403.wav', '/content/drive/MyDrive/bsc_thesis/early_media_sample/2252.wav', '/content/drive/MyDrive/bsc_thesis/early_media_sample/142.wav', '/content/drive/MyDrive/bsc_thesis/early_media_sample/2839.wav', '/content/drive/MyDrive/bsc_thesis/early_media_sample/3929.wav', '/content/drive/MyDrive/bsc_thesis/early_media_sample/3322.wav', '/content/drive/MyDrive/bsc_thesis/early_media_sample/3338.wav', '/content/drive/MyDrive/bsc_thesis/early_media_sample/938.wav', '/content/drive/MyDrive/bsc_thesis/early_media_sample/3361.wav', '/content/drive/MyDrive/bsc_thesis/early_media_sample/800.wav', '/content/drive/MyDrive/bsc_thesis/early_media_sample/3358.wav', '/content/drive/MyDrive/bsc_thesis/early_media_sample/2827.wav', '/content/drive/MyDrive/bsc_thesis/early_media_sample/3771.wav', '/content/drive/MyDrive/bsc_thesis/early_media_sample/3937.wav', '/content/drive/MyDrive/bsc_thesis/early_media_sample/415.wav', '/content/drive/MyDrive/bsc_thesis/early_media_sample/3996.wav', '/content/drive/MyDrive/bsc_thesis/early_media_sample/3691.wav', '/content/drive/MyDrive/bsc_thesis/early_media_sample/381.wav', '/content/drive/MyDrive/bsc_thesis/early_media_sample/1878.wav', '/content/drive/MyDrive/bsc_thesis/early_media_sample/3667.wav', '/content/drive/MyDrive/bsc_thesis/early_media_sample/4013.wav', '/content/drive/MyDrive/bsc_thesis/early_media_sample/3976.wav', '/content/drive/MyDrive/bsc_thesis/early_media_sample/2073.wav', '/content/drive/MyDrive/bsc_thesis/early_media_sample/3393.wav', '/content/drive/MyDrive/bsc_thesis/early_media_sample/2229.wav', '/content/drive/MyDrive/bsc_thesis/early_media_sample/3448.wav', '/content/drive/MyDrive/bsc_thesis/early_media_sample/1745.wav', '/content/drive/MyDrive/bsc_thesis/early_media_sample/4451.wav', '/content/drive/MyDrive/bsc_thesis/early_media_sample/59.wav', '/content/drive/MyDrive/bsc_thesis/early_media_sample/2684.wav', '/content/drive/MyDrive/bsc_thesis/early_media_sample/3309.wav', '/content/drive/MyDrive/bsc_thesis/early_media_sample/3631.wav', '/content/drive/MyDrive/bsc_thesis/early_media_sample/3905.wav', '/content/drive/MyDrive/bsc_thesis/early_media_sample/3541.wav', '/content/drive/MyDrive/bsc_thesis/early_media_sample/1424.wav', '/content/drive/MyDrive/bsc_thesis/early_media_sample/3221.wav', '/content/drive/MyDrive/bsc_thesis/early_media_sample/3133.wav', '/content/drive/MyDrive/bsc_thesis/early_media_sample/3617.wav', '/content/drive/MyDrive/bsc_thesis/early_media_sample/426.wav', '/content/drive/MyDrive/bsc_thesis/early_media_sample/405.wav', '/content/drive/MyDrive/bsc_thesis/early_media_sample/2741.wav', '/content/drive/MyDrive/bsc_thesis/early_media_sample/1507.wav', '/content/drive/MyDrive/bsc_thesis/early_media_sample/4021.wav', '/content/drive/MyDrive/bsc_thesis/early_media_sample/3431.wav', '/content/drive/MyDrive/bsc_thesis/early_media_sample/4261.wav', '/content/drive/MyDrive/bsc_thesis/early_media_sample/692.wav', '/content/drive/MyDrive/bsc_thesis/early_media_sample/156.wav', '/content/drive/MyDrive/bsc_thesis/early_media_sample/2691.wav', '/content/drive/MyDrive/bsc_thesis/early_media_sample/1813.wav', '/content/drive/MyDrive/bsc_thesis/early_media_sample/984.wav', '/content/drive/MyDrive/bsc_thesis/early_media_sample/3054.wav', '/content/drive/MyDrive/bsc_thesis/early_media_sample/1806.wav', '/content/drive/MyDrive/bsc_thesis/early_media_sample/649.wav', '/content/drive/MyDrive/bsc_thesis/early_media_sample/1297.wav', '/content/drive/MyDrive/bsc_thesis/early_media_sample/422.wav', '/content/drive/MyDrive/bsc_thesis/early_media_sample/329.wav', '/content/drive/MyDrive/bsc_thesis/early_media_sample/3483.wav', '/content/drive/MyDrive/bsc_thesis/early_media_sample/1256.wav', '/content/drive/MyDrive/bsc_thesis/early_media_sample/508.wav', '/content/drive/MyDrive/bsc_thesis/early_media_sample/4242.wav', '/content/drive/MyDrive/bsc_thesis/early_media_sample/2543.wav', '/content/drive/MyDrive/bsc_thesis/early_media_sample/1688.wav', '/content/drive/MyDrive/bsc_thesis/early_media_sample/1967.wav', '/content/drive/MyDrive/bsc_thesis/early_media_sample/2030.wav', '/content/drive/MyDrive/bsc_thesis/early_media_sample/1827.wav', '/content/drive/MyDrive/bsc_thesis/early_media_sample/2032.wav', '/content/drive/MyDrive/bsc_thesis/early_media_sample/5.wav', '/content/drive/MyDrive/bsc_thesis/early_media_sample/4312.wav', '/content/drive/MyDrive/bsc_thesis/early_media_sample/2729.wav', '/content/drive/MyDrive/bsc_thesis/early_media_sample/2483.wav', '/content/drive/MyDrive/bsc_thesis/early_media_sample/968.wav', '/content/drive/MyDrive/bsc_thesis/early_media_sample/1361.wav', '/content/drive/MyDrive/bsc_thesis/early_media_sample/3584.wav', '/content/drive/MyDrive/bsc_thesis/early_media_sample/17.wav', '/content/drive/MyDrive/bsc_thesis/early_media_sample/1956.wav', '/content/drive/MyDrive/bsc_thesis/early_media_sample/3798.wav', '/content/drive/MyDrive/bsc_thesis/early_media_sample/627.wav', '/content/drive/MyDrive/bsc_thesis/early_media_sample/3007.wav', '/content/drive/MyDrive/bsc_thesis/early_media_sample/1302.wav', '/content/drive/MyDrive/bsc_thesis/early_media_sample/3974.wav', '/content/drive/MyDrive/bsc_thesis/early_media_sample/2220.wav', '/content/drive/MyDrive/bsc_thesis/early_media_sample/1608.wav', '/content/drive/MyDrive/bsc_thesis/early_media_sample/143.wav', '/content/drive/MyDrive/bsc_thesis/early_media_sample/3604.wav', '/content/drive/MyDrive/bsc_thesis/early_media_sample/2392.wav', '/content/drive/MyDrive/bsc_thesis/early_media_sample/279.wav', '/content/drive/MyDrive/bsc_thesis/early_media_sample/3169.wav', '/content/drive/MyDrive/bsc_thesis/early_media_sample/2593.wav', '/content/drive/MyDrive/bsc_thesis/early_media_sample/2836.wav', '/content/drive/MyDrive/bsc_thesis/early_media_sample/1723.wav', '/content/drive/MyDrive/bsc_thesis/early_media_sample/1258.wav', '/content/drive/MyDrive/bsc_thesis/early_media_sample/2854.wav', '/content/drive/MyDrive/bsc_thesis/early_media_sample/4413.wav', '/content/drive/MyDrive/bsc_thesis/early_media_sample/3119.wav', '/content/drive/MyDrive/bsc_thesis/early_media_sample/3672.wav', '/content/drive/MyDrive/bsc_thesis/early_media_sample/1888.wav', '/content/drive/MyDrive/bsc_thesis/early_media_sample/3045.wav', '/content/drive/MyDrive/bsc_thesis/early_media_sample/3047.wav', '/content/drive/MyDrive/bsc_thesis/early_media_sample/2728.wav', '/content/drive/MyDrive/bsc_thesis/early_media_sample/918.wav', '/content/drive/MyDrive/bsc_thesis/early_media_sample/1048.wav', '/content/drive/MyDrive/bsc_thesis/early_media_sample/2757.wav', '/content/drive/MyDrive/bsc_thesis/early_media_sample/2259.wav', '/content/drive/MyDrive/bsc_thesis/early_media_sample/638.wav', '/content/drive/MyDrive/bsc_thesis/early_media_sample/1941.wav', '/content/drive/MyDrive/bsc_thesis/early_media_sample/3707.wav', '/content/drive/MyDrive/bsc_thesis/early_media_sample/2462.wav', '/content/drive/MyDrive/bsc_thesis/early_media_sample/1775.wav', '/content/drive/MyDrive/bsc_thesis/early_media_sample/2825.wav', '/content/drive/MyDrive/bsc_thesis/early_media_sample/843.wav', '/content/drive/MyDrive/bsc_thesis/early_media_sample/1200.wav', '/content/drive/MyDrive/bsc_thesis/early_media_sample/2790.wav', '/content/drive/MyDrive/bsc_thesis/early_media_sample/4278.wav', '/content/drive/MyDrive/bsc_thesis/early_media_sample/2856.wav', '/content/drive/MyDrive/bsc_thesis/early_media_sample/3557.wav', '/content/drive/MyDrive/bsc_thesis/early_media_sample/2307.wav', '/content/drive/MyDrive/bsc_thesis/early_media_sample/375.wav', '/content/drive/MyDrive/bsc_thesis/early_media_sample/4161.wav', '/content/drive/MyDrive/bsc_thesis/early_media_sample/1113.wav', '/content/drive/MyDrive/bsc_thesis/early_media_sample/1518.wav', '/content/drive/MyDrive/bsc_thesis/early_media_sample/4126.wav', '/content/drive/MyDrive/bsc_thesis/early_media_sample/173.wav', '/content/drive/MyDrive/bsc_thesis/early_media_sample/2018.wav', '/content/drive/MyDrive/bsc_thesis/early_media_sample/1613.wav', '/content/drive/MyDrive/bsc_thesis/early_media_sample/653.wav', '/content/drive/MyDrive/bsc_thesis/early_media_sample/3842.wav', '/content/drive/MyDrive/bsc_thesis/early_media_sample/135.wav', '/content/drive/MyDrive/bsc_thesis/early_media_sample/1227.wav', '/content/drive/MyDrive/bsc_thesis/early_media_sample/2314.wav', '/content/drive/MyDrive/bsc_thesis/early_media_sample/4270.wav', '/content/drive/MyDrive/bsc_thesis/early_media_sample/288.wav', '/content/drive/MyDrive/bsc_thesis/early_media_sample/1250.wav', '/content/drive/MyDrive/bsc_thesis/early_media_sample/3075.wav', '/content/drive/MyDrive/bsc_thesis/early_media_sample/1790.wav', '/content/drive/MyDrive/bsc_thesis/early_media_sample/4025.wav', '/content/drive/MyDrive/bsc_thesis/early_media_sample/534.wav', '/content/drive/MyDrive/bsc_thesis/early_media_sample/2126.wav', '/content/drive/MyDrive/bsc_thesis/early_media_sample/930.wav', '/content/drive/MyDrive/bsc_thesis/early_media_sample/4182.wav', '/content/drive/MyDrive/bsc_thesis/early_media_sample/3678.wav', '/content/drive/MyDrive/bsc_thesis/early_media_sample/928.wav', '/content/drive/MyDrive/bsc_thesis/early_media_sample/2781.wav', '/content/drive/MyDrive/bsc_thesis/early_media_sample/2465.wav', '/content/drive/MyDrive/bsc_thesis/early_media_sample/1270.wav', '/content/drive/MyDrive/bsc_thesis/early_media_sample/3917.wav', '/content/drive/MyDrive/bsc_thesis/early_media_sample/2761.wav', '/content/drive/MyDrive/bsc_thesis/early_media_sample/1329.wav', '/content/drive/MyDrive/bsc_thesis/early_media_sample/3364.wav', '/content/drive/MyDrive/bsc_thesis/early_media_sample/2936.wav', '/content/drive/MyDrive/bsc_thesis/early_media_sample/2670.wav', '/content/drive/MyDrive/bsc_thesis/early_media_sample/2694.wav', '/content/drive/MyDrive/bsc_thesis/early_media_sample/2859.wav', '/content/drive/MyDrive/bsc_thesis/early_media_sample/3847.wav', '/content/drive/MyDrive/bsc_thesis/early_media_sample/3484.wav', '/content/drive/MyDrive/bsc_thesis/early_media_sample/923.wav', '/content/drive/MyDrive/bsc_thesis/early_media_sample/4208.wav', '/content/drive/MyDrive/bsc_thesis/early_media_sample/547.wav', '/content/drive/MyDrive/bsc_thesis/early_media_sample/2439.wav', '/content/drive/MyDrive/bsc_thesis/early_media_sample/335.wav', '/content/drive/MyDrive/bsc_thesis/early_media_sample/3156.wav', '/content/drive/MyDrive/bsc_thesis/early_media_sample/1782.wav', '/content/drive/MyDrive/bsc_thesis/early_media_sample/3354.wav', '/content/drive/MyDrive/bsc_thesis/early_media_sample/4070.wav', '/content/drive/MyDrive/bsc_thesis/early_media_sample/2343.wav', '/content/drive/MyDrive/bsc_thesis/early_media_sample/2124.wav', '/content/drive/MyDrive/bsc_thesis/early_media_sample/4151.wav', '/content/drive/MyDrive/bsc_thesis/early_media_sample/2139.wav', '/content/drive/MyDrive/bsc_thesis/early_media_sample/3147.wav', '/content/drive/MyDrive/bsc_thesis/early_media_sample/1909.wav', '/content/drive/MyDrive/bsc_thesis/early_media_sample/2880.wav', '/content/drive/MyDrive/bsc_thesis/early_media_sample/1902.wav', '/content/drive/MyDrive/bsc_thesis/early_media_sample/2094.wav', '/content/drive/MyDrive/bsc_thesis/early_media_sample/1197.wav', '/content/drive/MyDrive/bsc_thesis/early_media_sample/3865.wav', '/content/drive/MyDrive/bsc_thesis/early_media_sample/240.wav', '/content/drive/MyDrive/bsc_thesis/early_media_sample/756.wav', '/content/drive/MyDrive/bsc_thesis/early_media_sample/226.wav', '/content/drive/MyDrive/bsc_thesis/early_media_sample/3341.wav', '/content/drive/MyDrive/bsc_thesis/early_media_sample/3352.wav', '/content/drive/MyDrive/bsc_thesis/early_media_sample/3915.wav', '/content/drive/MyDrive/bsc_thesis/early_media_sample/3270.wav', '/content/drive/MyDrive/bsc_thesis/early_media_sample/1844.wav', '/content/drive/MyDrive/bsc_thesis/early_media_sample/1090.wav', '/content/drive/MyDrive/bsc_thesis/early_media_sample/3457.wav', '/content/drive/MyDrive/bsc_thesis/early_media_sample/89.wav', '/content/drive/MyDrive/bsc_thesis/early_media_sample/1054.wav', '/content/drive/MyDrive/bsc_thesis/early_media_sample/90.wav', '/content/drive/MyDrive/bsc_thesis/early_media_sample/3892.wav', '/content/drive/MyDrive/bsc_thesis/early_media_sample/2463.wav', '/content/drive/MyDrive/bsc_thesis/early_media_sample/1840.wav', '/content/drive/MyDrive/bsc_thesis/early_media_sample/3539.wav', '/content/drive/MyDrive/bsc_thesis/early_media_sample/2815.wav', '/content/drive/MyDrive/bsc_thesis/early_media_sample/3705.wav', '/content/drive/MyDrive/bsc_thesis/early_media_sample/2850.wav', '/content/drive/MyDrive/bsc_thesis/early_media_sample/63.wav', '/content/drive/MyDrive/bsc_thesis/early_media_sample/2468.wav', '/content/drive/MyDrive/bsc_thesis/early_media_sample/1259.wav', '/content/drive/MyDrive/bsc_thesis/early_media_sample/1977.wav', '/content/drive/MyDrive/bsc_thesis/early_media_sample/129.wav', '/content/drive/MyDrive/bsc_thesis/early_media_sample/3146.wav', '/content/drive/MyDrive/bsc_thesis/early_media_sample/4186.wav', '/content/drive/MyDrive/bsc_thesis/early_media_sample/3288.wav', '/content/drive/MyDrive/bsc_thesis/early_media_sample/2159.wav', '/content/drive/MyDrive/bsc_thesis/early_media_sample/3948.wav', '/content/drive/MyDrive/bsc_thesis/early_media_sample/309.wav', '/content/drive/MyDrive/bsc_thesis/early_media_sample/79.wav', '/content/drive/MyDrive/bsc_thesis/early_media_sample/3140.wav', '/content/drive/MyDrive/bsc_thesis/early_media_sample/2654.wav', '/content/drive/MyDrive/bsc_thesis/early_media_sample/4199.wav', '/content/drive/MyDrive/bsc_thesis/early_media_sample/4397.wav', '/content/drive/MyDrive/bsc_thesis/early_media_sample/188.wav', '/content/drive/MyDrive/bsc_thesis/early_media_sample/1076.wav', '/content/drive/MyDrive/bsc_thesis/early_media_sample/2892.wav', '/content/drive/MyDrive/bsc_thesis/early_media_sample/231.wav', '/content/drive/MyDrive/bsc_thesis/early_media_sample/784.wav', '/content/drive/MyDrive/bsc_thesis/early_media_sample/1655.wav', '/content/drive/MyDrive/bsc_thesis/early_media_sample/504.wav', '/content/drive/MyDrive/bsc_thesis/early_media_sample/3098.wav', '/content/drive/MyDrive/bsc_thesis/early_media_sample/296.wav', '/content/drive/MyDrive/bsc_thesis/early_media_sample/3318.wav', '/content/drive/MyDrive/bsc_thesis/early_media_sample/1930.wav', '/content/drive/MyDrive/bsc_thesis/early_media_sample/3874.wav', '/content/drive/MyDrive/bsc_thesis/early_media_sample/2920.wav', '/content/drive/MyDrive/bsc_thesis/early_media_sample/4118.wav', '/content/drive/MyDrive/bsc_thesis/early_media_sample/2541.wav', '/content/drive/MyDrive/bsc_thesis/early_media_sample/115.wav', '/content/drive/MyDrive/bsc_thesis/early_media_sample/782.wav', '/content/drive/MyDrive/bsc_thesis/early_media_sample/1553.wav', '/content/drive/MyDrive/bsc_thesis/early_media_sample/3866.wav', '/content/drive/MyDrive/bsc_thesis/early_media_sample/3514.wav', '/content/drive/MyDrive/bsc_thesis/early_media_sample/3774.wav', '/content/drive/MyDrive/bsc_thesis/early_media_sample/1641.wav', '/content/drive/MyDrive/bsc_thesis/early_media_sample/223.wav', '/content/drive/MyDrive/bsc_thesis/early_media_sample/4368.wav', '/content/drive/MyDrive/bsc_thesis/early_media_sample/1067.wav', '/content/drive/MyDrive/bsc_thesis/early_media_sample/3432.wav', '/content/drive/MyDrive/bsc_thesis/early_media_sample/4062.wav', '/content/drive/MyDrive/bsc_thesis/early_media_sample/4453.wav', '/content/drive/MyDrive/bsc_thesis/early_media_sample/228.wav', '/content/drive/MyDrive/bsc_thesis/early_media_sample/4127.wav', '/content/drive/MyDrive/bsc_thesis/early_media_sample/454.wav', '/content/drive/MyDrive/bsc_thesis/early_media_sample/2843.wav', '/content/drive/MyDrive/bsc_thesis/early_media_sample/190.wav', '/content/drive/MyDrive/bsc_thesis/early_media_sample/3038.wav', '/content/drive/MyDrive/bsc_thesis/early_media_sample/2141.wav', '/content/drive/MyDrive/bsc_thesis/early_media_sample/310.wav', '/content/drive/MyDrive/bsc_thesis/early_media_sample/3839.wav', '/content/drive/MyDrive/bsc_thesis/early_media_sample/1921.wav', '/content/drive/MyDrive/bsc_thesis/early_media_sample/2096.wav', '/content/drive/MyDrive/bsc_thesis/early_media_sample/2874.wav', '/content/drive/MyDrive/bsc_thesis/early_media_sample/879.wav', '/content/drive/MyDrive/bsc_thesis/early_media_sample/165.wav', '/content/drive/MyDrive/bsc_thesis/early_media_sample/3490.wav', '/content/drive/MyDrive/bsc_thesis/early_media_sample/1842.wav', '/content/drive/MyDrive/bsc_thesis/early_media_sample/2449.wav', '/content/drive/MyDrive/bsc_thesis/early_media_sample/2795.wav', '/content/drive/MyDrive/bsc_thesis/early_media_sample/2937.wav', '/content/drive/MyDrive/bsc_thesis/early_media_sample/4319.wav', '/content/drive/MyDrive/bsc_thesis/early_media_sample/3837.wav', '/content/drive/MyDrive/bsc_thesis/early_media_sample/3195.wav', '/content/drive/MyDrive/bsc_thesis/early_media_sample/2066.wav', '/content/drive/MyDrive/bsc_thesis/early_media_sample/412.wav', '/content/drive/MyDrive/bsc_thesis/early_media_sample/3934.wav', '/content/drive/MyDrive/bsc_thesis/early_media_sample/1483.wav', '/content/drive/MyDrive/bsc_thesis/early_media_sample/976.wav', '/content/drive/MyDrive/bsc_thesis/early_media_sample/531.wav', '/content/drive/MyDrive/bsc_thesis/early_media_sample/2186.wav', '/content/drive/MyDrive/bsc_thesis/early_media_sample/1217.wav', '/content/drive/MyDrive/bsc_thesis/early_media_sample/4335.wav', '/content/drive/MyDrive/bsc_thesis/early_media_sample/1458.wav', '/content/drive/MyDrive/bsc_thesis/early_media_sample/200.wav', '/content/drive/MyDrive/bsc_thesis/early_media_sample/298.wav', '/content/drive/MyDrive/bsc_thesis/early_media_sample/3955.wav', '/content/drive/MyDrive/bsc_thesis/early_media_sample/1143.wav', '/content/drive/MyDrive/bsc_thesis/early_media_sample/1652.wav', '/content/drive/MyDrive/bsc_thesis/early_media_sample/801.wav', '/content/drive/MyDrive/bsc_thesis/early_media_sample/1867.wav', '/content/drive/MyDrive/bsc_thesis/early_media_sample/1544.wav', '/content/drive/MyDrive/bsc_thesis/early_media_sample/2086.wav', '/content/drive/MyDrive/bsc_thesis/early_media_sample/1938.wav', '/content/drive/MyDrive/bsc_thesis/early_media_sample/261.wav', '/content/drive/MyDrive/bsc_thesis/early_media_sample/50.wav', '/content/drive/MyDrive/bsc_thesis/early_media_sample/899.wav', '/content/drive/MyDrive/bsc_thesis/early_media_sample/3596.wav', '/content/drive/MyDrive/bsc_thesis/early_media_sample/2862.wav', '/content/drive/MyDrive/bsc_thesis/early_media_sample/3642.wav', '/content/drive/MyDrive/bsc_thesis/early_media_sample/76.wav', '/content/drive/MyDrive/bsc_thesis/early_media_sample/390.wav', '/content/drive/MyDrive/bsc_thesis/early_media_sample/1908.wav', '/content/drive/MyDrive/bsc_thesis/early_media_sample/1093.wav', '/content/drive/MyDrive/bsc_thesis/early_media_sample/3114.wav', '/content/drive/MyDrive/bsc_thesis/early_media_sample/2552.wav', '/content/drive/MyDrive/bsc_thesis/early_media_sample/3056.wav', '/content/drive/MyDrive/bsc_thesis/early_media_sample/2319.wav', '/content/drive/MyDrive/bsc_thesis/early_media_sample/1674.wav', '/content/drive/MyDrive/bsc_thesis/early_media_sample/149.wav', '/content/drive/MyDrive/bsc_thesis/early_media_sample/1354.wav', '/content/drive/MyDrive/bsc_thesis/early_media_sample/3830.wav', '/content/drive/MyDrive/bsc_thesis/early_media_sample/33.wav', '/content/drive/MyDrive/bsc_thesis/early_media_sample/760.wav', '/content/drive/MyDrive/bsc_thesis/early_media_sample/4146.wav', '/content/drive/MyDrive/bsc_thesis/early_media_sample/4145.wav', '/content/drive/MyDrive/bsc_thesis/early_media_sample/468.wav', '/content/drive/MyDrive/bsc_thesis/early_media_sample/685.wav', '/content/drive/MyDrive/bsc_thesis/early_media_sample/616.wav', '/content/drive/MyDrive/bsc_thesis/early_media_sample/413.wav', '/content/drive/MyDrive/bsc_thesis/early_media_sample/2727.wav', '/content/drive/MyDrive/bsc_thesis/early_media_sample/3752.wav', '/content/drive/MyDrive/bsc_thesis/early_media_sample/3921.wav', '/content/drive/MyDrive/bsc_thesis/early_media_sample/3731.wav', '/content/drive/MyDrive/bsc_thesis/early_media_sample/2714.wav', '/content/drive/MyDrive/bsc_thesis/early_media_sample/657.wav', '/content/drive/MyDrive/bsc_thesis/early_media_sample/884.wav', '/content/drive/MyDrive/bsc_thesis/early_media_sample/2380.wav', '/content/drive/MyDrive/bsc_thesis/early_media_sample/3801.wav', '/content/drive/MyDrive/bsc_thesis/early_media_sample/1082.wav', '/content/drive/MyDrive/bsc_thesis/early_media_sample/1388.wav', '/content/drive/MyDrive/bsc_thesis/early_media_sample/2722.wav', '/content/drive/MyDrive/bsc_thesis/early_media_sample/373.wav', '/content/drive/MyDrive/bsc_thesis/early_media_sample/1315.wav', '/content/drive/MyDrive/bsc_thesis/early_media_sample/2470.wav', '/content/drive/MyDrive/bsc_thesis/early_media_sample/3468.wav', '/content/drive/MyDrive/bsc_thesis/early_media_sample/19.wav', '/content/drive/MyDrive/bsc_thesis/early_media_sample/2182.wav', '/content/drive/MyDrive/bsc_thesis/early_media_sample/2105.wav', '/content/drive/MyDrive/bsc_thesis/early_media_sample/4267.wav', '/content/drive/MyDrive/bsc_thesis/early_media_sample/3521.wav', '/content/drive/MyDrive/bsc_thesis/early_media_sample/2152.wav', '/content/drive/MyDrive/bsc_thesis/early_media_sample/3436.wav', '/content/drive/MyDrive/bsc_thesis/early_media_sample/2587.wav', '/content/drive/MyDrive/bsc_thesis/early_media_sample/3164.wav', '/content/drive/MyDrive/bsc_thesis/early_media_sample/2469.wav', '/content/drive/MyDrive/bsc_thesis/early_media_sample/4425.wav', '/content/drive/MyDrive/bsc_thesis/early_media_sample/3791.wav', '/content/drive/MyDrive/bsc_thesis/early_media_sample/4419.wav', '/content/drive/MyDrive/bsc_thesis/early_media_sample/1519.wav', '/content/drive/MyDrive/bsc_thesis/early_media_sample/1437.wav', '/content/drive/MyDrive/bsc_thesis/early_media_sample/66.wav', '/content/drive/MyDrive/bsc_thesis/early_media_sample/2477.wav', '/content/drive/MyDrive/bsc_thesis/early_media_sample/3444.wav', '/content/drive/MyDrive/bsc_thesis/early_media_sample/136.wav', '/content/drive/MyDrive/bsc_thesis/early_media_sample/3413.wav', '/content/drive/MyDrive/bsc_thesis/early_media_sample/2826.wav', '/content/drive/MyDrive/bsc_thesis/early_media_sample/1098.wav', '/content/drive/MyDrive/bsc_thesis/early_media_sample/395.wav', '/content/drive/MyDrive/bsc_thesis/early_media_sample/1420.wav', '/content/drive/MyDrive/bsc_thesis/early_media_sample/2652.wav', '/content/drive/MyDrive/bsc_thesis/early_media_sample/810.wav', '/content/drive/MyDrive/bsc_thesis/early_media_sample/283.wav', '/content/drive/MyDrive/bsc_thesis/early_media_sample/3239.wav', '/content/drive/MyDrive/bsc_thesis/early_media_sample/2933.wav', '/content/drive/MyDrive/bsc_thesis/early_media_sample/4301.wav', '/content/drive/MyDrive/bsc_thesis/early_media_sample/2088.wav', '/content/drive/MyDrive/bsc_thesis/early_media_sample/2950.wav', '/content/drive/MyDrive/bsc_thesis/early_media_sample/1474.wav', '/content/drive/MyDrive/bsc_thesis/early_media_sample/3240.wav', '/content/drive/MyDrive/bsc_thesis/early_media_sample/2775.wav', '/content/drive/MyDrive/bsc_thesis/early_media_sample/556.wav', '/content/drive/MyDrive/bsc_thesis/early_media_sample/2679.wav', '/content/drive/MyDrive/bsc_thesis/early_media_sample/1832.wav', '/content/drive/MyDrive/bsc_thesis/early_media_sample/4294.wav', '/content/drive/MyDrive/bsc_thesis/early_media_sample/4154.wav', '/content/drive/MyDrive/bsc_thesis/early_media_sample/4016.wav', '/content/drive/MyDrive/bsc_thesis/early_media_sample/2332.wav', '/content/drive/MyDrive/bsc_thesis/early_media_sample/3381.wav', '/content/drive/MyDrive/bsc_thesis/early_media_sample/983.wav', '/content/drive/MyDrive/bsc_thesis/early_media_sample/3066.wav', '/content/drive/MyDrive/bsc_thesis/early_media_sample/3949.wav', '/content/drive/MyDrive/bsc_thesis/early_media_sample/3421.wav', '/content/drive/MyDrive/bsc_thesis/early_media_sample/4403.wav', '/content/drive/MyDrive/bsc_thesis/early_media_sample/711.wav', '/content/drive/MyDrive/bsc_thesis/early_media_sample/2000.wav', '/content/drive/MyDrive/bsc_thesis/early_media_sample/2099.wav', '/content/drive/MyDrive/bsc_thesis/early_media_sample/2909.wav', '/content/drive/MyDrive/bsc_thesis/early_media_sample/2056.wav', '/content/drive/MyDrive/bsc_thesis/early_media_sample/2264.wav', '/content/drive/MyDrive/bsc_thesis/early_media_sample/2454.wav', '/content/drive/MyDrive/bsc_thesis/early_media_sample/2270.wav', '/content/drive/MyDrive/bsc_thesis/early_media_sample/4259.wav', '/content/drive/MyDrive/bsc_thesis/early_media_sample/3993.wav', '/content/drive/MyDrive/bsc_thesis/early_media_sample/2368.wav', '/content/drive/MyDrive/bsc_thesis/early_media_sample/47.wav', '/content/drive/MyDrive/bsc_thesis/early_media_sample/3677.wav', '/content/drive/MyDrive/bsc_thesis/early_media_sample/1847.wav', '/content/drive/MyDrive/bsc_thesis/early_media_sample/4223.wav', '/content/drive/MyDrive/bsc_thesis/early_media_sample/4195.wav', '/content/drive/MyDrive/bsc_thesis/early_media_sample/1353.wav', '/content/drive/MyDrive/bsc_thesis/early_media_sample/3537.wav', '/content/drive/MyDrive/bsc_thesis/early_media_sample/3409.wav', '/content/drive/MyDrive/bsc_thesis/early_media_sample/1012.wav', '/content/drive/MyDrive/bsc_thesis/early_media_sample/3782.wav', '/content/drive/MyDrive/bsc_thesis/early_media_sample/1494.wav', '/content/drive/MyDrive/bsc_thesis/early_media_sample/934.wav', '/content/drive/MyDrive/bsc_thesis/early_media_sample/998.wav', '/content/drive/MyDrive/bsc_thesis/early_media_sample/354.wav', '/content/drive/MyDrive/bsc_thesis/early_media_sample/3089.wav', '/content/drive/MyDrive/bsc_thesis/early_media_sample/3472.wav', '/content/drive/MyDrive/bsc_thesis/early_media_sample/3786.wav', '/content/drive/MyDrive/bsc_thesis/early_media_sample/1776.wav', '/content/drive/MyDrive/bsc_thesis/early_media_sample/1285.wav', '/content/drive/MyDrive/bsc_thesis/early_media_sample/677.wav', '/content/drive/MyDrive/bsc_thesis/early_media_sample/4252.wav', '/content/drive/MyDrive/bsc_thesis/early_media_sample/29.wav', '/content/drive/MyDrive/bsc_thesis/early_media_sample/4218.wav', '/content/drive/MyDrive/bsc_thesis/early_media_sample/1316.wav', '/content/drive/MyDrive/bsc_thesis/early_media_sample/3400.wav', '/content/drive/MyDrive/bsc_thesis/early_media_sample/4188.wav', '/content/drive/MyDrive/bsc_thesis/early_media_sample/1142.wav', '/content/drive/MyDrive/bsc_thesis/early_media_sample/1370.wav', '/content/drive/MyDrive/bsc_thesis/early_media_sample/73.wav', '/content/drive/MyDrive/bsc_thesis/early_media_sample/1364.wav', '/content/drive/MyDrive/bsc_thesis/early_media_sample/2150.wav', '/content/drive/MyDrive/bsc_thesis/early_media_sample/1699.wav', '/content/drive/MyDrive/bsc_thesis/early_media_sample/2557.wav', '/content/drive/MyDrive/bsc_thesis/early_media_sample/2286.wav', '/content/drive/MyDrive/bsc_thesis/early_media_sample/2763.wav', '/content/drive/MyDrive/bsc_thesis/early_media_sample/3286.wav', '/content/drive/MyDrive/bsc_thesis/early_media_sample/3740.wav', '/content/drive/MyDrive/bsc_thesis/early_media_sample/802.wav', '/content/drive/MyDrive/bsc_thesis/early_media_sample/1783.wav', '/content/drive/MyDrive/bsc_thesis/early_media_sample/4171.wav', '/content/drive/MyDrive/bsc_thesis/early_media_sample/3383.wav', '/content/drive/MyDrive/bsc_thesis/early_media_sample/1450.wav', '/content/drive/MyDrive/bsc_thesis/early_media_sample/2821.wav', '/content/drive/MyDrive/bsc_thesis/early_media_sample/1154.wav', '/content/drive/MyDrive/bsc_thesis/early_media_sample/941.wav', '/content/drive/MyDrive/bsc_thesis/early_media_sample/650.wav', '/content/drive/MyDrive/bsc_thesis/early_media_sample/3303.wav', '/content/drive/MyDrive/bsc_thesis/early_media_sample/130.wav', '/content/drive/MyDrive/bsc_thesis/early_media_sample/929.wav', '/content/drive/MyDrive/bsc_thesis/early_media_sample/4019.wav', '/content/drive/MyDrive/bsc_thesis/early_media_sample/3262.wav', '/content/drive/MyDrive/bsc_thesis/early_media_sample/2966.wav', '/content/drive/MyDrive/bsc_thesis/early_media_sample/2362.wav', '/content/drive/MyDrive/bsc_thesis/early_media_sample/67.wav', '/content/drive/MyDrive/bsc_thesis/early_media_sample/4133.wav', '/content/drive/MyDrive/bsc_thesis/early_media_sample/757.wav', '/content/drive/MyDrive/bsc_thesis/early_media_sample/3255.wav', '/content/drive/MyDrive/bsc_thesis/early_media_sample/3096.wav', '/content/drive/MyDrive/bsc_thesis/early_media_sample/1191.wav', '/content/drive/MyDrive/bsc_thesis/early_media_sample/4269.wav', '/content/drive/MyDrive/bsc_thesis/early_media_sample/2942.wav', '/content/drive/MyDrive/bsc_thesis/early_media_sample/2116.wav', '/content/drive/MyDrive/bsc_thesis/early_media_sample/3251.wav', '/content/drive/MyDrive/bsc_thesis/early_media_sample/4351.wav', '/content/drive/MyDrive/bsc_thesis/early_media_sample/416.wav', '/content/drive/MyDrive/bsc_thesis/early_media_sample/3380.wav', '/content/drive/MyDrive/bsc_thesis/early_media_sample/707.wav', '/content/drive/MyDrive/bsc_thesis/early_media_sample/1588.wav', '/content/drive/MyDrive/bsc_thesis/early_media_sample/4412.wav', '/content/drive/MyDrive/bsc_thesis/early_media_sample/4398.wav', '/content/drive/MyDrive/bsc_thesis/early_media_sample/197.wav', '/content/drive/MyDrive/bsc_thesis/early_media_sample/1421.wav', '/content/drive/MyDrive/bsc_thesis/early_media_sample/1348.wav', '/content/drive/MyDrive/bsc_thesis/early_media_sample/1826.wav', '/content/drive/MyDrive/bsc_thesis/early_media_sample/3451.wav', '/content/drive/MyDrive/bsc_thesis/early_media_sample/1853.wav', '/content/drive/MyDrive/bsc_thesis/early_media_sample/2296.wav', '/content/drive/MyDrive/bsc_thesis/early_media_sample/1857.wav', '/content/drive/MyDrive/bsc_thesis/early_media_sample/2144.wav', '/content/drive/MyDrive/bsc_thesis/early_media_sample/40.wav', '/content/drive/MyDrive/bsc_thesis/early_media_sample/78.wav', '/content/drive/MyDrive/bsc_thesis/early_media_sample/2751.wav', '/content/drive/MyDrive/bsc_thesis/early_media_sample/3554.wav', '/content/drive/MyDrive/bsc_thesis/early_media_sample/2078.wav', '/content/drive/MyDrive/bsc_thesis/early_media_sample/2925.wav', '/content/drive/MyDrive/bsc_thesis/early_media_sample/2326.wav', '/content/drive/MyDrive/bsc_thesis/early_media_sample/4049.wav', '/content/drive/MyDrive/bsc_thesis/early_media_sample/905.wav', '/content/drive/MyDrive/bsc_thesis/early_media_sample/3344.wav', '/content/drive/MyDrive/bsc_thesis/early_media_sample/3943.wav', '/content/drive/MyDrive/bsc_thesis/early_media_sample/2444.wav', '/content/drive/MyDrive/bsc_thesis/early_media_sample/27.wav', '/content/drive/MyDrive/bsc_thesis/early_media_sample/3982.wav', '/content/drive/MyDrive/bsc_thesis/early_media_sample/854.wav', '/content/drive/MyDrive/bsc_thesis/early_media_sample/2304.wav', '/content/drive/MyDrive/bsc_thesis/early_media_sample/3980.wav', '/content/drive/MyDrive/bsc_thesis/early_media_sample/175.wav', '/content/drive/MyDrive/bsc_thesis/early_media_sample/2611.wav', '/content/drive/MyDrive/bsc_thesis/early_media_sample/2221.wav', '/content/drive/MyDrive/bsc_thesis/early_media_sample/4128.wav', '/content/drive/MyDrive/bsc_thesis/early_media_sample/1952.wav', '/content/drive/MyDrive/bsc_thesis/early_media_sample/1261.wav', '/content/drive/MyDrive/bsc_thesis/early_media_sample/1257.wav', '/content/drive/MyDrive/bsc_thesis/early_media_sample/457.wav', '/content/drive/MyDrive/bsc_thesis/early_media_sample/4086.wav', '/content/drive/MyDrive/bsc_thesis/early_media_sample/3180.wav', '/content/drive/MyDrive/bsc_thesis/early_media_sample/607.wav', '/content/drive/MyDrive/bsc_thesis/early_media_sample/4337.wav', '/content/drive/MyDrive/bsc_thesis/early_media_sample/3906.wav', '/content/drive/MyDrive/bsc_thesis/early_media_sample/2755.wav', '/content/drive/MyDrive/bsc_thesis/early_media_sample/3223.wav', '/content/drive/MyDrive/bsc_thesis/early_media_sample/397.wav', '/content/drive/MyDrive/bsc_thesis/early_media_sample/3480.wav', '/content/drive/MyDrive/bsc_thesis/early_media_sample/3886.wav', '/content/drive/MyDrive/bsc_thesis/early_media_sample/1466.wav', '/content/drive/MyDrive/bsc_thesis/early_media_sample/3738.wav', '/content/drive/MyDrive/bsc_thesis/early_media_sample/2915.wav', '/content/drive/MyDrive/bsc_thesis/early_media_sample/3307.wav', '/content/drive/MyDrive/bsc_thesis/early_media_sample/1489.wav', '/content/drive/MyDrive/bsc_thesis/early_media_sample/874.wav', '/content/drive/MyDrive/bsc_thesis/early_media_sample/327.wav', '/content/drive/MyDrive/bsc_thesis/early_media_sample/2342.wav', '/content/drive/MyDrive/bsc_thesis/early_media_sample/52.wav', '/content/drive/MyDrive/bsc_thesis/early_media_sample/674.wav', '/content/drive/MyDrive/bsc_thesis/early_media_sample/2968.wav', '/content/drive/MyDrive/bsc_thesis/early_media_sample/2853.wav', '/content/drive/MyDrive/bsc_thesis/early_media_sample/3570.wav', '/content/drive/MyDrive/bsc_thesis/early_media_sample/3712.wav', '/content/drive/MyDrive/bsc_thesis/early_media_sample/4095.wav', '/content/drive/MyDrive/bsc_thesis/early_media_sample/3882.wav', '/content/drive/MyDrive/bsc_thesis/early_media_sample/1108.wav', '/content/drive/MyDrive/bsc_thesis/early_media_sample/2446.wav', '/content/drive/MyDrive/bsc_thesis/early_media_sample/3250.wav', '/content/drive/MyDrive/bsc_thesis/early_media_sample/3370.wav', '/content/drive/MyDrive/bsc_thesis/early_media_sample/1399.wav', '/content/drive/MyDrive/bsc_thesis/early_media_sample/1311.wav', '/content/drive/MyDrive/bsc_thesis/early_media_sample/2176.wav', '/content/drive/MyDrive/bsc_thesis/early_media_sample/791.wav', '/content/drive/MyDrive/bsc_thesis/early_media_sample/1464.wav', '/content/drive/MyDrive/bsc_thesis/early_media_sample/946.wav', '/content/drive/MyDrive/bsc_thesis/early_media_sample/3957.wav', '/content/drive/MyDrive/bsc_thesis/early_media_sample/4446.wav', '/content/drive/MyDrive/bsc_thesis/early_media_sample/3757.wav', '/content/drive/MyDrive/bsc_thesis/early_media_sample/1717.wav', '/content/drive/MyDrive/bsc_thesis/early_media_sample/606.wav', '/content/drive/MyDrive/bsc_thesis/early_media_sample/1700.wav', '/content/drive/MyDrive/bsc_thesis/early_media_sample/3088.wav', '/content/drive/MyDrive/bsc_thesis/early_media_sample/3439.wav', '/content/drive/MyDrive/bsc_thesis/early_media_sample/2876.wav', '/content/drive/MyDrive/bsc_thesis/early_media_sample/2994.wav', '/content/drive/MyDrive/bsc_thesis/early_media_sample/3708.wav', '/content/drive/MyDrive/bsc_thesis/early_media_sample/1590.wav', '/content/drive/MyDrive/bsc_thesis/early_media_sample/1246.wav', '/content/drive/MyDrive/bsc_thesis/early_media_sample/1036.wav', '/content/drive/MyDrive/bsc_thesis/early_media_sample/3799.wav', '/content/drive/MyDrive/bsc_thesis/early_media_sample/458.wav', '/content/drive/MyDrive/bsc_thesis/early_media_sample/2288.wav', '/content/drive/MyDrive/bsc_thesis/early_media_sample/3371.wav', '/content/drive/MyDrive/bsc_thesis/early_media_sample/263.wav', '/content/drive/MyDrive/bsc_thesis/early_media_sample/1747.wav', '/content/drive/MyDrive/bsc_thesis/early_media_sample/21.wav', '/content/drive/MyDrive/bsc_thesis/early_media_sample/2992.wav', '/content/drive/MyDrive/bsc_thesis/early_media_sample/3428.wav', '/content/drive/MyDrive/bsc_thesis/early_media_sample/4248.wav', '/content/drive/MyDrive/bsc_thesis/early_media_sample/1750.wav', '/content/drive/MyDrive/bsc_thesis/early_media_sample/3025.wav', '/content/drive/MyDrive/bsc_thesis/early_media_sample/526.wav', '/content/drive/MyDrive/bsc_thesis/early_media_sample/3805.wav', '/content/drive/MyDrive/bsc_thesis/early_media_sample/3846.wav', '/content/drive/MyDrive/bsc_thesis/early_media_sample/3992.wav', '/content/drive/MyDrive/bsc_thesis/early_media_sample/1659.wav', '/content/drive/MyDrive/bsc_thesis/early_media_sample/4064.wav', '/content/drive/MyDrive/bsc_thesis/early_media_sample/3610.wav', '/content/drive/MyDrive/bsc_thesis/early_media_sample/3281.wav', '/content/drive/MyDrive/bsc_thesis/early_media_sample/3323.wav', '/content/drive/MyDrive/bsc_thesis/early_media_sample/432.wav', '/content/drive/MyDrive/bsc_thesis/early_media_sample/604.wav', '/content/drive/MyDrive/bsc_thesis/early_media_sample/3010.wav', '/content/drive/MyDrive/bsc_thesis/early_media_sample/1244.wav', '/content/drive/MyDrive/bsc_thesis/early_media_sample/3065.wav', '/content/drive/MyDrive/bsc_thesis/early_media_sample/878.wav', '/content/drive/MyDrive/bsc_thesis/early_media_sample/1418.wav', '/content/drive/MyDrive/bsc_thesis/early_media_sample/2610.wav', '/content/drive/MyDrive/bsc_thesis/early_media_sample/1839.wav', '/content/drive/MyDrive/bsc_thesis/early_media_sample/2900.wav', '/content/drive/MyDrive/bsc_thesis/early_media_sample/2394.wav', '/content/drive/MyDrive/bsc_thesis/early_media_sample/700.wav', '/content/drive/MyDrive/bsc_thesis/early_media_sample/3488.wav', '/content/drive/MyDrive/bsc_thesis/early_media_sample/3967.wav', '/content/drive/MyDrive/bsc_thesis/early_media_sample/3986.wav', '/content/drive/MyDrive/bsc_thesis/early_media_sample/2331.wav', '/content/drive/MyDrive/bsc_thesis/early_media_sample/2622.wav', '/content/drive/MyDrive/bsc_thesis/early_media_sample/2687.wav', '/content/drive/MyDrive/bsc_thesis/early_media_sample/1167.wav', '/content/drive/MyDrive/bsc_thesis/early_media_sample/3781.wav', '/content/drive/MyDrive/bsc_thesis/early_media_sample/2007.wav', '/content/drive/MyDrive/bsc_thesis/early_media_sample/3713.wav', '/content/drive/MyDrive/bsc_thesis/early_media_sample/428.wav', '/content/drive/MyDrive/bsc_thesis/early_media_sample/421.wav', '/content/drive/MyDrive/bsc_thesis/early_media_sample/1898.wav', '/content/drive/MyDrive/bsc_thesis/early_media_sample/2576.wav', '/content/drive/MyDrive/bsc_thesis/early_media_sample/1123.wav', '/content/drive/MyDrive/bsc_thesis/early_media_sample/3587.wav', '/content/drive/MyDrive/bsc_thesis/early_media_sample/1299.wav', '/content/drive/MyDrive/bsc_thesis/early_media_sample/91.wav', '/content/drive/MyDrive/bsc_thesis/early_media_sample/2123.wav', '/content/drive/MyDrive/bsc_thesis/early_media_sample/2542.wav', '/content/drive/MyDrive/bsc_thesis/early_media_sample/581.wav', '/content/drive/MyDrive/bsc_thesis/early_media_sample/3851.wav', '/content/drive/MyDrive/bsc_thesis/early_media_sample/1763.wav', '/content/drive/MyDrive/bsc_thesis/early_media_sample/3730.wav', '/content/drive/MyDrive/bsc_thesis/early_media_sample/848.wav', '/content/drive/MyDrive/bsc_thesis/early_media_sample/637.wav', '/content/drive/MyDrive/bsc_thesis/early_media_sample/3397.wav', '/content/drive/MyDrive/bsc_thesis/early_media_sample/4289.wav', '/content/drive/MyDrive/bsc_thesis/early_media_sample/785.wav', '/content/drive/MyDrive/bsc_thesis/early_media_sample/191.wav', '/content/drive/MyDrive/bsc_thesis/early_media_sample/3698.wav', '/content/drive/MyDrive/bsc_thesis/early_media_sample/133.wav', '/content/drive/MyDrive/bsc_thesis/early_media_sample/202.wav', '/content/drive/MyDrive/bsc_thesis/early_media_sample/2649.wav', '/content/drive/MyDrive/bsc_thesis/early_media_sample/1569.wav', '/content/drive/MyDrive/bsc_thesis/early_media_sample/1845.wav', '/content/drive/MyDrive/bsc_thesis/early_media_sample/4409.wav', '/content/drive/MyDrive/bsc_thesis/early_media_sample/2656.wav', '/content/drive/MyDrive/bsc_thesis/early_media_sample/3287.wav', '/content/drive/MyDrive/bsc_thesis/early_media_sample/4279.wav', '/content/drive/MyDrive/bsc_thesis/early_media_sample/4291.wav', '/content/drive/MyDrive/bsc_thesis/early_media_sample/3419.wav', '/content/drive/MyDrive/bsc_thesis/early_media_sample/2179.wav', '/content/drive/MyDrive/bsc_thesis/early_media_sample/2779.wav', '/content/drive/MyDrive/bsc_thesis/early_media_sample/1522.wav', '/content/drive/MyDrive/bsc_thesis/early_media_sample/1356.wav', '/content/drive/MyDrive/bsc_thesis/early_media_sample/1622.wav', '/content/drive/MyDrive/bsc_thesis/early_media_sample/4209.wav', '/content/drive/MyDrive/bsc_thesis/early_media_sample/4473.wav', '/content/drive/MyDrive/bsc_thesis/early_media_sample/2291.wav', '/content/drive/MyDrive/bsc_thesis/early_media_sample/2677.wav', '/content/drive/MyDrive/bsc_thesis/early_media_sample/806.wav', '/content/drive/MyDrive/bsc_thesis/early_media_sample/2902.wav', '/content/drive/MyDrive/bsc_thesis/early_media_sample/4110.wav', '/content/drive/MyDrive/bsc_thesis/early_media_sample/2437.wav', '/content/drive/MyDrive/bsc_thesis/early_media_sample/2549.wav', '/content/drive/MyDrive/bsc_thesis/early_media_sample/2125.wav', '/content/drive/MyDrive/bsc_thesis/early_media_sample/2731.wav', '/content/drive/MyDrive/bsc_thesis/early_media_sample/4323.wav', '/content/drive/MyDrive/bsc_thesis/early_media_sample/3701.wav', '/content/drive/MyDrive/bsc_thesis/early_media_sample/1959.wav', '/content/drive/MyDrive/bsc_thesis/early_media_sample/947.wav', '/content/drive/MyDrive/bsc_thesis/early_media_sample/4389.wav', '/content/drive/MyDrive/bsc_thesis/early_media_sample/3685.wav', '/content/drive/MyDrive/bsc_thesis/early_media_sample/494.wav', '/content/drive/MyDrive/bsc_thesis/early_media_sample/1669.wav', '/content/drive/MyDrive/bsc_thesis/early_media_sample/3629.wav', '/content/drive/MyDrive/bsc_thesis/early_media_sample/2609.wav', '/content/drive/MyDrive/bsc_thesis/early_media_sample/3246.wav', '/content/drive/MyDrive/bsc_thesis/early_media_sample/1980.wav', '/content/drive/MyDrive/bsc_thesis/early_media_sample/4059.wav', '/content/drive/MyDrive/bsc_thesis/early_media_sample/2784.wav', '/content/drive/MyDrive/bsc_thesis/early_media_sample/571.wav', '/content/drive/MyDrive/bsc_thesis/early_media_sample/1278.wav', '/content/drive/MyDrive/bsc_thesis/early_media_sample/441.wav', '/content/drive/MyDrive/bsc_thesis/early_media_sample/1135.wav', '/content/drive/MyDrive/bsc_thesis/early_media_sample/3248.wav', '/content/drive/MyDrive/bsc_thesis/early_media_sample/3290.wav', '/content/drive/MyDrive/bsc_thesis/early_media_sample/145.wav', '/content/drive/MyDrive/bsc_thesis/early_media_sample/3080.wav', '/content/drive/MyDrive/bsc_thesis/early_media_sample/2480.wav', '/content/drive/MyDrive/bsc_thesis/early_media_sample/544.wav', '/content/drive/MyDrive/bsc_thesis/early_media_sample/3765.wav', '/content/drive/MyDrive/bsc_thesis/early_media_sample/1637.wav', '/content/drive/MyDrive/bsc_thesis/early_media_sample/648.wav', '/content/drive/MyDrive/bsc_thesis/early_media_sample/1146.wav', '/content/drive/MyDrive/bsc_thesis/early_media_sample/1880.wav', '/content/drive/MyDrive/bsc_thesis/early_media_sample/467.wav', '/content/drive/MyDrive/bsc_thesis/early_media_sample/706.wav', '/content/drive/MyDrive/bsc_thesis/early_media_sample/2474.wav', '/content/drive/MyDrive/bsc_thesis/early_media_sample/4420.wav', '/content/drive/MyDrive/bsc_thesis/early_media_sample/3137.wav', '/content/drive/MyDrive/bsc_thesis/early_media_sample/408.wav', '/content/drive/MyDrive/bsc_thesis/early_media_sample/3094.wav', '/content/drive/MyDrive/bsc_thesis/early_media_sample/444.wav', '/content/drive/MyDrive/bsc_thesis/early_media_sample/3852.wav', '/content/drive/MyDrive/bsc_thesis/early_media_sample/2429.wav', '/content/drive/MyDrive/bsc_thesis/early_media_sample/391.wav', '/content/drive/MyDrive/bsc_thesis/early_media_sample/3607.wav', '/content/drive/MyDrive/bsc_thesis/early_media_sample/1252.wav', '/content/drive/MyDrive/bsc_thesis/early_media_sample/1651.wav', '/content/drive/MyDrive/bsc_thesis/early_media_sample/3555.wav', '/content/drive/MyDrive/bsc_thesis/early_media_sample/2438.wav', '/content/drive/MyDrive/bsc_thesis/early_media_sample/3046.wav', '/content/drive/MyDrive/bsc_thesis/early_media_sample/596.wav', '/content/drive/MyDrive/bsc_thesis/early_media_sample/1910.wav', '/content/drive/MyDrive/bsc_thesis/early_media_sample/2500.wav', '/content/drive/MyDrive/bsc_thesis/early_media_sample/111.wav', '/content/drive/MyDrive/bsc_thesis/early_media_sample/3466.wav', '/content/drive/MyDrive/bsc_thesis/early_media_sample/470.wav', '/content/drive/MyDrive/bsc_thesis/early_media_sample/2697.wav', '/content/drive/MyDrive/bsc_thesis/early_media_sample/4200.wav', '/content/drive/MyDrive/bsc_thesis/early_media_sample/3724.wav', '/content/drive/MyDrive/bsc_thesis/early_media_sample/1323.wav', '/content/drive/MyDrive/bsc_thesis/early_media_sample/1755.wav', '/content/drive/MyDrive/bsc_thesis/early_media_sample/4198.wav', '/content/drive/MyDrive/bsc_thesis/early_media_sample/3614.wav', '/content/drive/MyDrive/bsc_thesis/early_media_sample/651.wav', '/content/drive/MyDrive/bsc_thesis/early_media_sample/2633.wav', '/content/drive/MyDrive/bsc_thesis/early_media_sample/3578.wav', '/content/drive/MyDrive/bsc_thesis/early_media_sample/3181.wav', '/content/drive/MyDrive/bsc_thesis/early_media_sample/550.wav', '/content/drive/MyDrive/bsc_thesis/early_media_sample/1165.wav', '/content/drive/MyDrive/bsc_thesis/early_media_sample/3589.wav', '/content/drive/MyDrive/bsc_thesis/early_media_sample/1796.wav', '/content/drive/MyDrive/bsc_thesis/early_media_sample/4444.wav', '/content/drive/MyDrive/bsc_thesis/early_media_sample/2378.wav', '/content/drive/MyDrive/bsc_thesis/early_media_sample/2965.wav', '/content/drive/MyDrive/bsc_thesis/early_media_sample/1488.wav', '/content/drive/MyDrive/bsc_thesis/early_media_sample/103.wav', '/content/drive/MyDrive/bsc_thesis/early_media_sample/244.wav', '/content/drive/MyDrive/bsc_thesis/early_media_sample/4349.wav', '/content/drive/MyDrive/bsc_thesis/early_media_sample/701.wav', '/content/drive/MyDrive/bsc_thesis/early_media_sample/2250.wav', '/content/drive/MyDrive/bsc_thesis/early_media_sample/3342.wav', '/content/drive/MyDrive/bsc_thesis/early_media_sample/633.wav', '/content/drive/MyDrive/bsc_thesis/early_media_sample/3675.wav', '/content/drive/MyDrive/bsc_thesis/early_media_sample/1877.wav', '/content/drive/MyDrive/bsc_thesis/early_media_sample/3936.wav', '/content/drive/MyDrive/bsc_thesis/early_media_sample/3849.wav', '/content/drive/MyDrive/bsc_thesis/early_media_sample/2494.wav', '/content/drive/MyDrive/bsc_thesis/early_media_sample/3189.wav', '/content/drive/MyDrive/bsc_thesis/early_media_sample/237.wav', '/content/drive/MyDrive/bsc_thesis/early_media_sample/2357.wav', '/content/drive/MyDrive/bsc_thesis/early_media_sample/3107.wav', '/content/drive/MyDrive/bsc_thesis/early_media_sample/2118.wav', '/content/drive/MyDrive/bsc_thesis/early_media_sample/1428.wav', '/content/drive/MyDrive/bsc_thesis/early_media_sample/3547.wav', '/content/drive/MyDrive/bsc_thesis/early_media_sample/4090.wav', '/content/drive/MyDrive/bsc_thesis/early_media_sample/4431.wav', '/content/drive/MyDrive/bsc_thesis/early_media_sample/4112.wav', '/content/drive/MyDrive/bsc_thesis/early_media_sample/4341.wav', '/content/drive/MyDrive/bsc_thesis/early_media_sample/2359.wav', '/content/drive/MyDrive/bsc_thesis/early_media_sample/4179.wav', '/content/drive/MyDrive/bsc_thesis/early_media_sample/3477.wav', '/content/drive/MyDrive/bsc_thesis/early_media_sample/3764.wav', '/content/drive/MyDrive/bsc_thesis/early_media_sample/4355.wav', '/content/drive/MyDrive/bsc_thesis/early_media_sample/1497.wav', '/content/drive/MyDrive/bsc_thesis/early_media_sample/1280.wav', '/content/drive/MyDrive/bsc_thesis/early_media_sample/3434.wav', '/content/drive/MyDrive/bsc_thesis/early_media_sample/2202.wav', '/content/drive/MyDrive/bsc_thesis/early_media_sample/3122.wav', '/content/drive/MyDrive/bsc_thesis/early_media_sample/950.wav', '/content/drive/MyDrive/bsc_thesis/early_media_sample/3502.wav', '/content/drive/MyDrive/bsc_thesis/early_media_sample/3515.wav', '/content/drive/MyDrive/bsc_thesis/early_media_sample/1523.wav', '/content/drive/MyDrive/bsc_thesis/early_media_sample/1220.wav', '/content/drive/MyDrive/bsc_thesis/early_media_sample/966.wav', '/content/drive/MyDrive/bsc_thesis/early_media_sample/523.wav', '/content/drive/MyDrive/bsc_thesis/early_media_sample/3108.wav', '/content/drive/MyDrive/bsc_thesis/early_media_sample/1206.wav', '/content/drive/MyDrive/bsc_thesis/early_media_sample/3485.wav', '/content/drive/MyDrive/bsc_thesis/early_media_sample/975.wav', '/content/drive/MyDrive/bsc_thesis/early_media_sample/3784.wav', '/content/drive/MyDrive/bsc_thesis/early_media_sample/4256.wav', '/content/drive/MyDrive/bsc_thesis/early_media_sample/2227.wav', '/content/drive/MyDrive/bsc_thesis/early_media_sample/592.wav', '/content/drive/MyDrive/bsc_thesis/early_media_sample/2338.wav', '/content/drive/MyDrive/bsc_thesis/early_media_sample/3079.wav', '/content/drive/MyDrive/bsc_thesis/early_media_sample/585.wav', '/content/drive/MyDrive/bsc_thesis/early_media_sample/3052.wav', '/content/drive/MyDrive/bsc_thesis/early_media_sample/1147.wav', '/content/drive/MyDrive/bsc_thesis/early_media_sample/3531.wav', '/content/drive/MyDrive/bsc_thesis/early_media_sample/3035.wav', '/content/drive/MyDrive/bsc_thesis/early_media_sample/1817.wav', '/content/drive/MyDrive/bsc_thesis/early_media_sample/935.wav', '/content/drive/MyDrive/bsc_thesis/early_media_sample/1422.wav', '/content/drive/MyDrive/bsc_thesis/early_media_sample/2800.wav', '/content/drive/MyDrive/bsc_thesis/early_media_sample/2932.wav', '/content/drive/MyDrive/bsc_thesis/early_media_sample/281.wav', '/content/drive/MyDrive/bsc_thesis/early_media_sample/2389.wav', '/content/drive/MyDrive/bsc_thesis/early_media_sample/2011.wav', '/content/drive/MyDrive/bsc_thesis/early_media_sample/225.wav', '/content/drive/MyDrive/bsc_thesis/early_media_sample/2388.wav', '/content/drive/MyDrive/bsc_thesis/early_media_sample/1654.wav', '/content/drive/MyDrive/bsc_thesis/early_media_sample/3447.wav', '/content/drive/MyDrive/bsc_thesis/early_media_sample/75.wav', '/content/drive/MyDrive/bsc_thesis/early_media_sample/2399.wav', '/content/drive/MyDrive/bsc_thesis/early_media_sample/2840.wav', '/content/drive/MyDrive/bsc_thesis/early_media_sample/1831.wav', '/content/drive/MyDrive/bsc_thesis/early_media_sample/3829.wav', '/content/drive/MyDrive/bsc_thesis/early_media_sample/609.wav', '/content/drive/MyDrive/bsc_thesis/early_media_sample/493.wav', '/content/drive/MyDrive/bsc_thesis/early_media_sample/2196.wav', '/content/drive/MyDrive/bsc_thesis/early_media_sample/1079.wav', '/content/drive/MyDrive/bsc_thesis/early_media_sample/2619.wav', '/content/drive/MyDrive/bsc_thesis/early_media_sample/2756.wav', '/content/drive/MyDrive/bsc_thesis/early_media_sample/4228.wav', '/content/drive/MyDrive/bsc_thesis/early_media_sample/433.wav', '/content/drive/MyDrive/bsc_thesis/early_media_sample/2524.wav', '/content/drive/MyDrive/bsc_thesis/early_media_sample/4055.wav', '/content/drive/MyDrive/bsc_thesis/early_media_sample/3954.wav', '/content/drive/MyDrive/bsc_thesis/early_media_sample/3190.wav', '/content/drive/MyDrive/bsc_thesis/early_media_sample/694.wav', '/content/drive/MyDrive/bsc_thesis/early_media_sample/64.wav', '/content/drive/MyDrive/bsc_thesis/early_media_sample/753.wav', '/content/drive/MyDrive/bsc_thesis/early_media_sample/3366.wav', '/content/drive/MyDrive/bsc_thesis/early_media_sample/4271.wav', '/content/drive/MyDrive/bsc_thesis/early_media_sample/2660.wav', '/content/drive/MyDrive/bsc_thesis/early_media_sample/3210.wav', '/content/drive/MyDrive/bsc_thesis/early_media_sample/927.wav', '/content/drive/MyDrive/bsc_thesis/early_media_sample/2458.wav', '/content/drive/MyDrive/bsc_thesis/early_media_sample/512.wav', '/content/drive/MyDrive/bsc_thesis/early_media_sample/2255.wav', '/content/drive/MyDrive/bsc_thesis/early_media_sample/2844.wav', '/content/drive/MyDrive/bsc_thesis/early_media_sample/376.wav', '/content/drive/MyDrive/bsc_thesis/early_media_sample/1473.wav', '/content/drive/MyDrive/bsc_thesis/early_media_sample/3641.wav', '/content/drive/MyDrive/bsc_thesis/early_media_sample/1161.wav', '/content/drive/MyDrive/bsc_thesis/early_media_sample/4028.wav', '/content/drive/MyDrive/bsc_thesis/early_media_sample/4245.wav', '/content/drive/MyDrive/bsc_thesis/early_media_sample/1289.wav', '/content/drive/MyDrive/bsc_thesis/early_media_sample/1866.wav', '/content/drive/MyDrive/bsc_thesis/early_media_sample/788.wav', '/content/drive/MyDrive/bsc_thesis/early_media_sample/224.wav', '/content/drive/MyDrive/bsc_thesis/early_media_sample/2534.wav', '/content/drive/MyDrive/bsc_thesis/early_media_sample/4213.wav', '/content/drive/MyDrive/bsc_thesis/early_media_sample/639.wav', '/content/drive/MyDrive/bsc_thesis/early_media_sample/321.wav', '/content/drive/MyDrive/bsc_thesis/early_media_sample/3062.wav', '/content/drive/MyDrive/bsc_thesis/early_media_sample/1164.wav', '/content/drive/MyDrive/bsc_thesis/early_media_sample/1872.wav', '/content/drive/MyDrive/bsc_thesis/early_media_sample/1386.wav', '/content/drive/MyDrive/bsc_thesis/early_media_sample/1400.wav', '/content/drive/MyDrive/bsc_thesis/early_media_sample/3896.wav', '/content/drive/MyDrive/bsc_thesis/early_media_sample/4343.wav', '/content/drive/MyDrive/bsc_thesis/early_media_sample/1937.wav', '/content/drive/MyDrive/bsc_thesis/early_media_sample/2219.wav', '/content/drive/MyDrive/bsc_thesis/early_media_sample/4418.wav', '/content/drive/MyDrive/bsc_thesis/early_media_sample/2063.wav', '/content/drive/MyDrive/bsc_thesis/early_media_sample/562.wav', '/content/drive/MyDrive/bsc_thesis/early_media_sample/1571.wav', '/content/drive/MyDrive/bsc_thesis/early_media_sample/1339.wav', '/content/drive/MyDrive/bsc_thesis/early_media_sample/4237.wav', '/content/drive/MyDrive/bsc_thesis/early_media_sample/4276.wav', '/content/drive/MyDrive/bsc_thesis/early_media_sample/2766.wav', '/content/drive/MyDrive/bsc_thesis/early_media_sample/187.wav', '/content/drive/MyDrive/bsc_thesis/early_media_sample/645.wav', '/content/drive/MyDrive/bsc_thesis/early_media_sample/825.wav', '/content/drive/MyDrive/bsc_thesis/early_media_sample/3072.wav', '/content/drive/MyDrive/bsc_thesis/early_media_sample/4017.wav', '/content/drive/MyDrive/bsc_thesis/early_media_sample/2234.wav', '/content/drive/MyDrive/bsc_thesis/early_media_sample/582.wav', '/content/drive/MyDrive/bsc_thesis/early_media_sample/821.wav', '/content/drive/MyDrive/bsc_thesis/early_media_sample/2025.wav', '/content/drive/MyDrive/bsc_thesis/early_media_sample/3497.wav', '/content/drive/MyDrive/bsc_thesis/early_media_sample/4336.wav', '/content/drive/MyDrive/bsc_thesis/early_media_sample/1576.wav', '/content/drive/MyDrive/bsc_thesis/early_media_sample/3014.wav', '/content/drive/MyDrive/bsc_thesis/early_media_sample/2035.wav', '/content/drive/MyDrive/bsc_thesis/early_media_sample/83.wav', '/content/drive/MyDrive/bsc_thesis/early_media_sample/955.wav', '/content/drive/MyDrive/bsc_thesis/early_media_sample/4448.wav', '/content/drive/MyDrive/bsc_thesis/early_media_sample/1501.wav', '/content/drive/MyDrive/bsc_thesis/early_media_sample/3684.wav', '/content/drive/MyDrive/bsc_thesis/early_media_sample/2400.wav', '/content/drive/MyDrive/bsc_thesis/early_media_sample/667.wav', '/content/drive/MyDrive/bsc_thesis/early_media_sample/2546.wav', '/content/drive/MyDrive/bsc_thesis/early_media_sample/292.wav', '/content/drive/MyDrive/bsc_thesis/early_media_sample/1126.wav', '/content/drive/MyDrive/bsc_thesis/early_media_sample/2718.wav', '/content/drive/MyDrive/bsc_thesis/early_media_sample/2232.wav', '/content/drive/MyDrive/bsc_thesis/early_media_sample/3217.wav', '/content/drive/MyDrive/bsc_thesis/early_media_sample/2037.wav', '/content/drive/MyDrive/bsc_thesis/early_media_sample/2117.wav', '/content/drive/MyDrive/bsc_thesis/early_media_sample/3894.wav', '/content/drive/MyDrive/bsc_thesis/early_media_sample/2624.wav', '/content/drive/MyDrive/bsc_thesis/early_media_sample/2870.wav', '/content/drive/MyDrive/bsc_thesis/early_media_sample/2308.wav', '/content/drive/MyDrive/bsc_thesis/early_media_sample/1181.wav', '/content/drive/MyDrive/bsc_thesis/early_media_sample/679.wav', '/content/drive/MyDrive/bsc_thesis/early_media_sample/1732.wav', '/content/drive/MyDrive/bsc_thesis/early_media_sample/3988.wav', '/content/drive/MyDrive/bsc_thesis/early_media_sample/4119.wav', '/content/drive/MyDrive/bsc_thesis/early_media_sample/4157.wav', '/content/drive/MyDrive/bsc_thesis/early_media_sample/3911.wav', '/content/drive/MyDrive/bsc_thesis/early_media_sample/4274.wav', '/content/drive/MyDrive/bsc_thesis/early_media_sample/290.wav', '/content/drive/MyDrive/bsc_thesis/early_media_sample/1716.wav', '/content/drive/MyDrive/bsc_thesis/early_media_sample/1382.wav', '/content/drive/MyDrive/bsc_thesis/early_media_sample/4024.wav', '/content/drive/MyDrive/bsc_thesis/early_media_sample/3919.wav', '/content/drive/MyDrive/bsc_thesis/early_media_sample/1860.wav', '/content/drive/MyDrive/bsc_thesis/early_media_sample/1642.wav', '/content/drive/MyDrive/bsc_thesis/early_media_sample/1861.wav', '/content/drive/MyDrive/bsc_thesis/early_media_sample/4240.wav', '/content/drive/MyDrive/bsc_thesis/early_media_sample/1459.wav', '/content/drive/MyDrive/bsc_thesis/early_media_sample/1784.wav', '/content/drive/MyDrive/bsc_thesis/early_media_sample/2562.wav', '/content/drive/MyDrive/bsc_thesis/early_media_sample/2638.wav', '/content/drive/MyDrive/bsc_thesis/early_media_sample/555.wav', '/content/drive/MyDrive/bsc_thesis/early_media_sample/734.wav', '/content/drive/MyDrive/bsc_thesis/early_media_sample/1238.wav', '/content/drive/MyDrive/bsc_thesis/early_media_sample/4304.wav', '/content/drive/MyDrive/bsc_thesis/early_media_sample/4026.wav', '/content/drive/MyDrive/bsc_thesis/early_media_sample/2842.wav', '/content/drive/MyDrive/bsc_thesis/early_media_sample/4328.wav', '/content/drive/MyDrive/bsc_thesis/early_media_sample/2137.wav', '/content/drive/MyDrive/bsc_thesis/early_media_sample/1272.wav', '/content/drive/MyDrive/bsc_thesis/early_media_sample/1150.wav', '/content/drive/MyDrive/bsc_thesis/early_media_sample/2012.wav', '/content/drive/MyDrive/bsc_thesis/early_media_sample/2155.wav', '/content/drive/MyDrive/bsc_thesis/early_media_sample/3049.wav', '/content/drive/MyDrive/bsc_thesis/early_media_sample/1645.wav', '/content/drive/MyDrive/bsc_thesis/early_media_sample/2491.wav', '/content/drive/MyDrive/bsc_thesis/early_media_sample/3211.wav', '/content/drive/MyDrive/bsc_thesis/early_media_sample/1439.wav', '/content/drive/MyDrive/bsc_thesis/early_media_sample/3914.wav', '/content/drive/MyDrive/bsc_thesis/early_media_sample/2193.wav', '/content/drive/MyDrive/bsc_thesis/early_media_sample/1152.wav', '/content/drive/MyDrive/bsc_thesis/early_media_sample/3689.wav', '/content/drive/MyDrive/bsc_thesis/early_media_sample/2406.wav', '/content/drive/MyDrive/bsc_thesis/early_media_sample/3508.wav', '/content/drive/MyDrive/bsc_thesis/early_media_sample/3559.wav', '/content/drive/MyDrive/bsc_thesis/early_media_sample/816.wav', '/content/drive/MyDrive/bsc_thesis/early_media_sample/316.wav', '/content/drive/MyDrive/bsc_thesis/early_media_sample/2443.wav', '/content/drive/MyDrive/bsc_thesis/early_media_sample/4428.wav', '/content/drive/MyDrive/bsc_thesis/early_media_sample/4115.wav', '/content/drive/MyDrive/bsc_thesis/early_media_sample/318.wav', '/content/drive/MyDrive/bsc_thesis/early_media_sample/1352.wav', '/content/drive/MyDrive/bsc_thesis/early_media_sample/3278.wav', '/content/drive/MyDrive/bsc_thesis/early_media_sample/186.wav', '/content/drive/MyDrive/bsc_thesis/early_media_sample/3590.wav', '/content/drive/MyDrive/bsc_thesis/early_media_sample/1928.wav', '/content/drive/MyDrive/bsc_thesis/early_media_sample/4255.wav', '/content/drive/MyDrive/bsc_thesis/early_media_sample/1593.wav', '/content/drive/MyDrive/bsc_thesis/early_media_sample/952.wav', '/content/drive/MyDrive/bsc_thesis/early_media_sample/2009.wav', '/content/drive/MyDrive/bsc_thesis/early_media_sample/4014.wav', '/content/drive/MyDrive/bsc_thesis/early_media_sample/3501.wav', '/content/drive/MyDrive/bsc_thesis/early_media_sample/2544.wav', '/content/drive/MyDrive/bsc_thesis/early_media_sample/1208.wav', '/content/drive/MyDrive/bsc_thesis/early_media_sample/1073.wav', '/content/drive/MyDrive/bsc_thesis/early_media_sample/861.wav', '/content/drive/MyDrive/bsc_thesis/early_media_sample/2183.wav', '/content/drive/MyDrive/bsc_thesis/early_media_sample/2459.wav', '/content/drive/MyDrive/bsc_thesis/early_media_sample/2130.wav', '/content/drive/MyDrive/bsc_thesis/early_media_sample/939.wav', '/content/drive/MyDrive/bsc_thesis/early_media_sample/996.wav', '/content/drive/MyDrive/bsc_thesis/early_media_sample/1159.wav', '/content/drive/MyDrive/bsc_thesis/early_media_sample/486.wav', '/content/drive/MyDrive/bsc_thesis/early_media_sample/1734.wav', '/content/drive/MyDrive/bsc_thesis/early_media_sample/2271.wav', '/content/drive/MyDrive/bsc_thesis/early_media_sample/737.wav', '/content/drive/MyDrive/bsc_thesis/early_media_sample/147.wav', '/content/drive/MyDrive/bsc_thesis/early_media_sample/1624.wav', '/content/drive/MyDrive/bsc_thesis/early_media_sample/2769.wav', '/content/drive/MyDrive/bsc_thesis/early_media_sample/4175.wav', '/content/drive/MyDrive/bsc_thesis/early_media_sample/1778.wav', '/content/drive/MyDrive/bsc_thesis/early_media_sample/2978.wav', '/content/drive/MyDrive/bsc_thesis/early_media_sample/2898.wav', '/content/drive/MyDrive/bsc_thesis/early_media_sample/601.wav', '/content/drive/MyDrive/bsc_thesis/early_media_sample/1368.wav', '/content/drive/MyDrive/bsc_thesis/early_media_sample/2224.wav', '/content/drive/MyDrive/bsc_thesis/early_media_sample/2527.wav', '/content/drive/MyDrive/bsc_thesis/early_media_sample/1911.wav', '/content/drive/MyDrive/bsc_thesis/early_media_sample/2946.wav', '/content/drive/MyDrive/bsc_thesis/early_media_sample/3283.wav', '/content/drive/MyDrive/bsc_thesis/early_media_sample/1265.wav', '/content/drive/MyDrive/bsc_thesis/early_media_sample/3648.wav', '/content/drive/MyDrive/bsc_thesis/early_media_sample/3204.wav', '/content/drive/MyDrive/bsc_thesis/early_media_sample/1194.wav', '/content/drive/MyDrive/bsc_thesis/early_media_sample/4029.wav', '/content/drive/MyDrive/bsc_thesis/early_media_sample/1943.wav', '/content/drive/MyDrive/bsc_thesis/early_media_sample/4346.wav', '/content/drive/MyDrive/bsc_thesis/early_media_sample/2322.wav', '/content/drive/MyDrive/bsc_thesis/early_media_sample/1029.wav', '/content/drive/MyDrive/bsc_thesis/early_media_sample/1504.wav', '/content/drive/MyDrive/bsc_thesis/early_media_sample/3984.wav', '/content/drive/MyDrive/bsc_thesis/early_media_sample/1118.wav', '/content/drive/MyDrive/bsc_thesis/early_media_sample/3944.wav', '/content/drive/MyDrive/bsc_thesis/early_media_sample/548.wav', '/content/drive/MyDrive/bsc_thesis/early_media_sample/1114.wav', '/content/drive/MyDrive/bsc_thesis/early_media_sample/2499.wav', '/content/drive/MyDrive/bsc_thesis/early_media_sample/4416.wav', '/content/drive/MyDrive/bsc_thesis/early_media_sample/778.wav', '/content/drive/MyDrive/bsc_thesis/early_media_sample/4350.wav', '/content/drive/MyDrive/bsc_thesis/early_media_sample/3809.wav', '/content/drive/MyDrive/bsc_thesis/early_media_sample/4280.wav', '/content/drive/MyDrive/bsc_thesis/early_media_sample/3715.wav', '/content/drive/MyDrive/bsc_thesis/early_media_sample/2425.wav', '/content/drive/MyDrive/bsc_thesis/early_media_sample/924.wav', '/content/drive/MyDrive/bsc_thesis/early_media_sample/1751.wav', '/content/drive/MyDrive/bsc_thesis/early_media_sample/4073.wav', '/content/drive/MyDrive/bsc_thesis/early_media_sample/1055.wav', '/content/drive/MyDrive/bsc_thesis/early_media_sample/3543.wav', '/content/drive/MyDrive/bsc_thesis/early_media_sample/1491.wav', '/content/drive/MyDrive/bsc_thesis/early_media_sample/673.wav', '/content/drive/MyDrive/bsc_thesis/early_media_sample/2986.wav', '/content/drive/MyDrive/bsc_thesis/early_media_sample/3634.wav', '/content/drive/MyDrive/bsc_thesis/early_media_sample/617.wav', '/content/drive/MyDrive/bsc_thesis/early_media_sample/3920.wav', '/content/drive/MyDrive/bsc_thesis/early_media_sample/1176.wav', '/content/drive/MyDrive/bsc_thesis/early_media_sample/829.wav', '/content/drive/MyDrive/bsc_thesis/early_media_sample/2240.wav', '/content/drive/MyDrive/bsc_thesis/early_media_sample/3259.wav', '/content/drive/MyDrive/bsc_thesis/early_media_sample/3492.wav', '/content/drive/MyDrive/bsc_thesis/early_media_sample/3889.wav', '/content/drive/MyDrive/bsc_thesis/early_media_sample/1344.wav', '/content/drive/MyDrive/bsc_thesis/early_media_sample/68.wav', '/content/drive/MyDrive/bsc_thesis/early_media_sample/1070.wav', '/content/drive/MyDrive/bsc_thesis/early_media_sample/3149.wav', '/content/drive/MyDrive/bsc_thesis/early_media_sample/1000.wav', '/content/drive/MyDrive/bsc_thesis/early_media_sample/1178.wav', '/content/drive/MyDrive/bsc_thesis/early_media_sample/4329.wav', '/content/drive/MyDrive/bsc_thesis/early_media_sample/525.wav', '/content/drive/MyDrive/bsc_thesis/early_media_sample/1224.wav', '/content/drive/MyDrive/bsc_thesis/early_media_sample/3983.wav', '/content/drive/MyDrive/bsc_thesis/early_media_sample/1596.wav', '/content/drive/MyDrive/bsc_thesis/early_media_sample/2760.wav', '/content/drive/MyDrive/bsc_thesis/early_media_sample/1770.wav', '/content/drive/MyDrive/bsc_thesis/early_media_sample/1434.wav', '/content/drive/MyDrive/bsc_thesis/early_media_sample/262.wav', '/content/drive/MyDrive/bsc_thesis/early_media_sample/970.wav', '/content/drive/MyDrive/bsc_thesis/early_media_sample/554.wav', '/content/drive/MyDrive/bsc_thesis/early_media_sample/1865.wav', '/content/drive/MyDrive/bsc_thesis/early_media_sample/307.wav', '/content/drive/MyDrive/bsc_thesis/early_media_sample/535.wav', '/content/drive/MyDrive/bsc_thesis/early_media_sample/1132.wav', '/content/drive/MyDrive/bsc_thesis/early_media_sample/2055.wav', '/content/drive/MyDrive/bsc_thesis/early_media_sample/1749.wav', '/content/drive/MyDrive/bsc_thesis/early_media_sample/1321.wav', '/content/drive/MyDrive/bsc_thesis/early_media_sample/908.wav', '/content/drive/MyDrive/bsc_thesis/early_media_sample/2586.wav', '/content/drive/MyDrive/bsc_thesis/early_media_sample/370.wav', '/content/drive/MyDrive/bsc_thesis/early_media_sample/3778.wav', '/content/drive/MyDrive/bsc_thesis/early_media_sample/1981.wav', '/content/drive/MyDrive/bsc_thesis/early_media_sample/3306.wav', '/content/drive/MyDrive/bsc_thesis/early_media_sample/1452.wav', '/content/drive/MyDrive/bsc_thesis/early_media_sample/3353.wav', '/content/drive/MyDrive/bsc_thesis/early_media_sample/1149.wav', '/content/drive/MyDrive/bsc_thesis/early_media_sample/230.wav', '/content/drive/MyDrive/bsc_thesis/early_media_sample/1822.wav', '/content/drive/MyDrive/bsc_thesis/early_media_sample/713.wav', '/content/drive/MyDrive/bsc_thesis/early_media_sample/2097.wav', '/content/drive/MyDrive/bsc_thesis/early_media_sample/362.wav', '/content/drive/MyDrive/bsc_thesis/early_media_sample/259.wav', '/content/drive/MyDrive/bsc_thesis/early_media_sample/2621.wav', '/content/drive/MyDrive/bsc_thesis/early_media_sample/2819.wav', '/content/drive/MyDrive/bsc_thesis/early_media_sample/1611.wav', '/content/drive/MyDrive/bsc_thesis/early_media_sample/2297.wav', '/content/drive/MyDrive/bsc_thesis/early_media_sample/460.wav', '/content/drive/MyDrive/bsc_thesis/early_media_sample/932.wav', '/content/drive/MyDrive/bsc_thesis/early_media_sample/2967.wav', '/content/drive/MyDrive/bsc_thesis/early_media_sample/3602.wav', '/content/drive/MyDrive/bsc_thesis/early_media_sample/1049.wav', '/content/drive/MyDrive/bsc_thesis/early_media_sample/2710.wav', '/content/drive/MyDrive/bsc_thesis/early_media_sample/783.wav', '/content/drive/MyDrive/bsc_thesis/early_media_sample/4372.wav', '/content/drive/MyDrive/bsc_thesis/early_media_sample/3755.wav', '/content/drive/MyDrive/bsc_thesis/early_media_sample/2748.wav', '/content/drive/MyDrive/bsc_thesis/early_media_sample/3977.wav', '/content/drive/MyDrive/bsc_thesis/early_media_sample/3148.wav', '/content/drive/MyDrive/bsc_thesis/early_media_sample/2168.wav', '/content/drive/MyDrive/bsc_thesis/early_media_sample/4378.wav', '/content/drive/MyDrive/bsc_thesis/early_media_sample/2432.wav', '/content/drive/MyDrive/bsc_thesis/early_media_sample/3844.wav', '/content/drive/MyDrive/bsc_thesis/early_media_sample/161.wav', '/content/drive/MyDrive/bsc_thesis/early_media_sample/2560.wav', '/content/drive/MyDrive/bsc_thesis/early_media_sample/3367.wav', '/content/drive/MyDrive/bsc_thesis/early_media_sample/2976.wav', '/content/drive/MyDrive/bsc_thesis/early_media_sample/2257.wav', '/content/drive/MyDrive/bsc_thesis/early_media_sample/2372.wav', '/content/drive/MyDrive/bsc_thesis/early_media_sample/312.wav', '/content/drive/MyDrive/bsc_thesis/early_media_sample/1310.wav', '/content/drive/MyDrive/bsc_thesis/early_media_sample/3643.wav', '/content/drive/MyDrive/bsc_thesis/early_media_sample/1808.wav', '/content/drive/MyDrive/bsc_thesis/early_media_sample/2705.wav', '/content/drive/MyDrive/bsc_thesis/early_media_sample/1059.wav', '/content/drive/MyDrive/bsc_thesis/early_media_sample/164.wav', '/content/drive/MyDrive/bsc_thesis/early_media_sample/516.wav', '/content/drive/MyDrive/bsc_thesis/early_media_sample/1994.wav', '/content/drive/MyDrive/bsc_thesis/early_media_sample/3519.wav', '/content/drive/MyDrive/bsc_thesis/early_media_sample/3658.wav', '/content/drive/MyDrive/bsc_thesis/early_media_sample/731.wav', '/content/drive/MyDrive/bsc_thesis/early_media_sample/2111.wav', '/content/drive/MyDrive/bsc_thesis/early_media_sample/308.wav', '/content/drive/MyDrive/bsc_thesis/early_media_sample/2401.wav', '/content/drive/MyDrive/bsc_thesis/early_media_sample/1431.wav', '/content/drive/MyDrive/bsc_thesis/early_media_sample/1401.wav', '/content/drive/MyDrive/bsc_thesis/early_media_sample/505.wav', '/content/drive/MyDrive/bsc_thesis/early_media_sample/574.wav', '/content/drive/MyDrive/bsc_thesis/early_media_sample/3379.wav', '/content/drive/MyDrive/bsc_thesis/early_media_sample/1442.wav', '/content/drive/MyDrive/bsc_thesis/early_media_sample/3120.wav', '/content/drive/MyDrive/bsc_thesis/early_media_sample/510.wav', '/content/drive/MyDrive/bsc_thesis/early_media_sample/3968.wav', '/content/drive/MyDrive/bsc_thesis/early_media_sample/4402.wav', '/content/drive/MyDrive/bsc_thesis/early_media_sample/3406.wav', '/content/drive/MyDrive/bsc_thesis/early_media_sample/3900.wav', '/content/drive/MyDrive/bsc_thesis/early_media_sample/1163.wav', '/content/drive/MyDrive/bsc_thesis/early_media_sample/3737.wav', '/content/drive/MyDrive/bsc_thesis/early_media_sample/902.wav', '/content/drive/MyDrive/bsc_thesis/early_media_sample/1502.wav', '/content/drive/MyDrive/bsc_thesis/early_media_sample/319.wav', '/content/drive/MyDrive/bsc_thesis/early_media_sample/565.wav', '/content/drive/MyDrive/bsc_thesis/early_media_sample/3282.wav', '/content/drive/MyDrive/bsc_thesis/early_media_sample/2659.wav', '/content/drive/MyDrive/bsc_thesis/early_media_sample/836.wav', '/content/drive/MyDrive/bsc_thesis/early_media_sample/1247.wav', '/content/drive/MyDrive/bsc_thesis/early_media_sample/2515.wav', '/content/drive/MyDrive/bsc_thesis/early_media_sample/3803.wav', '/content/drive/MyDrive/bsc_thesis/early_media_sample/577.wav', '/content/drive/MyDrive/bsc_thesis/early_media_sample/3777.wav', '/content/drive/MyDrive/bsc_thesis/early_media_sample/3871.wav', '/content/drive/MyDrive/bsc_thesis/early_media_sample/3205.wav', '/content/drive/MyDrive/bsc_thesis/early_media_sample/2157.wav', '/content/drive/MyDrive/bsc_thesis/early_media_sample/3688.wav', '/content/drive/MyDrive/bsc_thesis/early_media_sample/747.wav', '/content/drive/MyDrive/bsc_thesis/early_media_sample/1430.wav', '/content/drive/MyDrive/bsc_thesis/early_media_sample/2132.wav', '/content/drive/MyDrive/bsc_thesis/early_media_sample/1664.wav', '/content/drive/MyDrive/bsc_thesis/early_media_sample/682.wav', '/content/drive/MyDrive/bsc_thesis/early_media_sample/26.wav', '/content/drive/MyDrive/bsc_thesis/early_media_sample/280.wav', '/content/drive/MyDrive/bsc_thesis/early_media_sample/1512.wav', '/content/drive/MyDrive/bsc_thesis/early_media_sample/4102.wav', '/content/drive/MyDrive/bsc_thesis/early_media_sample/901.wav', '/content/drive/MyDrive/bsc_thesis/early_media_sample/3185.wav', '/content/drive/MyDrive/bsc_thesis/early_media_sample/3422.wav', '/content/drive/MyDrive/bsc_thesis/early_media_sample/640.wav', '/content/drive/MyDrive/bsc_thesis/early_media_sample/2110.wav', '/content/drive/MyDrive/bsc_thesis/early_media_sample/2689.wav', '/content/drive/MyDrive/bsc_thesis/early_media_sample/4235.wav', '/content/drive/MyDrive/bsc_thesis/early_media_sample/2521.wav', '/content/drive/MyDrive/bsc_thesis/early_media_sample/670.wav', '/content/drive/MyDrive/bsc_thesis/early_media_sample/3257.wav', '/content/drive/MyDrive/bsc_thesis/early_media_sample/2482.wav', '/content/drive/MyDrive/bsc_thesis/early_media_sample/2537.wav', '/content/drive/MyDrive/bsc_thesis/early_media_sample/1138.wav', '/content/drive/MyDrive/bsc_thesis/early_media_sample/334.wav', '/content/drive/MyDrive/bsc_thesis/early_media_sample/1757.wav', '/content/drive/MyDrive/bsc_thesis/early_media_sample/704.wav', '/content/drive/MyDrive/bsc_thesis/early_media_sample/3749.wav', '/content/drive/MyDrive/bsc_thesis/early_media_sample/1657.wav', '/content/drive/MyDrive/bsc_thesis/early_media_sample/2506.wav', '/content/drive/MyDrive/bsc_thesis/early_media_sample/1296.wav', '/content/drive/MyDrive/bsc_thesis/early_media_sample/552.wav', '/content/drive/MyDrive/bsc_thesis/early_media_sample/4380.wav', '/content/drive/MyDrive/bsc_thesis/early_media_sample/2943.wav', '/content/drive/MyDrive/bsc_thesis/early_media_sample/712.wav', '/content/drive/MyDrive/bsc_thesis/early_media_sample/2508.wav', '/content/drive/MyDrive/bsc_thesis/early_media_sample/977.wav', '/content/drive/MyDrive/bsc_thesis/early_media_sample/2580.wav', '/content/drive/MyDrive/bsc_thesis/early_media_sample/2334.wav', '/content/drive/MyDrive/bsc_thesis/early_media_sample/4247.wav', '/content/drive/MyDrive/bsc_thesis/early_media_sample/3494.wav', '/content/drive/MyDrive/bsc_thesis/early_media_sample/1298.wav', '/content/drive/MyDrive/bsc_thesis/early_media_sample/3747.wav', '/content/drive/MyDrive/bsc_thesis/early_media_sample/2353.wav', '/content/drive/MyDrive/bsc_thesis/early_media_sample/868.wav', '/content/drive/MyDrive/bsc_thesis/early_media_sample/936.wav', '/content/drive/MyDrive/bsc_thesis/early_media_sample/3280.wav', '/content/drive/MyDrive/bsc_thesis/early_media_sample/2782.wav', '/content/drive/MyDrive/bsc_thesis/early_media_sample/2068.wav', '/content/drive/MyDrive/bsc_thesis/early_media_sample/3274.wav', '/content/drive/MyDrive/bsc_thesis/early_media_sample/2148.wav', '/content/drive/MyDrive/bsc_thesis/early_media_sample/4241.wav', '/content/drive/MyDrive/bsc_thesis/early_media_sample/2715.wav', '/content/drive/MyDrive/bsc_thesis/early_media_sample/1110.wav', '/content/drive/MyDrive/bsc_thesis/early_media_sample/37.wav', '/content/drive/MyDrive/bsc_thesis/early_media_sample/3595.wav', '/content/drive/MyDrive/bsc_thesis/early_media_sample/624.wav', '/content/drive/MyDrive/bsc_thesis/early_media_sample/4339.wav', '/content/drive/MyDrive/bsc_thesis/early_media_sample/2268.wav', '/content/drive/MyDrive/bsc_thesis/early_media_sample/1381.wav', '/content/drive/MyDrive/bsc_thesis/early_media_sample/1202.wav', '/content/drive/MyDrive/bsc_thesis/early_media_sample/4140.wav', '/content/drive/MyDrive/bsc_thesis/early_media_sample/3916.wav', '/content/drive/MyDrive/bsc_thesis/early_media_sample/4206.wav', '/content/drive/MyDrive/bsc_thesis/early_media_sample/1015.wav', '/content/drive/MyDrive/bsc_thesis/early_media_sample/122.wav', '/content/drive/MyDrive/bsc_thesis/early_media_sample/3276.wav', '/content/drive/MyDrive/bsc_thesis/early_media_sample/3157.wav', '/content/drive/MyDrive/bsc_thesis/early_media_sample/221.wav', '/content/drive/MyDrive/bsc_thesis/early_media_sample/275.wav', '/content/drive/MyDrive/bsc_thesis/early_media_sample/2603.wav', '/content/drive/MyDrive/bsc_thesis/early_media_sample/2532.wav', '/content/drive/MyDrive/bsc_thesis/early_media_sample/3166.wav', '/content/drive/MyDrive/bsc_thesis/early_media_sample/1992.wav', '/content/drive/MyDrive/bsc_thesis/early_media_sample/3664.wav', '/content/drive/MyDrive/bsc_thesis/early_media_sample/4366.wav', '/content/drive/MyDrive/bsc_thesis/early_media_sample/1505.wav', '/content/drive/MyDrive/bsc_thesis/early_media_sample/3425.wav', '/content/drive/MyDrive/bsc_thesis/early_media_sample/3314.wav', '/content/drive/MyDrive/bsc_thesis/early_media_sample/1554.wav', '/content/drive/MyDrive/bsc_thesis/early_media_sample/235.wav', '/content/drive/MyDrive/bsc_thesis/early_media_sample/1875.wav', '/content/drive/MyDrive/bsc_thesis/early_media_sample/3453.wav', '/content/drive/MyDrive/bsc_thesis/early_media_sample/2662.wav', '/content/drive/MyDrive/bsc_thesis/early_media_sample/3279.wav', '/content/drive/MyDrive/bsc_thesis/early_media_sample/3077.wav', '/content/drive/MyDrive/bsc_thesis/early_media_sample/4299.wav', '/content/drive/MyDrive/bsc_thesis/early_media_sample/3665.wav', '/content/drive/MyDrive/bsc_thesis/early_media_sample/302.wav', '/content/drive/MyDrive/bsc_thesis/early_media_sample/2559.wav', '/content/drive/MyDrive/bsc_thesis/early_media_sample/1005.wav', '/content/drive/MyDrive/bsc_thesis/early_media_sample/4088.wav', '/content/drive/MyDrive/bsc_thesis/early_media_sample/2959.wav', '/content/drive/MyDrive/bsc_thesis/early_media_sample/665.wav', '/content/drive/MyDrive/bsc_thesis/early_media_sample/474.wav', '/content/drive/MyDrive/bsc_thesis/early_media_sample/4277.wav', '/content/drive/MyDrive/bsc_thesis/early_media_sample/3312.wav', '/content/drive/MyDrive/bsc_thesis/early_media_sample/3748.wav', '/content/drive/MyDrive/bsc_thesis/early_media_sample/3969.wav', '/content/drive/MyDrive/bsc_thesis/early_media_sample/4150.wav', '/content/drive/MyDrive/bsc_thesis/early_media_sample/1061.wav', '/content/drive/MyDrive/bsc_thesis/early_media_sample/1680.wav', '/content/drive/MyDrive/bsc_thesis/early_media_sample/1538.wav', '/content/drive/MyDrive/bsc_thesis/early_media_sample/678.wav', '/content/drive/MyDrive/bsc_thesis/early_media_sample/2475.wav', '/content/drive/MyDrive/bsc_thesis/early_media_sample/702.wav', '/content/drive/MyDrive/bsc_thesis/early_media_sample/2770.wav', '/content/drive/MyDrive/bsc_thesis/early_media_sample/1991.wav', '/content/drive/MyDrive/bsc_thesis/early_media_sample/2328.wav', '/content/drive/MyDrive/bsc_thesis/early_media_sample/338.wav', '/content/drive/MyDrive/bsc_thesis/early_media_sample/3754.wav', '/content/drive/MyDrive/bsc_thesis/early_media_sample/3825.wav', '/content/drive/MyDrive/bsc_thesis/early_media_sample/3615.wav', '/content/drive/MyDrive/bsc_thesis/early_media_sample/608.wav', '/content/drive/MyDrive/bsc_thesis/early_media_sample/2412.wav', '/content/drive/MyDrive/bsc_thesis/early_media_sample/216.wav', '/content/drive/MyDrive/bsc_thesis/early_media_sample/3649.wav', '/content/drive/MyDrive/bsc_thesis/early_media_sample/4039.wav', '/content/drive/MyDrive/bsc_thesis/early_media_sample/781.wav', '/content/drive/MyDrive/bsc_thesis/early_media_sample/429.wav', '/content/drive/MyDrive/bsc_thesis/early_media_sample/1714.wav', '/content/drive/MyDrive/bsc_thesis/early_media_sample/1660.wav', '/content/drive/MyDrive/bsc_thesis/early_media_sample/466.wav', '/content/drive/MyDrive/bsc_thesis/early_media_sample/787.wav', '/content/drive/MyDrive/bsc_thesis/early_media_sample/3067.wav', '/content/drive/MyDrive/bsc_thesis/early_media_sample/3792.wav', '/content/drive/MyDrive/bsc_thesis/early_media_sample/1799.wav', '/content/drive/MyDrive/bsc_thesis/early_media_sample/1069.wav', '/content/drive/MyDrive/bsc_thesis/early_media_sample/4414.wav', '/content/drive/MyDrive/bsc_thesis/early_media_sample/4079.wav', '/content/drive/MyDrive/bsc_thesis/early_media_sample/2169.wav', '/content/drive/MyDrive/bsc_thesis/early_media_sample/3228.wav', '/content/drive/MyDrive/bsc_thesis/early_media_sample/1477.wav', '/content/drive/MyDrive/bsc_thesis/early_media_sample/3454.wav', '/content/drive/MyDrive/bsc_thesis/early_media_sample/1917.wav', '/content/drive/MyDrive/bsc_thesis/early_media_sample/332.wav', '/content/drive/MyDrive/bsc_thesis/early_media_sample/1019.wav', '/content/drive/MyDrive/bsc_thesis/early_media_sample/2634.wav', '/content/drive/MyDrive/bsc_thesis/early_media_sample/3734.wav', '/content/drive/MyDrive/bsc_thesis/early_media_sample/818.wav', '/content/drive/MyDrive/bsc_thesis/early_media_sample/8.wav', '/content/drive/MyDrive/bsc_thesis/early_media_sample/1521.wav', '/content/drive/MyDrive/bsc_thesis/early_media_sample/3402.wav', '/content/drive/MyDrive/bsc_thesis/early_media_sample/2951.wav', '/content/drive/MyDrive/bsc_thesis/early_media_sample/1579.wav', '/content/drive/MyDrive/bsc_thesis/early_media_sample/2426.wav', '/content/drive/MyDrive/bsc_thesis/early_media_sample/1990.wav', '/content/drive/MyDrive/bsc_thesis/early_media_sample/2993.wav', '/content/drive/MyDrive/bsc_thesis/early_media_sample/3544.wav', '/content/drive/MyDrive/bsc_thesis/early_media_sample/2972.wav', '/content/drive/MyDrive/bsc_thesis/early_media_sample/3625.wav', '/content/drive/MyDrive/bsc_thesis/early_media_sample/4034.wav', '/content/drive/MyDrive/bsc_thesis/early_media_sample/1218.wav', '/content/drive/MyDrive/bsc_thesis/early_media_sample/3241.wav', '/content/drive/MyDrive/bsc_thesis/early_media_sample/1761.wav', '/content/drive/MyDrive/bsc_thesis/early_media_sample/2005.wav', '/content/drive/MyDrive/bsc_thesis/early_media_sample/641.wav', '/content/drive/MyDrive/bsc_thesis/early_media_sample/3214.wav', '/content/drive/MyDrive/bsc_thesis/early_media_sample/1510.wav', '/content/drive/MyDrive/bsc_thesis/early_media_sample/2492.wav', '/content/drive/MyDrive/bsc_thesis/early_media_sample/2726.wav', '/content/drive/MyDrive/bsc_thesis/early_media_sample/3363.wav', '/content/drive/MyDrive/bsc_thesis/early_media_sample/4273.wav', '/content/drive/MyDrive/bsc_thesis/early_media_sample/2065.wav', '/content/drive/MyDrive/bsc_thesis/early_media_sample/2885.wav', '/content/drive/MyDrive/bsc_thesis/early_media_sample/1166.wav', '/content/drive/MyDrive/bsc_thesis/early_media_sample/3006.wav', '/content/drive/MyDrive/bsc_thesis/early_media_sample/3069.wav', '/content/drive/MyDrive/bsc_thesis/early_media_sample/1045.wav', '/content/drive/MyDrive/bsc_thesis/early_media_sample/1886.wav', '/content/drive/MyDrive/bsc_thesis/early_media_sample/1602.wav', '/content/drive/MyDrive/bsc_thesis/early_media_sample/2433.wav', '/content/drive/MyDrive/bsc_thesis/early_media_sample/2964.wav', '/content/drive/MyDrive/bsc_thesis/early_media_sample/2567.wav', '/content/drive/MyDrive/bsc_thesis/early_media_sample/3385.wav', '/content/drive/MyDrive/bsc_thesis/early_media_sample/709.wav', '/content/drive/MyDrive/bsc_thesis/early_media_sample/4044.wav', '/content/drive/MyDrive/bsc_thesis/early_media_sample/2023.wav', '/content/drive/MyDrive/bsc_thesis/early_media_sample/2122.wav', '/content/drive/MyDrive/bsc_thesis/early_media_sample/1358.wav', '/content/drive/MyDrive/bsc_thesis/early_media_sample/793.wav', '/content/drive/MyDrive/bsc_thesis/early_media_sample/4330.wav', '/content/drive/MyDrive/bsc_thesis/early_media_sample/1619.wav', '/content/drive/MyDrive/bsc_thesis/early_media_sample/1229.wav', '/content/drive/MyDrive/bsc_thesis/early_media_sample/138.wav', '/content/drive/MyDrive/bsc_thesis/early_media_sample/1160.wav', '/content/drive/MyDrive/bsc_thesis/early_media_sample/954.wav', '/content/drive/MyDrive/bsc_thesis/early_media_sample/1406.wav', '/content/drive/MyDrive/bsc_thesis/early_media_sample/3893.wav', '/content/drive/MyDrive/bsc_thesis/early_media_sample/4325.wav', '/content/drive/MyDrive/bsc_thesis/early_media_sample/1964.wav', '/content/drive/MyDrive/bsc_thesis/early_media_sample/116.wav', '/content/drive/MyDrive/bsc_thesis/early_media_sample/3966.wav', '/content/drive/MyDrive/bsc_thesis/early_media_sample/2158.wav', '/content/drive/MyDrive/bsc_thesis/early_media_sample/3464.wav', '/content/drive/MyDrive/bsc_thesis/early_media_sample/1954.wav', '/content/drive/MyDrive/bsc_thesis/early_media_sample/507.wav', '/content/drive/MyDrive/bsc_thesis/early_media_sample/3807.wav', '/content/drive/MyDrive/bsc_thesis/early_media_sample/7.wav', '/content/drive/MyDrive/bsc_thesis/early_media_sample/241.wav', '/content/drive/MyDrive/bsc_thesis/early_media_sample/1359.wav', '/content/drive/MyDrive/bsc_thesis/early_media_sample/3212.wav', '/content/drive/MyDrive/bsc_thesis/early_media_sample/1557.wav', '/content/drive/MyDrive/bsc_thesis/early_media_sample/1007.wav', '/content/drive/MyDrive/bsc_thesis/early_media_sample/2352.wav', '/content/drive/MyDrive/bsc_thesis/early_media_sample/4295.wav', '/content/drive/MyDrive/bsc_thesis/early_media_sample/3912.wav', '/content/drive/MyDrive/bsc_thesis/early_media_sample/3194.wav', '/content/drive/MyDrive/bsc_thesis/early_media_sample/4091.wav', '/content/drive/MyDrive/bsc_thesis/early_media_sample/1728.wav', '/content/drive/MyDrive/bsc_thesis/early_media_sample/1679.wav', '/content/drive/MyDrive/bsc_thesis/early_media_sample/2990.wav', '/content/drive/MyDrive/bsc_thesis/early_media_sample/1485.wav', '/content/drive/MyDrive/bsc_thesis/early_media_sample/1627.wav', '/content/drive/MyDrive/bsc_thesis/early_media_sample/3000.wav', '/content/drive/MyDrive/bsc_thesis/early_media_sample/2082.wav', '/content/drive/MyDrive/bsc_thesis/early_media_sample/2834.wav', '/content/drive/MyDrive/bsc_thesis/early_media_sample/2596.wav', '/content/drive/MyDrive/bsc_thesis/early_media_sample/4392.wav', '/content/drive/MyDrive/bsc_thesis/early_media_sample/3925.wav', '/content/drive/MyDrive/bsc_thesis/early_media_sample/566.wav', '/content/drive/MyDrive/bsc_thesis/early_media_sample/3821.wav', '/content/drive/MyDrive/bsc_thesis/early_media_sample/2190.wav', '/content/drive/MyDrive/bsc_thesis/early_media_sample/1463.wav', '/content/drive/MyDrive/bsc_thesis/early_media_sample/401.wav', '/content/drive/MyDrive/bsc_thesis/early_media_sample/3170.wav', '/content/drive/MyDrive/bsc_thesis/early_media_sample/1530.wav', '/content/drive/MyDrive/bsc_thesis/early_media_sample/2820.wav', '/content/drive/MyDrive/bsc_thesis/early_media_sample/1786.wav', '/content/drive/MyDrive/bsc_thesis/early_media_sample/2716.wav', '/content/drive/MyDrive/bsc_thesis/early_media_sample/1628.wav', '/content/drive/MyDrive/bsc_thesis/early_media_sample/3296.wav', '/content/drive/MyDrive/bsc_thesis/early_media_sample/4391.wav']\n"
          ]
        }
      ]
    },
    {
      "cell_type": "code",
      "source": [
        "# Batch labelling for the whole dataset\n",
        "index_to_category = {}\n",
        "for idx, label in enumerate(idx_to_label):\n",
        "    mapped = categorize_label(label)\n",
        "    if mapped != \"Unknown\":\n",
        "        index_to_category[idx] = mapped\n",
        "\n",
        "target_categories = [\"Speech\", \"Music\", \"Ringing\", \"Silence\"]\n",
        "\n",
        "# --- Process each audio file ---\n",
        "results = []\n",
        "audio_files = [f for f in os.listdir(AUDIO_DIR) if f.endswith('.wav') and len(f) < 7]\n",
        "\n",
        "for fname in tqdm(audio_files, desc=\"Extracting normalized soft targets\"):\n",
        "    fpath = os.path.join(AUDIO_DIR, fname)\n",
        "\n",
        "    try:\n",
        "        waveform, _ = librosa.load(fpath, sr=SAMPLE_RATE, mono=True)\n",
        "        x = torch.tensor(waveform).float().unsqueeze(0)\n",
        "        x = move_data_to_device(x, device)\n",
        "\n",
        "        with torch.no_grad():\n",
        "            output = model(x, None)\n",
        "            print(f\"Output keys for {fname}: {output.keys()}\")\n",
        "            frame_probs = output['framewise_output'].data.cpu().numpy()[0]  # shape: (T, 527)\n",
        "\n",
        "        total_frames = frame_probs.shape[0]\n",
        "        num_seconds = total_frames // FRAMES_PER_SECOND\n",
        "\n",
        "        for sec in range(num_seconds):\n",
        "          start_idx = sec * FRAMES_PER_SECOND\n",
        "          end_idx = start_idx + FRAMES_PER_SECOND\n",
        "          second_slice = frame_probs[start_idx:end_idx]  # shape: (100, 527)\n",
        "\n",
        "          # For each frame, determine top predicted class\n",
        "          top_classes = np.argmax(second_slice, axis=1)\n",
        "\n",
        "          # Map those to categories\n",
        "          mapped_categories = [categorize_label(idx_to_label[c]) for c in top_classes]\n",
        "\n",
        "          if len(set(mapped_categories)) != 1:\n",
        "              continue  # if mixed predictions then skip this second\n",
        "\n",
        "          category = mapped_categories[0]\n",
        "          if category == \"Unknown\":\n",
        "              continue\n",
        "\n",
        "          # Aggregate soft targets from all frames\n",
        "          category_probs = defaultdict(float)\n",
        "          for frame in second_slice:\n",
        "              for idx, prob in enumerate(frame):\n",
        "                  cat = index_to_category.get(idx, None)\n",
        "                  if cat:\n",
        "                      category_probs[cat] += prob\n",
        "\n",
        "          soft_vector = np.array([\n",
        "              category_probs.get(\"Speech\", 0.0),\n",
        "              category_probs.get(\"Music\", 0.0),\n",
        "              category_probs.get(\"Ringing\", 0.0),\n",
        "              category_probs.get(\"Silence\", 0.0)\n",
        "          ])\n",
        "          total = np.sum(soft_vector)\n",
        "          if total == 0:\n",
        "              continue\n",
        "          normalized_soft = soft_vector / total\n",
        "\n",
        "          row = {\n",
        "              \"file\": fname,\n",
        "              \"start_time\": sec,\n",
        "              \"hard_target\": category,\n",
        "              \"soft_speech\": normalized_soft[0],\n",
        "              \"soft_music\": normalized_soft[1],\n",
        "              \"soft_ringing\": normalized_soft[2],\n",
        "              \"soft_silence\": normalized_soft[3],\n",
        "          }\n",
        "          results.append(row)\n",
        "    except Exception as e:\n",
        "        print(f\"Error processing {fname}: {e}\")\n"
      ],
      "metadata": {
        "colab": {
          "base_uri": "https://localhost:8080/"
        },
        "id": "qyV-_eVergPc",
        "outputId": "42378f1b-99e0-4518-b011-42db91de0800"
      },
      "execution_count": null,
      "outputs": [
        {
          "output_type": "stream",
          "name": "stderr",
          "text": [
            "Extracting normalized soft targets:   1%|          | 1/99 [00:00<01:31,  1.07it/s]"
          ]
        },
        {
          "output_type": "stream",
          "name": "stdout",
          "text": [
            "Error processing 85.wav: Given input size: (512x1x8). Calculated output size: (512x0x4). Output size is too small\n"
          ]
        },
        {
          "output_type": "stream",
          "name": "stderr",
          "text": [
            "\rExtracting normalized soft targets:   2%|▏         | 2/99 [00:01<01:28,  1.09it/s]"
          ]
        },
        {
          "output_type": "stream",
          "name": "stdout",
          "text": [
            "Error processing 51.wav: Expected 2D or 3D (batch mode) tensor with possibly 0 batch size and other non-zero dimensions for input, but got: [1, 1, 0]\n",
            "Output keys for 99.wav: dict_keys(['framewise_output', 'clipwise_output'])\n"
          ]
        },
        {
          "output_type": "stream",
          "name": "stderr",
          "text": [
            "\rExtracting normalized soft targets:   3%|▎         | 3/99 [00:03<01:44,  1.08s/it]"
          ]
        },
        {
          "output_type": "stream",
          "name": "stdout",
          "text": [
            "Output keys for 32.wav: dict_keys(['framewise_output', 'clipwise_output'])\n"
          ]
        },
        {
          "output_type": "stream",
          "name": "stderr",
          "text": [
            "Extracting normalized soft targets:   5%|▌         | 5/99 [00:05<01:46,  1.13s/it]"
          ]
        },
        {
          "output_type": "stream",
          "name": "stdout",
          "text": [
            "Output keys for 25.wav: dict_keys(['framewise_output', 'clipwise_output'])\n",
            "Output keys for 80.wav: dict_keys(['framewise_output', 'clipwise_output'])\n"
          ]
        },
        {
          "output_type": "stream",
          "name": "stderr",
          "text": [
            "Extracting normalized soft targets:   7%|▋         | 7/99 [00:07<01:41,  1.10s/it]"
          ]
        },
        {
          "output_type": "stream",
          "name": "stdout",
          "text": [
            "Output keys for 43.wav: dict_keys(['framewise_output', 'clipwise_output'])\n",
            "Output keys for 95.wav: dict_keys(['framewise_output', 'clipwise_output'])\n"
          ]
        },
        {
          "output_type": "stream",
          "name": "stderr",
          "text": [
            "Extracting normalized soft targets:   9%|▉         | 9/99 [00:10<01:47,  1.20s/it]"
          ]
        },
        {
          "output_type": "stream",
          "name": "stdout",
          "text": [
            "Output keys for 22.wav: dict_keys(['framewise_output', 'clipwise_output'])\n",
            "Output keys for 71.wav: dict_keys(['framewise_output', 'clipwise_output'])\n"
          ]
        },
        {
          "output_type": "stream",
          "name": "stderr",
          "text": [
            "\rExtracting normalized soft targets:  10%|█         | 10/99 [00:12<02:01,  1.37s/it]"
          ]
        },
        {
          "output_type": "stream",
          "name": "stdout",
          "text": [
            "Output keys for 36.wav: dict_keys(['framewise_output', 'clipwise_output'])\n"
          ]
        },
        {
          "output_type": "stream",
          "name": "stderr",
          "text": [
            "\rExtracting normalized soft targets:  11%|█         | 11/99 [00:13<02:11,  1.49s/it]"
          ]
        },
        {
          "output_type": "stream",
          "name": "stdout",
          "text": [
            "Output keys for 70.wav: dict_keys(['framewise_output', 'clipwise_output'])\n"
          ]
        },
        {
          "output_type": "stream",
          "name": "stderr",
          "text": [
            "\rExtracting normalized soft targets:  12%|█▏        | 12/99 [00:15<02:11,  1.51s/it]"
          ]
        },
        {
          "output_type": "stream",
          "name": "stdout",
          "text": [
            "Output keys for 34.wav: dict_keys(['framewise_output', 'clipwise_output'])\n"
          ]
        },
        {
          "output_type": "stream",
          "name": "stderr",
          "text": [
            "\rExtracting normalized soft targets:  13%|█▎        | 13/99 [00:16<02:00,  1.41s/it]"
          ]
        },
        {
          "output_type": "stream",
          "name": "stdout",
          "text": [
            "Output keys for 13.wav: dict_keys(['framewise_output', 'clipwise_output'])\n"
          ]
        },
        {
          "output_type": "stream",
          "name": "stderr",
          "text": [
            "Extracting normalized soft targets:  15%|█▌        | 15/99 [00:18<01:44,  1.25s/it]"
          ]
        },
        {
          "output_type": "stream",
          "name": "stdout",
          "text": [
            "Output keys for 97.wav: dict_keys(['framewise_output', 'clipwise_output'])\n"
          ]
        },
        {
          "output_type": "stream",
          "name": "stderr",
          "text": [
            "\rExtracting normalized soft targets:  16%|█▌        | 16/99 [00:20<01:42,  1.23s/it]"
          ]
        },
        {
          "output_type": "stream",
          "name": "stdout",
          "text": [
            "Output keys for 77.wav: dict_keys(['framewise_output', 'clipwise_output'])\n",
            "Output keys for 11.wav: dict_keys(['framewise_output', 'clipwise_output'])\n"
          ]
        },
        {
          "output_type": "stream",
          "name": "stderr",
          "text": [
            "\rExtracting normalized soft targets:  17%|█▋        | 17/99 [00:21<01:51,  1.36s/it]"
          ]
        },
        {
          "output_type": "stream",
          "name": "stdout",
          "text": [
            "Output keys for 60.wav: dict_keys(['framewise_output', 'clipwise_output'])\n"
          ]
        },
        {
          "output_type": "stream",
          "name": "stderr",
          "text": [
            "\rExtracting normalized soft targets:  18%|█▊        | 18/99 [00:22<01:45,  1.30s/it]"
          ]
        },
        {
          "output_type": "stream",
          "name": "stdout",
          "text": [
            "Output keys for 15.wav: dict_keys(['framewise_output', 'clipwise_output'])\n"
          ]
        },
        {
          "output_type": "stream",
          "name": "stderr",
          "text": [
            "Extracting normalized soft targets:  20%|██        | 20/99 [00:24<01:27,  1.11s/it]"
          ]
        },
        {
          "output_type": "stream",
          "name": "stdout",
          "text": [
            "Output keys for 61.wav: dict_keys(['framewise_output', 'clipwise_output'])\n"
          ]
        },
        {
          "output_type": "stream",
          "name": "stderr",
          "text": [
            "\rExtracting normalized soft targets:  21%|██        | 21/99 [00:25<01:24,  1.08s/it]"
          ]
        },
        {
          "output_type": "stream",
          "name": "stdout",
          "text": [
            "Output keys for 88.wav: dict_keys(['framewise_output', 'clipwise_output'])\n"
          ]
        },
        {
          "output_type": "stream",
          "name": "stderr",
          "text": [
            "\rExtracting normalized soft targets:  22%|██▏       | 22/99 [00:26<01:20,  1.04s/it]"
          ]
        },
        {
          "output_type": "stream",
          "name": "stdout",
          "text": [
            "Output keys for 62.wav: dict_keys(['framewise_output', 'clipwise_output'])\n",
            "Output keys for 46.wav: dict_keys(['framewise_output', 'clipwise_output'])\n"
          ]
        },
        {
          "output_type": "stream",
          "name": "stderr",
          "text": [
            "Extracting normalized soft targets:  24%|██▍       | 24/99 [00:29<01:25,  1.14s/it]"
          ]
        },
        {
          "output_type": "stream",
          "name": "stdout",
          "text": [
            "Output keys for 20.wav: dict_keys(['framewise_output', 'clipwise_output'])\n",
            "Output keys for 72.wav: dict_keys(['framewise_output', 'clipwise_output'])\n"
          ]
        },
        {
          "output_type": "stream",
          "name": "stderr",
          "text": [
            "\rExtracting normalized soft targets:  25%|██▌       | 25/99 [00:30<01:27,  1.19s/it]"
          ]
        },
        {
          "output_type": "stream",
          "name": "stdout",
          "text": [
            "Output keys for 38.wav: dict_keys(['framewise_output', 'clipwise_output'])\n"
          ]
        },
        {
          "output_type": "stream",
          "name": "stderr",
          "text": [
            "\rExtracting normalized soft targets:  26%|██▋       | 26/99 [00:31<01:23,  1.14s/it]"
          ]
        },
        {
          "output_type": "stream",
          "name": "stdout",
          "text": [
            "Output keys for 92.wav: dict_keys(['framewise_output', 'clipwise_output'])\n"
          ]
        },
        {
          "output_type": "stream",
          "name": "stderr",
          "text": [
            "\rExtracting normalized soft targets:  27%|██▋       | 27/99 [00:33<01:29,  1.24s/it]"
          ]
        },
        {
          "output_type": "stream",
          "name": "stdout",
          "text": [
            "Output keys for 10.wav: dict_keys(['framewise_output', 'clipwise_output'])\n"
          ]
        },
        {
          "output_type": "stream",
          "name": "stderr",
          "text": [
            "Extracting normalized soft targets:  29%|██▉       | 29/99 [00:36<01:52,  1.61s/it]"
          ]
        },
        {
          "output_type": "stream",
          "name": "stdout",
          "text": [
            "Error processing 58.wav: Expected 2D or 3D (batch mode) tensor with possibly 0 batch size and other non-zero dimensions for input, but got: [1, 1, 0]\n"
          ]
        },
        {
          "output_type": "stream",
          "name": "stderr",
          "text": [
            "\rExtracting normalized soft targets:  30%|███       | 30/99 [00:37<01:37,  1.41s/it]"
          ]
        },
        {
          "output_type": "stream",
          "name": "stdout",
          "text": [
            "Output keys for 65.wav: dict_keys(['framewise_output', 'clipwise_output'])\n",
            "Output keys for 4.wav: dict_keys(['framewise_output', 'clipwise_output'])\n"
          ]
        },
        {
          "output_type": "stream",
          "name": "stderr",
          "text": [
            "Extracting normalized soft targets:  32%|███▏      | 32/99 [00:39<01:21,  1.21s/it]"
          ]
        },
        {
          "output_type": "stream",
          "name": "stdout",
          "text": [
            "Output keys for 6.wav: dict_keys(['framewise_output', 'clipwise_output'])\n",
            "Output keys for 54.wav: dict_keys(['framewise_output', 'clipwise_output'])\n"
          ]
        },
        {
          "output_type": "stream",
          "name": "stderr",
          "text": [
            "\rExtracting normalized soft targets:  33%|███▎      | 33/99 [00:41<01:28,  1.34s/it]"
          ]
        },
        {
          "output_type": "stream",
          "name": "stdout",
          "text": [
            "Output keys for 3.wav: dict_keys(['framewise_output', 'clipwise_output'])\n"
          ]
        },
        {
          "output_type": "stream",
          "name": "stderr",
          "text": [
            "\rExtracting normalized soft targets:  34%|███▍      | 34/99 [00:42<01:23,  1.28s/it]"
          ]
        },
        {
          "output_type": "stream",
          "name": "stdout",
          "text": [
            "Output keys for 42.wav: dict_keys(['framewise_output', 'clipwise_output'])\n"
          ]
        },
        {
          "output_type": "stream",
          "name": "stderr",
          "text": [
            "\rExtracting normalized soft targets:  35%|███▌      | 35/99 [00:44<01:29,  1.41s/it]"
          ]
        },
        {
          "output_type": "stream",
          "name": "stdout",
          "text": [
            "Output keys for 69.wav: dict_keys(['framewise_output', 'clipwise_output'])\n"
          ]
        },
        {
          "output_type": "stream",
          "name": "stderr",
          "text": [
            "\rExtracting normalized soft targets:  36%|███▋      | 36/99 [00:45<01:27,  1.39s/it]"
          ]
        },
        {
          "output_type": "stream",
          "name": "stdout",
          "text": [
            "Output keys for 94.wav: dict_keys(['framewise_output', 'clipwise_output'])\n"
          ]
        },
        {
          "output_type": "stream",
          "name": "stderr",
          "text": [
            "\rExtracting normalized soft targets:  37%|███▋      | 37/99 [00:47<01:39,  1.60s/it]"
          ]
        },
        {
          "output_type": "stream",
          "name": "stdout",
          "text": [
            "Output keys for 1.wav: dict_keys(['framewise_output', 'clipwise_output'])\n"
          ]
        },
        {
          "output_type": "stream",
          "name": "stderr",
          "text": [
            "Extracting normalized soft targets:  39%|███▉      | 39/99 [00:49<01:19,  1.33s/it]"
          ]
        },
        {
          "output_type": "stream",
          "name": "stdout",
          "text": [
            "Error processing 84.wav: Given input size: (512x1x8). Calculated output size: (512x0x4). Output size is too small\n",
            "Output keys for 93.wav: dict_keys(['framewise_output', 'clipwise_output'])\n"
          ]
        },
        {
          "output_type": "stream",
          "name": "stderr",
          "text": [
            "\rExtracting normalized soft targets:  40%|████      | 40/99 [00:51<01:20,  1.37s/it]"
          ]
        },
        {
          "output_type": "stream",
          "name": "stdout",
          "text": [
            "Output keys for 57.wav: dict_keys(['framewise_output', 'clipwise_output'])\n"
          ]
        },
        {
          "output_type": "stream",
          "name": "stderr",
          "text": [
            "\rExtracting normalized soft targets:  41%|████▏     | 41/99 [00:52<01:17,  1.34s/it]"
          ]
        },
        {
          "output_type": "stream",
          "name": "stdout",
          "text": [
            "Output keys for 45.wav: dict_keys(['framewise_output', 'clipwise_output'])\n"
          ]
        },
        {
          "output_type": "stream",
          "name": "stderr",
          "text": [
            "\rExtracting normalized soft targets:  42%|████▏     | 42/99 [00:53<01:13,  1.29s/it]"
          ]
        },
        {
          "output_type": "stream",
          "name": "stdout",
          "text": [
            "Output keys for 14.wav: dict_keys(['framewise_output', 'clipwise_output'])\n"
          ]
        },
        {
          "output_type": "stream",
          "name": "stderr",
          "text": [
            "\rExtracting normalized soft targets:  43%|████▎     | 43/99 [00:54<01:08,  1.22s/it]"
          ]
        },
        {
          "output_type": "stream",
          "name": "stdout",
          "text": [
            "Output keys for 81.wav: dict_keys(['framewise_output', 'clipwise_output'])\n"
          ]
        },
        {
          "output_type": "stream",
          "name": "stderr",
          "text": [
            "Extracting normalized soft targets:  45%|████▌     | 45/99 [00:57<01:06,  1.23s/it]"
          ]
        },
        {
          "output_type": "stream",
          "name": "stdout",
          "text": [
            "Output keys for 48.wav: dict_keys(['framewise_output', 'clipwise_output'])\n",
            "Output keys for 24.wav: dict_keys(['framewise_output', 'clipwise_output'])\n"
          ]
        },
        {
          "output_type": "stream",
          "name": "stderr",
          "text": [
            "Extracting normalized soft targets:  47%|████▋     | 47/99 [00:59<00:58,  1.13s/it]"
          ]
        },
        {
          "output_type": "stream",
          "name": "stdout",
          "text": [
            "Output keys for 16.wav: dict_keys(['framewise_output', 'clipwise_output'])\n",
            "Output keys for 12.wav: dict_keys(['framewise_output', 'clipwise_output'])\n"
          ]
        },
        {
          "output_type": "stream",
          "name": "stderr",
          "text": [
            "\rExtracting normalized soft targets:  48%|████▊     | 48/99 [01:01<01:16,  1.49s/it]"
          ]
        },
        {
          "output_type": "stream",
          "name": "stdout",
          "text": [
            "Output keys for 87.wav: dict_keys(['framewise_output', 'clipwise_output'])\n"
          ]
        },
        {
          "output_type": "stream",
          "name": "stderr",
          "text": [
            "Extracting normalized soft targets:  51%|█████     | 50/99 [01:03<01:00,  1.23s/it]"
          ]
        },
        {
          "output_type": "stream",
          "name": "stdout",
          "text": [
            "Output keys for 44.wav: dict_keys(['framewise_output', 'clipwise_output'])\n",
            "Output keys for 74.wav: dict_keys(['framewise_output', 'clipwise_output'])\n"
          ]
        },
        {
          "output_type": "stream",
          "name": "stderr",
          "text": [
            "\rExtracting normalized soft targets:  52%|█████▏    | 51/99 [02:30<21:25, 26.78s/it]"
          ]
        },
        {
          "output_type": "stream",
          "name": "stdout",
          "text": [
            "Output keys for 55.wav: dict_keys(['framewise_output', 'clipwise_output'])\n"
          ]
        },
        {
          "output_type": "stream",
          "name": "stderr",
          "text": [
            "\rExtracting normalized soft targets:  53%|█████▎    | 52/99 [03:01<21:56, 28.02s/it]"
          ]
        },
        {
          "output_type": "stream",
          "name": "stdout",
          "text": [
            "Output keys for 96.wav: dict_keys(['framewise_output', 'clipwise_output'])\n"
          ]
        },
        {
          "output_type": "stream",
          "name": "stderr",
          "text": [
            "\rExtracting normalized soft targets:  54%|█████▎    | 53/99 [03:01<15:06, 19.71s/it]"
          ]
        },
        {
          "output_type": "stream",
          "name": "stdout",
          "text": [
            "Output keys for 2.wav: dict_keys(['framewise_output', 'clipwise_output'])\n"
          ]
        },
        {
          "output_type": "stream",
          "name": "stderr",
          "text": [
            "Extracting normalized soft targets:  56%|█████▌    | 55/99 [03:02<07:15,  9.89s/it]"
          ]
        },
        {
          "output_type": "stream",
          "name": "stdout",
          "text": [
            "Output keys for 18.wav: dict_keys(['framewise_output', 'clipwise_output'])\n",
            "Output keys for 82.wav: dict_keys(['framewise_output', 'clipwise_output'])\n"
          ]
        },
        {
          "output_type": "stream",
          "name": "stderr",
          "text": [
            "\rExtracting normalized soft targets:  57%|█████▋    | 56/99 [03:03<05:09,  7.19s/it]"
          ]
        },
        {
          "output_type": "stream",
          "name": "stdout",
          "text": [
            "Output keys for 23.wav: dict_keys(['framewise_output', 'clipwise_output'])\n"
          ]
        },
        {
          "output_type": "stream",
          "name": "stderr",
          "text": [
            "\rExtracting normalized soft targets:  58%|█████▊    | 57/99 [03:03<03:34,  5.11s/it]"
          ]
        },
        {
          "output_type": "stream",
          "name": "stdout",
          "text": [
            "Output keys for 9.wav: dict_keys(['framewise_output', 'clipwise_output'])\n"
          ]
        },
        {
          "output_type": "stream",
          "name": "stderr",
          "text": [
            "\rExtracting normalized soft targets:  59%|█████▊    | 58/99 [03:03<02:30,  3.67s/it]"
          ]
        },
        {
          "output_type": "stream",
          "name": "stdout",
          "text": [
            "Output keys for 31.wav: dict_keys(['framewise_output', 'clipwise_output'])\n"
          ]
        },
        {
          "output_type": "stream",
          "name": "stderr",
          "text": [
            "\rExtracting normalized soft targets:  60%|█████▉    | 59/99 [03:04<01:48,  2.72s/it]"
          ]
        },
        {
          "output_type": "stream",
          "name": "stdout",
          "text": [
            "Output keys for 56.wav: dict_keys(['framewise_output', 'clipwise_output'])\n"
          ]
        },
        {
          "output_type": "stream",
          "name": "stderr",
          "text": [
            "\rExtracting normalized soft targets:  61%|██████    | 60/99 [03:04<01:18,  2.01s/it]"
          ]
        },
        {
          "output_type": "stream",
          "name": "stdout",
          "text": [
            "Output keys for 35.wav: dict_keys(['framewise_output', 'clipwise_output'])\n"
          ]
        },
        {
          "output_type": "stream",
          "name": "stderr",
          "text": [
            "\rExtracting normalized soft targets:  62%|██████▏   | 61/99 [03:05<00:56,  1.49s/it]"
          ]
        },
        {
          "output_type": "stream",
          "name": "stdout",
          "text": [
            "Output keys for 86.wav: dict_keys(['framewise_output', 'clipwise_output'])\n"
          ]
        },
        {
          "output_type": "stream",
          "name": "stderr",
          "text": [
            "\rExtracting normalized soft targets:  63%|██████▎   | 62/99 [03:05<00:42,  1.14s/it]"
          ]
        },
        {
          "output_type": "stream",
          "name": "stdout",
          "text": [
            "Output keys for 41.wav: dict_keys(['framewise_output', 'clipwise_output'])\n"
          ]
        },
        {
          "output_type": "stream",
          "name": "stderr",
          "text": [
            "Extracting normalized soft targets:  65%|██████▍   | 64/99 [03:06<00:26,  1.34it/s]"
          ]
        },
        {
          "output_type": "stream",
          "name": "stdout",
          "text": [
            "Output keys for 49.wav: dict_keys(['framewise_output', 'clipwise_output'])\n",
            "Output keys for 53.wav: dict_keys(['framewise_output', 'clipwise_output'])\n"
          ]
        },
        {
          "output_type": "stream",
          "name": "stderr",
          "text": [
            "Extracting normalized soft targets:  67%|██████▋   | 66/99 [03:06<00:16,  2.02it/s]"
          ]
        },
        {
          "output_type": "stream",
          "name": "stdout",
          "text": [
            "Output keys for 30.wav: dict_keys(['framewise_output', 'clipwise_output'])\n",
            "Output keys for 39.wav: dict_keys(['framewise_output', 'clipwise_output'])\n"
          ]
        },
        {
          "output_type": "stream",
          "name": "stderr",
          "text": [
            "\rExtracting normalized soft targets:  68%|██████▊   | 67/99 [03:06<00:12,  2.57it/s]"
          ]
        },
        {
          "output_type": "stream",
          "name": "stdout",
          "text": [
            "Error processing 98.wav: Expected 2D or 3D (batch mode) tensor with possibly 0 batch size and other non-zero dimensions for input, but got: [1, 1, 0]\n",
            "Output keys for 28.wav: dict_keys(['framewise_output', 'clipwise_output'])\n"
          ]
        },
        {
          "output_type": "stream",
          "name": "stderr",
          "text": [
            "\rExtracting normalized soft targets:  70%|██████▉   | 69/99 [03:07<00:08,  3.47it/s]"
          ]
        },
        {
          "output_type": "stream",
          "name": "stdout",
          "text": [
            "Error processing 59.wav: Expected 2D or 3D (batch mode) tensor with possibly 0 batch size and other non-zero dimensions for input, but got: [1, 1, 0]\n",
            "Output keys for 5.wav: dict_keys(['framewise_output', 'clipwise_output'])\n",
            "Output keys for 17.wav: dict_keys(['framewise_output', 'clipwise_output'])\n"
          ]
        },
        {
          "output_type": "stream",
          "name": "stderr",
          "text": [
            "Extracting normalized soft targets:  74%|███████▎  | 73/99 [03:07<00:04,  5.64it/s]"
          ]
        },
        {
          "output_type": "stream",
          "name": "stdout",
          "text": [
            "Output keys for 89.wav: dict_keys(['framewise_output', 'clipwise_output'])\n",
            "Output keys for 90.wav: dict_keys(['framewise_output', 'clipwise_output'])\n"
          ]
        },
        {
          "output_type": "stream",
          "name": "stderr",
          "text": [
            "\rExtracting normalized soft targets:  75%|███████▍  | 74/99 [03:07<00:05,  4.46it/s]"
          ]
        },
        {
          "output_type": "stream",
          "name": "stdout",
          "text": [
            "Output keys for 63.wav: dict_keys(['framewise_output', 'clipwise_output'])\n"
          ]
        },
        {
          "output_type": "stream",
          "name": "stderr",
          "text": [
            "\rExtracting normalized soft targets:  76%|███████▌  | 75/99 [03:08<00:05,  4.01it/s]"
          ]
        },
        {
          "output_type": "stream",
          "name": "stdout",
          "text": [
            "Output keys for 79.wav: dict_keys(['framewise_output', 'clipwise_output'])\n"
          ]
        },
        {
          "output_type": "stream",
          "name": "stderr",
          "text": [
            "Extracting normalized soft targets:  79%|███████▉  | 78/99 [03:08<00:03,  5.89it/s]"
          ]
        },
        {
          "output_type": "stream",
          "name": "stdout",
          "text": [
            "Error processing 50.wav: Expected 2D or 3D (batch mode) tensor with possibly 0 batch size and other non-zero dimensions for input, but got: [1, 1, 0]\n",
            "Output keys for 76.wav: dict_keys(['framewise_output', 'clipwise_output'])\n",
            "Output keys for 33.wav: dict_keys(['framewise_output', 'clipwise_output'])\n"
          ]
        },
        {
          "output_type": "stream",
          "name": "stderr",
          "text": [
            "\rExtracting normalized soft targets:  80%|███████▉  | 79/99 [03:08<00:04,  4.87it/s]"
          ]
        },
        {
          "output_type": "stream",
          "name": "stdout",
          "text": [
            "Output keys for 19.wav: dict_keys(['framewise_output', 'clipwise_output'])\n"
          ]
        },
        {
          "output_type": "stream",
          "name": "stderr",
          "text": [
            "\rExtracting normalized soft targets:  81%|████████  | 80/99 [03:09<00:04,  4.73it/s]"
          ]
        },
        {
          "output_type": "stream",
          "name": "stdout",
          "text": [
            "Output keys for 66.wav: dict_keys(['framewise_output', 'clipwise_output'])\n"
          ]
        },
        {
          "output_type": "stream",
          "name": "stderr",
          "text": [
            "\rExtracting normalized soft targets:  82%|████████▏ | 81/99 [03:09<00:04,  3.70it/s]"
          ]
        },
        {
          "output_type": "stream",
          "name": "stdout",
          "text": [
            "Output keys for 47.wav: dict_keys(['framewise_output', 'clipwise_output'])\n",
            "Output keys for 29.wav: dict_keys(['framewise_output', 'clipwise_output'])\n"
          ]
        },
        {
          "output_type": "stream",
          "name": "stderr",
          "text": [
            "\rExtracting normalized soft targets:  84%|████████▍ | 83/99 [03:09<00:03,  4.83it/s]"
          ]
        },
        {
          "output_type": "stream",
          "name": "stdout",
          "text": [
            "Output keys for 73.wav: dict_keys(['framewise_output', 'clipwise_output'])\n"
          ]
        },
        {
          "output_type": "stream",
          "name": "stderr",
          "text": [
            "\rExtracting normalized soft targets:  85%|████████▍ | 84/99 [03:10<00:03,  4.11it/s]"
          ]
        },
        {
          "output_type": "stream",
          "name": "stdout",
          "text": [
            "Output keys for 67.wav: dict_keys(['framewise_output', 'clipwise_output'])\n"
          ]
        },
        {
          "output_type": "stream",
          "name": "stderr",
          "text": [
            "Extracting normalized soft targets:  87%|████████▋ | 86/99 [03:10<00:03,  4.15it/s]"
          ]
        },
        {
          "output_type": "stream",
          "name": "stdout",
          "text": [
            "Output keys for 40.wav: dict_keys(['framewise_output', 'clipwise_output'])\n",
            "Output keys for 78.wav: dict_keys(['framewise_output', 'clipwise_output'])\n"
          ]
        },
        {
          "output_type": "stream",
          "name": "stderr",
          "text": [
            "\rExtracting normalized soft targets:  88%|████████▊ | 87/99 [03:11<00:02,  4.06it/s]"
          ]
        },
        {
          "output_type": "stream",
          "name": "stdout",
          "text": [
            "Output keys for 27.wav: dict_keys(['framewise_output', 'clipwise_output'])\n"
          ]
        },
        {
          "output_type": "stream",
          "name": "stderr",
          "text": [
            "\rExtracting normalized soft targets:  89%|████████▉ | 88/99 [03:11<00:02,  3.72it/s]"
          ]
        },
        {
          "output_type": "stream",
          "name": "stdout",
          "text": [
            "Output keys for 52.wav: dict_keys(['framewise_output', 'clipwise_output'])\n"
          ]
        },
        {
          "output_type": "stream",
          "name": "stderr",
          "text": [
            "\rExtracting normalized soft targets:  90%|████████▉ | 89/99 [03:11<00:02,  3.34it/s]"
          ]
        },
        {
          "output_type": "stream",
          "name": "stdout",
          "text": [
            "Output keys for 21.wav: dict_keys(['framewise_output', 'clipwise_output'])\n"
          ]
        },
        {
          "output_type": "stream",
          "name": "stderr",
          "text": [
            "\rExtracting normalized soft targets:  91%|█████████ | 90/99 [03:11<00:02,  3.57it/s]"
          ]
        },
        {
          "output_type": "stream",
          "name": "stdout",
          "text": [
            "Output keys for 91.wav: dict_keys(['framewise_output', 'clipwise_output'])\n"
          ]
        },
        {
          "output_type": "stream",
          "name": "stderr",
          "text": [
            "\rExtracting normalized soft targets:  92%|█████████▏| 91/99 [03:12<00:03,  2.48it/s]"
          ]
        },
        {
          "output_type": "stream",
          "name": "stdout",
          "text": [
            "Output keys for 75.wav: dict_keys(['framewise_output', 'clipwise_output'])\n"
          ]
        },
        {
          "output_type": "stream",
          "name": "stderr",
          "text": [
            "Extracting normalized soft targets:  94%|█████████▍| 93/99 [03:13<00:02,  2.50it/s]"
          ]
        },
        {
          "output_type": "stream",
          "name": "stdout",
          "text": [
            "Output keys for 64.wav: dict_keys(['framewise_output', 'clipwise_output'])\n",
            "Output keys for 83.wav: dict_keys(['framewise_output', 'clipwise_output'])\n"
          ]
        },
        {
          "output_type": "stream",
          "name": "stderr",
          "text": [
            "\rExtracting normalized soft targets:  95%|█████████▍| 94/99 [03:14<00:02,  2.45it/s]"
          ]
        },
        {
          "output_type": "stream",
          "name": "stdout",
          "text": [
            "Output keys for 68.wav: dict_keys(['framewise_output', 'clipwise_output'])\n"
          ]
        },
        {
          "output_type": "stream",
          "name": "stderr",
          "text": [
            "\rExtracting normalized soft targets:  96%|█████████▌| 95/99 [03:14<00:02,  1.86it/s]"
          ]
        },
        {
          "output_type": "stream",
          "name": "stdout",
          "text": [
            "Output keys for 26.wav: dict_keys(['framewise_output', 'clipwise_output'])\n",
            "Output keys for 37.wav: dict_keys(['framewise_output', 'clipwise_output'])\n"
          ]
        },
        {
          "output_type": "stream",
          "name": "stderr",
          "text": [
            "\rExtracting normalized soft targets:  98%|█████████▊| 97/99 [03:15<00:00,  2.44it/s]"
          ]
        },
        {
          "output_type": "stream",
          "name": "stdout",
          "text": [
            "Output keys for 8.wav: dict_keys(['framewise_output', 'clipwise_output'])\n"
          ]
        },
        {
          "output_type": "stream",
          "name": "stderr",
          "text": [
            "\rExtracting normalized soft targets:  99%|█████████▉| 98/99 [03:15<00:00,  2.73it/s]"
          ]
        },
        {
          "output_type": "stream",
          "name": "stdout",
          "text": [
            "Output keys for 7.wav: dict_keys(['framewise_output', 'clipwise_output'])\n"
          ]
        },
        {
          "output_type": "stream",
          "name": "stderr",
          "text": [
            "Extracting normalized soft targets: 100%|██████████| 99/99 [03:15<00:00,  1.98s/it]\n"
          ]
        }
      ]
    },
    {
      "cell_type": "code",
      "source": [
        "OUTPUT_CSV = \"/content/audio_labels.csv\"\n",
        "\n",
        "# --- Save to CSV ---\n",
        "df = pd.DataFrame(results)\n",
        "df.to_csv(OUTPUT_CSV, index=False)\n",
        "print(f\"\\nSaved results to: {OUTPUT_CSV}\")\n",
        "\n",
        "print(df.to_string())"
      ],
      "metadata": {
        "colab": {
          "base_uri": "https://localhost:8080/"
        },
        "id": "61pvBt03rjSi",
        "outputId": "b2da373c-4108-471f-bf6c-1e8699873498"
      },
      "execution_count": null,
      "outputs": [
        {
          "output_type": "stream",
          "name": "stdout",
          "text": [
            "\n",
            "Saved results to: /content/audio_labels.csv\n",
            "        file  start_time hard_target  soft_speech  soft_music  soft_ringing  soft_silence\n",
            "0     99.wav           1      Speech     0.901278    0.066291      0.027042      0.005390\n",
            "1     99.wav           2      Speech     0.891663    0.072630      0.029005      0.006702\n",
            "2     99.wav           3      Speech     0.876059    0.081586      0.034869      0.007486\n",
            "3     99.wav           4      Speech     0.850595    0.105968      0.037115      0.006322\n",
            "4     99.wav           5      Speech     0.852581    0.107647      0.031733      0.008038\n",
            "5     99.wav           6      Speech     0.808446    0.114271      0.053223      0.024060\n",
            "6     99.wav           8      Speech     0.876242    0.086865      0.020217      0.016675\n",
            "7     99.wav           9      Speech     0.868596    0.103775      0.021943      0.005685\n",
            "8     99.wav          10      Speech     0.869055    0.097107      0.025669      0.008169\n",
            "9     99.wav          11      Speech     0.872097    0.092122      0.028870      0.006912\n",
            "10    99.wav          12      Speech     0.870461    0.093309      0.030252      0.005977\n",
            "11    99.wav          13      Speech     0.894600    0.074137      0.027137      0.004125\n",
            "12    99.wav          14      Speech     0.895101    0.082613      0.018088      0.004198\n",
            "13    99.wav          15      Speech     0.883871    0.088289      0.022609      0.005231\n",
            "14    99.wav          16      Speech     0.868071    0.105664      0.019934      0.006331\n",
            "15    99.wav          17      Speech     0.875023    0.089839      0.028315      0.006823\n",
            "16    32.wav           0       Music     0.113340    0.863765      0.017927      0.004968\n",
            "17    32.wav           1       Music     0.070417    0.918367      0.008152      0.003063\n",
            "18    32.wav           2       Music     0.212316    0.776202      0.007288      0.004193\n",
            "19    32.wav           3       Music     0.259909    0.718128      0.015947      0.006016\n",
            "20    32.wav           6       Music     0.141085    0.839858      0.013181      0.005876\n",
            "21    32.wav           7       Music     0.060560    0.928151      0.006846      0.004443\n",
            "22    32.wav          10       Music     0.144469    0.837933      0.011088      0.006510\n",
            "23    32.wav          11       Music     0.027254    0.958964      0.007653      0.006129\n",
            "24    32.wav          12       Music     0.066751    0.914073      0.011704      0.007472\n",
            "25    32.wav          13       Music     0.275826    0.688652      0.025406      0.010117\n",
            "26    32.wav          14       Music     0.048107    0.941394      0.008088      0.002411\n",
            "27    32.wav          15       Music     0.030020    0.959011      0.007559      0.003410\n",
            "28    32.wav          16       Music     0.080379    0.900322      0.010631      0.008668\n",
            "29    32.wav          17       Music     0.064953    0.924660      0.006603      0.003784\n",
            "30    32.wav          18       Music     0.040832    0.948392      0.007576      0.003201\n",
            "31    32.wav          19       Music     0.055599    0.930848      0.007965      0.005588\n",
            "32    32.wav          20       Music     0.086688    0.900106      0.007440      0.005767\n",
            "33    32.wav          21       Music     0.086211    0.891492      0.013331      0.008966\n",
            "34    32.wav          22       Music     0.030737    0.956297      0.009248      0.003718\n",
            "35    32.wav          23       Music     0.030781    0.953541      0.011511      0.004168\n",
            "36    32.wav          24       Music     0.029255    0.958200      0.009294      0.003251\n",
            "37    32.wav          25       Music     0.034941    0.952532      0.008920      0.003607\n",
            "38    32.wav          26       Music     0.030189    0.958032      0.008282      0.003497\n",
            "39    32.wav          27       Music     0.027817    0.954587      0.008473      0.009123\n",
            "40    32.wav          28       Music     0.060822    0.920584      0.011476      0.007118\n",
            "41    32.wav          30      Speech     0.885934    0.082845      0.027544      0.003678\n",
            "42    32.wav          31      Speech     0.875167    0.086205      0.033736      0.004893\n",
            "43    25.wav           0      Speech     0.896198    0.077667      0.018193      0.007942\n",
            "44    80.wav           0     Ringing     0.053731    0.077403      0.865984      0.002882\n",
            "45    80.wav           3     Silence     0.092860    0.292301      0.057294      0.557545\n",
            "46    80.wav           4     Silence     0.092867    0.292241      0.057277      0.557614\n",
            "47    80.wav           7     Ringing     0.036590    0.107627      0.847749      0.008034\n",
            "48    80.wav           9     Silence     0.092851    0.291905      0.057228      0.558017\n",
            "49    80.wav          10     Silence     0.092887    0.292324      0.057290      0.557499\n",
            "50    80.wav          12     Ringing     0.051646    0.087029      0.851149      0.010177\n",
            "51    80.wav          15     Silence     0.092890    0.291962      0.057244      0.557903\n",
            "52    80.wav          16     Silence     0.092906    0.292038      0.057242      0.557814\n",
            "53    80.wav          18     Ringing     0.044747    0.082380      0.865486      0.007387\n",
            "54    80.wav          21     Silence     0.092873    0.292287      0.057304      0.557536\n",
            "55    80.wav          22     Silence     0.092858    0.291921      0.057225      0.557996\n",
            "56    80.wav          24     Ringing     0.041111    0.074773      0.878787      0.005330\n",
            "57    80.wav          27     Silence     0.092860    0.292301      0.057294      0.557545\n",
            "58    80.wav          28     Silence     0.093093    0.294136      0.057617      0.555154\n",
            "59    43.wav           6     Silence     0.108096    0.372544      0.071683      0.447678\n",
            "60    95.wav           1       Music     0.025203    0.966059      0.006557      0.002182\n",
            "61    95.wav           2       Music     0.025018    0.968574      0.004904      0.001504\n",
            "62    95.wav           3       Music     0.024318    0.968094      0.006065      0.001522\n",
            "63    95.wav           4       Music     0.029106    0.962754      0.006602      0.001539\n",
            "64    95.wav           5       Music     0.034632    0.954371      0.008442      0.002555\n",
            "65    95.wav           6       Music     0.034814    0.956840      0.006718      0.001628\n",
            "66    95.wav           7       Music     0.064681    0.927453      0.006435      0.001432\n",
            "67    95.wav           8       Music     0.023732    0.968356      0.006399      0.001513\n",
            "68    95.wav           9       Music     0.044627    0.945805      0.007611      0.001957\n",
            "69    95.wav          10       Music     0.081766    0.905773      0.009564      0.002897\n",
            "70    95.wav          11       Music     0.034268    0.949569      0.011991      0.004172\n",
            "71    95.wav          12       Music     0.083725    0.899331      0.012313      0.004631\n",
            "72    95.wav          13       Music     0.083220    0.902467      0.011019      0.003294\n",
            "73    95.wav          14       Music     0.038858    0.951405      0.007807      0.001930\n",
            "74    95.wav          15       Music     0.027419    0.963621      0.007132      0.001828\n",
            "75    95.wav          16       Music     0.043534    0.941440      0.011845      0.003180\n",
            "76    95.wav          17       Music     0.043847    0.942206      0.010699      0.003248\n",
            "77    95.wav          18       Music     0.160013    0.826707      0.009311      0.003970\n",
            "78    95.wav          19       Music     0.096371    0.892019      0.007754      0.003856\n",
            "79    95.wav          20       Music     0.068377    0.919154      0.009224      0.003246\n",
            "80    95.wav          21       Music     0.022399    0.969001      0.007097      0.001504\n",
            "81    95.wav          22       Music     0.032742    0.959548      0.006035      0.001676\n",
            "82    95.wav          23       Music     0.039550    0.950868      0.007525      0.002057\n",
            "83    95.wav          24       Music     0.101841    0.884724      0.010994      0.002440\n",
            "84    95.wav          25       Music     0.045190    0.947126      0.006155      0.001530\n",
            "85    95.wav          26       Music     0.042436    0.949069      0.006232      0.002262\n",
            "86    95.wav          27       Music     0.057090    0.931511      0.008336      0.003063\n",
            "87    95.wav          28       Music     0.048754    0.940479      0.007907      0.002861\n",
            "88    95.wav          30      Speech     0.893253    0.079854      0.023350      0.003543\n",
            "89    95.wav          31      Speech     0.876077    0.090511      0.028123      0.005289\n",
            "90    95.wav          32      Speech     0.896716    0.078414      0.019299      0.005571\n",
            "91    95.wav          33      Speech     0.885615    0.089786      0.019227      0.005372\n",
            "92    95.wav          34      Speech     0.905867    0.073608      0.017803      0.002722\n",
            "93    95.wav          35      Speech     0.841094    0.129367      0.024144      0.005395\n",
            "94    95.wav          36      Speech     0.859656    0.100626      0.033177      0.006540\n",
            "95    22.wav           0      Speech     0.919073    0.062999      0.013729      0.004199\n",
            "96    22.wav           1      Speech     0.869478    0.097993      0.026707      0.005822\n",
            "97    22.wav           2      Speech     0.885252    0.081492      0.026733      0.006523\n",
            "98    22.wav           3      Speech     0.900635    0.065118      0.027104      0.007143\n",
            "99    22.wav           5      Speech     0.870809    0.098664      0.020161      0.010365\n",
            "100   22.wav           6      Speech     0.784657    0.186071      0.024873      0.004399\n",
            "101   71.wav           2      Speech     0.930961    0.049267      0.014718      0.005054\n",
            "102   71.wav           3      Speech     0.886101    0.101953      0.009243      0.002703\n",
            "103   71.wav           4      Speech     0.879706    0.104965      0.012302      0.003026\n",
            "104   71.wav           5      Speech     0.874558    0.102227      0.018935      0.004280\n",
            "105   71.wav           6      Speech     0.858752    0.108848      0.026559      0.005841\n",
            "106   71.wav           8       Music     0.021576    0.956378      0.012300      0.009746\n",
            "107   71.wav           9       Music     0.021337    0.920688      0.024057      0.033918\n",
            "108   71.wav          10       Music     0.039245    0.907526      0.013275      0.039953\n",
            "109   71.wav          11       Music     0.042357    0.936407      0.011196      0.010040\n",
            "110   71.wav          12       Music     0.027241    0.958956      0.008510      0.005293\n",
            "111   71.wav          13       Music     0.038672    0.944910      0.009037      0.007380\n",
            "112   71.wav          14       Music     0.040271    0.936809      0.011564      0.011356\n",
            "113   71.wav          15       Music     0.035605    0.942367      0.012203      0.009824\n",
            "114   71.wav          16       Music     0.063773    0.915851      0.011177      0.009200\n",
            "115   71.wav          17       Music     0.125895    0.858096      0.007749      0.008260\n",
            "116   71.wav          18       Music     0.195921    0.790228      0.006316      0.007534\n",
            "117   71.wav          19       Music     0.090916    0.898273      0.004106      0.006705\n",
            "118   71.wav          20       Music     0.020130    0.965612      0.006666      0.007592\n",
            "119   71.wav          21       Music     0.014828    0.969518      0.007450      0.008205\n",
            "120   71.wav          22       Music     0.017507    0.965638      0.007324      0.009530\n",
            "121   71.wav          23       Music     0.015111    0.970732      0.007865      0.006292\n",
            "122   71.wav          24       Music     0.010432    0.978623      0.006208      0.004737\n",
            "123   71.wav          25       Music     0.012069    0.975215      0.005853      0.006862\n",
            "124   71.wav          26       Music     0.014604    0.971071      0.007302      0.007024\n",
            "125   71.wav          27       Music     0.017346    0.965857      0.007731      0.009066\n",
            "126   71.wav          28       Music     0.076372    0.897267      0.010548      0.015812\n",
            "127   71.wav          29       Music     0.147153    0.831474      0.006368      0.015005\n",
            "128   71.wav          31      Speech     0.906768    0.077320      0.012490      0.003422\n",
            "129   36.wav           0      Speech     0.921023    0.061851      0.013411      0.003715\n",
            "130   36.wav           1      Speech     0.867968    0.102986      0.023127      0.005918\n",
            "131   36.wav           2      Speech     0.877587    0.087406      0.027881      0.007126\n",
            "132   36.wav           3      Speech     0.896137    0.071320      0.026945      0.005599\n",
            "133   36.wav           4      Speech     0.880789    0.086622      0.024118      0.008471\n",
            "134   36.wav           5      Speech     0.903164    0.077360      0.014431      0.005046\n",
            "135   36.wav           6      Speech     0.827355    0.151343      0.017814      0.003487\n",
            "136   36.wav           7      Speech     0.820730    0.156639      0.018491      0.004140\n",
            "137   36.wav           8      Speech     0.884989    0.090977      0.019074      0.004960\n",
            "138   36.wav           9      Speech     0.900159    0.082821      0.013418      0.003602\n",
            "139   36.wav          10      Speech     0.909404    0.072978      0.014401      0.003218\n",
            "140   36.wav          11      Speech     0.870147    0.086440      0.034672      0.008742\n",
            "141   36.wav          12      Speech     0.917924    0.064827      0.013683      0.003566\n",
            "142   36.wav          13      Speech     0.849810    0.123694      0.020629      0.005868\n",
            "143   36.wav          14      Speech     0.867296    0.105749      0.020931      0.006023\n",
            "144   36.wav          15      Speech     0.881433    0.092123      0.021472      0.004973\n",
            "145   70.wav           2      Speech     0.930961    0.049267      0.014718      0.005054\n",
            "146   70.wav           3      Speech     0.886101    0.101953      0.009243      0.002703\n",
            "147   70.wav           4      Speech     0.879706    0.104965      0.012302      0.003026\n",
            "148   70.wav           5      Speech     0.874558    0.102227      0.018935      0.004280\n",
            "149   70.wav           6      Speech     0.858752    0.108848      0.026559      0.005841\n",
            "150   70.wav           8       Music     0.021576    0.956378      0.012300      0.009746\n",
            "151   70.wav           9       Music     0.021337    0.920688      0.024057      0.033918\n",
            "152   70.wav          10       Music     0.039245    0.907526      0.013275      0.039953\n",
            "153   70.wav          11       Music     0.042357    0.936407      0.011196      0.010040\n",
            "154   70.wav          12       Music     0.027241    0.958956      0.008510      0.005293\n",
            "155   70.wav          13       Music     0.038672    0.944910      0.009037      0.007380\n",
            "156   70.wav          14       Music     0.040271    0.936809      0.011564      0.011356\n",
            "157   70.wav          15       Music     0.035605    0.942367      0.012203      0.009824\n",
            "158   70.wav          16       Music     0.063773    0.915851      0.011177      0.009200\n",
            "159   70.wav          17       Music     0.125895    0.858096      0.007749      0.008260\n",
            "160   70.wav          18       Music     0.195921    0.790228      0.006316      0.007534\n",
            "161   70.wav          19       Music     0.090916    0.898273      0.004106      0.006705\n",
            "162   70.wav          20       Music     0.020130    0.965612      0.006666      0.007592\n",
            "163   70.wav          21       Music     0.014828    0.969518      0.007450      0.008205\n",
            "164   70.wav          22       Music     0.017507    0.965638      0.007324      0.009530\n",
            "165   70.wav          23       Music     0.015111    0.970732      0.007865      0.006292\n",
            "166   70.wav          24       Music     0.010432    0.978623      0.006208      0.004737\n",
            "167   70.wav          25       Music     0.012069    0.975215      0.005853      0.006862\n",
            "168   70.wav          26       Music     0.014604    0.971071      0.007302      0.007024\n",
            "169   70.wav          27       Music     0.017346    0.965857      0.007731      0.009066\n",
            "170   70.wav          28       Music     0.076372    0.897267      0.010548      0.015812\n",
            "171   70.wav          29       Music     0.147153    0.831474      0.006368      0.015005\n",
            "172   70.wav          31      Speech     0.906512    0.077493      0.012553      0.003442\n",
            "173   34.wav           0     Ringing     0.039443    0.088122      0.868705      0.003731\n",
            "174   34.wav           1     Ringing     0.033548    0.149828      0.809923      0.006700\n",
            "175   34.wav           2     Ringing     0.036235    0.095239      0.863768      0.004758\n",
            "176   34.wav           3     Ringing     0.036310    0.092631      0.865402      0.005658\n",
            "177   34.wav           4     Ringing     0.039162    0.142775      0.809054      0.009008\n",
            "178   34.wav           5     Ringing     0.031385    0.076805      0.888853      0.002956\n",
            "179   34.wav           6     Ringing     0.035764    0.186897      0.768332      0.009007\n",
            "180   34.wav           7     Ringing     0.026438    0.088461      0.881811      0.003290\n",
            "181   34.wav          10     Ringing     0.030243    0.092998      0.870889      0.005870\n",
            "182   34.wav          11     Ringing     0.040094    0.113263      0.836820      0.009822\n",
            "183   34.wav          12     Ringing     0.035885    0.101962      0.858362      0.003791\n",
            "184   34.wav          13     Ringing     0.030891    0.167305      0.796098      0.005706\n",
            "185   34.wav          14     Ringing     0.029876    0.089042      0.877042      0.004040\n",
            "186   34.wav          15     Ringing     0.029504    0.056358      0.912083      0.002055\n",
            "187   13.wav           0     Ringing     0.056698    0.118442      0.811971      0.012889\n",
            "188   13.wav           1     Ringing     0.051290    0.168782      0.762818      0.017110\n",
            "189   13.wav           2     Ringing     0.055968    0.096681      0.837724      0.009628\n",
            "190   13.wav           3     Ringing     0.053524    0.128426      0.806945      0.011105\n",
            "191   13.wav           4     Ringing     0.061776    0.168091      0.752741      0.017392\n",
            "192   13.wav           5     Ringing     0.058994    0.121515      0.807203      0.012289\n",
            "193   13.wav           6     Ringing     0.059652    0.194183      0.725640      0.020526\n",
            "194   13.wav           7     Ringing     0.047238    0.107224      0.834798      0.010740\n",
            "195   13.wav           8     Ringing     0.042370    0.114138      0.831385      0.012107\n",
            "196   13.wav           9     Ringing     0.060346    0.136945      0.788713      0.013996\n",
            "197   13.wav          10     Ringing     0.048124    0.105987      0.837157      0.008732\n",
            "198   13.wav          11     Ringing     0.064199    0.181521      0.737367      0.016913\n",
            "199   13.wav          12     Ringing     0.059221    0.120128      0.810396      0.010255\n",
            "200   13.wav          13     Ringing     0.047427    0.146877      0.792307      0.013390\n",
            "201   13.wav          14     Ringing     0.055780    0.137458      0.793058      0.013704\n",
            "202   13.wav          15     Ringing     0.044845    0.097051      0.847139      0.010965\n",
            "203   13.wav          16     Ringing     0.059494    0.131642      0.795864      0.013000\n",
            "204   13.wav          18      Speech     0.907622    0.076124      0.013135      0.003118\n",
            "205   13.wav          19      Speech     0.870316    0.106383      0.018655      0.004646\n",
            "206   13.wav          20      Speech     0.858155    0.105031      0.030942      0.005871\n",
            "207   13.wav          21      Speech     0.848558    0.114272      0.032208      0.004962\n",
            "208   13.wav          22      Speech     0.887804    0.086364      0.022113      0.003719\n",
            "209   13.wav          23      Speech     0.884799    0.093271      0.017026      0.004904\n",
            "210   97.wav           2      Speech     0.888731    0.088166      0.020145      0.002957\n",
            "211   97.wav           3      Speech     0.877707    0.095804      0.022738      0.003751\n",
            "212   97.wav           4      Speech     0.893377    0.082914      0.020234      0.003476\n",
            "213   97.wav           5      Speech     0.893902    0.082066      0.020672      0.003360\n",
            "214   97.wav           6      Speech     0.848776    0.120444      0.027470      0.003310\n",
            "215   97.wav           7      Speech     0.887237    0.089474      0.019974      0.003315\n",
            "216   97.wav           8      Speech     0.892455    0.082249      0.021257      0.004039\n",
            "217   97.wav           9      Speech     0.872416    0.081607      0.041650      0.004327\n",
            "218   77.wav           1       Music     0.243702    0.744118      0.009168      0.003011\n",
            "219   77.wav           2       Music     0.147716    0.838194      0.010450      0.003640\n",
            "220   77.wav           6      Speech     0.870389    0.097031      0.026598      0.005983\n",
            "221   77.wav           7      Speech     0.846754    0.114200      0.033117      0.005930\n",
            "222   11.wav           0      Speech     0.921587    0.063442      0.012188      0.002782\n",
            "223   11.wav           1      Speech     0.884353    0.090607      0.021075      0.003964\n",
            "224   11.wav           2      Speech     0.854377    0.082186      0.058459      0.004978\n",
            "225   11.wav           3      Speech     0.879339    0.089165      0.026906      0.004589\n",
            "226   11.wav           4      Speech     0.870350    0.100233      0.022513      0.006904\n",
            "227   11.wav           5      Speech     0.891428    0.084524      0.019646      0.004402\n",
            "228   11.wav           6      Speech     0.882449    0.086420      0.027580      0.003551\n",
            "229   11.wav           7      Speech     0.895396    0.080629      0.019748      0.004228\n",
            "230   11.wav           8      Speech     0.878248    0.079066      0.037498      0.005188\n",
            "231   11.wav           9      Speech     0.885970    0.076570      0.033741      0.003718\n",
            "232   11.wav          10      Speech     0.858506    0.108333      0.028842      0.004320\n",
            "233   11.wav          11      Speech     0.777129    0.192547      0.023641      0.006684\n",
            "234   11.wav          12      Speech     0.890513    0.083688      0.021748      0.004050\n",
            "235   11.wav          13      Speech     0.907870    0.065869      0.022624      0.003637\n",
            "236   11.wav          14      Speech     0.887351    0.075847      0.032675      0.004127\n",
            "237   11.wav          15      Speech     0.868827    0.091715      0.034927      0.004531\n",
            "238   11.wav          16      Speech     0.857383    0.085225      0.053292      0.004100\n",
            "239   11.wav          17      Speech     0.869686    0.070623      0.056078      0.003612\n",
            "240   11.wav          18      Speech     0.885579    0.087300      0.023228      0.003894\n",
            "241   11.wav          19      Speech     0.876209    0.096147      0.022552      0.005092\n",
            "242   11.wav          20      Speech     0.859874    0.093300      0.039234      0.007593\n",
            "243   11.wav          21      Speech     0.831095    0.108945      0.052828      0.007133\n",
            "244   11.wav          24      Speech     0.899967    0.080233      0.014757      0.005043\n",
            "245   11.wav          25      Speech     0.842935    0.093036      0.058749      0.005280\n",
            "246   11.wav          26      Speech     0.843592    0.083919      0.068485      0.004004\n",
            "247   11.wav          27      Speech     0.870022    0.098961      0.024951      0.006066\n",
            "248   11.wav          28      Speech     0.886398    0.088109      0.020304      0.005188\n",
            "249   11.wav          29      Speech     0.878363    0.091226      0.025722      0.004689\n",
            "250   11.wav          30      Speech     0.893481    0.088335      0.014836      0.003348\n",
            "251   11.wav          31      Speech     0.870101    0.110498      0.015298      0.004102\n",
            "252   11.wav          32      Speech     0.856304    0.108427      0.029344      0.005925\n",
            "253   11.wav          33      Speech     0.852054    0.107641      0.034778      0.005527\n",
            "254   11.wav          34      Speech     0.884719    0.087904      0.023463      0.003914\n",
            "255   11.wav          35      Speech     0.871863    0.104515      0.017946      0.005676\n",
            "256   11.wav          36      Speech     0.877807    0.098385      0.018926      0.004882\n",
            "257   11.wav          37      Speech     0.885543    0.093264      0.016323      0.004870\n",
            "258   11.wav          38      Speech     0.885553    0.092744      0.016798      0.004905\n",
            "259   11.wav          39      Speech     0.868396    0.104221      0.020465      0.006918\n",
            "260   11.wav          40      Speech     0.864927    0.081210      0.049057      0.004807\n",
            "261   11.wav          41      Speech     0.843276    0.109076      0.043315      0.004333\n",
            "262   11.wav          42      Speech     0.835258    0.138007      0.021892      0.004844\n",
            "263   11.wav          43      Speech     0.875908    0.093890      0.025236      0.004966\n",
            "264   60.wav           0     Ringing     0.053731    0.077403      0.865984      0.002882\n",
            "265   60.wav           3     Silence     0.092860    0.292301      0.057294      0.557545\n",
            "266   60.wav           4     Silence     0.092867    0.292241      0.057277      0.557614\n",
            "267   60.wav           7     Ringing     0.036590    0.107627      0.847749      0.008034\n",
            "268   60.wav           9     Silence     0.092851    0.291905      0.057228      0.558017\n",
            "269   60.wav          10     Silence     0.092888    0.292324      0.057290      0.557498\n",
            "270   60.wav          12     Ringing     0.051646    0.087029      0.851149      0.010177\n",
            "271   60.wav          15     Silence     0.092890    0.291962      0.057244      0.557904\n",
            "272   60.wav          16     Silence     0.092906    0.292038      0.057242      0.557814\n",
            "273   60.wav          18     Ringing     0.050863    0.087724      0.853830      0.007583\n",
            "274   15.wav           0       Music     0.153036    0.513544      0.195502      0.137918\n",
            "275   15.wav          15      Speech     0.907430    0.061615      0.024034      0.006922\n",
            "276   15.wav          16      Speech     0.865834    0.094700      0.034783      0.004683\n",
            "277   15.wav          17      Speech     0.825867    0.128680      0.041227      0.004227\n",
            "278   15.wav          18      Speech     0.876884    0.086023      0.031306      0.005787\n",
            "279   15.wav          19      Speech     0.866711    0.084228      0.037794      0.011268\n",
            "280   61.wav           0     Ringing     0.039443    0.088122      0.868705      0.003731\n",
            "281   61.wav           1     Ringing     0.033548    0.149828      0.809923      0.006700\n",
            "282   61.wav           2     Ringing     0.036235    0.095239      0.863768      0.004758\n",
            "283   61.wav           3     Ringing     0.036382    0.092903      0.865080      0.005634\n",
            "284   88.wav           0     Ringing     0.056698    0.118442      0.811971      0.012889\n",
            "285   88.wav           1     Ringing     0.051319    0.168794      0.762787      0.017100\n",
            "286   88.wav           3      Speech     0.809200    0.104354      0.075651      0.010796\n",
            "287   88.wav           4      Speech     0.891505    0.085933      0.017325      0.005237\n",
            "288   88.wav           5      Speech     0.801205    0.116563      0.078238      0.003994\n",
            "289   88.wav           6      Speech     0.822100    0.102131      0.072096      0.003673\n",
            "290   62.wav           0     Ringing     0.039443    0.088122      0.868705      0.003731\n",
            "291   62.wav           1     Ringing     0.033548    0.149828      0.809923      0.006700\n",
            "292   62.wav           2     Ringing     0.036235    0.095239      0.863768      0.004758\n",
            "293   62.wav           3     Ringing     0.036382    0.092903      0.865080      0.005634\n",
            "294   46.wav           2     Ringing     0.029598    0.068804      0.894543      0.007055\n",
            "295   46.wav           7     Silence     0.110249    0.379742      0.073284      0.436724\n",
            "296   46.wav          10     Silence     0.110822    0.376775      0.074275      0.438127\n",
            "297   46.wav          16     Silence     0.109944    0.377153      0.075232      0.437671\n",
            "298   46.wav          25     Silence     0.110680    0.375936      0.075589      0.437796\n",
            "299   46.wav          31     Silence     0.110249    0.379742      0.073284      0.436725\n",
            "300   46.wav          37      Speech     0.871080    0.072450      0.052479      0.003990\n",
            "301   46.wav          38      Speech     0.854878    0.086013      0.052328      0.006782\n",
            "302   46.wav          39      Speech     0.871706    0.074471      0.046901      0.006922\n",
            "303   46.wav          40      Speech     0.892247    0.074514      0.027544      0.005695\n",
            "304   46.wav          41      Speech     0.888452    0.086813      0.017066      0.007669\n",
            "305   46.wav          42      Speech     0.918814    0.064148      0.013818      0.003220\n",
            "306   46.wav          43      Speech     0.891917    0.090392      0.015148      0.002543\n",
            "307   46.wav          44      Speech     0.859720    0.128879      0.009686      0.001714\n",
            "308   46.wav          45      Speech     0.822999    0.166344      0.008244      0.002413\n",
            "309   46.wav          46      Speech     0.919667    0.068931      0.008994      0.002407\n",
            "310   46.wav          47      Speech     0.893791    0.092488      0.010433      0.003287\n",
            "311   46.wav          48      Speech     0.877014    0.105481      0.014212      0.003293\n",
            "312   46.wav          49      Speech     0.848460    0.109097      0.032886      0.009556\n",
            "313   46.wav          50      Speech     0.917451    0.060143      0.018223      0.004184\n",
            "314   46.wav          51      Speech     0.862330    0.111806      0.021285      0.004579\n",
            "315   20.wav           1      Speech     0.895264    0.073379      0.025747      0.005609\n",
            "316   20.wav           2      Speech     0.865547    0.091267      0.037384      0.005802\n",
            "317   20.wav           3      Speech     0.862673    0.096115      0.033268      0.007945\n",
            "318   20.wav           4      Speech     0.883472    0.087061      0.023655      0.005812\n",
            "319   20.wav           5      Speech     0.882180    0.080494      0.033877      0.003449\n",
            "320   20.wav           6      Speech     0.892717    0.079059      0.024320      0.003904\n",
            "321   20.wav           7      Speech     0.900141    0.070260      0.025116      0.004484\n",
            "322   20.wav           8      Speech     0.889637    0.086434      0.019530      0.004400\n",
            "323   20.wav           9      Speech     0.894410    0.080374      0.019982      0.005233\n",
            "324   20.wav          10      Speech     0.880858    0.085726      0.027295      0.006121\n",
            "325   20.wav          11      Speech     0.907716    0.067212      0.021379      0.003692\n",
            "326   72.wav           1     Silence     0.092844    0.291855      0.057224      0.558077\n",
            "327   72.wav           2     Silence     0.092485    0.289374      0.057039      0.561102\n",
            "328   72.wav           3     Silence     0.093196    0.294330      0.057426      0.555048\n",
            "329   72.wav           4     Silence     0.098534    0.330145      0.063460      0.507861\n",
            "330   72.wav           5     Silence     0.123618    0.430525      0.082654      0.363203\n",
            "331   72.wav           6     Silence     0.133358    0.465375      0.089430      0.311836\n",
            "332   72.wav           7     Silence     0.130084    0.454357      0.087310      0.328250\n",
            "333   72.wav           8     Silence     0.128252    0.448402      0.086092      0.337254\n",
            "334   72.wav           9     Silence     0.126215    0.441526      0.084730      0.347529\n",
            "335   72.wav          10     Silence     0.125217    0.438139      0.084059      0.352585\n",
            "336   72.wav          11     Silence     0.125447    0.438920      0.084214      0.351419\n",
            "337   72.wav          12     Silence     0.128885    0.450451      0.086514      0.334149\n",
            "338   72.wav          13     Silence     0.132979    0.464091      0.089192      0.313738\n",
            "339   72.wav          14     Silence     0.133305    0.465194      0.089397      0.312104\n",
            "340   72.wav          15     Silence     0.130084    0.454359      0.087310      0.328247\n",
            "341   72.wav          16     Silence     0.128252    0.448401      0.086091      0.337256\n",
            "342   72.wav          17     Silence     0.126215    0.441525      0.084730      0.347529\n",
            "343   72.wav          18     Silence     0.125217    0.438138      0.084059      0.352586\n",
            "344   38.wav           2      Speech     0.553238    0.052623      0.392165      0.001973\n",
            "345   38.wav           3      Speech     0.863416    0.099845      0.031020      0.005719\n",
            "346   38.wav           4      Speech     0.857687    0.110925      0.025975      0.005412\n",
            "347   38.wav           5      Speech     0.853637    0.108367      0.032915      0.005080\n",
            "348   38.wav           6      Speech     0.857121    0.081505      0.052576      0.008798\n",
            "349   38.wav           9      Speech     0.906633    0.077395      0.012595      0.003376\n",
            "350   38.wav          10      Speech     0.904352    0.079619      0.012607      0.003421\n",
            "351   38.wav          11      Speech     0.887709    0.091781      0.015358      0.005152\n",
            "352   38.wav          12      Speech     0.893777    0.083544      0.018033      0.004646\n",
            "353   38.wav          13      Speech     0.897325    0.086990      0.011611      0.004075\n",
            "354   38.wav          14      Speech     0.890687    0.092978      0.012744      0.003591\n",
            "355   38.wav          17      Speech     0.861589    0.108226      0.022127      0.008058\n",
            "356   92.wav           0     Ringing     0.056698    0.118442      0.811971      0.012889\n",
            "357   92.wav           1     Ringing     0.051290    0.168782      0.762818      0.017110\n",
            "358   92.wav           2     Ringing     0.055968    0.096681      0.837724      0.009628\n",
            "359   92.wav           3     Ringing     0.053524    0.128426      0.806945      0.011105\n",
            "360   92.wav           4     Ringing     0.061776    0.168091      0.752741      0.017392\n",
            "361   92.wav           5     Ringing     0.058994    0.121515      0.807203      0.012289\n",
            "362   92.wav           6     Ringing     0.059652    0.194183      0.725640      0.020526\n",
            "363   92.wav           7     Ringing     0.047238    0.107224      0.834798      0.010740\n",
            "364   92.wav           8     Ringing     0.042370    0.114138      0.831385      0.012107\n",
            "365   92.wav           9     Ringing     0.060346    0.136945      0.788713      0.013996\n",
            "366   92.wav          10     Ringing     0.048124    0.105987      0.837157      0.008732\n",
            "367   92.wav          11     Ringing     0.064199    0.181521      0.737367      0.016913\n",
            "368   92.wav          12     Ringing     0.059221    0.120128      0.810396      0.010255\n",
            "369   92.wav          13     Ringing     0.047427    0.146877      0.792307      0.013390\n",
            "370   92.wav          14     Ringing     0.055780    0.137458      0.793058      0.013704\n",
            "371   92.wav          15     Ringing     0.045369    0.097201      0.846514      0.010916\n",
            "372   92.wav          17      Speech     0.869360    0.102512      0.022581      0.005547\n",
            "373   92.wav          18      Speech     0.882475    0.102534      0.011774      0.003216\n",
            "374   92.wav          19      Speech     0.835020    0.138897      0.020439      0.005644\n",
            "375   92.wav          20      Speech     0.842641    0.114268      0.037273      0.005819\n",
            "376   92.wav          21      Speech     0.854236    0.110413      0.031559      0.003792\n",
            "377   92.wav          22      Speech     0.865753    0.109254      0.019621      0.005372\n",
            "378   92.wav          23      Speech     0.873805    0.101929      0.019193      0.005073\n",
            "379   92.wav          24      Speech     0.875890    0.104331      0.015861      0.003918\n",
            "380   92.wav          25      Speech     0.857833    0.122233      0.016059      0.003876\n",
            "381   92.wav          26      Speech     0.882710    0.095571      0.016556      0.005163\n",
            "382   92.wav          27      Speech     0.861933    0.100906      0.031011      0.006150\n",
            "383   92.wav          28      Speech     0.843499    0.080982      0.071198      0.004320\n",
            "384   92.wav          29      Speech     0.843151    0.123872      0.027883      0.005095\n",
            "385   92.wav          30      Speech     0.855912    0.116617      0.023126      0.004344\n",
            "386   92.wav          31      Speech     0.876204    0.089603      0.030616      0.003578\n",
            "387   92.wav          32      Speech     0.895690    0.077783      0.023076      0.003451\n",
            "388   10.wav           0      Speech     0.921587    0.063442      0.012188      0.002782\n",
            "389   10.wav           1      Speech     0.884353    0.090608      0.021076      0.003964\n",
            "390   10.wav           2      Speech     0.854378    0.082186      0.058459      0.004978\n",
            "391   10.wav           3      Speech     0.879339    0.089165      0.026906      0.004589\n",
            "392   10.wav           4      Speech     0.870350    0.100233      0.022513      0.006904\n",
            "393   10.wav           5      Speech     0.891428    0.084524      0.019646      0.004402\n",
            "394   10.wav           6      Speech     0.882449    0.086420      0.027580      0.003551\n",
            "395   10.wav           7      Speech     0.895396    0.080629      0.019748      0.004228\n",
            "396   10.wav           8      Speech     0.878248    0.079066      0.037498      0.005188\n",
            "397   10.wav           9      Speech     0.885970    0.076570      0.033741      0.003718\n",
            "398   10.wav          10      Speech     0.858506    0.108333      0.028842      0.004320\n",
            "399   10.wav          11      Speech     0.777129    0.192547      0.023641      0.006684\n",
            "400   10.wav          12      Speech     0.890513    0.083688      0.021748      0.004050\n",
            "401   10.wav          13      Speech     0.907914    0.065745      0.022717      0.003624\n",
            "402   10.wav          14      Speech     0.901343    0.072085      0.022923      0.003650\n",
            "403    4.wav           0       Music     0.257356    0.448984      0.168013      0.125647\n",
            "404    4.wav           1       Music     0.221898    0.703315      0.039518      0.035269\n",
            "405    4.wav           2       Music     0.253965    0.722509      0.018693      0.004833\n",
            "406    4.wav           3       Music     0.202564    0.771266      0.020450      0.005721\n",
            "407    4.wav           4       Music     0.073299    0.907962      0.011718      0.007022\n",
            "408    4.wav           5       Music     0.258951    0.719903      0.014751      0.006395\n",
            "409    4.wav           6       Music     0.072563    0.901079      0.013336      0.013022\n",
            "410    4.wav           7       Music     0.037349    0.940520      0.013838      0.008293\n",
            "411    4.wav           8       Music     0.038004    0.941425      0.014939      0.005632\n",
            "412    4.wav           9       Music     0.034576    0.942423      0.015616      0.007385\n",
            "413    4.wav          10       Music     0.089823    0.892409      0.013114      0.004655\n",
            "414    4.wav          11       Music     0.170293    0.798819      0.024578      0.006310\n",
            "415    6.wav           0       Music     0.198157    0.639925      0.117400      0.044517\n",
            "416    6.wav           2       Music     0.136776    0.851025      0.009412      0.002786\n",
            "417   54.wav           0     Ringing     0.056698    0.118442      0.811971      0.012889\n",
            "418   54.wav           1     Ringing     0.051290    0.168782      0.762818      0.017110\n",
            "419   54.wav           2     Ringing     0.055968    0.096681      0.837724      0.009628\n",
            "420   54.wav           3     Ringing     0.053524    0.128426      0.806945      0.011105\n",
            "421   54.wav           4     Ringing     0.061776    0.168091      0.752741      0.017392\n",
            "422   54.wav           5     Ringing     0.058994    0.121515      0.807203      0.012289\n",
            "423   54.wav           6     Ringing     0.059652    0.194183      0.725640      0.020526\n",
            "424   54.wav           7     Ringing     0.047238    0.107224      0.834798      0.010740\n",
            "425   54.wav           8     Ringing     0.042370    0.114138      0.831385      0.012107\n",
            "426   54.wav           9     Ringing     0.060346    0.136945      0.788713      0.013996\n",
            "427   54.wav          10     Ringing     0.048124    0.105987      0.837157      0.008732\n",
            "428   54.wav          11     Ringing     0.064199    0.181521      0.737367      0.016913\n",
            "429   54.wav          12     Ringing     0.059221    0.120128      0.810396      0.010255\n",
            "430   54.wav          13     Ringing     0.047427    0.146877      0.792307      0.013390\n",
            "431   54.wav          14     Ringing     0.055780    0.137458      0.793058      0.013704\n",
            "432   54.wav          15     Ringing     0.044889    0.097006      0.847140      0.010965\n",
            "433   54.wav          16     Ringing     0.076933    0.122504      0.786963      0.013600\n",
            "434   54.wav          18      Speech     0.896312    0.085305      0.015052      0.003331\n",
            "435   54.wav          19      Speech     0.865715    0.105747      0.023174      0.005364\n",
            "436   54.wav          20      Speech     0.856220    0.100335      0.037325      0.006120\n",
            "437   54.wav          21      Speech     0.818417    0.147682      0.029255      0.004646\n",
            "438   54.wav          22      Speech     0.881135    0.095612      0.019289      0.003964\n",
            "439   54.wav          23      Speech     0.883522    0.093488      0.018023      0.004967\n",
            "440   54.wav          24      Speech     0.879688    0.097487      0.018702      0.004123\n",
            "441   54.wav          25      Speech     0.806011    0.173099      0.017532      0.003357\n",
            "442   54.wav          26      Speech     0.879814    0.103928      0.012932      0.003326\n",
            "443   54.wav          27      Speech     0.876815    0.098411      0.019507      0.005267\n",
            "444   54.wav          28      Speech     0.842620    0.076428      0.076764      0.004188\n",
            "445   54.wav          29      Speech     0.848438    0.103883      0.043812      0.003868\n",
            "446   54.wav          30      Speech     0.848863    0.127305      0.019623      0.004210\n",
            "447   54.wav          31      Speech     0.884424    0.086237      0.025741      0.003599\n",
            "448   54.wav          32      Speech     0.894241    0.078501      0.024105      0.003154\n",
            "449   54.wav          33      Speech     0.908139    0.070035      0.018919      0.002906\n",
            "450   54.wav          34      Speech     0.906282    0.062444      0.028208      0.003066\n",
            "451   54.wav          35      Speech     0.883120    0.092852      0.020430      0.003597\n",
            "452   54.wav          36      Speech     0.858797    0.095501      0.041541      0.004161\n",
            "453   54.wav          37      Speech     0.893433    0.074826      0.028479      0.003262\n",
            "454   54.wav          38      Speech     0.896018    0.079479      0.020670      0.003833\n",
            "455   54.wav          39      Speech     0.893002    0.071671      0.031522      0.003805\n",
            "456   54.wav          40      Speech     0.850962    0.086307      0.057200      0.005531\n",
            "457    3.wav           0       Music     0.257356    0.448984      0.168013      0.125647\n",
            "458    3.wav           1       Music     0.221898    0.703315      0.039518      0.035269\n",
            "459    3.wav           2       Music     0.253965    0.722509      0.018693      0.004833\n",
            "460    3.wav           3       Music     0.202564    0.771266      0.020450      0.005721\n",
            "461    3.wav           4       Music     0.073299    0.907962      0.011718      0.007022\n",
            "462    3.wav           5       Music     0.258951    0.719903      0.014751      0.006395\n",
            "463    3.wav           6       Music     0.072563    0.901079      0.013336      0.013022\n",
            "464    3.wav           7       Music     0.037349    0.940520      0.013838      0.008293\n",
            "465    3.wav           8       Music     0.038004    0.941425      0.014939      0.005632\n",
            "466    3.wav           9       Music     0.034576    0.942423      0.015616      0.007385\n",
            "467    3.wav          10       Music     0.089823    0.892409      0.013114      0.004655\n",
            "468    3.wav          11       Music     0.171186    0.797552      0.024824      0.006439\n",
            "469   42.wav           0       Music     0.044878    0.926065      0.017800      0.011256\n",
            "470   42.wav           1       Music     0.050994    0.937043      0.007402      0.004561\n",
            "471   42.wav           2       Music     0.079869    0.906479      0.008725      0.004926\n",
            "472   42.wav           3       Music     0.035221    0.953631      0.007797      0.003351\n",
            "473   42.wav           4       Music     0.026840    0.965456      0.005446      0.002258\n",
            "474   42.wav           5       Music     0.032465    0.949770      0.009594      0.008171\n",
            "475   42.wav           6       Music     0.048022    0.934430      0.008189      0.009358\n",
            "476   42.wav           7       Music     0.032421    0.954392      0.006474      0.006713\n",
            "477   42.wav           8       Music     0.023079    0.963265      0.006870      0.006786\n",
            "478   42.wav           9       Music     0.029009    0.956206      0.007435      0.007351\n",
            "479   42.wav          10       Music     0.029829    0.961130      0.005672      0.003369\n",
            "480   42.wav          11       Music     0.027300    0.962700      0.006740      0.003259\n",
            "481   42.wav          12       Music     0.035218    0.952006      0.008790      0.003986\n",
            "482   42.wav          13       Music     0.021925    0.966052      0.009404      0.002620\n",
            "483   42.wav          14       Music     0.039093    0.951312      0.006213      0.003383\n",
            "484   42.wav          15       Music     0.061539    0.919840      0.009148      0.009473\n",
            "485   42.wav          16       Music     0.053804    0.921908      0.010263      0.014025\n",
            "486   42.wav          17       Music     0.039315    0.948049      0.007197      0.005440\n",
            "487   42.wav          18       Music     0.030526    0.945728      0.009651      0.014094\n",
            "488   42.wav          19       Music     0.024510    0.946647      0.017989      0.010855\n",
            "489   42.wav          20       Music     0.024252    0.953719      0.014342      0.007687\n",
            "490   42.wav          21       Music     0.015936    0.972975      0.008282      0.002807\n",
            "491   42.wav          22       Music     0.017625    0.957561      0.013686      0.011127\n",
            "492   42.wav          23       Music     0.020395    0.960179      0.011890      0.007536\n",
            "493   42.wav          24       Music     0.028484    0.926214      0.024979      0.020323\n",
            "494   42.wav          25       Music     0.024570    0.931162      0.028497      0.015771\n",
            "495   42.wav          26       Music     0.022168    0.924954      0.030963      0.021914\n",
            "496   42.wav          27       Music     0.023877    0.952270      0.016152      0.007701\n",
            "497   42.wav          28       Music     0.021572    0.943883      0.016947      0.017598\n",
            "498   42.wav          29       Music     0.019665    0.947344      0.017316      0.015674\n",
            "499   42.wav          31      Speech     0.860400    0.105335      0.027295      0.006971\n",
            "500   42.wav          32      Speech     0.886787    0.091151      0.017198      0.004864\n",
            "501   42.wav          33      Speech     0.877612    0.091019      0.026327      0.005043\n",
            "502   69.wav           0     Ringing     0.059857    0.122112      0.804493      0.013538\n",
            "503   69.wav           1     Ringing     0.050265    0.163552      0.766799      0.019384\n",
            "504   69.wav           2     Ringing     0.056094    0.102754      0.830695      0.010457\n",
            "505   69.wav           3     Ringing     0.052180    0.125686      0.810536      0.011598\n",
            "506   69.wav           4     Ringing     0.055735    0.162594      0.765339      0.016333\n",
            "507   69.wav           5     Ringing     0.054081    0.120655      0.813283      0.011981\n",
            "508   69.wav           6     Ringing     0.058948    0.196403      0.724771      0.019877\n",
            "509   69.wav           7     Ringing     0.048733    0.116533      0.823789      0.010945\n",
            "510   69.wav           8     Ringing     0.047028    0.138149      0.800658      0.014165\n",
            "511   69.wav           9     Ringing     0.065316    0.146785      0.773281      0.014618\n",
            "512   69.wav          10     Ringing     0.047231    0.103265      0.841278      0.008226\n",
            "513   69.wav          11     Ringing     0.066091    0.177427      0.738690      0.017792\n",
            "514   69.wav          12     Ringing     0.063174    0.124451      0.801441      0.010935\n",
            "515   69.wav          13     Ringing     0.049859    0.159878      0.776031      0.014233\n",
            "516   69.wav          14     Ringing     0.051784    0.151816      0.783050      0.013350\n",
            "517   69.wav          15     Ringing     0.043527    0.088368      0.859353      0.008752\n",
            "518   69.wav          16     Ringing     0.059128    0.143229      0.784076      0.013567\n",
            "519   69.wav          18      Speech     0.807102    0.068443      0.120900      0.003555\n",
            "520   69.wav          19      Speech     0.876651    0.091673      0.026233      0.005443\n",
            "521   69.wav          20      Speech     0.882061    0.090404      0.020889      0.006646\n",
            "522   69.wav          21      Speech     0.872323    0.092455      0.029309      0.005913\n",
            "523   69.wav          22      Speech     0.892950    0.075979      0.028344      0.002728\n",
            "524   69.wav          23      Speech     0.832534    0.141802      0.020366      0.005298\n",
            "525   94.wav           1       Music     0.025203    0.966059      0.006557      0.002182\n",
            "526   94.wav           2       Music     0.025018    0.968574      0.004904      0.001504\n",
            "527   94.wav           3       Music     0.024318    0.968094      0.006065      0.001522\n",
            "528   94.wav           4       Music     0.029106    0.962754      0.006602      0.001539\n",
            "529   94.wav           5       Music     0.034632    0.954371      0.008442      0.002555\n",
            "530   94.wav           6       Music     0.034814    0.956840      0.006718      0.001628\n",
            "531   94.wav           7       Music     0.064681    0.927453      0.006435      0.001432\n",
            "532   94.wav           8       Music     0.023732    0.968356      0.006399      0.001513\n",
            "533   94.wav           9       Music     0.044627    0.945805      0.007611      0.001957\n",
            "534   94.wav          10       Music     0.081766    0.905773      0.009564      0.002897\n",
            "535   94.wav          11       Music     0.034268    0.949569      0.011991      0.004172\n",
            "536   94.wav          12       Music     0.083725    0.899331      0.012313      0.004631\n",
            "537   94.wav          13       Music     0.083220    0.902467      0.011019      0.003294\n",
            "538   94.wav          14       Music     0.038858    0.951405      0.007807      0.001930\n",
            "539   94.wav          15       Music     0.027419    0.963621      0.007132      0.001828\n",
            "540   94.wav          16       Music     0.043534    0.941440      0.011845      0.003180\n",
            "541   94.wav          17       Music     0.043847    0.942206      0.010699      0.003248\n",
            "542   94.wav          18       Music     0.160013    0.826707      0.009311      0.003970\n",
            "543   94.wav          19       Music     0.096371    0.892019      0.007754      0.003856\n",
            "544   94.wav          20       Music     0.068377    0.919154      0.009224      0.003246\n",
            "545   94.wav          21       Music     0.022399    0.969001      0.007097      0.001504\n",
            "546   94.wav          22       Music     0.032742    0.959548      0.006035      0.001676\n",
            "547   94.wav          23       Music     0.039550    0.950868      0.007525      0.002057\n",
            "548   94.wav          24       Music     0.101841    0.884724      0.010994      0.002440\n",
            "549   94.wav          25       Music     0.045190    0.947126      0.006155      0.001530\n",
            "550   94.wav          26       Music     0.042436    0.949069      0.006232      0.002262\n",
            "551   94.wav          27       Music     0.057090    0.931511      0.008336      0.003063\n",
            "552   94.wav          28       Music     0.048754    0.940479      0.007907      0.002861\n",
            "553   94.wav          30      Speech     0.893253    0.079854      0.023350      0.003543\n",
            "554   94.wav          31      Speech     0.876077    0.090511      0.028123      0.005289\n",
            "555   94.wav          32      Speech     0.896716    0.078414      0.019299      0.005571\n",
            "556   94.wav          33      Speech     0.885615    0.089786      0.019227      0.005372\n",
            "557   94.wav          34      Speech     0.905867    0.073608      0.017803      0.002722\n",
            "558   94.wav          35      Speech     0.841097    0.129365      0.024143      0.005395\n",
            "559   94.wav          36      Speech     0.859585    0.100336      0.033533      0.006546\n",
            "560    1.wav           0       Music     0.197746    0.641508      0.121860      0.038886\n",
            "561    1.wav           2      Speech     0.857229    0.105893      0.024163      0.012716\n",
            "562    1.wav           3      Speech     0.848636    0.129143      0.017030      0.005191\n",
            "563    1.wav           4      Speech     0.827572    0.147708      0.018537      0.006182\n",
            "564    1.wav           5      Speech     0.812130    0.150749      0.026876      0.010245\n",
            "565    1.wav           7       Music     0.027046    0.942783      0.006710      0.023461\n",
            "566    1.wav           8       Music     0.023010    0.956651      0.006517      0.013822\n",
            "567    1.wav           9       Music     0.023468    0.955765      0.008195      0.012572\n",
            "568    1.wav          10       Music     0.034323    0.931428      0.015242      0.019008\n",
            "569    1.wav          11       Music     0.040314    0.932831      0.013481      0.013374\n",
            "570    1.wav          12       Music     0.028903    0.941142      0.010733      0.019222\n",
            "571    1.wav          13       Music     0.023536    0.957284      0.007961      0.011219\n",
            "572    1.wav          14       Music     0.034782    0.938055      0.011722      0.015441\n",
            "573    1.wav          15       Music     0.025868    0.956447      0.008096      0.009589\n",
            "574    1.wav          16       Music     0.037598    0.940185      0.012065      0.010152\n",
            "575    1.wav          17       Music     0.040569    0.932032      0.012596      0.014803\n",
            "576    1.wav          18       Music     0.041091    0.934698      0.012793      0.011417\n",
            "577    1.wav          19       Music     0.028015    0.950908      0.009118      0.011959\n",
            "578    1.wav          20       Music     0.017371    0.965401      0.009865      0.007364\n",
            "579    1.wav          21       Music     0.030569    0.950865      0.010974      0.007592\n",
            "580    1.wav          22       Music     0.051929    0.925886      0.014585      0.007600\n",
            "581    1.wav          23       Music     0.116654    0.866022      0.012589      0.004735\n",
            "582    1.wav          24       Music     0.144702    0.829187      0.018041      0.008070\n",
            "583    1.wav          25       Music     0.347135    0.626158      0.018578      0.008130\n",
            "584    1.wav          26       Music     0.173724    0.811069      0.011152      0.004055\n",
            "585    1.wav          27       Music     0.076448    0.906124      0.013543      0.003885\n",
            "586    1.wav          28       Music     0.037846    0.940058      0.018872      0.003224\n",
            "587    1.wav          29       Music     0.146671    0.833070      0.014556      0.005704\n",
            "588    1.wav          30       Music     0.151297    0.824354      0.016294      0.008055\n",
            "589    1.wav          31       Music     0.049771    0.926119      0.013896      0.010214\n",
            "590    1.wav          32       Music     0.079110    0.901548      0.014128      0.005214\n",
            "591    1.wav          33       Music     0.108522    0.876245      0.012604      0.002629\n",
            "592    1.wav          34       Music     0.042562    0.922275      0.030146      0.005017\n",
            "593    1.wav          36      Speech     0.851853    0.074964      0.069400      0.003783\n",
            "594   93.wav           0     Ringing     0.056698    0.118442      0.811971      0.012889\n",
            "595   93.wav           1     Ringing     0.051290    0.168782      0.762818      0.017110\n",
            "596   93.wav           2     Ringing     0.055968    0.096681      0.837724      0.009628\n",
            "597   93.wav           3     Ringing     0.053524    0.128426      0.806945      0.011105\n",
            "598   93.wav           4     Ringing     0.061776    0.168091      0.752741      0.017392\n",
            "599   93.wav           5     Ringing     0.058994    0.121515      0.807203      0.012289\n",
            "600   93.wav           6     Ringing     0.059652    0.194183      0.725640      0.020526\n",
            "601   93.wav           7     Ringing     0.047238    0.107224      0.834798      0.010740\n",
            "602   93.wav           8     Ringing     0.042370    0.114138      0.831385      0.012107\n",
            "603   93.wav           9     Ringing     0.060346    0.136945      0.788713      0.013996\n",
            "604   93.wav          10     Ringing     0.048124    0.105987      0.837157      0.008732\n",
            "605   93.wav          11     Ringing     0.064199    0.181521      0.737367      0.016913\n",
            "606   93.wav          12     Ringing     0.059221    0.120128      0.810396      0.010255\n",
            "607   93.wav          13     Ringing     0.047427    0.146877      0.792307      0.013390\n",
            "608   93.wav          14     Ringing     0.055780    0.137458      0.793058      0.013704\n",
            "609   93.wav          15     Ringing     0.045369    0.097201      0.846514      0.010916\n",
            "610   93.wav          17      Speech     0.869360    0.102512      0.022581      0.005547\n",
            "611   93.wav          18      Speech     0.882475    0.102534      0.011774      0.003216\n",
            "612   93.wav          19      Speech     0.835020    0.138897      0.020439      0.005644\n",
            "613   93.wav          20      Speech     0.842641    0.114268      0.037273      0.005819\n",
            "614   93.wav          21      Speech     0.854236    0.110413      0.031559      0.003792\n",
            "615   93.wav          22      Speech     0.865753    0.109254      0.019621      0.005372\n",
            "616   93.wav          23      Speech     0.873805    0.101929      0.019193      0.005073\n",
            "617   93.wav          24      Speech     0.875890    0.104331      0.015861      0.003918\n",
            "618   93.wav          25      Speech     0.857833    0.122233      0.016059      0.003876\n",
            "619   93.wav          26      Speech     0.882710    0.095571      0.016556      0.005163\n",
            "620   93.wav          27      Speech     0.861933    0.100906      0.031011      0.006150\n",
            "621   93.wav          28      Speech     0.843499    0.080982      0.071198      0.004320\n",
            "622   93.wav          29      Speech     0.843151    0.123872      0.027883      0.005095\n",
            "623   93.wav          30      Speech     0.855912    0.116617      0.023126      0.004344\n",
            "624   93.wav          31      Speech     0.876204    0.089603      0.030616      0.003578\n",
            "625   93.wav          32      Speech     0.895690    0.077783      0.023076      0.003451\n",
            "626   57.wav           0     Ringing     0.056698    0.118442      0.811971      0.012889\n",
            "627   57.wav           1     Ringing     0.051290    0.168782      0.762818      0.017110\n",
            "628   57.wav           2     Ringing     0.055968    0.096681      0.837724      0.009628\n",
            "629   57.wav           3     Ringing     0.053524    0.128426      0.806945      0.011105\n",
            "630   57.wav           4     Ringing     0.061776    0.168091      0.752741      0.017392\n",
            "631   57.wav           5     Ringing     0.058994    0.121515      0.807203      0.012289\n",
            "632   57.wav           6     Ringing     0.059652    0.194183      0.725640      0.020526\n",
            "633   57.wav           7     Ringing     0.047238    0.107224      0.834798      0.010740\n",
            "634   57.wav           8     Ringing     0.042370    0.114138      0.831385      0.012107\n",
            "635   57.wav           9     Ringing     0.060347    0.136945      0.788713      0.013996\n",
            "636   57.wav          10     Ringing     0.048124    0.105987      0.837157      0.008732\n",
            "637   57.wav          11     Ringing     0.064199    0.181521      0.737367      0.016913\n",
            "638   57.wav          12     Ringing     0.059221    0.120128      0.810396      0.010255\n",
            "639   57.wav          13     Ringing     0.047427    0.146877      0.792307      0.013390\n",
            "640   57.wav          14     Ringing     0.055780    0.137458      0.793058      0.013704\n",
            "641   57.wav          15     Ringing     0.044995    0.097202      0.846822      0.010981\n",
            "642   57.wav          17      Speech     0.592608    0.063170      0.341232      0.002990\n",
            "643   57.wav          18      Speech     0.908018    0.077894      0.011514      0.002574\n",
            "644   45.wav           2     Ringing     0.029598    0.068804      0.894543      0.007055\n",
            "645   45.wav           7     Silence     0.110249    0.379742      0.073284      0.436724\n",
            "646   45.wav          10     Silence     0.110822    0.376775      0.074275      0.438127\n",
            "647   45.wav          16     Silence     0.109944    0.377153      0.075232      0.437671\n",
            "648   45.wav          25     Silence     0.110680    0.375936      0.075589      0.437796\n",
            "649   45.wav          31     Silence     0.110249    0.379742      0.073284      0.436725\n",
            "650   45.wav          37      Speech     0.871080    0.072450      0.052479      0.003990\n",
            "651   45.wav          38      Speech     0.854878    0.086013      0.052328      0.006782\n",
            "652   45.wav          39      Speech     0.871706    0.074471      0.046901      0.006922\n",
            "653   45.wav          40      Speech     0.892247    0.074514      0.027544      0.005695\n",
            "654   45.wav          41      Speech     0.888452    0.086813      0.017066      0.007669\n",
            "655   45.wav          42      Speech     0.918814    0.064148      0.013818      0.003220\n",
            "656   45.wav          43      Speech     0.891917    0.090392      0.015148      0.002543\n",
            "657   45.wav          44      Speech     0.859720    0.128879      0.009686      0.001714\n",
            "658   45.wav          45      Speech     0.822999    0.166344      0.008244      0.002413\n",
            "659   45.wav          46      Speech     0.919667    0.068931      0.008994      0.002407\n",
            "660   45.wav          47      Speech     0.893791    0.092488      0.010433      0.003287\n",
            "661   45.wav          48      Speech     0.877014    0.105481      0.014212      0.003293\n",
            "662   45.wav          49      Speech     0.848460    0.109097      0.032886      0.009556\n",
            "663   45.wav          50      Speech     0.917451    0.060143      0.018223      0.004184\n",
            "664   45.wav          51      Speech     0.862330    0.111806      0.021285      0.004579\n",
            "665   14.wav           0     Ringing     0.056698    0.118442      0.811971      0.012889\n",
            "666   14.wav           1     Ringing     0.051290    0.168782      0.762818      0.017110\n",
            "667   14.wav           2     Ringing     0.055968    0.096681      0.837724      0.009628\n",
            "668   14.wav           3     Ringing     0.053524    0.128426      0.806945      0.011105\n",
            "669   14.wav           4     Ringing     0.061776    0.168091      0.752741      0.017392\n",
            "670   14.wav           5     Ringing     0.058994    0.121515      0.807203      0.012289\n",
            "671   14.wav           6     Ringing     0.059652    0.194183      0.725640      0.020526\n",
            "672   14.wav           7     Ringing     0.047238    0.107224      0.834798      0.010740\n",
            "673   14.wav           8     Ringing     0.042370    0.114138      0.831385      0.012107\n",
            "674   14.wav           9     Ringing     0.060346    0.136945      0.788713      0.013996\n",
            "675   14.wav          10     Ringing     0.048124    0.105987      0.837157      0.008732\n",
            "676   14.wav          11     Ringing     0.064199    0.181521      0.737367      0.016913\n",
            "677   14.wav          12     Ringing     0.059221    0.120128      0.810396      0.010255\n",
            "678   14.wav          13     Ringing     0.047427    0.146877      0.792307      0.013390\n",
            "679   14.wav          14     Ringing     0.055780    0.137458      0.793058      0.013704\n",
            "680   14.wav          15     Ringing     0.044845    0.097051      0.847139      0.010965\n",
            "681   14.wav          16     Ringing     0.059494    0.131642      0.795864      0.013000\n",
            "682   14.wav          18      Speech     0.907622    0.076124      0.013135      0.003118\n",
            "683   14.wav          19      Speech     0.870316    0.106383      0.018655      0.004646\n",
            "684   14.wav          20      Speech     0.858155    0.105031      0.030942      0.005871\n",
            "685   14.wav          21      Speech     0.848558    0.114272      0.032208      0.004962\n",
            "686   14.wav          22      Speech     0.887804    0.086364      0.022113      0.003719\n",
            "687   14.wav          23      Speech     0.884799    0.093271      0.017026      0.004904\n",
            "688   81.wav           1      Speech     0.853837    0.104331      0.027183      0.014649\n",
            "689   81.wav           2      Speech     0.863278    0.102291      0.029097      0.005334\n",
            "690   81.wav           3      Speech     0.888258    0.086334      0.021437      0.003971\n",
            "691   81.wav           4      Speech     0.896281    0.077616      0.020925      0.005178\n",
            "692   81.wav           5      Speech     0.912653    0.063202      0.019898      0.004246\n",
            "693   81.wav           6      Speech     0.763010    0.176760      0.048839      0.011391\n",
            "694   81.wav           7      Speech     0.873375    0.093457      0.027463      0.005705\n",
            "695   81.wav           8      Speech     0.864928    0.100744      0.027921      0.006407\n",
            "696   81.wav           9      Speech     0.882111    0.081548      0.029558      0.006784\n",
            "697   81.wav          10      Speech     0.894955    0.072937      0.026126      0.005982\n",
            "698   81.wav          11      Speech     0.900710    0.065596      0.028258      0.005437\n",
            "699   81.wav          12      Speech     0.883592    0.089921      0.021467      0.005020\n",
            "700   81.wav          13      Speech     0.885897    0.082547      0.026338      0.005218\n",
            "701   81.wav          14      Speech     0.875618    0.090245      0.028147      0.005991\n",
            "702   81.wav          15      Speech     0.898561    0.069582      0.026347      0.005510\n",
            "703   81.wav          16      Speech     0.886586    0.082405      0.024054      0.006955\n",
            "704   81.wav          18       Music     0.144719    0.504036      0.100908      0.250337\n",
            "705   81.wav          20      Speech     0.833251    0.120977      0.034354      0.011418\n",
            "706   81.wav          21      Speech     0.856749    0.114992      0.023956      0.004303\n",
            "707   81.wav          22      Speech     0.887214    0.089647      0.018629      0.004511\n",
            "708   81.wav          23      Speech     0.903956    0.072209      0.019112      0.004723\n",
            "709   81.wav          24      Speech     0.896958    0.070444      0.027207      0.005391\n",
            "710   81.wav          26      Speech     0.876501    0.093698      0.024331      0.005469\n",
            "711   81.wav          27      Speech     0.853654    0.106077      0.031799      0.008470\n",
            "712   81.wav          28      Speech     0.880068    0.081717      0.030809      0.007407\n",
            "713   81.wav          29      Speech     0.896977    0.072110      0.025500      0.005413\n",
            "714   48.wav           6     Silence     0.108774    0.374517      0.072250      0.444459\n",
            "715   48.wav           9     Silence     0.108833    0.374202      0.072715      0.444250\n",
            "716   48.wav          15     Silence     0.108338    0.373330      0.071778      0.446554\n",
            "717   48.wav          21     Silence     0.108973    0.375238      0.072486      0.443302\n",
            "718   48.wav          24     Silence     0.108596    0.371875      0.072714      0.446815\n",
            "719   48.wav          28       Music     0.127647    0.418856      0.334401      0.119097\n",
            "720   24.wav           0      Speech     0.815674    0.088123      0.086685      0.009518\n",
            "721   24.wav           1      Speech     0.892756    0.075926      0.025369      0.005949\n",
            "722   24.wav           2      Speech     0.849041    0.083519      0.061574      0.005867\n",
            "723   24.wav           3      Speech     0.860159    0.098849      0.032582      0.008411\n",
            "724   24.wav           4      Speech     0.885554    0.083976      0.025550      0.004921\n",
            "725   24.wav           5      Speech     0.885146    0.080820      0.030552      0.003482\n",
            "726   24.wav           6      Speech     0.891774    0.076964      0.026219      0.005043\n",
            "727   24.wav           7      Speech     0.903492    0.069947      0.022413      0.004149\n",
            "728   24.wav           8      Speech     0.884984    0.091159      0.019414      0.004442\n",
            "729   24.wav           9      Speech     0.892821    0.078661      0.023168      0.005350\n",
            "730   24.wav          10      Speech     0.889359    0.078632      0.026453      0.005557\n",
            "731   24.wav          11      Speech     0.911792    0.063279      0.021444      0.003484\n",
            "732   24.wav          12      Speech     0.908151    0.065079      0.022331      0.004438\n",
            "733   16.wav           0       Music     0.153036    0.513544      0.195502      0.137918\n",
            "734   16.wav          15      Speech     0.907430    0.061615      0.024034      0.006922\n",
            "735   16.wav          16      Speech     0.865834    0.094700      0.034783      0.004683\n",
            "736   16.wav          17      Speech     0.825867    0.128680      0.041227      0.004227\n",
            "737   16.wav          18      Speech     0.876884    0.086023      0.031306      0.005787\n",
            "738   16.wav          19      Speech     0.866711    0.084228      0.037794      0.011268\n",
            "739   12.wav           0      Speech     0.921587    0.063442      0.012188      0.002782\n",
            "740   12.wav           1      Speech     0.884353    0.090607      0.021075      0.003964\n",
            "741   12.wav           2      Speech     0.854377    0.082186      0.058459      0.004978\n",
            "742   12.wav           3      Speech     0.879339    0.089165      0.026906      0.004589\n",
            "743   12.wav           4      Speech     0.870350    0.100233      0.022513      0.006904\n",
            "744   12.wav           5      Speech     0.891428    0.084524      0.019646      0.004402\n",
            "745   12.wav           6      Speech     0.882449    0.086420      0.027580      0.003551\n",
            "746   12.wav           7      Speech     0.895396    0.080629      0.019748      0.004228\n",
            "747   12.wav           8      Speech     0.878248    0.079066      0.037498      0.005188\n",
            "748   12.wav           9      Speech     0.885970    0.076570      0.033741      0.003718\n",
            "749   12.wav          10      Speech     0.858506    0.108333      0.028842      0.004320\n",
            "750   12.wav          11      Speech     0.777129    0.192547      0.023641      0.006684\n",
            "751   12.wav          12      Speech     0.890513    0.083688      0.021748      0.004050\n",
            "752   12.wav          13      Speech     0.907870    0.065869      0.022624      0.003637\n",
            "753   12.wav          14      Speech     0.887351    0.075847      0.032675      0.004127\n",
            "754   12.wav          15      Speech     0.868827    0.091715      0.034927      0.004531\n",
            "755   12.wav          16      Speech     0.857383    0.085225      0.053292      0.004100\n",
            "756   12.wav          17      Speech     0.869686    0.070623      0.056078      0.003612\n",
            "757   12.wav          18      Speech     0.885579    0.087300      0.023228      0.003894\n",
            "758   12.wav          19      Speech     0.876209    0.096147      0.022552      0.005092\n",
            "759   12.wav          20      Speech     0.859874    0.093300      0.039234      0.007593\n",
            "760   12.wav          21      Speech     0.831095    0.108945      0.052828      0.007133\n",
            "761   12.wav          24      Speech     0.899967    0.080233      0.014757      0.005043\n",
            "762   12.wav          25      Speech     0.842935    0.093036      0.058749      0.005280\n",
            "763   12.wav          26      Speech     0.843592    0.083919      0.068485      0.004004\n",
            "764   12.wav          27      Speech     0.870022    0.098961      0.024951      0.006066\n",
            "765   12.wav          28      Speech     0.886398    0.088109      0.020304      0.005188\n",
            "766   12.wav          29      Speech     0.878363    0.091226      0.025722      0.004689\n",
            "767   12.wav          30      Speech     0.893481    0.088335      0.014836      0.003348\n",
            "768   12.wav          31      Speech     0.870101    0.110498      0.015298      0.004102\n",
            "769   12.wav          32      Speech     0.856304    0.108427      0.029344      0.005925\n",
            "770   12.wav          33      Speech     0.852054    0.107641      0.034778      0.005527\n",
            "771   12.wav          34      Speech     0.884719    0.087904      0.023463      0.003914\n",
            "772   12.wav          35      Speech     0.871863    0.104515      0.017946      0.005676\n",
            "773   12.wav          36      Speech     0.877807    0.098385      0.018926      0.004882\n",
            "774   12.wav          37      Speech     0.885543    0.093264      0.016323      0.004870\n",
            "775   12.wav          38      Speech     0.885553    0.092744      0.016798      0.004905\n",
            "776   12.wav          39      Speech     0.868396    0.104221      0.020465      0.006918\n",
            "777   12.wav          40      Speech     0.864927    0.081210      0.049057      0.004807\n",
            "778   12.wav          41      Speech     0.843276    0.109076      0.043315      0.004333\n",
            "779   12.wav          42      Speech     0.835303    0.137915      0.021931      0.004851\n",
            "780   12.wav          43      Speech     0.875978    0.093606      0.025416      0.005000\n",
            "781   87.wav           3     Silence     0.105845    0.364866      0.070163      0.459126\n",
            "782   87.wav           6     Silence     0.104054    0.357278      0.068831      0.469838\n",
            "783   87.wav           9     Silence     0.103466    0.355213      0.068330      0.472991\n",
            "784   87.wav          12     Silence     0.105916    0.365140      0.070269      0.458676\n",
            "785   87.wav          18     Silence     0.104830    0.360753      0.069334      0.465083\n",
            "786   87.wav          21     Silence     0.104738    0.360289      0.069393      0.465580\n",
            "787   87.wav          24     Silence     0.102684    0.352113      0.067781      0.477423\n",
            "788   87.wav          27     Silence     0.105846    0.364870      0.070164      0.459121\n",
            "789   87.wav          30     Silence     0.104053    0.357277      0.068831      0.469838\n",
            "790   87.wav          33     Silence     0.103466    0.355215      0.068330      0.472988\n",
            "791   44.wav           6     Silence     0.108096    0.372544      0.071683      0.447678\n",
            "792   74.wav           0     Ringing     0.056698    0.118442      0.811971      0.012889\n",
            "793   74.wav           1     Ringing     0.051290    0.168782      0.762818      0.017110\n",
            "794   74.wav           2     Ringing     0.055968    0.096681      0.837724      0.009628\n",
            "795   74.wav           3     Ringing     0.053524    0.128426      0.806945      0.011105\n",
            "796   74.wav           4     Ringing     0.061776    0.168091      0.752741      0.017392\n",
            "797   74.wav           5     Ringing     0.058994    0.121515      0.807203      0.012289\n",
            "798   74.wav           6     Ringing     0.059652    0.194183      0.725640      0.020526\n",
            "799   74.wav           7     Ringing     0.047238    0.107224      0.834798      0.010740\n",
            "800   74.wav           8     Ringing     0.042370    0.114138      0.831385      0.012107\n",
            "801   74.wav           9     Ringing     0.060346    0.136945      0.788713      0.013996\n",
            "802   74.wav          10     Ringing     0.048124    0.105987      0.837157      0.008732\n",
            "803   74.wav          11     Ringing     0.064199    0.181521      0.737367      0.016913\n",
            "804   74.wav          12     Ringing     0.059221    0.120128      0.810396      0.010255\n",
            "805   74.wav          13     Ringing     0.047427    0.146877      0.792307      0.013390\n",
            "806   74.wav          14     Ringing     0.055780    0.137458      0.793058      0.013704\n",
            "807   74.wav          15     Ringing     0.045323    0.097318      0.846375      0.010985\n",
            "808   74.wav          17      Speech     0.825975    0.099075      0.067384      0.007566\n",
            "809   74.wav          18      Speech     0.887644    0.096479      0.012404      0.003473\n",
            "810   74.wav          19      Speech     0.850920    0.122635      0.020871      0.005574\n",
            "811   74.wav          20      Speech     0.842644    0.115223      0.035946      0.006187\n",
            "812   74.wav          21      Speech     0.867318    0.100952      0.027912      0.003817\n",
            "813   55.wav           0     Ringing     0.056698    0.118442      0.811971      0.012889\n",
            "814   55.wav           1     Ringing     0.051290    0.168782      0.762818      0.017110\n",
            "815   55.wav           2     Ringing     0.055968    0.096681      0.837724      0.009628\n",
            "816   55.wav           3     Ringing     0.053524    0.128426      0.806945      0.011105\n",
            "817   55.wav           4     Ringing     0.061776    0.168091      0.752741      0.017392\n",
            "818   55.wav           5     Ringing     0.058994    0.121515      0.807203      0.012289\n",
            "819   55.wav           6     Ringing     0.059652    0.194183      0.725640      0.020526\n",
            "820   55.wav           7     Ringing     0.047238    0.107224      0.834798      0.010740\n",
            "821   55.wav           8     Ringing     0.042370    0.114138      0.831385      0.012107\n",
            "822   55.wav           9     Ringing     0.060346    0.136945      0.788713      0.013996\n",
            "823   55.wav          10     Ringing     0.048124    0.105987      0.837157      0.008732\n",
            "824   55.wav          11     Ringing     0.064199    0.181521      0.737367      0.016913\n",
            "825   55.wav          12     Ringing     0.059221    0.120128      0.810396      0.010255\n",
            "826   55.wav          13     Ringing     0.047427    0.146877      0.792307      0.013390\n",
            "827   55.wav          14     Ringing     0.055780    0.137458      0.793058      0.013704\n",
            "828   55.wav          15     Ringing     0.044889    0.097006      0.847140      0.010965\n",
            "829   55.wav          16     Ringing     0.076933    0.122504      0.786963      0.013600\n",
            "830   55.wav          18      Speech     0.896312    0.085305      0.015052      0.003331\n",
            "831   55.wav          19      Speech     0.865715    0.105747      0.023174      0.005364\n",
            "832   55.wav          20      Speech     0.856220    0.100335      0.037325      0.006120\n",
            "833   55.wav          21      Speech     0.818417    0.147682      0.029255      0.004646\n",
            "834   55.wav          22      Speech     0.881135    0.095612      0.019289      0.003964\n",
            "835   55.wav          23      Speech     0.883522    0.093488      0.018023      0.004967\n",
            "836   55.wav          24      Speech     0.879688    0.097487      0.018702      0.004123\n",
            "837   55.wav          25      Speech     0.806011    0.173099      0.017532      0.003357\n",
            "838   55.wav          26      Speech     0.879814    0.103928      0.012932      0.003326\n",
            "839   55.wav          27      Speech     0.876815    0.098411      0.019507      0.005267\n",
            "840   55.wav          28      Speech     0.842620    0.076428      0.076764      0.004188\n",
            "841   55.wav          29      Speech     0.848438    0.103883      0.043812      0.003868\n",
            "842   55.wav          30      Speech     0.848863    0.127305      0.019623      0.004210\n",
            "843   55.wav          31      Speech     0.884424    0.086237      0.025741      0.003599\n",
            "844   55.wav          32      Speech     0.894241    0.078501      0.024105      0.003154\n",
            "845   55.wav          33      Speech     0.908139    0.070035      0.018919      0.002906\n",
            "846   55.wav          34      Speech     0.906282    0.062444      0.028208      0.003066\n",
            "847   55.wav          35      Speech     0.883120    0.092852      0.020430      0.003597\n",
            "848   55.wav          36      Speech     0.858797    0.095501      0.041541      0.004161\n",
            "849   55.wav          37      Speech     0.893433    0.074826      0.028479      0.003262\n",
            "850   55.wav          38      Speech     0.896018    0.079479      0.020670      0.003833\n",
            "851   55.wav          39      Speech     0.892549    0.072763      0.030851      0.003838\n",
            "852   55.wav          40      Speech     0.825391    0.101341      0.066150      0.007118\n",
            "853   96.wav           2      Speech     0.888731    0.088166      0.020145      0.002957\n",
            "854   96.wav           3      Speech     0.877707    0.095804      0.022738      0.003751\n",
            "855   96.wav           4      Speech     0.893377    0.082914      0.020234      0.003476\n",
            "856   96.wav           5      Speech     0.893902    0.082066      0.020672      0.003360\n",
            "857   96.wav           6      Speech     0.848776    0.120444      0.027470      0.003310\n",
            "858   96.wav           7      Speech     0.887237    0.089474      0.019974      0.003315\n",
            "859   96.wav           8      Speech     0.892509    0.082295      0.021159      0.004038\n",
            "860   96.wav           9      Speech     0.874197    0.081334      0.040231      0.004239\n",
            "861    2.wav           0     Ringing     0.056698    0.118442      0.811971      0.012889\n",
            "862    2.wav           1     Ringing     0.051290    0.168782      0.762818      0.017110\n",
            "863    2.wav           2     Ringing     0.055968    0.096681      0.837724      0.009628\n",
            "864    2.wav           3     Ringing     0.053524    0.128426      0.806945      0.011105\n",
            "865    2.wav           4     Ringing     0.061776    0.168091      0.752741      0.017392\n",
            "866    2.wav           5     Ringing     0.058994    0.121515      0.807203      0.012289\n",
            "867    2.wav           6     Ringing     0.059652    0.194183      0.725640      0.020526\n",
            "868    2.wav           7     Ringing     0.047238    0.107224      0.834798      0.010740\n",
            "869    2.wav           8     Ringing     0.042370    0.114138      0.831385      0.012107\n",
            "870    2.wav           9     Ringing     0.060346    0.136945      0.788713      0.013996\n",
            "871    2.wav          10     Ringing     0.048124    0.105987      0.837157      0.008732\n",
            "872    2.wav          11     Ringing     0.064199    0.181521      0.737367      0.016913\n",
            "873    2.wav          12     Ringing     0.059221    0.120128      0.810396      0.010255\n",
            "874    2.wav          13     Ringing     0.047427    0.146877      0.792307      0.013390\n",
            "875    2.wav          14     Ringing     0.055780    0.137458      0.793058      0.013704\n",
            "876    2.wav          15     Ringing     0.045299    0.097279      0.846572      0.010850\n",
            "877    2.wav          17      Speech     0.913495    0.070604      0.012457      0.003445\n",
            "878    2.wav          18      Speech     0.868557    0.115510      0.012370      0.003563\n",
            "879    2.wav          19      Speech     0.844485    0.124348      0.025178      0.005989\n",
            "880    2.wav          20      Speech     0.845428    0.108467      0.039744      0.006361\n",
            "881    2.wav          21      Speech     0.878814    0.090006      0.027274      0.003905\n",
            "882    2.wav          22      Speech     0.855467    0.119390      0.019111      0.006032\n",
            "883    2.wav          23      Speech     0.875888    0.100861      0.018515      0.004736\n",
            "884    2.wav          24      Speech     0.883770    0.096272      0.015970      0.003988\n",
            "885    2.wav          25      Speech     0.876964    0.103172      0.015797      0.004067\n",
            "886    2.wav          26      Speech     0.866400    0.107505      0.019391      0.006704\n",
            "887    2.wav          27      Speech     0.860849    0.088011      0.045789      0.005351\n",
            "888    2.wav          28      Speech     0.832917    0.090129      0.072828      0.004126\n",
            "889    2.wav          29      Speech     0.836791    0.135066      0.023285      0.004858\n",
            "890    2.wav          30      Speech     0.872274    0.100242      0.023611      0.003872\n",
            "891    2.wav          31      Speech     0.894893    0.074792      0.026981      0.003334\n",
            "892    2.wav          32      Speech     0.899921    0.075793      0.021208      0.003078\n",
            "893    2.wav          33      Speech     0.914494    0.062436      0.020329      0.002741\n",
            "894    2.wav          34      Speech     0.895436    0.082281      0.018707      0.003576\n",
            "895    2.wav          35      Speech     0.886065    0.087277      0.022573      0.004085\n",
            "896    2.wav          36      Speech     0.884285    0.080032      0.031832      0.003850\n",
            "897    2.wav          37      Speech     0.900581    0.077106      0.019106      0.003207\n",
            "898   18.wav           0     Ringing     0.039443    0.088122      0.868705      0.003731\n",
            "899   18.wav           1     Ringing     0.033548    0.149828      0.809923      0.006700\n",
            "900   18.wav           2     Ringing     0.036235    0.095239      0.863768      0.004758\n",
            "901   18.wav           3     Ringing     0.036310    0.092631      0.865402      0.005658\n",
            "902   18.wav           4     Ringing     0.039162    0.142775      0.809054      0.009008\n",
            "903   18.wav           5     Ringing     0.031385    0.076805      0.888853      0.002956\n",
            "904   18.wav           6     Ringing     0.035764    0.186897      0.768332      0.009007\n",
            "905   18.wav           7     Ringing     0.026438    0.088461      0.881811      0.003290\n",
            "906   18.wav          10     Ringing     0.030230    0.092553      0.871428      0.005788\n",
            "907   82.wav           7     Silence     0.109644    0.377461      0.072807      0.440087\n",
            "908   82.wav          10     Silence     0.110171    0.375473      0.073539      0.440817\n",
            "909   82.wav          16     Silence     0.109325    0.374836      0.074193      0.441646\n",
            "910   82.wav          22     Silence     0.109993    0.378750      0.073146      0.438111\n",
            "911   82.wav          23     Silence     0.085245    0.439862      0.292040      0.182853\n",
            "912   82.wav          25     Silence     0.109912    0.373487      0.074414      0.442186\n",
            "913   82.wav          31     Silence     0.109644    0.377460      0.072807      0.440088\n",
            "914   82.wav          34     Silence     0.110170    0.375470      0.073538      0.440821\n",
            "915   23.wav           0      Speech     0.815674    0.088123      0.086685      0.009518\n",
            "916   23.wav           1      Speech     0.892756    0.075926      0.025369      0.005949\n",
            "917   23.wav           2      Speech     0.849041    0.083519      0.061574      0.005867\n",
            "918   23.wav           3      Speech     0.860159    0.098849      0.032582      0.008411\n",
            "919   23.wav           4      Speech     0.885554    0.083976      0.025550      0.004921\n",
            "920   23.wav           5      Speech     0.885146    0.080820      0.030552      0.003482\n",
            "921   23.wav           6      Speech     0.891774    0.076964      0.026219      0.005043\n",
            "922   23.wav           7      Speech     0.903492    0.069947      0.022413      0.004149\n",
            "923   23.wav           8      Speech     0.884984    0.091159      0.019414      0.004442\n",
            "924   23.wav           9      Speech     0.892821    0.078661      0.023168      0.005350\n",
            "925   23.wav          10      Speech     0.889359    0.078632      0.026453      0.005557\n",
            "926   23.wav          11      Speech     0.911792    0.063279      0.021444      0.003484\n",
            "927   23.wav          12      Speech     0.908109    0.065060      0.022383      0.004448\n",
            "928    9.wav           0      Speech     0.921587    0.063442      0.012188      0.002782\n",
            "929    9.wav           1      Speech     0.884353    0.090608      0.021076      0.003964\n",
            "930    9.wav           2      Speech     0.854378    0.082186      0.058459      0.004978\n",
            "931    9.wav           3      Speech     0.879339    0.089165      0.026906      0.004589\n",
            "932    9.wav           4      Speech     0.870350    0.100233      0.022513      0.006904\n",
            "933    9.wav           5      Speech     0.891428    0.084524      0.019646      0.004402\n",
            "934    9.wav           6      Speech     0.882449    0.086420      0.027580      0.003551\n",
            "935    9.wav           7      Speech     0.895396    0.080629      0.019748      0.004228\n",
            "936    9.wav           8      Speech     0.878248    0.079066      0.037498      0.005188\n",
            "937    9.wav           9      Speech     0.885970    0.076570      0.033741      0.003718\n",
            "938    9.wav          10      Speech     0.858506    0.108333      0.028842      0.004320\n",
            "939    9.wav          11      Speech     0.777129    0.192547      0.023641      0.006684\n",
            "940    9.wav          12      Speech     0.890513    0.083688      0.021748      0.004050\n",
            "941    9.wav          13      Speech     0.907795    0.065847      0.022723      0.003635\n",
            "942    9.wav          14      Speech     0.902680    0.070705      0.023100      0.003515\n",
            "943   31.wav           0       Music     0.113340    0.863765      0.017927      0.004968\n",
            "944   31.wav           1       Music     0.070417    0.918367      0.008152      0.003063\n",
            "945   31.wav           2       Music     0.212316    0.776202      0.007288      0.004193\n",
            "946   31.wav           3       Music     0.259909    0.718128      0.015947      0.006016\n",
            "947   31.wav           6       Music     0.141085    0.839858      0.013181      0.005876\n",
            "948   31.wav           7       Music     0.060560    0.928151      0.006846      0.004443\n",
            "949   31.wav          10       Music     0.144469    0.837933      0.011088      0.006510\n",
            "950   31.wav          11       Music     0.027254    0.958964      0.007653      0.006129\n",
            "951   31.wav          12       Music     0.066751    0.914073      0.011704      0.007472\n",
            "952   31.wav          13       Music     0.275826    0.688652      0.025406      0.010117\n",
            "953   31.wav          14       Music     0.048107    0.941394      0.008088      0.002411\n",
            "954   31.wav          15       Music     0.030020    0.959011      0.007559      0.003410\n",
            "955   31.wav          16       Music     0.080379    0.900322      0.010631      0.008668\n",
            "956   31.wav          17       Music     0.064953    0.924660      0.006603      0.003784\n",
            "957   31.wav          18       Music     0.040832    0.948392      0.007576      0.003201\n",
            "958   31.wav          19       Music     0.055599    0.930848      0.007965      0.005588\n",
            "959   31.wav          20       Music     0.086688    0.900106      0.007440      0.005767\n",
            "960   31.wav          21       Music     0.086211    0.891492      0.013331      0.008966\n",
            "961   31.wav          22       Music     0.030737    0.956297      0.009248      0.003718\n",
            "962   31.wav          23       Music     0.030781    0.953541      0.011511      0.004168\n",
            "963   31.wav          24       Music     0.029255    0.958200      0.009294      0.003251\n",
            "964   31.wav          25       Music     0.034941    0.952532      0.008920      0.003607\n",
            "965   31.wav          26       Music     0.030189    0.958032      0.008282      0.003497\n",
            "966   31.wav          27       Music     0.027817    0.954587      0.008473      0.009123\n",
            "967   31.wav          28       Music     0.060822    0.920584      0.011476      0.007118\n",
            "968   31.wav          30      Speech     0.885934    0.082845      0.027544      0.003678\n",
            "969   31.wav          31      Speech     0.875167    0.086205      0.033736      0.004893\n",
            "970   56.wav           0     Ringing     0.056698    0.118442      0.811971      0.012889\n",
            "971   56.wav           1     Ringing     0.051290    0.168782      0.762818      0.017110\n",
            "972   56.wav           2     Ringing     0.055968    0.096681      0.837724      0.009628\n",
            "973   56.wav           3     Ringing     0.053524    0.128426      0.806945      0.011105\n",
            "974   56.wav           4     Ringing     0.061776    0.168091      0.752741      0.017392\n",
            "975   56.wav           5     Ringing     0.058994    0.121515      0.807203      0.012289\n",
            "976   56.wav           6     Ringing     0.059652    0.194183      0.725640      0.020526\n",
            "977   56.wav           7     Ringing     0.047238    0.107224      0.834798      0.010740\n",
            "978   56.wav           8     Ringing     0.042370    0.114138      0.831385      0.012107\n",
            "979   56.wav           9     Ringing     0.060347    0.136945      0.788713      0.013996\n",
            "980   56.wav          10     Ringing     0.048124    0.105987      0.837157      0.008732\n",
            "981   56.wav          11     Ringing     0.064199    0.181521      0.737367      0.016913\n",
            "982   56.wav          12     Ringing     0.059221    0.120128      0.810396      0.010255\n",
            "983   56.wav          13     Ringing     0.047427    0.146877      0.792307      0.013390\n",
            "984   56.wav          14     Ringing     0.055780    0.137458      0.793058      0.013704\n",
            "985   56.wav          15     Ringing     0.044995    0.097202      0.846822      0.010981\n",
            "986   56.wav          17      Speech     0.592608    0.063170      0.341232      0.002990\n",
            "987   56.wav          18      Speech     0.908018    0.077894      0.011514      0.002574\n",
            "988   35.wav           0      Speech     0.921023    0.061851      0.013411      0.003715\n",
            "989   35.wav           1      Speech     0.867968    0.102986      0.023127      0.005918\n",
            "990   35.wav           2      Speech     0.877587    0.087406      0.027881      0.007126\n",
            "991   35.wav           3      Speech     0.896137    0.071320      0.026945      0.005599\n",
            "992   35.wav           4      Speech     0.880789    0.086622      0.024118      0.008471\n",
            "993   35.wav           5      Speech     0.903164    0.077360      0.014431      0.005046\n",
            "994   35.wav           6      Speech     0.827355    0.151343      0.017814      0.003487\n",
            "995   35.wav           7      Speech     0.820730    0.156639      0.018491      0.004140\n",
            "996   35.wav           8      Speech     0.884989    0.090977      0.019074      0.004960\n",
            "997   35.wav           9      Speech     0.900159    0.082821      0.013418      0.003602\n",
            "998   35.wav          10      Speech     0.909404    0.072978      0.014401      0.003218\n",
            "999   35.wav          11      Speech     0.870147    0.086440      0.034672      0.008742\n",
            "1000  35.wav          12      Speech     0.917924    0.064827      0.013683      0.003566\n",
            "1001  35.wav          13      Speech     0.849810    0.123694      0.020629      0.005868\n",
            "1002  35.wav          14      Speech     0.867296    0.105749      0.020931      0.006023\n",
            "1003  35.wav          15      Speech     0.881433    0.092123      0.021472      0.004973\n",
            "1004  86.wav           3     Silence     0.105845    0.364866      0.070163      0.459126\n",
            "1005  86.wav           6     Silence     0.104054    0.357278      0.068831      0.469838\n",
            "1006  86.wav           9     Silence     0.103466    0.355213      0.068330      0.472991\n",
            "1007  86.wav          12     Silence     0.105916    0.365140      0.070269      0.458676\n",
            "1008  86.wav          18     Silence     0.104830    0.360753      0.069334      0.465083\n",
            "1009  86.wav          21     Silence     0.104738    0.360289      0.069393      0.465580\n",
            "1010  86.wav          24     Silence     0.102684    0.352113      0.067781      0.477423\n",
            "1011  86.wav          27     Silence     0.105846    0.364870      0.070164      0.459121\n",
            "1012  86.wav          30     Silence     0.104053    0.357277      0.068831      0.469838\n",
            "1013  86.wav          33     Silence     0.103466    0.355215      0.068330      0.472988\n",
            "1014  41.wav           0       Music     0.044878    0.926065      0.017800      0.011256\n",
            "1015  41.wav           1       Music     0.050994    0.937043      0.007402      0.004561\n",
            "1016  41.wav           2       Music     0.079869    0.906479      0.008725      0.004926\n",
            "1017  41.wav           3       Music     0.035221    0.953631      0.007797      0.003351\n",
            "1018  41.wav           4       Music     0.026840    0.965456      0.005446      0.002258\n",
            "1019  41.wav           5       Music     0.032465    0.949770      0.009594      0.008171\n",
            "1020  41.wav           6       Music     0.048022    0.934430      0.008189      0.009358\n",
            "1021  41.wav           7       Music     0.032421    0.954392      0.006474      0.006713\n",
            "1022  41.wav           8       Music     0.023079    0.963265      0.006870      0.006786\n",
            "1023  41.wav           9       Music     0.029009    0.956206      0.007435      0.007351\n",
            "1024  41.wav          10       Music     0.029829    0.961130      0.005672      0.003369\n",
            "1025  41.wav          11       Music     0.027300    0.962700      0.006740      0.003259\n",
            "1026  41.wav          12       Music     0.035218    0.952006      0.008790      0.003986\n",
            "1027  41.wav          13       Music     0.021925    0.966052      0.009404      0.002620\n",
            "1028  41.wav          14       Music     0.039093    0.951312      0.006213      0.003383\n",
            "1029  41.wav          15       Music     0.061539    0.919840      0.009148      0.009473\n",
            "1030  41.wav          16       Music     0.053804    0.921908      0.010263      0.014025\n",
            "1031  41.wav          17       Music     0.039315    0.948049      0.007197      0.005440\n",
            "1032  41.wav          18       Music     0.030526    0.945728      0.009651      0.014094\n",
            "1033  41.wav          19       Music     0.024510    0.946647      0.017989      0.010855\n",
            "1034  41.wav          20       Music     0.024252    0.953719      0.014342      0.007687\n",
            "1035  41.wav          21       Music     0.015936    0.972975      0.008282      0.002807\n",
            "1036  41.wav          22       Music     0.017625    0.957561      0.013686      0.011127\n",
            "1037  41.wav          23       Music     0.020395    0.960179      0.011890      0.007536\n",
            "1038  41.wav          24       Music     0.028484    0.926214      0.024979      0.020323\n",
            "1039  41.wav          25       Music     0.024570    0.931162      0.028497      0.015771\n",
            "1040  41.wav          26       Music     0.022168    0.924954      0.030963      0.021914\n",
            "1041  41.wav          27       Music     0.023877    0.952270      0.016152      0.007701\n",
            "1042  41.wav          28       Music     0.021572    0.943883      0.016947      0.017598\n",
            "1043  41.wav          29       Music     0.019665    0.947344      0.017316      0.015674\n",
            "1044  41.wav          31      Speech     0.860400    0.105335      0.027295      0.006971\n",
            "1045  41.wav          32      Speech     0.886787    0.091151      0.017198      0.004864\n",
            "1046  41.wav          33      Speech     0.877612    0.091019      0.026327      0.005043\n",
            "1047  49.wav           6     Silence     0.108774    0.374517      0.072250      0.444459\n",
            "1048  49.wav           9     Silence     0.108833    0.374202      0.072715      0.444250\n",
            "1049  49.wav          15     Silence     0.108338    0.373330      0.071778      0.446554\n",
            "1050  49.wav          21     Silence     0.108973    0.375238      0.072486      0.443302\n",
            "1051  49.wav          24     Silence     0.108596    0.371875      0.072714      0.446815\n",
            "1052  49.wav          28       Music     0.127647    0.418856      0.334401      0.119097\n",
            "1053  53.wav           0     Ringing     0.056698    0.118442      0.811971      0.012889\n",
            "1054  53.wav           1     Ringing     0.051290    0.168782      0.762818      0.017110\n",
            "1055  53.wav           2     Ringing     0.055968    0.096681      0.837724      0.009628\n",
            "1056  53.wav           3     Ringing     0.053373    0.127395      0.808233      0.010999\n",
            "1057  53.wav           5      Speech     0.909510    0.067147      0.016233      0.007110\n",
            "1058  53.wav           6      Speech     0.888208    0.086360      0.020185      0.005247\n",
            "1059  53.wav           7      Speech     0.768241    0.102520      0.123850      0.005390\n",
            "1060  53.wav           8      Speech     0.854885    0.095600      0.044200      0.005315\n",
            "1061  53.wav           9      Speech     0.895320    0.085095      0.014978      0.004607\n",
            "1062  53.wav          10      Speech     0.896244    0.078749      0.020176      0.004832\n",
            "1063  53.wav          11      Speech     0.875734    0.089594      0.027897      0.006775\n",
            "1064  53.wav          12      Speech     0.893747    0.069427      0.033470      0.003356\n",
            "1065  53.wav          13      Speech     0.862772    0.095709      0.036499      0.005020\n",
            "1066  53.wav          14      Speech     0.881637    0.096035      0.018099      0.004229\n",
            "1067  53.wav          15      Speech     0.896201    0.080684      0.018927      0.004187\n",
            "1068  53.wav          16      Speech     0.874535    0.090307      0.031547      0.003610\n",
            "1069  53.wav          17      Speech     0.884816    0.080114      0.031005      0.004065\n",
            "1070  53.wav          18      Speech     0.845567    0.101243      0.045459      0.007732\n",
            "1071  30.wav           0       Music     0.236093    0.444323      0.159787      0.159797\n",
            "1072  30.wav           4     Silence     0.106597    0.366813      0.070686      0.455904\n",
            "1073  30.wav          10     Silence     0.107509    0.371245      0.071461      0.449784\n",
            "1074  30.wav          16     Silence     0.105672    0.364189      0.070035      0.460104\n",
            "1075  30.wav          19     Silence     0.106869    0.368375      0.070969      0.453788\n",
            "1076  39.wav           0      Speech     0.900977    0.073997      0.018452      0.006574\n",
            "1077  39.wav           1      Speech     0.887517    0.076818      0.030730      0.004935\n",
            "1078  39.wav           2      Speech     0.853090    0.090842      0.049721      0.006347\n",
            "1079  39.wav           3      Speech     0.872785    0.093862      0.026298      0.007055\n",
            "1080  39.wav           4      Speech     0.859182    0.086550      0.049772      0.004496\n",
            "1081  39.wav           5      Speech     0.863581    0.084642      0.048711      0.003065\n",
            "1082  28.wav           0     Ringing     0.056698    0.118442      0.811971      0.012889\n",
            "1083  28.wav           1     Ringing     0.051290    0.168782      0.762818      0.017110\n",
            "1084  28.wav           2     Ringing     0.055968    0.096681      0.837724      0.009628\n",
            "1085  28.wav           3     Ringing     0.053524    0.128426      0.806945      0.011105\n",
            "1086  28.wav           4     Ringing     0.061776    0.168091      0.752741      0.017392\n",
            "1087  28.wav           5     Ringing     0.058994    0.121515      0.807203      0.012289\n",
            "1088  28.wav           6     Ringing     0.059652    0.194183      0.725640      0.020526\n",
            "1089  28.wav           7     Ringing     0.047238    0.107224      0.834798      0.010740\n",
            "1090  28.wav           8     Ringing     0.042370    0.114138      0.831385      0.012107\n",
            "1091  28.wav           9     Ringing     0.060347    0.136945      0.788713      0.013996\n",
            "1092  28.wav          10     Ringing     0.048124    0.105987      0.837157      0.008732\n",
            "1093  28.wav          11     Ringing     0.064199    0.181521      0.737367      0.016913\n",
            "1094  28.wav          12     Ringing     0.059221    0.120128      0.810396      0.010255\n",
            "1095  28.wav          13     Ringing     0.047427    0.146877      0.792307      0.013390\n",
            "1096  28.wav          14     Ringing     0.055780    0.137458      0.793058      0.013704\n",
            "1097  28.wav          15     Ringing     0.046107    0.096236      0.846788      0.010869\n",
            "1098   5.wav           0       Music     0.198157    0.639925      0.117400      0.044517\n",
            "1099   5.wav           2       Music     0.136372    0.851518      0.009353      0.002757\n",
            "1100  17.wav           0     Ringing     0.039443    0.088122      0.868705      0.003731\n",
            "1101  17.wav           1     Ringing     0.033548    0.149828      0.809923      0.006700\n",
            "1102  17.wav           2     Ringing     0.036235    0.095239      0.863768      0.004758\n",
            "1103  17.wav           3     Ringing     0.036310    0.092631      0.865402      0.005658\n",
            "1104  17.wav           4     Ringing     0.039162    0.142775      0.809054      0.009008\n",
            "1105  17.wav           5     Ringing     0.031385    0.076805      0.888853      0.002956\n",
            "1106  17.wav           6     Ringing     0.035764    0.186897      0.768332      0.009007\n",
            "1107  17.wav           7     Ringing     0.026438    0.088461      0.881811      0.003290\n",
            "1108  17.wav          10     Ringing     0.030230    0.092553      0.871428      0.005788\n",
            "1109  89.wav           0     Ringing     0.056698    0.118442      0.811971      0.012889\n",
            "1110  89.wav           1     Ringing     0.051319    0.168794      0.762787      0.017100\n",
            "1111  89.wav           3      Speech     0.809200    0.104354      0.075651      0.010796\n",
            "1112  89.wav           4      Speech     0.891505    0.085933      0.017325      0.005237\n",
            "1113  89.wav           5      Speech     0.801205    0.116563      0.078238      0.003994\n",
            "1114  89.wav           6      Speech     0.822100    0.102131      0.072096      0.003673\n",
            "1115  90.wav           0       Music     0.167559    0.808392      0.015235      0.008814\n",
            "1116  90.wav           1       Music     0.109769    0.872861      0.011959      0.005411\n",
            "1117  90.wav           2       Music     0.076918    0.909169      0.010051      0.003862\n",
            "1118  90.wav           3       Music     0.080607    0.907450      0.008036      0.003908\n",
            "1119  90.wav           4       Music     0.048883    0.941557      0.006378      0.003182\n",
            "1120  90.wav           5       Music     0.028128    0.957651      0.008419      0.005801\n",
            "1121  90.wav           6       Music     0.123537    0.861778      0.010290      0.004395\n",
            "1122  90.wav           7       Music     0.057958    0.930520      0.007463      0.004059\n",
            "1123  90.wav           8       Music     0.045185    0.940639      0.009686      0.004490\n",
            "1124  90.wav           9       Music     0.034823    0.949477      0.012062      0.003638\n",
            "1125  90.wav          10       Music     0.029562    0.955013      0.010173      0.005253\n",
            "1126  90.wav          11       Music     0.043312    0.945572      0.007567      0.003550\n",
            "1127  90.wav          12       Music     0.037804    0.950493      0.007844      0.003860\n",
            "1128  90.wav          13       Music     0.033950    0.952170      0.009911      0.003969\n",
            "1129  90.wav          14       Music     0.040727    0.942698      0.011548      0.005026\n",
            "1130  90.wav          15       Music     0.028873    0.955737      0.009672      0.005718\n",
            "1131  90.wav          16       Music     0.033584    0.954197      0.008359      0.003859\n",
            "1132  90.wav          17       Music     0.033733    0.950399      0.009003      0.006864\n",
            "1133  90.wav          18       Music     0.039282    0.944530      0.009087      0.007101\n",
            "1134  63.wav           2       Music     0.196493    0.637282      0.115917      0.050308\n",
            "1135  63.wav           4      Speech     0.893553    0.079305      0.020416      0.006726\n",
            "1136  63.wav           5      Speech     0.844110    0.121729      0.028178      0.005983\n",
            "1137  63.wav           6      Speech     0.879190    0.089471      0.026144      0.005195\n",
            "1138  63.wav           7      Speech     0.908272    0.067532      0.019213      0.004983\n",
            "1139  63.wav           8      Speech     0.894411    0.074140      0.025235      0.006214\n",
            "1140  63.wav           9      Speech     0.764940    0.181408      0.042067      0.011585\n",
            "1141  63.wav          10      Speech     0.881406    0.090070      0.023194      0.005330\n",
            "1142  63.wav          11      Speech     0.863327    0.098616      0.030601      0.007456\n",
            "1143  63.wav          12      Speech     0.897045    0.072299      0.024006      0.006650\n",
            "1144  63.wav          13      Speech     0.906176    0.065686      0.023153      0.004984\n",
            "1145  63.wav          14      Speech     0.909265    0.066338      0.019957      0.004441\n",
            "1146  63.wav          15      Speech     0.897730    0.081910      0.016527      0.003832\n",
            "1147  63.wav          16      Speech     0.882158    0.085470      0.027933      0.004439\n",
            "1148  63.wav          17      Speech     0.873007    0.087688      0.032572      0.006733\n",
            "1149  63.wav          18      Speech     0.904991    0.066221      0.024069      0.004719\n",
            "1150  79.wav           0      Speech     0.884836    0.085749      0.020379      0.009036\n",
            "1151  79.wav           1      Speech     0.876306    0.074210      0.044406      0.005078\n",
            "1152  79.wav           2      Speech     0.845192    0.085220      0.063385      0.006202\n",
            "1153  79.wav           3      Speech     0.868740    0.093550      0.030298      0.007411\n",
            "1154  79.wav           4      Speech     0.890671    0.077256      0.028245      0.003828\n",
            "1155  79.wav           5      Speech     0.897993    0.070454      0.028563      0.002991\n",
            "1156  79.wav           6      Speech     0.888810    0.083901      0.021093      0.006197\n",
            "1157  79.wav           7      Speech     0.903371    0.068903      0.023767      0.003958\n",
            "1158  79.wav           8      Speech     0.873320    0.085147      0.037496      0.004036\n",
            "1159  79.wav           9      Speech     0.657577    0.078804      0.260552      0.003068\n",
            "1160  79.wav          10      Speech     0.782427    0.067503      0.147211      0.002859\n",
            "1161  79.wav          11      Speech     0.908101    0.063060      0.024737      0.004102\n",
            "1162  76.wav           1       Music     0.243702    0.744118      0.009168      0.003011\n",
            "1163  76.wav           2       Music     0.147716    0.838194      0.010450      0.003640\n",
            "1164  76.wav           6      Speech     0.870389    0.097031      0.026598      0.005983\n",
            "1165  76.wav           7      Speech     0.846754    0.114200      0.033117      0.005930\n",
            "1166  33.wav           0     Ringing     0.039443    0.088122      0.868705      0.003731\n",
            "1167  33.wav           1     Ringing     0.033548    0.149828      0.809923      0.006700\n",
            "1168  33.wav           2     Ringing     0.036235    0.095239      0.863768      0.004758\n",
            "1169  33.wav           3     Ringing     0.036310    0.092631      0.865402      0.005658\n",
            "1170  33.wav           4     Ringing     0.039162    0.142775      0.809054      0.009008\n",
            "1171  33.wav           5     Ringing     0.031385    0.076805      0.888853      0.002956\n",
            "1172  33.wav           6     Ringing     0.035764    0.186897      0.768332      0.009007\n",
            "1173  33.wav           7     Ringing     0.026438    0.088461      0.881811      0.003290\n",
            "1174  33.wav          10     Ringing     0.030243    0.092998      0.870889      0.005870\n",
            "1175  33.wav          11     Ringing     0.040094    0.113263      0.836820      0.009822\n",
            "1176  33.wav          12     Ringing     0.035885    0.101962      0.858362      0.003791\n",
            "1177  33.wav          13     Ringing     0.030891    0.167305      0.796098      0.005706\n",
            "1178  33.wav          14     Ringing     0.029876    0.089042      0.877042      0.004040\n",
            "1179  33.wav          15     Ringing     0.029504    0.056358      0.912083      0.002055\n",
            "1180  19.wav           1      Speech     0.895264    0.073379      0.025747      0.005609\n",
            "1181  19.wav           2      Speech     0.865547    0.091267      0.037384      0.005802\n",
            "1182  19.wav           3      Speech     0.862673    0.096115      0.033268      0.007945\n",
            "1183  19.wav           4      Speech     0.883472    0.087061      0.023655      0.005812\n",
            "1184  19.wav           5      Speech     0.882180    0.080494      0.033877      0.003449\n",
            "1185  19.wav           6      Speech     0.892717    0.079059      0.024320      0.003904\n",
            "1186  19.wav           7      Speech     0.900141    0.070260      0.025116      0.004484\n",
            "1187  19.wav           8      Speech     0.889637    0.086434      0.019530      0.004400\n",
            "1188  19.wav           9      Speech     0.894410    0.080374      0.019982      0.005233\n",
            "1189  19.wav          10      Speech     0.880850    0.085734      0.027296      0.006120\n",
            "1190  19.wav          11      Speech     0.909162    0.066547      0.020582      0.003709\n",
            "1191  66.wav           1     Silence     0.092844    0.291855      0.057224      0.558077\n",
            "1192  66.wav           2     Silence     0.092482    0.289363      0.057039      0.561116\n",
            "1193  66.wav           3     Silence     0.093107    0.293600      0.057344      0.555949\n",
            "1194  66.wav           4     Silence     0.097917    0.326675      0.062815      0.512593\n",
            "1195  66.wav           5     Silence     0.121591    0.423438      0.081314      0.373657\n",
            "1196  66.wav           6     Silence     0.129099    0.451160      0.086654      0.333087\n",
            "1197  66.wav           7     Silence     0.127142    0.444662      0.085348      0.342848\n",
            "1198  66.wav           8     Silence     0.125297    0.438399      0.084111      0.352194\n",
            "1199  66.wav           9     Silence     0.124309    0.435016      0.083431      0.357244\n",
            "1200  66.wav          10     Silence     0.124409    0.435358      0.083501      0.356732\n",
            "1201  66.wav          11     Silence     0.127496    0.445862      0.085586      0.341056\n",
            "1202  66.wav          12     Silence     0.131660    0.459614      0.088349      0.320377\n",
            "1203  66.wav          13     Silence     0.132145    0.461271      0.088657      0.317927\n",
            "1204  66.wav          14     Silence     0.129086    0.451116      0.086645      0.333152\n",
            "1205  66.wav          15     Silence     0.127142    0.444664      0.085349      0.342845\n",
            "1206  66.wav          16     Silence     0.125297    0.438401      0.084111      0.352192\n",
            "1207  66.wav          17     Silence     0.124309    0.435015      0.083431      0.357245\n",
            "1208  66.wav          18     Silence     0.124408    0.435355      0.083501      0.356735\n",
            "1209  66.wav          19     Silence     0.127495    0.445860      0.085586      0.341059\n",
            "1210  66.wav          20     Silence     0.131659    0.459609      0.088348      0.320384\n",
            "1211  66.wav          21     Silence     0.132643    0.462891      0.088991      0.315475\n",
            "1212  47.wav           3     Silence     0.108978    0.371387      0.072354      0.447282\n",
            "1213  29.wav           0       Music     0.236093    0.444323      0.159787      0.159797\n",
            "1214  29.wav           4     Silence     0.106597    0.366813      0.070686      0.455904\n",
            "1215  29.wav          10     Silence     0.107509    0.371245      0.071461      0.449784\n",
            "1216  29.wav          16     Silence     0.105672    0.364189      0.070035      0.460104\n",
            "1217  29.wav          19     Silence     0.106869    0.368375      0.070969      0.453788\n",
            "1218  73.wav           1     Silence     0.092844    0.291855      0.057224      0.558077\n",
            "1219  73.wav           2     Silence     0.092485    0.289374      0.057039      0.561102\n",
            "1220  73.wav           3     Silence     0.093196    0.294330      0.057426      0.555048\n",
            "1221  73.wav           4     Silence     0.098534    0.330145      0.063460      0.507861\n",
            "1222  73.wav           5     Silence     0.123618    0.430525      0.082654      0.363203\n",
            "1223  73.wav           6     Silence     0.133358    0.465375      0.089430      0.311836\n",
            "1224  73.wav           7     Silence     0.130084    0.454357      0.087310      0.328250\n",
            "1225  73.wav           8     Silence     0.128252    0.448402      0.086092      0.337254\n",
            "1226  73.wav           9     Silence     0.126215    0.441526      0.084730      0.347529\n",
            "1227  73.wav          10     Silence     0.125217    0.438139      0.084059      0.352585\n",
            "1228  73.wav          11     Silence     0.125447    0.438920      0.084214      0.351419\n",
            "1229  73.wav          12     Silence     0.128885    0.450451      0.086514      0.334149\n",
            "1230  73.wav          13     Silence     0.132979    0.464091      0.089192      0.313738\n",
            "1231  73.wav          14     Silence     0.133305    0.465194      0.089397      0.312104\n",
            "1232  73.wav          15     Silence     0.130084    0.454359      0.087310      0.328247\n",
            "1233  73.wav          16     Silence     0.128252    0.448401      0.086091      0.337256\n",
            "1234  73.wav          17     Silence     0.126215    0.441525      0.084730      0.347529\n",
            "1235  73.wav          18     Silence     0.125217    0.438138      0.084059      0.352586\n",
            "1236  67.wav           1     Silence     0.092844    0.291855      0.057224      0.558077\n",
            "1237  67.wav           2     Silence     0.092482    0.289363      0.057039      0.561116\n",
            "1238  67.wav           3     Silence     0.093107    0.293600      0.057344      0.555949\n",
            "1239  67.wav           4     Silence     0.097917    0.326675      0.062815      0.512593\n",
            "1240  67.wav           5     Silence     0.121591    0.423438      0.081314      0.373657\n",
            "1241  67.wav           6     Silence     0.129099    0.451160      0.086654      0.333087\n",
            "1242  67.wav           7     Silence     0.127142    0.444662      0.085348      0.342848\n",
            "1243  67.wav           8     Silence     0.125297    0.438399      0.084111      0.352194\n",
            "1244  67.wav           9     Silence     0.124309    0.435016      0.083431      0.357244\n",
            "1245  67.wav          10     Silence     0.124409    0.435358      0.083501      0.356732\n",
            "1246  67.wav          11     Silence     0.127496    0.445862      0.085586      0.341056\n",
            "1247  67.wav          12     Silence     0.131660    0.459614      0.088349      0.320377\n",
            "1248  67.wav          13     Silence     0.132145    0.461271      0.088657      0.317927\n",
            "1249  67.wav          14     Silence     0.129086    0.451116      0.086645      0.333152\n",
            "1250  67.wav          15     Silence     0.127142    0.444664      0.085349      0.342845\n",
            "1251  67.wav          16     Silence     0.125297    0.438401      0.084111      0.352192\n",
            "1252  67.wav          17     Silence     0.124309    0.435015      0.083431      0.357245\n",
            "1253  67.wav          18     Silence     0.124408    0.435355      0.083501      0.356735\n",
            "1254  67.wav          19     Silence     0.127495    0.445860      0.085586      0.341059\n",
            "1255  67.wav          20     Silence     0.131659    0.459609      0.088348      0.320384\n",
            "1256  67.wav          21     Silence     0.132691    0.463053      0.089021      0.315236\n",
            "1257  40.wav           0      Speech     0.900977    0.073997      0.018452      0.006574\n",
            "1258  40.wav           1      Speech     0.887517    0.076818      0.030730      0.004935\n",
            "1259  40.wav           2      Speech     0.853090    0.090842      0.049721      0.006347\n",
            "1260  40.wav           3      Speech     0.872785    0.093862      0.026298      0.007055\n",
            "1261  40.wav           4      Speech     0.859182    0.086550      0.049772      0.004496\n",
            "1262  40.wav           5      Speech     0.863581    0.084642      0.048711      0.003065\n",
            "1263  78.wav           0      Speech     0.884836    0.085749      0.020379      0.009036\n",
            "1264  78.wav           1      Speech     0.876306    0.074210      0.044406      0.005078\n",
            "1265  78.wav           2      Speech     0.845192    0.085220      0.063385      0.006202\n",
            "1266  78.wav           3      Speech     0.868740    0.093550      0.030298      0.007411\n",
            "1267  78.wav           4      Speech     0.890671    0.077256      0.028245      0.003828\n",
            "1268  78.wav           5      Speech     0.897993    0.070454      0.028563      0.002991\n",
            "1269  78.wav           6      Speech     0.888810    0.083901      0.021093      0.006197\n",
            "1270  78.wav           7      Speech     0.903371    0.068903      0.023767      0.003958\n",
            "1271  78.wav           8      Speech     0.873320    0.085147      0.037496      0.004036\n",
            "1272  78.wav           9      Speech     0.657577    0.078804      0.260552      0.003068\n",
            "1273  78.wav          10      Speech     0.782433    0.067506      0.147202      0.002859\n",
            "1274  78.wav          11      Speech     0.908054    0.063289      0.024551      0.004106\n",
            "1275  27.wav           0     Ringing     0.056698    0.118442      0.811971      0.012889\n",
            "1276  27.wav           1     Ringing     0.051290    0.168782      0.762818      0.017110\n",
            "1277  27.wav           2     Ringing     0.055968    0.096681      0.837724      0.009628\n",
            "1278  27.wav           3     Ringing     0.053524    0.128426      0.806945      0.011105\n",
            "1279  27.wav           4     Ringing     0.061776    0.168091      0.752741      0.017392\n",
            "1280  27.wav           5     Ringing     0.058994    0.121515      0.807203      0.012289\n",
            "1281  27.wav           6     Ringing     0.059652    0.194183      0.725640      0.020526\n",
            "1282  27.wav           7     Ringing     0.047238    0.107224      0.834798      0.010740\n",
            "1283  27.wav           8     Ringing     0.042370    0.114138      0.831385      0.012107\n",
            "1284  27.wav           9     Ringing     0.060347    0.136945      0.788713      0.013996\n",
            "1285  27.wav          10     Ringing     0.048124    0.105987      0.837157      0.008732\n",
            "1286  27.wav          11     Ringing     0.064199    0.181521      0.737367      0.016913\n",
            "1287  27.wav          12     Ringing     0.059221    0.120128      0.810396      0.010255\n",
            "1288  27.wav          13     Ringing     0.047427    0.146877      0.792307      0.013390\n",
            "1289  27.wav          14     Ringing     0.055780    0.137458      0.793058      0.013704\n",
            "1290  27.wav          15     Ringing     0.046107    0.096236      0.846788      0.010869\n",
            "1291  52.wav           0     Ringing     0.056698    0.118442      0.811971      0.012889\n",
            "1292  52.wav           1     Ringing     0.051290    0.168782      0.762818      0.017110\n",
            "1293  52.wav           2     Ringing     0.055968    0.096681      0.837724      0.009628\n",
            "1294  52.wav           3     Ringing     0.053373    0.127395      0.808233      0.010999\n",
            "1295  52.wav           5      Speech     0.909510    0.067147      0.016233      0.007110\n",
            "1296  52.wav           6      Speech     0.888208    0.086360      0.020185      0.005247\n",
            "1297  52.wav           7      Speech     0.768241    0.102520      0.123850      0.005390\n",
            "1298  52.wav           8      Speech     0.854885    0.095600      0.044200      0.005315\n",
            "1299  52.wav           9      Speech     0.895320    0.085095      0.014978      0.004607\n",
            "1300  52.wav          10      Speech     0.896244    0.078749      0.020176      0.004832\n",
            "1301  52.wav          11      Speech     0.875734    0.089594      0.027897      0.006775\n",
            "1302  52.wav          12      Speech     0.893747    0.069427      0.033470      0.003356\n",
            "1303  52.wav          13      Speech     0.862772    0.095709      0.036499      0.005020\n",
            "1304  52.wav          14      Speech     0.881637    0.096035      0.018099      0.004229\n",
            "1305  52.wav          15      Speech     0.896201    0.080684      0.018927      0.004187\n",
            "1306  52.wav          16      Speech     0.874535    0.090307      0.031547      0.003610\n",
            "1307  52.wav          17      Speech     0.884816    0.080114      0.031005      0.004065\n",
            "1308  52.wav          18      Speech     0.845567    0.101243      0.045459      0.007732\n",
            "1309  21.wav           0      Speech     0.919073    0.062999      0.013729      0.004199\n",
            "1310  21.wav           1      Speech     0.869478    0.097993      0.026707      0.005822\n",
            "1311  21.wav           2      Speech     0.885252    0.081492      0.026733      0.006523\n",
            "1312  21.wav           3      Speech     0.900635    0.065118      0.027104      0.007143\n",
            "1313  21.wav           5      Speech     0.870809    0.098664      0.020161      0.010365\n",
            "1314  21.wav           6      Speech     0.784657    0.186071      0.024873      0.004399\n",
            "1315  91.wav           0       Music     0.167559    0.808392      0.015235      0.008814\n",
            "1316  91.wav           1       Music     0.109769    0.872861      0.011959      0.005411\n",
            "1317  91.wav           2       Music     0.076918    0.909169      0.010051      0.003862\n",
            "1318  91.wav           3       Music     0.080607    0.907450      0.008036      0.003908\n",
            "1319  91.wav           4       Music     0.048883    0.941557      0.006378      0.003182\n",
            "1320  91.wav           5       Music     0.028128    0.957651      0.008419      0.005801\n",
            "1321  91.wav           6       Music     0.123537    0.861778      0.010290      0.004395\n",
            "1322  91.wav           7       Music     0.057958    0.930520      0.007463      0.004059\n",
            "1323  91.wav           8       Music     0.045185    0.940639      0.009686      0.004490\n",
            "1324  91.wav           9       Music     0.034823    0.949477      0.012062      0.003638\n",
            "1325  91.wav          10       Music     0.029562    0.955013      0.010173      0.005253\n",
            "1326  91.wav          11       Music     0.043312    0.945572      0.007567      0.003550\n",
            "1327  91.wav          12       Music     0.037804    0.950493      0.007844      0.003860\n",
            "1328  91.wav          13       Music     0.033950    0.952170      0.009911      0.003969\n",
            "1329  91.wav          14       Music     0.040727    0.942698      0.011548      0.005026\n",
            "1330  91.wav          15       Music     0.028873    0.955737      0.009672      0.005718\n",
            "1331  91.wav          16       Music     0.033584    0.954197      0.008359      0.003859\n",
            "1332  91.wav          17       Music     0.033733    0.950399      0.009003      0.006864\n",
            "1333  91.wav          18       Music     0.039282    0.944530      0.009087      0.007101\n",
            "1334  75.wav           0     Ringing     0.056698    0.118442      0.811971      0.012889\n",
            "1335  75.wav           1     Ringing     0.051290    0.168782      0.762818      0.017110\n",
            "1336  75.wav           2     Ringing     0.055968    0.096681      0.837724      0.009628\n",
            "1337  75.wav           3     Ringing     0.053524    0.128426      0.806945      0.011105\n",
            "1338  75.wav           4     Ringing     0.061776    0.168091      0.752741      0.017392\n",
            "1339  75.wav           5     Ringing     0.058994    0.121515      0.807203      0.012289\n",
            "1340  75.wav           6     Ringing     0.059652    0.194183      0.725640      0.020526\n",
            "1341  75.wav           7     Ringing     0.047238    0.107224      0.834798      0.010740\n",
            "1342  75.wav           8     Ringing     0.042370    0.114138      0.831385      0.012107\n",
            "1343  75.wav           9     Ringing     0.060346    0.136945      0.788713      0.013996\n",
            "1344  75.wav          10     Ringing     0.048124    0.105987      0.837157      0.008732\n",
            "1345  75.wav          11     Ringing     0.064199    0.181521      0.737367      0.016913\n",
            "1346  75.wav          12     Ringing     0.059221    0.120128      0.810396      0.010255\n",
            "1347  75.wav          13     Ringing     0.047427    0.146877      0.792307      0.013390\n",
            "1348  75.wav          14     Ringing     0.055780    0.137458      0.793058      0.013704\n",
            "1349  75.wav          15     Ringing     0.045323    0.097318      0.846375      0.010985\n",
            "1350  75.wav          17      Speech     0.825975    0.099075      0.067384      0.007566\n",
            "1351  75.wav          18      Speech     0.887644    0.096479      0.012404      0.003473\n",
            "1352  75.wav          19      Speech     0.850920    0.122635      0.020871      0.005574\n",
            "1353  75.wav          20      Speech     0.842648    0.115218      0.035946      0.006187\n",
            "1354  75.wav          21      Speech     0.866932    0.101511      0.027734      0.003823\n",
            "1355  83.wav           7     Silence     0.109644    0.377461      0.072807      0.440087\n",
            "1356  83.wav          10     Silence     0.110171    0.375473      0.073539      0.440817\n",
            "1357  83.wav          16     Silence     0.109325    0.374836      0.074193      0.441646\n",
            "1358  83.wav          22     Silence     0.109993    0.378750      0.073146      0.438111\n",
            "1359  83.wav          23     Silence     0.085245    0.439862      0.292040      0.182853\n",
            "1360  83.wav          25     Silence     0.109912    0.373487      0.074414      0.442186\n",
            "1361  83.wav          31     Silence     0.109644    0.377460      0.072807      0.440088\n",
            "1362  83.wav          34     Silence     0.110170    0.375470      0.073538      0.440821\n",
            "1363  68.wav           0     Ringing     0.059857    0.122112      0.804493      0.013538\n",
            "1364  68.wav           1     Ringing     0.050265    0.163552      0.766799      0.019384\n",
            "1365  68.wav           2     Ringing     0.056094    0.102754      0.830695      0.010457\n",
            "1366  68.wav           3     Ringing     0.052180    0.125686      0.810536      0.011598\n",
            "1367  68.wav           4     Ringing     0.055735    0.162594      0.765339      0.016333\n",
            "1368  68.wav           5     Ringing     0.054081    0.120655      0.813283      0.011981\n",
            "1369  68.wav           6     Ringing     0.058948    0.196403      0.724771      0.019877\n",
            "1370  68.wav           7     Ringing     0.048733    0.116533      0.823789      0.010945\n",
            "1371  68.wav           8     Ringing     0.047028    0.138149      0.800658      0.014165\n",
            "1372  68.wav           9     Ringing     0.065316    0.146785      0.773281      0.014618\n",
            "1373  68.wav          10     Ringing     0.047231    0.103265      0.841278      0.008226\n",
            "1374  68.wav          11     Ringing     0.066091    0.177427      0.738690      0.017792\n",
            "1375  68.wav          12     Ringing     0.063174    0.124451      0.801441      0.010935\n",
            "1376  68.wav          13     Ringing     0.049859    0.159878      0.776031      0.014233\n",
            "1377  68.wav          14     Ringing     0.051784    0.151816      0.783050      0.013350\n",
            "1378  68.wav          15     Ringing     0.043527    0.088368      0.859353      0.008752\n",
            "1379  68.wav          16     Ringing     0.059128    0.143229      0.784076      0.013567\n",
            "1380  68.wav          18      Speech     0.807102    0.068443      0.120900      0.003555\n",
            "1381  68.wav          19      Speech     0.876651    0.091673      0.026233      0.005443\n",
            "1382  68.wav          20      Speech     0.882061    0.090404      0.020889      0.006646\n",
            "1383  68.wav          21      Speech     0.872323    0.092455      0.029309      0.005913\n",
            "1384  68.wav          22      Speech     0.892793    0.076135      0.028334      0.002739\n",
            "1385  68.wav          23      Speech     0.829243    0.145664      0.019861      0.005231\n",
            "1386  26.wav           0      Speech     0.896198    0.077667      0.018193      0.007942\n",
            "1387  37.wav           2      Speech     0.553238    0.052623      0.392165      0.001973\n",
            "1388  37.wav           3      Speech     0.863416    0.099845      0.031020      0.005719\n",
            "1389  37.wav           4      Speech     0.857687    0.110925      0.025975      0.005412\n",
            "1390  37.wav           5      Speech     0.853637    0.108367      0.032915      0.005080\n",
            "1391  37.wav           6      Speech     0.857121    0.081505      0.052576      0.008798\n",
            "1392  37.wav           9      Speech     0.906633    0.077395      0.012595      0.003376\n",
            "1393  37.wav          10      Speech     0.904352    0.079619      0.012607      0.003421\n",
            "1394  37.wav          11      Speech     0.887709    0.091781      0.015358      0.005152\n",
            "1395  37.wav          12      Speech     0.893777    0.083544      0.018033      0.004646\n",
            "1396  37.wav          13      Speech     0.897325    0.086990      0.011611      0.004075\n",
            "1397  37.wav          14      Speech     0.890687    0.092978      0.012744      0.003591\n",
            "1398  37.wav          17      Speech     0.861856    0.108090      0.022033      0.008021\n",
            "1399   8.wav           0      Speech     0.898065    0.058442      0.040682      0.002810\n",
            "1400   8.wav           1      Speech     0.884243    0.081648      0.030254      0.003855\n",
            "1401   8.wav           2      Speech     0.885649    0.093160      0.017065      0.004126\n",
            "1402   8.wav           3      Speech     0.874590    0.106486      0.013936      0.004988\n",
            "1403   8.wav           4      Speech     0.872611    0.101320      0.020623      0.005447\n",
            "1404   8.wav           5      Speech     0.910345    0.073230      0.012750      0.003675\n",
            "1405   7.wav           0      Speech     0.898065    0.058442      0.040682      0.002810\n",
            "1406   7.wav           1      Speech     0.884243    0.081648      0.030254      0.003855\n",
            "1407   7.wav           2      Speech     0.885649    0.093160      0.017065      0.004126\n",
            "1408   7.wav           3      Speech     0.874590    0.106486      0.013936      0.004988\n",
            "1409   7.wav           4      Speech     0.873282    0.100833      0.020469      0.005417\n",
            "1410   7.wav           5      Speech     0.912785    0.071160      0.012499      0.003557\n"
          ]
        }
      ]
    },
    {
      "cell_type": "code",
      "source": [
        "# Encode class labels\n",
        "le = LabelEncoder()\n",
        "df[\"label_encoded\"] = le.fit_transform(df[\"hard_target\"])\n",
        "\n",
        "# Feature extractor: log-mel spectrogram\n",
        "def extract_logmel_features(file_path, sr=32000, n_mels=64, duration=1.0):\n",
        "    try:\n",
        "        y, _ = librosa.load(file_path, sr=sr, duration=duration)\n",
        "        if len(y) < int(sr * duration):\n",
        "            y = np.pad(y, (0, int(sr * duration) - len(y)))\n",
        "        mel_spec = librosa.feature.melspectrogram(y=y, sr=sr, n_mels=n_mels)\n",
        "        logmel_spec = librosa.power_to_db(mel_spec)\n",
        "        return logmel_spec.mean(axis=1)  # Average over time axis\n",
        "    except Exception as e:\n",
        "        print(f\"Error processing {file_path}: {e}\")\n",
        "        return None\n",
        "\n",
        "# Split ensuring segments from the same clip go to the same set\n",
        "unique_clips = df[\"file\"].unique()\n",
        "train_clips, test_clips = train_test_split(\n",
        "    unique_clips,\n",
        "    test_size=0.2,\n",
        "    stratify=df.groupby(\"file\")[\"hard_target\"].first(),\n",
        "    random_state=42\n",
        ")\n",
        "\n",
        "train_df = df[df[\"file\"].isin(train_clips)]\n",
        "test_df = df[df[\"file\"].isin(test_clips)]\n",
        "\n",
        "# Extract features for a DataFrame\n",
        "def extract_features_and_labels(df_subset):\n",
        "    features, labels = [], []\n",
        "    for _, row in df_subset.iterrows():\n",
        "        feat = extract_logmel_features(os.path.join(AUDIO_DIR, row[\"file\"]))\n",
        "        if feat is not None:\n",
        "            features.append(feat)\n",
        "            labels.append(row[\"label_encoded\"])\n",
        "    return np.array(features), np.array(labels)\n",
        "\n",
        "# Extract train/test features\n",
        "X_train, y_train = extract_features_and_labels(train_df)\n",
        "X_test, y_test = extract_features_and_labels(test_df)"
      ],
      "metadata": {
        "id": "l1D-sgdzc7Ge"
      },
      "execution_count": null,
      "outputs": []
    },
    {
      "cell_type": "code",
      "source": [
        "# Train Random Forest classifier\n",
        "clf = RandomForestClassifier(n_estimators=100, random_state=42)\n",
        "clf.fit(X_train, y_train)\n",
        "\n",
        "# Evaluate\n",
        "y_pred = clf.predict(X_test)\n",
        "print(\"Classification Report:\")\n",
        "print(classification_report(y_test, y_pred, target_names=le.classes_))"
      ],
      "metadata": {
        "colab": {
          "base_uri": "https://localhost:8080/"
        },
        "id": "n8bWKsx3dzwv",
        "outputId": "9e5644de-c07d-4842-8f38-d50c1d4af138"
      },
      "execution_count": null,
      "outputs": [
        {
          "output_type": "stream",
          "name": "stdout",
          "text": [
            "Classification Report:\n",
            "              precision    recall  f1-score   support\n",
            "\n",
            "       Music       0.77      0.97      0.86        62\n",
            "     Ringing       0.65      0.94      0.77        80\n",
            "     Silence       0.71      0.48      0.57        25\n",
            "      Speech       0.88      0.51      0.65       102\n",
            "\n",
            "    accuracy                           0.74       269\n",
            "   macro avg       0.75      0.72      0.71       269\n",
            "weighted avg       0.77      0.74      0.72       269\n",
            "\n"
          ]
        }
      ]
    },
    {
      "cell_type": "code",
      "source": [
        "import joblib\n",
        "\n",
        "# Save model and label encoder\n",
        "joblib.dump(clf, \"rf_student_model.pkl\")\n",
        "joblib.dump(le, \"label_encoder.pkl\")"
      ],
      "metadata": {
        "colab": {
          "base_uri": "https://localhost:8080/"
        },
        "id": "dcOfSc-hd9K-",
        "outputId": "0a9c6b62-b4a9-4f3c-c5f3-7999864bdd31"
      },
      "execution_count": null,
      "outputs": [
        {
          "output_type": "execute_result",
          "data": {
            "text/plain": [
              "['label_encoder.pkl']"
            ]
          },
          "metadata": {},
          "execution_count": 24
        }
      ]
    },
    {
      "cell_type": "code",
      "source": [
        "# Inference function\n",
        "def predict(filepath):\n",
        "    feat = extract_logmel_features(filepath)\n",
        "    if feat is None:\n",
        "        return None\n",
        "    feat = feat.reshape(1, -1)\n",
        "    pred_encoded = clf.predict(feat)[0]\n",
        "    return le.inverse_transform([pred_encoded])[0]\n",
        "\n",
        "# Example usage\n",
        "test_files = [os.path.join(AUDIO_DIR, \"100.wav\"),\n",
        "              os.path.join(AUDIO_DIR, \"101.wav\"),\n",
        "              os.path.join(AUDIO_DIR, \"102.wav\"),\n",
        "              os.path.join(AUDIO_DIR, \"102.wav\"),\n",
        "              os.path.join(AUDIO_DIR, \"110.wav\"),\n",
        "              os.path.join(AUDIO_DIR, \"111.wav\")]  # Replace with your actual files\n",
        "\n",
        "for file in test_files:\n",
        "    pred = predict(file)\n",
        "    print(f\"{file}: {pred}\")"
      ],
      "metadata": {
        "colab": {
          "base_uri": "https://localhost:8080/"
        },
        "id": "wfcXAekCd-Bt",
        "outputId": "a353009b-a2e7-4b51-f1ca-1a32152851f6"
      },
      "execution_count": null,
      "outputs": [
        {
          "output_type": "stream",
          "name": "stdout",
          "text": [
            "/content/drive/MyDrive/bsc_thesis/early_media_sample/100.wav: Speech\n",
            "/content/drive/MyDrive/bsc_thesis/early_media_sample/101.wav: Speech\n",
            "/content/drive/MyDrive/bsc_thesis/early_media_sample/102.wav: Speech\n",
            "/content/drive/MyDrive/bsc_thesis/early_media_sample/102.wav: Speech\n",
            "/content/drive/MyDrive/bsc_thesis/early_media_sample/110.wav: Music\n",
            "/content/drive/MyDrive/bsc_thesis/early_media_sample/111.wav: Music\n"
          ]
        }
      ]
    },
    {
      "cell_type": "markdown",
      "source": [
        "## Failed tests"
      ],
      "metadata": {
        "id": "dTYP4SyDztpE"
      }
    },
    {
      "cell_type": "code",
      "source": [
        "from sklearn.model_selection import train_test_split\n",
        "\n",
        "# Encode labels\n",
        "from sklearn.preprocessing import LabelEncoder\n",
        "le = LabelEncoder()\n",
        "df[\"label_encoded\"] = le.fit_transform(df[\"hard_target\"])\n",
        "\n",
        "# Get unique clip IDs\n",
        "unique_clips = df[\"file\"].unique()\n",
        "train_clips, test_clips = train_test_split(unique_clips, test_size=0.2, random_state=42, stratify=df.groupby(\"file\")[\"hard_target\"].first())\n",
        "\n",
        "# Split DataFrame\n",
        "train_df = df[df[\"file\"].isin(train_clips)]\n",
        "test_df = df[df[\"file\"].isin(test_clips)]\n",
        "\n",
        "# Paper uses mel spectogram as features, soft targets are used as features in here\n",
        "# Features and labels\n",
        "X_train = train_df[[\"soft_speech\", \"soft_music\", \"soft_ringing\", \"soft_silence\"]].values\n",
        "y_train = train_df[\"label_encoded\"].values\n",
        "X_test = test_df[[\"soft_speech\", \"soft_music\", \"soft_ringing\", \"soft_silence\"]].values\n",
        "y_test = test_df[\"label_encoded\"].values\n"
      ],
      "metadata": {
        "id": "39y1ZgrbW5RX"
      },
      "execution_count": null,
      "outputs": []
    },
    {
      "cell_type": "code",
      "source": [
        "from sklearn.ensemble import RandomForestClassifier\n",
        "from sklearn.metrics import classification_report\n",
        "import joblib  # For saving the model\n",
        "\n",
        "# Train Random Forest classifier\n",
        "clf = RandomForestClassifier(n_estimators=100, random_state=42)\n",
        "clf.fit(X_train, y_train)\n",
        "\n",
        "# Evaluate\n",
        "y_pred = clf.predict(X_test)\n",
        "print(\"\\nClassification Report:\")\n",
        "print(classification_report(y_test, y_pred, target_names=le.classes_))\n",
        "\n",
        "# Save model and label encoder for future use\n",
        "joblib.dump(clf, \"student_random_forest_model.pkl\")\n",
        "joblib.dump(le, \"label_encoder.pkl\")"
      ],
      "metadata": {
        "colab": {
          "base_uri": "https://localhost:8080/"
        },
        "id": "7MG3exLcaqiK",
        "outputId": "781e7d87-5928-4295-81ec-b407636b8aff"
      },
      "execution_count": null,
      "outputs": [
        {
          "output_type": "stream",
          "name": "stdout",
          "text": [
            "\n",
            "Classification Report:\n",
            "              precision    recall  f1-score   support\n",
            "\n",
            "       Music       1.00      1.00      1.00        62\n",
            "     Ringing       1.00      1.00      1.00        80\n",
            "     Silence       1.00      1.00      1.00        25\n",
            "      Speech       1.00      1.00      1.00       102\n",
            "\n",
            "    accuracy                           1.00       269\n",
            "   macro avg       1.00      1.00      1.00       269\n",
            "weighted avg       1.00      1.00      1.00       269\n",
            "\n"
          ]
        },
        {
          "output_type": "execute_result",
          "data": {
            "text/plain": [
              "['label_encoder.pkl']"
            ]
          },
          "metadata": {},
          "execution_count": 18
        }
      ]
    },
    {
      "cell_type": "code",
      "source": [
        "# Load model and label encoder\n",
        "clf = joblib.load(\"student_random_forest_model.pkl\")\n",
        "le = joblib.load(\"label_encoder.pkl\")\n",
        "\n",
        "# Predict on new data\n",
        "X_new = [[0.85, 0.1, 0.02, 0.03]]  # example soft targets\n",
        "predicted_class = le.inverse_transform(clf.predict(X_new))[0]\n",
        "print(\"Predicted label:\", predicted_class)"
      ],
      "metadata": {
        "colab": {
          "base_uri": "https://localhost:8080/"
        },
        "id": "UcZhRxlca6OY",
        "outputId": "867c7c0a-0260-458b-84e6-3ddabc265cd1"
      },
      "execution_count": null,
      "outputs": [
        {
          "output_type": "stream",
          "name": "stdout",
          "text": [
            "Predicted label: Speech\n"
          ]
        }
      ]
    },
    {
      "cell_type": "code",
      "source": [
        "import pandas as pd\n",
        "import lightgbm as lgb\n",
        "from sklearn.model_selection import train_test_split\n",
        "from sklearn.metrics import classification_report\n",
        "from sklearn.preprocessing import LabelEncoder\n",
        "\n",
        "# Load CSV with per-second labeled data\n",
        "df = pd.read_csv(\"/content/audio_labels.csv\")\n",
        "\n",
        "# Encode labels (e.g., speech → 0, music → 1, ...)\n",
        "le = LabelEncoder()\n",
        "df[\"label_encoded\"] = le.fit_transform(df[\"hard_target\"])\n",
        "\n",
        "# Features: soft targets from teacher\n",
        "X = df[[\"soft_speech\", \"soft_music\", \"soft_ringing\", \"soft_silence\"]].values\n",
        "\n",
        "# Target: hard labels\n",
        "y = df[\"label_encoded\"].values\n",
        "\n",
        "# Train-test split\n",
        "X_train, X_test, y_train, y_test = train_test_split(\n",
        "    X, y, test_size=0.2, stratify=y, random_state=42\n",
        ")\n",
        "\n",
        "# LightGBM dataset\n",
        "train_data = lgb.Dataset(X_train, label=y_train)\n",
        "valid_data = lgb.Dataset(X_test, label=y_test, reference=train_data)\n",
        "\n",
        "# Parameters — simple and fast to train\n",
        "params = {\n",
        "    \"objective\": \"multiclass\",\n",
        "    \"num_class\": 4,\n",
        "    \"metric\": \"multi_logloss\",\n",
        "    \"verbosity\": -1,\n",
        "    \"boosting_type\": \"gbdt\",\n",
        "    \"learning_rate\": 0.1,\n",
        "    \"num_leaves\": 31,\n",
        "}\n",
        "\n",
        "# Train with early stopping via callback\n",
        "bst = lgb.train(\n",
        "    params,\n",
        "    train_data,\n",
        "    valid_sets=[valid_data],\n",
        "    num_boost_round=100,\n",
        "    callbacks=[lgb.early_stopping(stopping_rounds=10)]\n",
        ")\n",
        "\n",
        "# Evaluate\n",
        "y_pred = bst.predict(X_test)\n",
        "y_pred_classes = y_pred.argmax(axis=1)\n",
        "\n",
        "print(\"\\nClassification Report:\")\n",
        "print(classification_report(y_test, y_pred_classes, target_names=le.classes_))\n"
      ],
      "metadata": {
        "colab": {
          "base_uri": "https://localhost:8080/"
        },
        "id": "7XH2Gcl4qDRJ",
        "outputId": "584f17a7-efe3-4503-89bc-df36adbb9b48"
      },
      "execution_count": null,
      "outputs": [
        {
          "output_type": "stream",
          "name": "stdout",
          "text": [
            "Training until validation scores don't improve for 10 rounds\n",
            "Did not meet early stopping. Best iteration is:\n",
            "[100]\tvalid_0's multi_logloss: 0.000522728\n",
            "\n",
            "Classification Report:\n",
            "              precision    recall  f1-score   support\n",
            "\n",
            "       Music       1.00      1.00      1.00       117\n",
            "     Ringing       1.00      1.00      1.00       112\n",
            "     Silence       1.00      1.00      1.00        67\n",
            "      Speech       1.00      1.00      1.00       323\n",
            "\n",
            "    accuracy                           1.00       619\n",
            "   macro avg       1.00      1.00      1.00       619\n",
            "weighted avg       1.00      1.00      1.00       619\n",
            "\n"
          ]
        }
      ]
    }
  ]
}