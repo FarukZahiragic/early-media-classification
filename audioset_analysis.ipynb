{
  "nbformat": 4,
  "nbformat_minor": 0,
  "metadata": {
    "colab": {
      "provenance": [],
      "collapsed_sections": [
        "S2-8uFETqvnR"
      ],
      "toc_visible": true
    },
    "kernelspec": {
      "name": "python3",
      "display_name": "Python 3"
    },
    "language_info": {
      "name": "python"
    }
  },
  "cells": [
    {
      "cell_type": "markdown",
      "source": [
        "# Faculty of Electrical Engineering, University of Sarajevo\n",
        "\n",
        "# *Audioset* dataset analysis for the purpose of early media classification in voice communication"
      ],
      "metadata": {
        "id": "AXGseXnvfuuX"
      }
    },
    {
      "cell_type": "markdown",
      "source": [
        "# Introduction"
      ],
      "metadata": {
        "id": "vMnQXRUIm2L0"
      }
    },
    {
      "cell_type": "markdown",
      "source": [
        "## Purpose of the analysis"
      ],
      "metadata": {
        "id": "TEgF75LGoRkU"
      }
    },
    {
      "cell_type": "markdown",
      "source": [
        "This analysis should provide insight into the key features of the [Audioset](https://research.google.com/audioset/) dataset on which the model for classifying early media in voice communication should be trained. With this in mind, this analysis aims to understand the distribution of sound categories in the evaluation subset of the AudioSet dataset and identify trends or biases in the labeled audio segments, and the existence of outliers."
      ],
      "metadata": {
        "id": "8pSlnEmoL8F2"
      }
    },
    {
      "cell_type": "markdown",
      "source": [
        "## Dataset description"
      ],
      "metadata": {
        "id": "YIxhIbOlnVVV"
      }
    },
    {
      "cell_type": "markdown",
      "source": [
        "AudioSet consists of an expanding ontology of 527 audio event classes and a collection of 2,084,320 human-labeled 10-second sound clips drawn from YouTube videos. The ontology is specified as a hierarchical graph of event categories, covering a wide range of human and animal sounds, musical instruments and genres, and common everyday environmental sounds."
      ],
      "metadata": {
        "id": "hqP74P8vNo8l"
      }
    },
    {
      "cell_type": "markdown",
      "source": [
        "The analysis was performed on a set of 2,042,985 segments from different videos with 527 sound classes used. Due to the co-occurrence of labels, many classes have multiple examples. The dataset is represented as a csv file that has a three-line header with each line starting with \"#\", and the first two lines indicating the creation time and general statistics:\n",
        "```\n",
        "# Segments csv created Sun Mar  5 10:54:25 2017\n",
        "# num_ytids=20371, num_segs=20371, num_unique_labels=527, num_positive_labels=51804\n",
        "```\n",
        "Each subsequent line has columns defined by the third header line:\n",
        "\n",
        "```# YTID, start_seconds, end_seconds, positive_labels```\n",
        "\n",
        "for example:\n",
        "\n",
        "```-0RWZT-miFs, 420.000, 430.000, \"/m/03v3yw,/m/0k4j\"```\n",
        "\n",
        "means that for the YouTube video -0RWZT-miFs, for the 10 second chunk from t=420 sec to t=430 sec, annotators confirmed the presence of sound classes /m/03v3yw (\"Keys jangling\") and /m/0k4j (\"Car\").\n"
      ],
      "metadata": {
        "id": "fVL97oVMcFvT"
      }
    },
    {
      "cell_type": "markdown",
      "source": [
        "## Hypotheses"
      ],
      "metadata": {
        "id": "kH5Efb1Zom8J"
      }
    },
    {
      "cell_type": "markdown",
      "source": [
        "The main hypotheses to be investigated in this analysis are as follows:\n",
        "\n",
        "\n",
        "*   Are some sound categories more frequent than others?\n",
        "*   Do audio segment lengths differ significantly between categories?\n",
        "\n"
      ],
      "metadata": {
        "id": "zTsMK_7laTii"
      }
    },
    {
      "cell_type": "markdown",
      "source": [
        "# Data cleaning and preparation"
      ],
      "metadata": {
        "id": "oUlznetTu1_i"
      }
    },
    {
      "cell_type": "code",
      "source": [
        "# importing libraries neccessary for the data analysis\n",
        "import io\n",
        "import pandas as pd\n",
        "import csv\n",
        "import matplotlib.pyplot as plt\n",
        "import seaborn as sns\n",
        "import numpy as np\n",
        "import scipy.stats as stats"
      ],
      "metadata": {
        "id": "j6GjODQtvu86"
      },
      "execution_count": null,
      "outputs": []
    },
    {
      "cell_type": "markdown",
      "source": [
        "## Loading the dataset"
      ],
      "metadata": {
        "id": "3bvr1VOXvEDI"
      }
    },
    {
      "cell_type": "markdown",
      "source": [
        "For the purpose of this analysis the dataset is needed and an indice of class labels that is used for mapping the mapping of the mid (identifier of the label) and the display_name (description of the label) columns:"
      ],
      "metadata": {
        "id": "MAJF6pGtvHx9"
      }
    },
    {
      "cell_type": "code",
      "source": [
        "from google.colab import drive\n",
        "drive.mount('/content/drive')"
      ],
      "metadata": {
        "colab": {
          "base_uri": "https://localhost:8080/"
        },
        "id": "DYaLEcnS_-zh",
        "outputId": "7dee322d-c1e5-4a7e-817a-76f0d5f60269"
      },
      "execution_count": null,
      "outputs": [
        {
          "output_type": "stream",
          "name": "stdout",
          "text": [
            "Drive already mounted at /content/drive; to attempt to forcibly remount, call drive.mount(\"/content/drive\", force_remount=True).\n"
          ]
        }
      ]
    },
    {
      "cell_type": "code",
      "source": [
        "# eval_segments.csv could be used for quicker processing (for demonstration purposes), as it is a smaller sample of the dataset.\n",
        "with open(\"/content/drive/MyDrive/bsc_thesis/train_segments.csv\", \"r\", encoding=\"utf-8\") as file:\n",
        "    reader = csv.reader(file)\n",
        "    max_columns = max(len(row) for row in reader)\n",
        "\n",
        "print(f\"Detected max columns: {max_columns}\")"
      ],
      "metadata": {
        "colab": {
          "base_uri": "https://localhost:8080/"
        },
        "id": "eKI2MDM6yeUi",
        "outputId": "e85949d8-8615-4c7e-a5e9-206a305fa159"
      },
      "execution_count": null,
      "outputs": [
        {
          "output_type": "stream",
          "name": "stdout",
          "text": [
            "Detected max columns: 18\n"
          ]
        }
      ]
    },
    {
      "cell_type": "code",
      "source": [
        "df = pd.read_csv(\n",
        "    \"/content/drive/MyDrive/bsc_thesis/train_segments.csv\",\n",
        "    skiprows=3,\n",
        "    header=None,\n",
        "    dtype=str,\n",
        "    engine=\"python\",\n",
        "    names=[f\"col_{i}\" for i in range(max_columns)],  # Assign generic column names\n",
        "    usecols=range(7)  # Only keep the first 7 columns\n",
        ")\n",
        "\n",
        "label_map_df = pd.read_csv(\"/content/drive/MyDrive/bsc_thesis/class_labels_indices.csv\")\n",
        "\n",
        "print(df.head())\n",
        "print(f\"Loaded {df.shape[0]} rows successfully\")\n",
        "print(f\"Loaded {label_map_df.shape[0]} label rows successfully\")"
      ],
      "metadata": {
        "colab": {
          "base_uri": "https://localhost:8080/"
        },
        "id": "0Ldpgou6wPE9",
        "outputId": "4149c765-885c-495a-ea95-a05d8c309de3"
      },
      "execution_count": null,
      "outputs": [
        {
          "output_type": "stream",
          "name": "stdout",
          "text": [
            "         col_0    col_1    col_2        col_3       col_4      col_5  \\\n",
            "0  ---1_cCGK4M    0.000   10.000   \"/m/01g50p  /m/0284vy3   /m/06d_3   \n",
            "1  ---2_BBVHAA   30.000   40.000   \"/m/09x0r\"        None       None   \n",
            "2  ---B_v8ZoBY   30.000   40.000   \"/m/04rlf\"        None       None   \n",
            "3  ---EDNidJUA   30.000   40.000   \"/m/02qldy    /m/02zsn  /m/05zppz   \n",
            "4  ---N4cFAE1A   21.000   31.000    \"/m/04rlf   /m/09x0r\"       None   \n",
            "\n",
            "       col_6  \n",
            "0   /m/07jdr  \n",
            "1       None  \n",
            "2       None  \n",
            "3  /m/09x0r\"  \n",
            "4       None  \n",
            "Loaded 2041789 rows successfully\n",
            "Loaded 527 label rows successfully\n"
          ]
        }
      ]
    },
    {
      "cell_type": "markdown",
      "source": [
        "## Formatting positive_labels column"
      ],
      "metadata": {
        "id": "b8xjvEtGHBju"
      }
    },
    {
      "cell_type": "code",
      "source": [
        "# Assign proper column names for the first four columns\n",
        "df.columns = [\"YTID\", \"start_seconds\", \"end_seconds\", \"positive_labels\"] + [f\"extra_label_{i}\" for i in range(len(df.columns) - 4)]\n",
        "\n",
        "# Identify all columns that contain labels (from the 4th column onward)\n",
        "label_columns = df.columns[3:]  # Includes \"positive_labels\" + all extra labels\n",
        "\n",
        "# Merge extra label columns into a single \"positive_labels\" column\n",
        "df[\"positive_labels\"] = df[label_columns].apply(lambda row: ','.join(row.dropna().astype(str)), axis=1)\n",
        "\n",
        "# Now drop the extra columns (except the necessary ones)\n",
        "df = df[[\"YTID\", \"start_seconds\", \"end_seconds\", \"positive_labels\"]]\n",
        "\n",
        "print(df.head())"
      ],
      "metadata": {
        "colab": {
          "base_uri": "https://localhost:8080/"
        },
        "id": "G0PwYCbdUNUS",
        "outputId": "b2492793-80ac-4b08-c5cf-f12401a7124a"
      },
      "execution_count": null,
      "outputs": [
        {
          "output_type": "stream",
          "name": "stdout",
          "text": [
            "          YTID start_seconds end_seconds  \\\n",
            "0  ---1_cCGK4M         0.000      10.000   \n",
            "1  ---2_BBVHAA        30.000      40.000   \n",
            "2  ---B_v8ZoBY        30.000      40.000   \n",
            "3  ---EDNidJUA        30.000      40.000   \n",
            "4  ---N4cFAE1A        21.000      31.000   \n",
            "\n",
            "                            positive_labels  \n",
            "0   \"/m/01g50p,/m/0284vy3,/m/06d_3,/m/07jdr  \n",
            "1                                \"/m/09x0r\"  \n",
            "2                                \"/m/04rlf\"  \n",
            "3   \"/m/02qldy,/m/02zsn,/m/05zppz,/m/09x0r\"  \n",
            "4                       \"/m/04rlf,/m/09x0r\"  \n"
          ]
        }
      ]
    },
    {
      "cell_type": "markdown",
      "source": [
        "## Mapping label to category"
      ],
      "metadata": {
        "id": "43YT2vByHUiX"
      }
    },
    {
      "cell_type": "markdown",
      "source": [
        "To apply the dataset to the early media detection use case the relevant labels need to be mapped to one of the four categories of early media: speech, silence, music and ringing"
      ],
      "metadata": {
        "id": "4Wh3zlcpHa5s"
      }
    },
    {
      "cell_type": "code",
      "source": [
        "category_mapping = {\n",
        "    \"Speech\": [\n",
        "        \"speech\", \"talking\", \"conversation\", \"narration\", \"monologue\", \"dialogue\", \"discussion\",\n",
        "        \"babbling\", \"shout\", \"whispering\", \"chanting\", \"yell\", \"laugh\", \"cry\", \"bellow\",\n",
        "        \"whoop\", \"scream\", \"giggle\", \"snicker\", \"chuckle\", \"whimper\", \"moan\", \"sigh\",\n",
        "        \"mantra\", \"groan\", \"grunt\", \"breathing\", \"wheeze\", \"snooring\", \"gasp\", \"pant\",\n",
        "        \"snort\", \"cough\", \"throat clearing\", \"sneeze\", \"sniff\", \"chewing\", \"biting\", \"gargling\",\n",
        "        \"hiccup\", \"cheering\", \"speech\", \"cough\"\n",
        "    ],\n",
        "    \"Silence\": [\n",
        "        \"silence\", \"quiet\", \"ambient\", \"run\", \"static\", \"vibration\"\n",
        "    ],\n",
        "    \"Music\": [\n",
        "        \"music\", \"singing\", \"instrument\", \"orchestra\", \"piano\", \"guitar\", \"choir\", \"song\",\n",
        "        \"humming\", \"melody\", \"drum\", \"beat\", \"rhythm\", \"synthesizer\", \"electronic\",\n",
        "        \"yodeling\", \"chant\", \"rapping\", \"whistling\", \"applause\", \"banjo\",\n",
        "        \"sitar\", \"mandolin\", \"zither\", \"ukulele\", \"piano\", \"organ\", \"sampler\", \"harpsichord\",\n",
        "        \"percussion\", \"timpani\", \"tabla\", \"cymbal\", \"hi-hat\", \"wood block\", \"tambourine\",\n",
        "        \"maraca\", \"gong\", \"mallet\", \"marimba\", \"glockenspiel\", \"vibraphone\", \"steelpan\",\n",
        "        \"orchestra\", \"horn\", \"trumpet\", \"trombone\", \"string\", \"violin\", \"pizzicato\", \"cello\", \"bass\",\n",
        "        \"flute\", \"saxophone\", \"clarinet\", \"harp\", \"tuning fork\", \"chime\", \"harmonica\",\n",
        "        \"accordion\", \"bagpipes\", \"didgeridoo\", \"shofar\", \"theremin\", \"scratching\",\n",
        "        \"heavy metal\", \"rock\", \"grunge\", \"rhythm\", \"reggae\", \"country\", \"bluegrass\", \"funk\",\n",
        "        \"jazz\", \"disco\", \"opera\", \"techno\", \"dubstep\", \"electronica\", \"flamenco\", \"blues\",\n",
        "        \"capella\", \"ska\", \"lullaby\"\n",
        "    ],\n",
        "    \"Ringing\": [\n",
        "        \"ring\", \"bell\", \"phone\", \"alarm\", \"chime\", \"beep\", \"notification\", \"timer\", \"noise\",\n",
        "        \"pulse\", \"sine wave\", \"heartbeat\", \"telephone\", \"dial\", \"siren\", \"buzzer\", \"tick\", \"ding\"\n",
        "    ]\n",
        "}\n"
      ],
      "metadata": {
        "id": "UBmDvTrt36cY"
      },
      "execution_count": null,
      "outputs": []
    },
    {
      "cell_type": "code",
      "source": [
        "# Function to determine category based on substrings\n",
        "def categorize_label(display_name):\n",
        "    display_name_lower = display_name.lower()\n",
        "\n",
        "    for category, keywords in category_mapping.items():\n",
        "        if any(keyword in display_name_lower for keyword in keywords):\n",
        "            return category\n",
        "\n",
        "    return \"Unknown\"  # If no match, mark as unknown\n",
        "\n",
        "# Map all mids to categories based on display_name\n",
        "mid_to_category = {\n",
        "    row[\"mid\"]: categorize_label(row[\"display_name\"]) for _, row in label_map_df.iterrows()\n",
        "}\n",
        "\n",
        "# Count how many labels were assigned to each category\n",
        "category_counts = pd.Series(list(mid_to_category.values())).value_counts()\n",
        "print(category_counts)  # Show number of labels per category\n"
      ],
      "metadata": {
        "colab": {
          "base_uri": "https://localhost:8080/"
        },
        "id": "upl7Cj1c8trd",
        "outputId": "da891520-d338-49b5-f7b7-224ad5f3d70e"
      },
      "execution_count": null,
      "outputs": [
        {
          "output_type": "stream",
          "name": "stdout",
          "text": [
            "Unknown    273\n",
            "Music      156\n",
            "Speech      46\n",
            "Ringing     45\n",
            "Silence      7\n",
            "Name: count, dtype: int64\n"
          ]
        }
      ]
    },
    {
      "cell_type": "code",
      "source": [
        "# Function to map mids in 'positive_labels' directly to categories\n",
        "def map_mids_to_categories(label_string):\n",
        "    label_ids = label_string.split(\",\")  # Split multiple mids\n",
        "    categories = set()  # Use a set to avoid duplicates\n",
        "\n",
        "    for mid in label_ids:\n",
        "        if mid in mid_to_category:\n",
        "            categories.add(mid_to_category[mid])\n",
        "\n",
        "    return \",\".join(categories) if categories else \"Unknown\"\n",
        "\n",
        "# Apply this mapping function to the dataset\n",
        "df[\"category\"] = df[\"positive_labels\"].apply(map_mids_to_categories)\n",
        "\n",
        "# Display the updated dataset\n",
        "print(df.head())"
      ],
      "metadata": {
        "colab": {
          "base_uri": "https://localhost:8080/"
        },
        "id": "3L65qAQ581xt",
        "outputId": "8a9ac591-bb3b-4cf8-ba98-36aaf2e47bb1"
      },
      "execution_count": null,
      "outputs": [
        {
          "output_type": "stream",
          "name": "stdout",
          "text": [
            "          YTID start_seconds end_seconds  \\\n",
            "0  ---1_cCGK4M         0.000      10.000   \n",
            "1  ---2_BBVHAA        30.000      40.000   \n",
            "2  ---B_v8ZoBY        30.000      40.000   \n",
            "3  ---EDNidJUA        30.000      40.000   \n",
            "4  ---N4cFAE1A        21.000      31.000   \n",
            "\n",
            "                            positive_labels       category  \n",
            "0   \"/m/01g50p,/m/0284vy3,/m/06d_3,/m/07jdr  Unknown,Music  \n",
            "1                                \"/m/09x0r\"        Unknown  \n",
            "2                                \"/m/04rlf\"        Unknown  \n",
            "3   \"/m/02qldy,/m/02zsn,/m/05zppz,/m/09x0r\"         Speech  \n",
            "4                       \"/m/04rlf,/m/09x0r\"        Unknown  \n"
          ]
        }
      ]
    },
    {
      "cell_type": "markdown",
      "source": [
        "## Handling \"Unknown\" label values"
      ],
      "metadata": {
        "id": "PWODiebcQd-l"
      }
    },
    {
      "cell_type": "markdown",
      "source": [
        "Considering that the rows that contain the \"Unknown\" value are irrelevant for this analysis, they should be removed to simplify the analysis."
      ],
      "metadata": {
        "id": "AlowB87-RWUb"
      }
    },
    {
      "cell_type": "code",
      "source": [
        "# Remove rows where 'Unknown' appears anywhere in the category column\n",
        "df = df[~df[\"category\"].str.contains(\"Unknown\", na=False)]\n",
        "\n",
        "# Reset index after removal\n",
        "df = df.reset_index(drop=True)\n",
        "\n",
        "# Display updated dataset info\n",
        "print(\"Updated dataset after removing 'Unknown'-only rows:\")\n",
        "print(df.head())"
      ],
      "metadata": {
        "colab": {
          "base_uri": "https://localhost:8080/"
        },
        "id": "cgE1tfW6QlF5",
        "outputId": "f490e62d-51ce-4d93-c49f-8c937e184185"
      },
      "execution_count": null,
      "outputs": [
        {
          "output_type": "stream",
          "name": "stdout",
          "text": [
            "Updated dataset after removing 'Unknown'-only rows:\n",
            "          YTID start_seconds end_seconds  \\\n",
            "0  ---EDNidJUA        30.000      40.000   \n",
            "1  --0FMNFsVeg        30.000      40.000   \n",
            "2  --0Oh0JxzjQ        30.000      40.000   \n",
            "3  --0fim4-6Ig        30.000      40.000   \n",
            "4  --1NzL0juik        30.000      40.000   \n",
            "\n",
            "                            positive_labels category  \n",
            "0   \"/m/02qldy,/m/02zsn,/m/05zppz,/m/09x0r\"   Speech  \n",
            "1     \"/m/018vs,/m/0342h,/m/04rlf,/m/04szw\"    Music  \n",
            "2    \"/m/0342h,/m/04rlf,/m/04szw,/m/0fx80y\"    Music  \n",
            "3    \"/m/0342h,/m/04rlf,/m/04szw,/m/0fx80y\"    Music  \n",
            "4      \"/m/026t6,/m/02hnl,/m/04rlf,/m/04szw    Music  \n"
          ]
        }
      ]
    },
    {
      "cell_type": "markdown",
      "source": [
        "# Exploratory Data Analysis"
      ],
      "metadata": {
        "id": "2CJCyTLUovTg"
      }
    },
    {
      "cell_type": "markdown",
      "source": [
        "This section will try to discover unexpected findings in the data and try to suggest hypotheses about the causes of observed phenomena."
      ],
      "metadata": {
        "id": "X99KfcNICN1j"
      }
    },
    {
      "cell_type": "markdown",
      "source": [
        "## Summary statistics"
      ],
      "metadata": {
        "id": "XUjX2z-6qorI"
      }
    },
    {
      "cell_type": "code",
      "source": [
        "# Basic Info About Dataset\n",
        "print(df.info())\n",
        "\n",
        "# Summary Statistics for numerical columns\n",
        "print(df.describe())\n",
        "\n",
        "# Count of Unique Categories\n",
        "print(\"Unique Categories:\", df[\"category\"].unique())\n"
      ],
      "metadata": {
        "colab": {
          "base_uri": "https://localhost:8080/"
        },
        "id": "7UVbt8IlItCm",
        "outputId": "a3e377be-a3c2-4bda-a491-da2b55fbef95"
      },
      "execution_count": null,
      "outputs": [
        {
          "output_type": "stream",
          "name": "stdout",
          "text": [
            "<class 'pandas.core.frame.DataFrame'>\n",
            "RangeIndex: 260489 entries, 0 to 260488\n",
            "Data columns (total 5 columns):\n",
            " #   Column           Non-Null Count   Dtype \n",
            "---  ------           --------------   ----- \n",
            " 0   YTID             260489 non-null  object\n",
            " 1   start_seconds    260489 non-null  object\n",
            " 2   end_seconds      260489 non-null  object\n",
            " 3   positive_labels  260489 non-null  object\n",
            " 4   category         260489 non-null  object\n",
            "dtypes: object(5)\n",
            "memory usage: 9.9+ MB\n",
            "None\n",
            "               YTID start_seconds end_seconds                positive_labels  \\\n",
            "count        260489        260489      260489                         260489   \n",
            "unique       260489           142         151                          18843   \n",
            "top     kj4KuOOToEg        30.000      40.000   \"/m/04rlf,/m/04szw,/m/07y_7\"   \n",
            "freq              1        119952      119952                          16078   \n",
            "\n",
            "       category  \n",
            "count    260489  \n",
            "unique       14  \n",
            "top       Music  \n",
            "freq     187766  \n",
            "Unique Categories: ['Speech' 'Music' 'Silence,Music' 'Speech,Music' 'Ringing'\n",
            " 'Silence,Speech' 'Silence' 'Speech,Ringing' 'Silence,Speech,Music'\n",
            " 'Music,Ringing' 'Ringing,Speech,Music' 'Ringing,Music'\n",
            " 'Music,Speech,Ringing' 'Silence,Ringing']\n"
          ]
        }
      ]
    },
    {
      "cell_type": "markdown",
      "source": [
        "## Visualizations"
      ],
      "metadata": {
        "id": "OYj2hZnOqrO_"
      }
    },
    {
      "cell_type": "code",
      "source": [
        "# Count occurrences of each category\n",
        "category_counts = df[\"category\"].str.get_dummies(sep=\",\").sum().sort_values(ascending=False)\n",
        "\n",
        "# Plot category distribution with log scale\n",
        "plt.figure(figsize=(12, 6))\n",
        "sns.barplot(x=category_counts.index, y=category_counts.values, hue=category_counts.index, palette=\"viridis\", legend=False)\n",
        "\n",
        "# Set log scale for y-axis\n",
        "plt.yscale(\"log\")\n",
        "plt.xlabel(\"Audio Category\")\n",
        "plt.ylabel(\"Log Count\")\n",
        "plt.title(\"Log-Scaled Distribution of Audio Categories\")\n",
        "plt.xticks(rotation=30)\n",
        "plt.show()"
      ],
      "metadata": {
        "colab": {
          "base_uri": "https://localhost:8080/",
          "height": 589
        },
        "id": "g7Qn9JqqJNOJ",
        "outputId": "b731d38f-215f-45f0-f598-bee62b00ad5f"
      },
      "execution_count": null,
      "outputs": [
        {
          "output_type": "display_data",
          "data": {
            "text/plain": [
              "<Figure size 1200x600 with 1 Axes>"
            ],
            "image/png": "[encoded data removed]"
          },
          "metadata": {}
        }
      ]
    },
    {
      "cell_type": "code",
      "source": [
        "# Create co-occurrence matrix\n",
        "co_occurrence_matrix = df[\"category\"].str.get_dummies(sep=\",\").T.dot(df[\"category\"].str.get_dummies(sep=\",\"))\n",
        "\n",
        "# Plot heatmap\n",
        "plt.figure(figsize=(6, 5))\n",
        "sns.heatmap(co_occurrence_matrix, cmap=\"Blues\", annot=True, fmt=\".0f\")\n",
        "plt.title(\"Category Co-Occurrence Matrix\", fontsize=14)\n",
        "plt.show()\n",
        "\n",
        "# Print co-occurrence matrix\n",
        "print(\"Top Co-Occurrences Between Categories:\\n\")\n",
        "print(co_occurrence_matrix)\n"
      ],
      "metadata": {
        "colab": {
          "base_uri": "https://localhost:8080/",
          "height": 591
        },
        "id": "YozuVv50bFGQ",
        "outputId": "f6b3e294-4e4d-4d3c-97b8-cae0eb842468"
      },
      "execution_count": null,
      "outputs": [
        {
          "output_type": "display_data",
          "data": {
            "text/plain": [
              "<Figure size 600x500 with 2 Axes>"
            ],
            "image/png": "[encoded data removed]"
          },
          "metadata": {}
        },
        {
          "output_type": "stream",
          "name": "stdout",
          "text": [
            "Top Co-Occurrences Between Categories:\n",
            "\n",
            "          Music  Ringing  Silence  Speech\n",
            "Music    197112      260      181    8982\n",
            "Ringing     260     3339        1     345\n",
            "Silence     181        1     1045     451\n",
            "Speech     8982      345      451   69136\n"
          ]
        }
      ]
    },
    {
      "cell_type": "code",
      "source": [
        "# Convert co-occurrence matrix into a sorted list of pairs\n",
        "co_occurrence_pairs = (\n",
        "    co_occurrence_matrix.where(np.triu(np.ones(co_occurrence_matrix.shape), k=1).astype(bool))\n",
        "    .stack()\n",
        "    .reset_index()\n",
        "    .rename(columns={0: \"count\"})\n",
        "    .sort_values(by=\"count\", ascending=False)\n",
        ")\n",
        "\n",
        "# Display the top 10 most common co-occurring category pairs\n",
        "print(\"Top 10 Most Common Category Pairs:\\n\")\n",
        "print(co_occurrence_pairs.head(10))\n"
      ],
      "metadata": {
        "colab": {
          "base_uri": "https://localhost:8080/"
        },
        "id": "vkr8Eg4HxauO",
        "outputId": "3350b666-1ee6-4e06-da2c-9d848551baee"
      },
      "execution_count": null,
      "outputs": [
        {
          "output_type": "stream",
          "name": "stdout",
          "text": [
            "Top 10 Most Common Category Pairs:\n",
            "\n",
            "   level_0  level_1   count\n",
            "2    Music   Speech  8982.0\n",
            "5  Silence   Speech   451.0\n",
            "4  Ringing   Speech   345.0\n",
            "0    Music  Ringing   260.0\n",
            "1    Music  Silence   181.0\n",
            "3  Ringing  Silence     1.0\n"
          ]
        }
      ]
    },
    {
      "cell_type": "code",
      "source": [
        "# Convert start_seconds and end_seconds to numeric types\n",
        "df[\"start_seconds\"] = pd.to_numeric(df[\"start_seconds\"], errors=\"coerce\")\n",
        "df[\"end_seconds\"] = pd.to_numeric(df[\"end_seconds\"], errors=\"coerce\")\n",
        "\n",
        "# Compute duration of each audio clip\n",
        "df[\"duration\"] = df[\"end_seconds\"] - df[\"start_seconds\"]\n",
        "\n",
        "# Summary of durations\n",
        "print(df[\"duration\"].describe())\n",
        "\n",
        "# Plot histogram of audio clip durations\n",
        "plt.figure(figsize=(8, 4))\n",
        "sns.histplot(df[\"duration\"], bins=30, kde=True, color=\"blue\")\n",
        "plt.xlabel(\"Duration (seconds)\")\n",
        "plt.ylabel(\"Frequency\")\n",
        "plt.title(\"Distribution of Audio Clip Durations\")\n",
        "plt.show()\n",
        "\n"
      ],
      "metadata": {
        "colab": {
          "base_uri": "https://localhost:8080/",
          "height": 566
        },
        "id": "aAtKRtjeSsY6",
        "outputId": "e20e14ee-7763-434d-a2d6-930a700a6b4b"
      },
      "execution_count": null,
      "outputs": [
        {
          "output_type": "stream",
          "name": "stdout",
          "text": [
            "count    260489.000000\n",
            "mean          9.991224\n",
            "std           0.180555\n",
            "min           1.000000\n",
            "25%          10.000000\n",
            "50%          10.000000\n",
            "75%          10.000000\n",
            "max          10.000000\n",
            "Name: duration, dtype: float64\n"
          ]
        },
        {
          "output_type": "display_data",
          "data": {
            "text/plain": [
              "<Figure size 800x400 with 1 Axes>"
            ],
            "image/png": "[encoded data removed]"
          },
          "metadata": {}
        }
      ]
    },
    {
      "cell_type": "code",
      "source": [
        "# Scatter plot of categories over time\n",
        "plt.figure(figsize=(10, 6))\n",
        "sns.scatterplot(data=df, x=\"duration\", y=\"category\", alpha=0.5, edgecolor=None)\n",
        "plt.xlabel(\"Time (Seconds)\", fontsize=12)\n",
        "plt.ylabel(\"Category\", fontsize=12)\n",
        "plt.title(\"Category Distribution Over Time\", fontsize=14)\n",
        "plt.grid(axis=\"y\", linestyle=\"--\", alpha=0.7)\n",
        "plt.show()"
      ],
      "metadata": {
        "colab": {
          "base_uri": "https://localhost:8080/",
          "height": 569
        },
        "id": "bHLFzSs5efNV",
        "outputId": "8359f093-ee97-4148-86a2-2984adf6aadc"
      },
      "execution_count": null,
      "outputs": [
        {
          "output_type": "display_data",
          "data": {
            "text/plain": [
              "<Figure size 1000x600 with 1 Axes>"
            ],
            "image/png": "[encoded data removed]"
          },
          "metadata": {}
        }
      ]
    },
    {
      "cell_type": "markdown",
      "source": [
        "## Distribution analysis"
      ],
      "metadata": {
        "id": "S2-8uFETqvnR"
      }
    },
    {
      "cell_type": "markdown",
      "source": [
        "From the visualized distributions it can be concluded that the *Music* labels category is most represented in the dataset, while the *Silence* label category is vastly underrepresented in the data set. Also, it is visible that the data usually belongs to only one of the four label categories.\n",
        "Regarding the audio clip durations, the mean duration is , as expected, slightly under 10 seconds. The category distribution over time plot suggests that, of the few audio clips in the dataset whose duration is shorter that 10 seconds, they mostly belong in the *Speech* label category.\n",
        "\n",
        "With this information in mind, a hypothesis can be set out that the reason for the *Music* category being most represented in the dataset is because it supplements other categories more than any other category."
      ],
      "metadata": {
        "id": "RUCFIYleFmmp"
      }
    },
    {
      "cell_type": "markdown",
      "source": [
        "# Inferential Statistics"
      ],
      "metadata": {
        "id": "00-T_Y5jrHGj"
      }
    },
    {
      "cell_type": "markdown",
      "source": [
        "This section aims to answer the following questions using statistical inference:\n",
        "\n",
        "\n",
        "\n",
        "1.   Do different categories have significantly different average durations?\n",
        "2.   Is the distribution of clip durations significantly different between speech and music?\n",
        "3.   Does the *Music* Category Supplement Other Categories More Than Any Other Category?\n",
        "4.   What is the confidence interval for the mean clip duration?"
      ],
      "metadata": {
        "id": "cckD3CJ7ywfz"
      }
    },
    {
      "cell_type": "markdown",
      "source": [
        "## Hypothesis testing"
      ],
      "metadata": {
        "id": "Ye_NsNpDrJPC"
      }
    },
    {
      "cell_type": "markdown",
      "source": [
        "**Hypothesis Test 1: Do Different Categories Have Different Average Durations?**\n",
        "\n",
        "This analysis will utilize ANOVA (Analysis of Variance) to test whether the average duration of audio clips differs significantly between categories.\n",
        "\n",
        "**Null Hypothesis (H₀):**\n",
        "*   The mean duration of audio clips does not differ across categories.\n",
        "\n",
        "**Alternative Hypothesis (H₁):**\n",
        "*   At least one category has a significantly different mean duration.\n"
      ],
      "metadata": {
        "id": "C8eRcemCzMEz"
      }
    },
    {
      "cell_type": "code",
      "source": [
        "category_durations = [group[\"duration\"].dropna().values for _, group in df.groupby(\"category\")]\n",
        "f_statistic, p_value = stats.f_oneway(*category_durations)\n",
        "\n",
        "print(\"ANOVA Test for Duration Across Categories\")\n",
        "print(f\"F-statistic: {f_statistic:.3f}\")\n",
        "print(f\"P-value: {p_value:.5f}\")\n",
        "\n",
        "# Interpretation\n",
        "if p_value < 0.05:\n",
        "    print(\"There is a significant difference in mean durations across categories.\")\n",
        "else:\n",
        "    print(\"No significant difference found between categories.\")"
      ],
      "metadata": {
        "colab": {
          "base_uri": "https://localhost:8080/"
        },
        "id": "-5ebDDJHzLjr",
        "outputId": "1da6928c-adab-4525-b34f-889f7ca01d7e"
      },
      "execution_count": null,
      "outputs": [
        {
          "output_type": "stream",
          "name": "stdout",
          "text": [
            "ANOVA Test for Duration Across Categories\n",
            "F-statistic: 14.793\n",
            "P-value: 0.00000\n",
            "There is a significant difference in mean durations across categories.\n"
          ]
        }
      ]
    },
    {
      "cell_type": "markdown",
      "source": [
        "**Hypothesis Test 2:  Are *Speech* and *Music* Durations Significantly Different?**\n",
        "\n",
        "A t-test will be used to compare the mean durations of *Speech* vs. *Music* clips.\n",
        "\n",
        "**Null Hypothesis (H₀):**\n",
        "*   *Speech* and *Music* clips have the same average duration.\n",
        "\n",
        "**Alternative Hypothesis (H₁):**\n",
        "*   *Speech* and *Music* clips have different mean durations."
      ],
      "metadata": {
        "id": "l1Zg9tM82FZZ"
      }
    },
    {
      "cell_type": "code",
      "source": [
        "# Extract durations for Speech and Music categories\n",
        "speech_durations = df[df[\"category\"].str.contains(\"Speech\", na=False)][\"duration\"].dropna()\n",
        "music_durations = df[df[\"category\"] == \"Music\"][\"duration\"].dropna()\n",
        "\n",
        "# Perform independent t-test\n",
        "t_statistic, p_value = stats.ttest_ind(speech_durations, music_durations, equal_var=False)\n",
        "\n",
        "print(\"\\nT-Test: Speech vs. Music Durations\")\n",
        "print(f\"T-statistic: {t_statistic:.3f}\")\n",
        "print(f\"P-value: {p_value:.5f}\")\n",
        "\n",
        "# Interpretation\n",
        "if p_value < 0.05:\n",
        "    print(\"Speech and music clips have significantly different durations.\")\n",
        "else:\n",
        "    print(\"No significant difference found between Speech and Music durations.\")\n"
      ],
      "metadata": {
        "colab": {
          "base_uri": "https://localhost:8080/"
        },
        "id": "Ds7JGJkK2cr8",
        "outputId": "c8a5d356-8979-49d0-8dfa-2df1dd35c24b"
      },
      "execution_count": null,
      "outputs": [
        {
          "output_type": "stream",
          "name": "stdout",
          "text": [
            "\n",
            "T-Test: Speech vs. Music Durations\n",
            "T-statistic: -9.711\n",
            "P-value: 0.00000\n",
            "Speech and music clips have significantly different durations.\n"
          ]
        }
      ]
    },
    {
      "cell_type": "markdown",
      "source": [
        "**Hypothesis Test 3:  Does the *Music* Category Supplement Other Categories More Than Any Other Category?**\n",
        "\n",
        "This hypothesis suggests that *Music* is frequently co-occurring with other categories in the dataset. To test this, the co-occurrence frequency of *Music* with other labels against the co-occurrence frequency of other categories will be compared.\n",
        "\n",
        "**Null Hypothesis (H₀):**\n",
        "*   The *Music* category is not significantly more likely to co-occur with other categories than any other category.\n",
        "\n",
        "**Alternative Hypothesis (H₁):**\n",
        "*   The *Music* category co-occurs significantly more with other categories than any other category."
      ],
      "metadata": {
        "id": "mi-ca_5l3a_P"
      }
    },
    {
      "cell_type": "code",
      "source": [
        "# Count co-occurring categories for each row\n",
        "df[\"num_cooccurrences\"] = df[\"category\"].str.count(\",\")  # Count commas to get number of co-occurring labels\n",
        "\n",
        "# Compute the average co-occurrence for Music vs. all other categories\n",
        "music_cooccurrences = df[df[\"category\"].str.contains(\"Music\", na=False)][\"num_cooccurrences\"]\n",
        "other_cooccurrences = df[~df[\"category\"].str.contains(\"Music\", na=False)][\"num_cooccurrences\"]\n",
        "\n",
        "# Perform one-sample t-test\n",
        "t_statistic, p_value = stats.ttest_1samp(music_cooccurrences, other_cooccurrences.mean())\n",
        "\n",
        "print(\"\\nT-Test: Does Music Co-occur More Than Other Categories?\")\n",
        "print(f\"T-statistic: {t_statistic:.3f}\")\n",
        "print(f\"P-value: {p_value:.5f}\")\n",
        "\n",
        "# Interpretation\n",
        "if p_value < 0.05:\n",
        "    print(\"Music significantly co-occurs with other categories more than other categories do.\")\n",
        "else:\n",
        "    print(\"No significant evidence that Music co-occurs more than other categories.\")\n"
      ],
      "metadata": {
        "colab": {
          "base_uri": "https://localhost:8080/"
        },
        "id": "lfhTh-R739EY",
        "outputId": "eadc4b82-e8e7-46c0-c9fd-cc90797234bf"
      },
      "execution_count": null,
      "outputs": [
        {
          "output_type": "stream",
          "name": "stdout",
          "text": [
            "\n",
            "T-Test: Does Music Co-occur More Than Other Categories?\n",
            "T-statistic: 75.196\n",
            "P-value: 0.00000\n",
            "Music significantly co-occurs with other categories more than other categories do.\n"
          ]
        }
      ]
    },
    {
      "cell_type": "markdown",
      "source": [
        "From these tests, we can conclude that the *Music* category indeed supplements other categories more so than any other category, which is expected given it is the most present category in the dataset. The other two hypothesis were also proven to be corrected, suggesting that duration influences the categorization of the audio clips."
      ],
      "metadata": {
        "id": "iUlREF0x494x"
      }
    },
    {
      "cell_type": "markdown",
      "source": [
        "## Confidence intervals"
      ],
      "metadata": {
        "id": "DUcdWn6zrMHq"
      }
    },
    {
      "cell_type": "markdown",
      "source": [
        "**Confidence Interval for Mean Clip Duration**\n",
        "\n",
        "A 95% confidence interval provides an estimate for the true average duration of audio clips."
      ],
      "metadata": {
        "id": "dfJNK3yI2mtx"
      }
    },
    {
      "cell_type": "code",
      "source": [
        "mean_duration = df[\"duration\"].mean()\n",
        "std_error = stats.sem(df[\"duration\"].dropna())  # Standard error of the mean\n",
        "ci_lower, ci_upper = stats.t.interval(0.95, df=len(df[\"duration\"].dropna())-1, loc=mean_duration, scale=std_error)\n",
        "\n",
        "print(\"\\n95% Confidence Interval for Clip Duration\")\n",
        "print(f\"Mean Duration: {mean_duration:.2f} sec\")\n",
        "print(f\"95% CI: ({ci_lower:.2f}, {ci_upper:.2f}) sec\")"
      ],
      "metadata": {
        "colab": {
          "base_uri": "https://localhost:8080/"
        },
        "id": "oo0udvvZ2kry",
        "outputId": "a771c0a8-21ca-49ad-ecf7-b1858fe2accd"
      },
      "execution_count": null,
      "outputs": [
        {
          "output_type": "stream",
          "name": "stdout",
          "text": [
            "\n",
            "95% Confidence Interval for Clip Duration\n",
            "Mean Duration: 9.99 sec\n",
            "95% CI: (9.99, 9.99) sec\n"
          ]
        }
      ]
    },
    {
      "cell_type": "markdown",
      "source": [
        "As expected, the average audio clip duration in the dataset is just under 10 seconds."
      ],
      "metadata": {
        "id": "m5mevYNM52p1"
      }
    },
    {
      "cell_type": "markdown",
      "source": [
        "# Findings and Interpretations"
      ],
      "metadata": {
        "id": "3CF-9kK5rmBo"
      }
    },
    {
      "cell_type": "markdown",
      "source": [
        "## Dataset Overview"
      ],
      "metadata": {
        "id": "hA-WqyU0rqnn"
      }
    },
    {
      "cell_type": "markdown",
      "source": [
        "The dataset consists of YouTube audio segments labeled with different sound events.\n",
        "\n",
        "Labels were mapped into four broad categories:\n",
        "\n",
        "*   Speech\n",
        "*   Silence\n",
        "*   Music\n",
        "*   Ringing\n",
        "\n",
        "Rows containing only labels that don't belong in these four categories were removed."
      ],
      "metadata": {
        "id": "sM3JAKCE66r-"
      }
    },
    {
      "cell_type": "markdown",
      "source": [
        "## Key Findings from Exploratory Data Analysis"
      ],
      "metadata": {
        "id": "-9zUjXz7r1UF"
      }
    },
    {
      "cell_type": "markdown",
      "source": [
        "**Label Distribution**\n",
        "*   *Music* is the most frequent category in the dataset, followed by *Speech*.\n",
        "*   *Silence* and *Ringing* occur less frequently.\n",
        "\n",
        "**Co-occurrence of Labels**\n",
        "\n",
        "*   *Music* is highly co-occurring with other categories, often appearing alongside *Speech*.\n",
        "*   *Speech* appears alone less frequently than *Music* does.\n",
        "\n",
        "**Distribution of Audio Segment Durations**\n",
        "*  The dataset contains segments of varying lengths, but most segments are around 10 seconds.\n",
        "*  There is a right-skewed distribution, meaning there the vast majority of clips are 10 seconds long, while a few are significantly shorter, with no audio clip being longer than 10 seconds."
      ],
      "metadata": {
        "id": "b9hngtoP7miP"
      }
    },
    {
      "cell_type": "markdown",
      "source": [
        "## Inferential Statistics Findings"
      ],
      "metadata": {
        "id": "SFcjxoEAr59M"
      }
    },
    {
      "cell_type": "markdown",
      "source": [
        "**Co-occurrence Analysis: Does *Music* Supplement Other Categories More?**\n",
        "\n",
        "**Hypothesis test result:**\n",
        "\n",
        "\n",
        "*   p-value < 0.05 → Strong evidence that *Music* co-occurs significantly more with other categories than any other category.\n",
        "*   This supports the idea that *Music* is not only dominant but also a supplementary label in the dataset.\n",
        "\n",
        "***Speech* vs. *Music* Comparison**\n",
        "*   *Speech* tends to appear alone more often, whereas *Music* often supplements Speech or other labels.\n",
        "*   The dataset may have a built-in bias toward labeling background music even when it is not the primary audio event.\n",
        "\n"
      ],
      "metadata": {
        "id": "ek7tO0ruJG3D"
      }
    },
    {
      "cell_type": "markdown",
      "source": [
        "## Interpretation and implications"
      ],
      "metadata": {
        "id": "OpHKT_3gJp98"
      }
    },
    {
      "cell_type": "markdown",
      "source": [
        "*   *Music*'s high co-occurrence rate suggests that it is often labeled even when not the primary sound, possibly due to background music.\n",
        "*   *Speech* appears alone more often, suggesting that when *speech* is present, it is often considered the dominant sound event.\n",
        "*   The dataset is imbalanced: *Music* is dominant, while *Ringing* and *Silence* are underrepresented.\n",
        "*   Rows with different categories of labels have a significantly different duration of audio clips, suggesting that audio clip duration also plays a role in the labeling of data.  \n",
        "\n",
        "**Potential impact on ML models:**\n",
        "\n",
        "*   When used for training, the model might over-predict *Music* due to its frequent presence.\n",
        "\n",
        "*   The dataset might need balancing or augmentation to avoid bias toward *Music*-dominant samples."
      ],
      "metadata": {
        "id": "E4z7ynLSJtjb"
      }
    },
    {
      "cell_type": "markdown",
      "source": [
        "# Limitations and Assumptions"
      ],
      "metadata": {
        "id": "8pC9gQNqr_c0"
      }
    },
    {
      "cell_type": "markdown",
      "source": [
        "## Potential biases"
      ],
      "metadata": {
        "id": "hsSWWTQKsEhb"
      }
    },
    {
      "cell_type": "markdown",
      "source": [
        "**Label Coarseness:**\n",
        "\n",
        "*   The dataset originally contained 527 detailed labels, but these were mapped into only four broad categories: Speech, Silence, Music, and Ringing.\n",
        "\n",
        "*   This aggregation may lead to loss of specificity in the analysis, as distinct sounds (e.g., \"Singing\" vs. \"Instrumental Music\") are treated the same.\n",
        "\n",
        "**Potential Labeling Bias:**\n",
        "\n",
        "*   Some sound events, especially those that are subtle or occur in the background, may be inaccurately labeled or inconsistently annotated.\n",
        "\n",
        "**Imbalanced Representation:**\n",
        "\n",
        "*   The dataset is not evenly distributed across categories. *Music* appears far more frequently than *Silence* or *Ringing*, which may affect the generalizability of models trained on this dataset.\n",
        "\n",
        "*   The imbalance might lead to a model bias that over-predicts *Music* while under-predicting less frequent categories."
      ],
      "metadata": {
        "id": "gJb5UgSoKqOA"
      }
    },
    {
      "cell_type": "markdown",
      "source": [
        "## Model assumptions"
      ],
      "metadata": {
        "id": "FYwcZ_LrsKtq"
      }
    },
    {
      "cell_type": "markdown",
      "source": [
        "**Label Mapping Accuracy:**\n",
        "\n",
        "*   The mapping of detailed labels to the four broad categories assumes that labels with similar meanings should be grouped together.\n",
        "\n",
        "*   This approach simplifies the dataset but may not fully capture differences between subcategories (e.g., \"Babbling\" vs. \"Conversation\" under *Speech*).\n",
        "\n",
        "**Equal Importance of Co-Occurrences:**\n",
        "\n",
        "*   In the co-occurrence analysis, all co-occurrences were treated equally.\n",
        "\n",
        "*   The analysis did not weigh whether some labels were more dominant in a given audio clip. For example, an audio clip labeled with both *Speech* and *Music* may have loud speech and very faint background music, but both were counted equally.\n",
        "\n",
        "**T-Test Assumptions:**\n",
        "\n",
        "*   The one-sample t-test assumes that the distribution of co-occurrence counts follows a normal distribution or that the sample size is large enough for the Central Limit Theorem to apply.\n",
        "\n",
        "*   While the dataset is large, the exact distribution of co-occurrence frequencies was not verified for normality, which could affect the validity of the hypothesis test.\n",
        "\n",
        "**Data Cleaning Choices:**\n",
        "\n",
        "*   Rows where all labels were *Unknown* were removed, as well as rows where *Unknown* was one of multiple labels.\n",
        "\n",
        "*   This assumes that *Unknown* does not carry useful information and can be discarded without impacting dataset integrity.\n",
        "\n",
        "**Audio Duration Assumptions:**\n",
        "\n",
        "*   The analysis treated all audio segments equally, regardless of their duration.\n",
        "\n",
        "*   Some longer clips may contain multiple sound events, but each clip was assigned a single set of labels, potentially overlooking transitions between sound events."
      ],
      "metadata": {
        "id": "KY7FgmNcLtfd"
      }
    },
    {
      "cell_type": "markdown",
      "source": [
        "## Data limitations"
      ],
      "metadata": {
        "id": "XNyidH_LsPMB"
      }
    },
    {
      "cell_type": "markdown",
      "source": [
        "**Co-Occurrence Limitations:**\n",
        "\n",
        "*   The hypothesis test examined whether *Music* is the most common co-occurring label, but it did not consider the semantic relationship between labels.\n",
        "\n",
        "*   It is unclear whether *Music*'s high co-occurrence is due to actual overlapping sounds or labeling conventions where background music is frequently tagged.\n",
        "\n",
        "**Dataset Scope:**\n",
        "\n",
        "*   The dataset is limited to YouTube videos, meaning that the findings may not generalize to other sources of audio, particulary those from phone call recordings that they should be applied to.\n",
        "\n",
        "*   Certain sound categories (e.g., industrial noises, natural sounds) may be underrepresented compared to online media content."
      ],
      "metadata": {
        "id": "OWWzDZprLsGT"
      }
    },
    {
      "cell_type": "markdown",
      "source": [
        "# Conclusion"
      ],
      "metadata": {
        "id": "I59O33H2sUNZ"
      }
    },
    {
      "cell_type": "markdown",
      "source": [
        "## Summary of main findings"
      ],
      "metadata": {
        "id": "UDyIBTSZsXSC"
      }
    },
    {
      "cell_type": "markdown",
      "source": [
        "The analysis of the AudioSet evaluation dataset revealed several key insights about the distribution and co-occurrence of sound categories. The dataset is *highly imbalanced*, with *Music* being the most frequent category, followed by *Speech*, while *Silence* and *Ringing* are significantly underrepresented. Exploratory and inferential analyses confirmed that *Music* frequently co-occurs with other categories, supporting the hypothesis that its prevalence is due to its supplementary role in many audio contexts.\n",
        "\n",
        "Additionally, data cleaning efforts removed *Unknown* labels and merged similar categories to provide a clearer structure for analysis. Despite these improvements, potential biases in annotation, imbalanced category representation, and the loss of specificity due to label aggregation should be considered when interpreting results."
      ],
      "metadata": {
        "id": "kKpAbPwpNpeW"
      }
    },
    {
      "cell_type": "markdown",
      "source": [
        "## Practical recommendations"
      ],
      "metadata": {
        "id": "9yT16nRsMA-p"
      }
    },
    {
      "cell_type": "markdown",
      "source": [
        "**Addressing Data Imbalance**\n",
        "\n",
        "*   When building the  machine learning model, techniques like oversampling underrepresented classes or using weighted loss functions could mitigate model bias in this dataset.\n",
        "\n",
        "**Refining Label Categorization**\n",
        "\n",
        "*   While the current four-category mapping provides a simplified view, future analyses could explore a hierarchical classification that maintains some subcategory distinctions (e.g., distinguishing between background and foreground speech).\n",
        "\n",
        "**Validating Findings with Additional Datasets**\n",
        "\n",
        "*   The dataset is sourced exclusively from YouTube videos, limiting its generalizability.\n",
        "\n",
        "*   Future work could compare findings with datasets from relevant sources for this application which are phone call recordings."
      ],
      "metadata": {
        "id": "Ps8OMp2jNyrM"
      }
    },
    {
      "cell_type": "markdown",
      "source": [
        "# Knowledge distillation from CLAP to a compact CNN"
      ],
      "metadata": {
        "id": "nDIoz_viAyE-"
      }
    },
    {
      "cell_type": "code",
      "source": [
        "# Step 1: Install dependencies\n",
        "!pip install -q git+https://github.com/LAION-AI/CLAP.git librosa torchaudio scikit-learn"
      ],
      "metadata": {
        "colab": {
          "base_uri": "https://localhost:8080/"
        },
        "id": "-FuzARUMAMa1",
        "outputId": "5b5fcb0a-64a4-4254-cbc4-f67afa0dff68"
      },
      "execution_count": null,
      "outputs": [
        {
          "output_type": "stream",
          "name": "stdout",
          "text": [
            "  Installing build dependencies ... \u001b[?25l\u001b[?25hdone\n",
            "  Getting requirements to build wheel ... \u001b[?25l\u001b[?25hdone\n",
            "  Preparing metadata (pyproject.toml) ... \u001b[?25l\u001b[?25hdone\n"
          ]
        }
      ]
    },
    {
      "cell_type": "code",
      "source": [
        "# Step 2: Imports and model loading\n",
        "import torch\n",
        "import torch.nn as nn\n",
        "import torch.nn.functional as F\n",
        "import torchaudio\n",
        "import numpy as np\n",
        "from sklearn.model_selection import train_test_split\n",
        "from sklearn.metrics import classification_report\n",
        "from clap import CLAP_Module"
      ],
      "metadata": {
        "colab": {
          "base_uri": "https://localhost:8080/",
          "height": 529
        },
        "id": "XTFfLlV8DXB1",
        "outputId": "0dc9ba17-cd54-45a7-d926-3ce079e6173f"
      },
      "execution_count": null,
      "outputs": [
        {
          "output_type": "error",
          "ename": "ModuleNotFoundError",
          "evalue": "No module named 'numpy.rec'",
          "traceback": [
            "\u001b[0;31m---------------------------------------------------------------------------\u001b[0m",
            "\u001b[0;31mModuleNotFoundError\u001b[0m                       Traceback (most recent call last)",
            "\u001b[0;32m<ipython-input-6-cf76ffd5bc7d>\u001b[0m in \u001b[0;36m<cell line: 0>\u001b[0;34m()\u001b[0m\n\u001b[1;32m      5\u001b[0m \u001b[0;32mimport\u001b[0m \u001b[0mtorchaudio\u001b[0m\u001b[0;34m\u001b[0m\u001b[0;34m\u001b[0m\u001b[0m\n\u001b[1;32m      6\u001b[0m \u001b[0;32mimport\u001b[0m \u001b[0mnumpy\u001b[0m \u001b[0;32mas\u001b[0m \u001b[0mnp\u001b[0m\u001b[0;34m\u001b[0m\u001b[0;34m\u001b[0m\u001b[0m\n\u001b[0;32m----> 7\u001b[0;31m \u001b[0;32mfrom\u001b[0m \u001b[0msklearn\u001b[0m\u001b[0;34m.\u001b[0m\u001b[0mmodel_selection\u001b[0m \u001b[0;32mimport\u001b[0m \u001b[0mtrain_test_split\u001b[0m\u001b[0;34m\u001b[0m\u001b[0;34m\u001b[0m\u001b[0m\n\u001b[0m\u001b[1;32m      8\u001b[0m \u001b[0;32mfrom\u001b[0m \u001b[0msklearn\u001b[0m\u001b[0;34m.\u001b[0m\u001b[0mmetrics\u001b[0m \u001b[0;32mimport\u001b[0m \u001b[0mclassification_report\u001b[0m\u001b[0;34m\u001b[0m\u001b[0;34m\u001b[0m\u001b[0m\n\u001b[1;32m      9\u001b[0m \u001b[0;32mfrom\u001b[0m \u001b[0mclap\u001b[0m \u001b[0;32mimport\u001b[0m \u001b[0mCLAP_Module\u001b[0m\u001b[0;34m\u001b[0m\u001b[0;34m\u001b[0m\u001b[0m\n",
            "\u001b[0;32m/usr/local/lib/python3.11/dist-packages/sklearn/__init__.py\u001b[0m in \u001b[0;36m<module>\u001b[0;34m\u001b[0m\n\u001b[1;32m     71\u001b[0m     \u001b[0m_distributor_init\u001b[0m\u001b[0;34m,\u001b[0m\u001b[0;34m\u001b[0m\u001b[0;34m\u001b[0m\u001b[0m\n\u001b[1;32m     72\u001b[0m )\n\u001b[0;32m---> 73\u001b[0;31m \u001b[0;32mfrom\u001b[0m \u001b[0;34m.\u001b[0m\u001b[0mbase\u001b[0m \u001b[0;32mimport\u001b[0m \u001b[0mclone\u001b[0m  \u001b[0;31m# noqa: E402\u001b[0m\u001b[0;34m\u001b[0m\u001b[0;34m\u001b[0m\u001b[0m\n\u001b[0m\u001b[1;32m     74\u001b[0m \u001b[0;32mfrom\u001b[0m \u001b[0;34m.\u001b[0m\u001b[0mutils\u001b[0m\u001b[0;34m.\u001b[0m\u001b[0m_show_versions\u001b[0m \u001b[0;32mimport\u001b[0m \u001b[0mshow_versions\u001b[0m  \u001b[0;31m# noqa: E402\u001b[0m\u001b[0;34m\u001b[0m\u001b[0;34m\u001b[0m\u001b[0m\n\u001b[1;32m     75\u001b[0m \u001b[0;34m\u001b[0m\u001b[0m\n",
            "\u001b[0;32m/usr/local/lib/python3.11/dist-packages/sklearn/base.py\u001b[0m in \u001b[0;36m<module>\u001b[0;34m\u001b[0m\n\u001b[1;32m     17\u001b[0m \u001b[0;32mfrom\u001b[0m \u001b[0;34m.\u001b[0m\u001b[0m_config\u001b[0m \u001b[0;32mimport\u001b[0m \u001b[0mconfig_context\u001b[0m\u001b[0;34m,\u001b[0m \u001b[0mget_config\u001b[0m\u001b[0;34m\u001b[0m\u001b[0;34m\u001b[0m\u001b[0m\n\u001b[1;32m     18\u001b[0m \u001b[0;32mfrom\u001b[0m \u001b[0;34m.\u001b[0m\u001b[0mexceptions\u001b[0m \u001b[0;32mimport\u001b[0m \u001b[0mInconsistentVersionWarning\u001b[0m\u001b[0;34m\u001b[0m\u001b[0;34m\u001b[0m\u001b[0m\n\u001b[0;32m---> 19\u001b[0;31m \u001b[0;32mfrom\u001b[0m \u001b[0;34m.\u001b[0m\u001b[0mutils\u001b[0m\u001b[0;34m.\u001b[0m\u001b[0m_estimator_html_repr\u001b[0m \u001b[0;32mimport\u001b[0m \u001b[0m_HTMLDocumentationLinkMixin\u001b[0m\u001b[0;34m,\u001b[0m \u001b[0mestimator_html_repr\u001b[0m\u001b[0;34m\u001b[0m\u001b[0;34m\u001b[0m\u001b[0m\n\u001b[0m\u001b[1;32m     20\u001b[0m \u001b[0;32mfrom\u001b[0m \u001b[0;34m.\u001b[0m\u001b[0mutils\u001b[0m\u001b[0;34m.\u001b[0m\u001b[0m_metadata_requests\u001b[0m \u001b[0;32mimport\u001b[0m \u001b[0m_MetadataRequester\u001b[0m\u001b[0;34m,\u001b[0m \u001b[0m_routing_enabled\u001b[0m\u001b[0;34m\u001b[0m\u001b[0;34m\u001b[0m\u001b[0m\n\u001b[1;32m     21\u001b[0m \u001b[0;32mfrom\u001b[0m \u001b[0;34m.\u001b[0m\u001b[0mutils\u001b[0m\u001b[0;34m.\u001b[0m\u001b[0m_param_validation\u001b[0m \u001b[0;32mimport\u001b[0m \u001b[0mvalidate_parameter_constraints\u001b[0m\u001b[0;34m\u001b[0m\u001b[0;34m\u001b[0m\u001b[0m\n",
            "\u001b[0;32m/usr/local/lib/python3.11/dist-packages/sklearn/utils/__init__.py\u001b[0m in \u001b[0;36m<module>\u001b[0;34m\u001b[0m\n\u001b[1;32m     13\u001b[0m \u001b[0;32mfrom\u001b[0m \u001b[0;34m.\u001b[0m \u001b[0;32mimport\u001b[0m \u001b[0m_joblib\u001b[0m\u001b[0;34m,\u001b[0m \u001b[0mmetadata_routing\u001b[0m\u001b[0;34m\u001b[0m\u001b[0;34m\u001b[0m\u001b[0m\n\u001b[1;32m     14\u001b[0m \u001b[0;32mfrom\u001b[0m \u001b[0;34m.\u001b[0m\u001b[0m_bunch\u001b[0m \u001b[0;32mimport\u001b[0m \u001b[0mBunch\u001b[0m\u001b[0;34m\u001b[0m\u001b[0;34m\u001b[0m\u001b[0m\n\u001b[0;32m---> 15\u001b[0;31m \u001b[0;32mfrom\u001b[0m \u001b[0;34m.\u001b[0m\u001b[0m_chunking\u001b[0m \u001b[0;32mimport\u001b[0m \u001b[0mgen_batches\u001b[0m\u001b[0;34m,\u001b[0m \u001b[0mgen_even_slices\u001b[0m\u001b[0;34m\u001b[0m\u001b[0;34m\u001b[0m\u001b[0m\n\u001b[0m\u001b[1;32m     16\u001b[0m \u001b[0;32mfrom\u001b[0m \u001b[0;34m.\u001b[0m\u001b[0m_estimator_html_repr\u001b[0m \u001b[0;32mimport\u001b[0m \u001b[0mestimator_html_repr\u001b[0m\u001b[0;34m\u001b[0m\u001b[0;34m\u001b[0m\u001b[0m\n\u001b[1;32m     17\u001b[0m \u001b[0;34m\u001b[0m\u001b[0m\n",
            "\u001b[0;32m/usr/local/lib/python3.11/dist-packages/sklearn/utils/_chunking.py\u001b[0m in \u001b[0;36m<module>\u001b[0;34m\u001b[0m\n\u001b[1;32m      9\u001b[0m \u001b[0;34m\u001b[0m\u001b[0m\n\u001b[1;32m     10\u001b[0m \u001b[0;32mfrom\u001b[0m \u001b[0;34m.\u001b[0m\u001b[0;34m.\u001b[0m\u001b[0m_config\u001b[0m \u001b[0;32mimport\u001b[0m \u001b[0mget_config\u001b[0m\u001b[0;34m\u001b[0m\u001b[0;34m\u001b[0m\u001b[0m\n\u001b[0;32m---> 11\u001b[0;31m \u001b[0;32mfrom\u001b[0m \u001b[0;34m.\u001b[0m\u001b[0m_param_validation\u001b[0m \u001b[0;32mimport\u001b[0m \u001b[0mInterval\u001b[0m\u001b[0;34m,\u001b[0m \u001b[0mvalidate_params\u001b[0m\u001b[0;34m\u001b[0m\u001b[0;34m\u001b[0m\u001b[0m\n\u001b[0m\u001b[1;32m     12\u001b[0m \u001b[0;34m\u001b[0m\u001b[0m\n\u001b[1;32m     13\u001b[0m \u001b[0;34m\u001b[0m\u001b[0m\n",
            "\u001b[0;32m/usr/local/lib/python3.11/dist-packages/sklearn/utils/_param_validation.py\u001b[0m in \u001b[0;36m<module>\u001b[0;34m\u001b[0m\n\u001b[1;32m     12\u001b[0m \u001b[0;34m\u001b[0m\u001b[0m\n\u001b[1;32m     13\u001b[0m \u001b[0;32mimport\u001b[0m \u001b[0mnumpy\u001b[0m \u001b[0;32mas\u001b[0m \u001b[0mnp\u001b[0m\u001b[0;34m\u001b[0m\u001b[0;34m\u001b[0m\u001b[0m\n\u001b[0;32m---> 14\u001b[0;31m \u001b[0;32mfrom\u001b[0m \u001b[0mscipy\u001b[0m\u001b[0;34m.\u001b[0m\u001b[0msparse\u001b[0m \u001b[0;32mimport\u001b[0m \u001b[0mcsr_matrix\u001b[0m\u001b[0;34m,\u001b[0m \u001b[0missparse\u001b[0m\u001b[0;34m\u001b[0m\u001b[0;34m\u001b[0m\u001b[0m\n\u001b[0m\u001b[1;32m     15\u001b[0m \u001b[0;34m\u001b[0m\u001b[0m\n\u001b[1;32m     16\u001b[0m \u001b[0;32mfrom\u001b[0m \u001b[0;34m.\u001b[0m\u001b[0;34m.\u001b[0m\u001b[0m_config\u001b[0m \u001b[0;32mimport\u001b[0m \u001b[0mconfig_context\u001b[0m\u001b[0;34m,\u001b[0m \u001b[0mget_config\u001b[0m\u001b[0;34m\u001b[0m\u001b[0;34m\u001b[0m\u001b[0m\n",
            "\u001b[0;32m/usr/local/lib/python3.11/dist-packages/scipy/sparse/__init__.py\u001b[0m in \u001b[0;36m<module>\u001b[0;34m\u001b[0m\n\u001b[1;32m    291\u001b[0m \u001b[0;32mimport\u001b[0m \u001b[0mwarnings\u001b[0m \u001b[0;32mas\u001b[0m \u001b[0m_warnings\u001b[0m\u001b[0;34m\u001b[0m\u001b[0;34m\u001b[0m\u001b[0m\n\u001b[1;32m    292\u001b[0m \u001b[0;34m\u001b[0m\u001b[0m\n\u001b[0;32m--> 293\u001b[0;31m \u001b[0;32mfrom\u001b[0m \u001b[0;34m.\u001b[0m\u001b[0m_base\u001b[0m \u001b[0;32mimport\u001b[0m \u001b[0;34m*\u001b[0m\u001b[0;34m\u001b[0m\u001b[0;34m\u001b[0m\u001b[0m\n\u001b[0m\u001b[1;32m    294\u001b[0m \u001b[0;32mfrom\u001b[0m \u001b[0;34m.\u001b[0m\u001b[0m_csr\u001b[0m \u001b[0;32mimport\u001b[0m \u001b[0;34m*\u001b[0m\u001b[0;34m\u001b[0m\u001b[0;34m\u001b[0m\u001b[0m\n\u001b[1;32m    295\u001b[0m \u001b[0;32mfrom\u001b[0m \u001b[0;34m.\u001b[0m\u001b[0m_csc\u001b[0m \u001b[0;32mimport\u001b[0m \u001b[0;34m*\u001b[0m\u001b[0;34m\u001b[0m\u001b[0;34m\u001b[0m\u001b[0m\n",
            "\u001b[0;32m/usr/local/lib/python3.11/dist-packages/scipy/sparse/_base.py\u001b[0m in \u001b[0;36m<module>\u001b[0;34m\u001b[0m\n\u001b[1;32m      3\u001b[0m \u001b[0;32mimport\u001b[0m \u001b[0mnumpy\u001b[0m \u001b[0;32mas\u001b[0m \u001b[0mnp\u001b[0m\u001b[0;34m\u001b[0m\u001b[0;34m\u001b[0m\u001b[0m\n\u001b[1;32m      4\u001b[0m \u001b[0;34m\u001b[0m\u001b[0m\n\u001b[0;32m----> 5\u001b[0;31m from ._sputils import (asmatrix, check_reshape_kwargs, check_shape,\n\u001b[0m\u001b[1;32m      6\u001b[0m                        \u001b[0mget_sum_dtype\u001b[0m\u001b[0;34m,\u001b[0m \u001b[0misdense\u001b[0m\u001b[0;34m,\u001b[0m \u001b[0misscalarlike\u001b[0m\u001b[0;34m,\u001b[0m\u001b[0;34m\u001b[0m\u001b[0;34m\u001b[0m\u001b[0m\n\u001b[1;32m      7\u001b[0m                        matrix, validateaxis,)\n",
            "\u001b[0;32m/usr/local/lib/python3.11/dist-packages/scipy/sparse/_sputils.py\u001b[0m in \u001b[0;36m<module>\u001b[0;34m\u001b[0m\n\u001b[1;32m      8\u001b[0m \u001b[0;32mfrom\u001b[0m \u001b[0mmath\u001b[0m \u001b[0;32mimport\u001b[0m \u001b[0mprod\u001b[0m\u001b[0;34m\u001b[0m\u001b[0;34m\u001b[0m\u001b[0m\n\u001b[1;32m      9\u001b[0m \u001b[0;32mimport\u001b[0m \u001b[0mscipy\u001b[0m\u001b[0;34m.\u001b[0m\u001b[0msparse\u001b[0m \u001b[0;32mas\u001b[0m \u001b[0msp\u001b[0m\u001b[0;34m\u001b[0m\u001b[0;34m\u001b[0m\u001b[0m\n\u001b[0;32m---> 10\u001b[0;31m \u001b[0;32mfrom\u001b[0m \u001b[0mscipy\u001b[0m\u001b[0;34m.\u001b[0m\u001b[0m_lib\u001b[0m\u001b[0;34m.\u001b[0m\u001b[0m_util\u001b[0m \u001b[0;32mimport\u001b[0m \u001b[0mnp_long\u001b[0m\u001b[0;34m,\u001b[0m \u001b[0mnp_ulong\u001b[0m\u001b[0;34m\u001b[0m\u001b[0;34m\u001b[0m\u001b[0m\n\u001b[0m\u001b[1;32m     11\u001b[0m \u001b[0;34m\u001b[0m\u001b[0m\n\u001b[1;32m     12\u001b[0m \u001b[0;34m\u001b[0m\u001b[0m\n",
            "\u001b[0;32m/usr/local/lib/python3.11/dist-packages/scipy/_lib/_util.py\u001b[0m in \u001b[0;36m<module>\u001b[0;34m\u001b[0m\n\u001b[1;32m     16\u001b[0m \u001b[0;34m\u001b[0m\u001b[0m\n\u001b[1;32m     17\u001b[0m \u001b[0;32mimport\u001b[0m \u001b[0mnumpy\u001b[0m \u001b[0;32mas\u001b[0m \u001b[0mnp\u001b[0m\u001b[0;34m\u001b[0m\u001b[0;34m\u001b[0m\u001b[0m\n\u001b[0;32m---> 18\u001b[0;31m \u001b[0;32mfrom\u001b[0m \u001b[0mscipy\u001b[0m\u001b[0;34m.\u001b[0m\u001b[0m_lib\u001b[0m\u001b[0;34m.\u001b[0m\u001b[0m_array_api\u001b[0m \u001b[0;32mimport\u001b[0m \u001b[0marray_namespace\u001b[0m\u001b[0;34m,\u001b[0m \u001b[0mis_numpy\u001b[0m\u001b[0;34m,\u001b[0m \u001b[0msize\u001b[0m \u001b[0;32mas\u001b[0m \u001b[0mxp_size\u001b[0m\u001b[0;34m\u001b[0m\u001b[0;34m\u001b[0m\u001b[0m\n\u001b[0m\u001b[1;32m     19\u001b[0m \u001b[0;34m\u001b[0m\u001b[0m\n\u001b[1;32m     20\u001b[0m \u001b[0;34m\u001b[0m\u001b[0m\n",
            "\u001b[0;32m/usr/local/lib/python3.11/dist-packages/scipy/_lib/_array_api.py\u001b[0m in \u001b[0;36m<module>\u001b[0;34m\u001b[0m\n\u001b[1;32m     19\u001b[0m \u001b[0;34m\u001b[0m\u001b[0m\n\u001b[1;32m     20\u001b[0m \u001b[0;32mfrom\u001b[0m \u001b[0mscipy\u001b[0m\u001b[0;34m.\u001b[0m\u001b[0m_lib\u001b[0m \u001b[0;32mimport\u001b[0m \u001b[0marray_api_compat\u001b[0m\u001b[0;34m\u001b[0m\u001b[0;34m\u001b[0m\u001b[0m\n\u001b[0;32m---> 21\u001b[0;31m from scipy._lib.array_api_compat import (\n\u001b[0m\u001b[1;32m     22\u001b[0m     \u001b[0mis_array_api_obj\u001b[0m\u001b[0;34m,\u001b[0m\u001b[0;34m\u001b[0m\u001b[0;34m\u001b[0m\u001b[0m\n\u001b[1;32m     23\u001b[0m     \u001b[0msize\u001b[0m\u001b[0;34m,\u001b[0m\u001b[0;34m\u001b[0m\u001b[0;34m\u001b[0m\u001b[0m\n",
            "\u001b[0;32m/usr/local/lib/python3.11/dist-packages/scipy/_lib/array_api_compat/numpy/__init__.py\u001b[0m in \u001b[0;36m<module>\u001b[0;34m\u001b[0m\n\u001b[0;32m----> 1\u001b[0;31m \u001b[0;32mfrom\u001b[0m \u001b[0mnumpy\u001b[0m \u001b[0;32mimport\u001b[0m \u001b[0;34m*\u001b[0m \u001b[0;31m# noqa: F403\u001b[0m\u001b[0;34m\u001b[0m\u001b[0;34m\u001b[0m\u001b[0m\n\u001b[0m\u001b[1;32m      2\u001b[0m \u001b[0;34m\u001b[0m\u001b[0m\n\u001b[1;32m      3\u001b[0m \u001b[0;31m# from numpy import * doesn't overwrite these builtin names\u001b[0m\u001b[0;34m\u001b[0m\u001b[0;34m\u001b[0m\u001b[0m\n\u001b[1;32m      4\u001b[0m \u001b[0;32mfrom\u001b[0m \u001b[0mnumpy\u001b[0m \u001b[0;32mimport\u001b[0m \u001b[0mabs\u001b[0m\u001b[0;34m,\u001b[0m \u001b[0mmax\u001b[0m\u001b[0;34m,\u001b[0m \u001b[0mmin\u001b[0m\u001b[0;34m,\u001b[0m \u001b[0mround\u001b[0m \u001b[0;31m# noqa: F401\u001b[0m\u001b[0;34m\u001b[0m\u001b[0;34m\u001b[0m\u001b[0m\n\u001b[1;32m      5\u001b[0m \u001b[0;34m\u001b[0m\u001b[0m\n",
            "\u001b[0;32m/usr/local/lib/python3.11/dist-packages/numpy/__init__.py\u001b[0m in \u001b[0;36m__getattr__\u001b[0;34m(attr)\u001b[0m\n\u001b[1;32m    362\u001b[0m     \u001b[0;32mif\u001b[0m \u001b[0msys\u001b[0m\u001b[0;34m.\u001b[0m\u001b[0mplatform\u001b[0m \u001b[0;34m==\u001b[0m \u001b[0;34m\"darwin\"\u001b[0m\u001b[0;34m:\u001b[0m\u001b[0;34m\u001b[0m\u001b[0;34m\u001b[0m\u001b[0m\n\u001b[1;32m    363\u001b[0m         \u001b[0;32mwith\u001b[0m \u001b[0mwarnings\u001b[0m\u001b[0;34m.\u001b[0m\u001b[0mcatch_warnings\u001b[0m\u001b[0;34m(\u001b[0m\u001b[0mrecord\u001b[0m\u001b[0;34m=\u001b[0m\u001b[0;32mTrue\u001b[0m\u001b[0;34m)\u001b[0m \u001b[0;32mas\u001b[0m \u001b[0mw\u001b[0m\u001b[0;34m:\u001b[0m\u001b[0;34m\u001b[0m\u001b[0;34m\u001b[0m\u001b[0m\n\u001b[0;32m--> 364\u001b[0;31m             \u001b[0m_mac_os_check\u001b[0m\u001b[0;34m(\u001b[0m\u001b[0;34m)\u001b[0m\u001b[0;34m\u001b[0m\u001b[0;34m\u001b[0m\u001b[0m\n\u001b[0m\u001b[1;32m    365\u001b[0m             \u001b[0;31m# Throw runtime error, if the test failed Check for warning and error_message\u001b[0m\u001b[0;34m\u001b[0m\u001b[0;34m\u001b[0m\u001b[0m\n\u001b[1;32m    366\u001b[0m             \u001b[0merror_message\u001b[0m \u001b[0;34m=\u001b[0m \u001b[0;34m\"\"\u001b[0m\u001b[0;34m\u001b[0m\u001b[0;34m\u001b[0m\u001b[0m\n",
            "\u001b[0;31mModuleNotFoundError\u001b[0m: No module named 'numpy.rec'",
            "",
            "\u001b[0;31m---------------------------------------------------------------------------\u001b[0;32m\nNOTE: If your import is failing due to a missing package, you can\nmanually install dependencies using either !pip or !apt.\n\nTo view examples of installing some common dependencies, click the\n\"Open Examples\" button below.\n\u001b[0;31m---------------------------------------------------------------------------\u001b[0m\n"
          ],
          "errorDetails": {
            "actions": [
              {
                "action": "open_url",
                "actionText": "Open Examples",
                "url": "/notebooks/snippets/importing_libraries.ipynb"
              }
            ]
          }
        }
      ]
    }
  ]
}